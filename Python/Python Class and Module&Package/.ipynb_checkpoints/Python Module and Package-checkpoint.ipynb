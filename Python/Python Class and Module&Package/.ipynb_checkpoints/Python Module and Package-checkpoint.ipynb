{
 "cells": [
  {
   "cell_type": "markdown",
   "metadata": {},
   "source": [
    "# 모듈(Module)과 패키지(Package) 사용하기\n",
    "- 모듈(module)\n",
    "    - 각종 변수, 함수, 클래스를 담고 있는 파일이다.\n",
    "- 패키지(package)\n",
    "    - 여러 모듈을 묶은 것이다.\n",
    "    \n",
    "<참고>\n",
    "- 파이썬을 배우다 보면 ***모듈, 패키지, 파이썬 표준 라이브러리***와 같은 용어를 접하게 되는데 서로 비슷한 개념이지만 약간의 차이가 있다.\n",
    "1. **모듈**\n",
    "    - **특정 기능을 .py 파일 단위로 작성한 것**이다.\n",
    "2. **패키지**\n",
    "    - **특정 기능과 관련된 여러 모듈을 묶은 것**이다.\n",
    "    - 패키지는 모듈에 네임스페이스(namespace, 이름 공간)를 제공한다.\n",
    "3. **파이썬 표준 라이브러리**\n",
    "    - **파이썬에 기본으로 설치된 모듈과 패키지, 내장 함수**를 묶어서 파이썬 표준 라이브러리(Python Standard Library, PSL)라 부른다."
   ]
  },
  {
   "cell_type": "markdown",
   "metadata": {},
   "source": [
    "## import로 모듈 가져오기\n",
    "``` python\n",
    "import 모듈\n",
    "import 모듈1, 모듈2\n",
    "모듈.변수\n",
    "모듈.함수()\n",
    "모듈.클래스()\n",
    "```"
   ]
  },
  {
   "cell_type": "markdown",
   "metadata": {},
   "source": [
    "## import as로 모듈 이름 지정하기\n",
    "``` python\n",
    "import 모듈 as 이름\n",
    "```"
   ]
  },
  {
   "cell_type": "markdown",
   "metadata": {},
   "source": [
    "## from import로 모듈의 일부만 가져오기\n",
    "``` python\n",
    "from 모듈 import 변수\n",
    "from 모듈 import 함수\n",
    "from 모듈 import 클래스\n",
    "from 모듈 import 변수, 함수, 클래스\n",
    "```"
   ]
  },
  {
   "cell_type": "markdown",
   "metadata": {},
   "source": [
    "## from import로 모듈의 일부를 가져온 뒤 이름 지정하기\n",
    "``` python\n",
    "from 모듈 import 변수 as 이름\n",
    "from 모듈 import 함수 as 이름\n",
    "from 모듈 import 클래스 as 이름\n",
    "from 모듈 import 변수 as 이름1, 함수 as 이름2, 클래스 as 이름3\n",
    "```"
   ]
  },
  {
   "cell_type": "markdown",
   "metadata": {},
   "source": [
    "## 가져온 모듈 해제하기, 다시 가져오기\n",
    "``` python\n",
    "# 모듈 해제\n",
    "del 모듈\n",
    "# 모듈 다시 가져오기\n",
    "import importlib\n",
    "importlib.reload(모듈)\n",
    "```"
   ]
  },
  {
   "cell_type": "markdown",
   "metadata": {},
   "source": [
    "## import로 패키지 가져오기\n",
    "``` python\n",
    "import 패키지.모듈\n",
    "import 패키지.모듈1, 패키지.모듈2\n",
    "패키지.모듈.변수\n",
    "패키지.모듈.함수()\n",
    "패키지.모듈.클래스()\n",
    "```"
   ]
  },
  {
   "cell_type": "markdown",
   "metadata": {},
   "source": [
    "## import as로 패키지 모듈 이름 지정하기\n",
    "``` python\n",
    "import 패키지.모듈 as 이름\n",
    "```"
   ]
  },
  {
   "cell_type": "markdown",
   "metadata": {},
   "source": [
    "## from import로 패키지의 모듈에서 일부만 가져오기\n",
    "``` python\n",
    "from 패키지.모듈 import 변수\n",
    "from 패키지.모듈 import 함수\n",
    "from 패키지.모듈 import 클래스\n",
    "from 패키지.모듈 import 변수, 함수, 클래스\n",
    "from 패키지.모듈 import *\n",
    "```"
   ]
  },
  {
   "cell_type": "markdown",
   "metadata": {},
   "source": [
    "## from import로 패키지의 모듈의 일부를 가져온 뒤 이름 지정하기\n",
    "``` python\n",
    "from 패키지.모듈 import 변수 as 이름\n",
    "from 패키지.모듈 import 변수 as 이름, 함수 as 이름, 클래스 as 이름\n",
    "```"
   ]
  },
  {
   "cell_type": "markdown",
   "metadata": {},
   "source": [
    "# 모듈(Module)과 패키지(Package) 만들기\n",
    "- 파이썬 스크립트를 작성할 때마다 매번 비슷한 클래스와 함수를 작성한다면 코드도 길어지고 중복되는 부분이 생긴다.\n",
    "- 이런 경우에는 공통되는 부분을 빼내서 모듈과 패키지로 만들면 된다.\n",
    "- 이후에는 코드를 다시 만들지 않고 모듈과 패키지만 가져와서 사용하면 편리하다.\n",
    "- **모듈(module)**은 **변수, 함수, 클래스 등을 모아 놓은 스크립트 파일**이고, **패키지(package)**는 **여러 모듈을 묶은 것**이다.\n",
    "    - **모듈**은 **간단한 기능을 담을 때 사용**하며, **패키지**는 **코드가 많고 복잡할 때 사용**한다.\n",
    "    - 즉, 패키지는 기능들이 모듈 여러 개로 잘게 나누어져 있고, 관련된 모듈끼리 폴더에 모여 있는 형태이다."
   ]
  },
  {
   "cell_type": "markdown",
   "metadata": {},
   "source": [
    "## 모듈 만들기 및 사용하기\n",
    "- 스크립트 파일에서 확장자 .py를 제외하면 모듈 이름이 된다.\n",
    "``` python\n",
    "import 모듈\n",
    "모듈.변수\n",
    "모듈.함수()\n",
    "```\n",
    "\n",
    "## from import로 변수, 함수 가져오기\n",
    "``` python\n",
    "from 모듈 import 변수, 함수\n",
    "```"
   ]
  },
  {
   "cell_type": "markdown",
   "metadata": {},
   "source": [
    "## 모듈에 클래스 작성하기\n",
    "``` python\n",
    "import 모듈\n",
    "모듈.클래스()\n",
    "```\n",
    "\n",
    "## from import로 클래스 가져오기\n",
    "``` python\n",
    "from 모듈 import 클래스\n",
    "```"
   ]
  },
  {
   "cell_type": "markdown",
   "metadata": {},
   "source": [
    "<모듈 사용하기 예시>\n",
    "<img src=\"use_module.png\" />"
   ]
  },
  {
   "cell_type": "markdown",
   "metadata": {},
   "source": [
    "# 모듈과 시작점 알아보기\n",
    "- 인터넷에 있는 파이썬 코드를 보다 보면 ```if __name__ == '__main__':```으로 시작하는 부분을 자주 만나게 된다.\n",
    "``` python\n",
    "if __name__ == '__main__':\n",
    "    코드\n",
    "```\n",
    "- 위 코드는 이 코드는 **현재 스크립트 파일이 실행되는 상태를 파악하기 위해 사용**한다.\n",
    "    - ```__name__```은 **모듈의 이름이 저장되는 변수**이며 **import로 모듈을 가져왔을 때 모듈의 이름**이 들어간다.\n",
    "    - 하지만 **파이썬 인터프리터로 스크립트 파일을 직접 실행했을 때는** 모듈의 이름이 아니라 ```'__main__'```이 들어갑니다\n",
    "    - 즉, 어떤 스크립트 파일이든 **파이썬 인터프리터가 최초로 실행한 스크립트 파일의 ```__name__```**에는 ```'__main__'```이 들어간다.\n",
    "        - 이는 프로그램의 시작점(entry point)이라는 뜻이다."
   ]
  },
  {
   "cell_type": "markdown",
   "metadata": {},
   "source": [
    "<모듈과 시작점 알아보기 예시>\n",
    "<img src=\"hello_module1.png\" />\n",
    "<img src=\"hello_module2.png\" />"
   ]
  },
  {
   "cell_type": "markdown",
   "metadata": {},
   "source": [
    "<참고>\n",
    "- 파이썬은 최초로 시작하는 스크립트 파일과 모듈의 차이가 없다.\n",
    "- 어떤 스크립트 파일이든 시작점도 될 수 있고, 모듈도 될 수 있다.\n",
    "    - 그래서 ```__name__``` 변수를 통해 **현재 스크립트 파일이 시작점인지 모듈인지 판단**한다.\n",
    "- ```if __name__ == '__main__':```처럼 ```__name__``` 변수의 값이 ```'__main__'```인지 확인하는 코드는 현재 스크립트 파일이 프로그램의 시작점이 맞는지 판단하는 작업이다.\n",
    "    - 즉, **스크립트 파일이 메인 프로그램으로 사용될 때와 모듈로 사용될 때를 구분하기 위한 용도**이다."
   ]
  },
  {
   "cell_type": "markdown",
   "metadata": {},
   "source": [
    "# 패키지 만들기\n",
    "- 모듈은 스크립트 파일이 한 개지만, 패키지는 폴더(디렉터리)로 구성되어 있다.\n",
    "- 폴더(디렉터리) 안에 ```__init__.py``` 파일이 있으면 해당 폴더는 패키지로 인식된다.\n",
    "    - 기본적으로 ```__init__.py``` 파일의 내용은 비워 둘 수 있다.\n",
    "    - 파이썬 3.3 이상부터는 ```__init__.py``` 파일이 없어도 패키지로 인식되지만, 하위 버전에도 호환되도록 ```__init__.py``` 파일을 작성하는 것을 권장한다."
   ]
  },
  {
   "cell_type": "markdown",
   "metadata": {},
   "source": [
    "## 패키지에 모듈 만들기\n",
    "<예시>\n",
    "<img src=\"calcpkg_img.png\" />"
   ]
  },
  {
   "cell_type": "markdown",
   "metadata": {},
   "source": [
    "## 패키지 사용하기\n",
    "``` python\n",
    "import 패키지.모듈\n",
    "패키지.모듈.변수\n",
    "패키지.모듈.함수()\n",
    "패키지.모듈.클래스()\n",
    "```\n",
    "\n",
    "##  from import로 패키지의 모듈에서 변수, 함수, 클래스 가져오기\n",
    "- 패키지의 모듈에서 from import로 함수(변수, 클래스)를 가져온 뒤 패키지와 모듈 이름을 붙이지 않고 사용할 수도 있다.\n",
    "``` python\n",
    "from 패키지.모듈 import 변수\n",
    "from 패키지.모듈 import 함수\n",
    "from 패키지.모듈 import 클래스\n",
    "```"
   ]
  },
  {
   "cell_type": "markdown",
   "metadata": {},
   "source": [
    "<참고>\n",
    "- 패키지의 모듈에서는 ```__name__``` 변수에 **패키지.모듈** 형식으로 이름이 들어간다.\n",
    "- 즉, calcpkg 패키지의 geometry.py에서 ```__name__```의 값을 출력하도록 만들고, import로 가져오면 **'calcpkg.geometry'**가 나온다.\n",
    "\n",
    "<참고>\n",
    "- 지금까지 모듈과 패키지는 현재 폴더(디렉터리)에 만들었다.\n",
    "- 파이썬에서는 현재 폴더에 모듈, 패키지가 없으면 다음 경로에서 모듈, 패키지를 찾는다.\n",
    "``` python\n",
    "import sys\n",
    "sys.path\n",
    "# 실행 결과 예시\n",
    "['C:\\\\project',\n",
    " 'C:\\\\Users\\\\dojang\\\\AppData\\\\Local\\\\Programs\\\\Python\\\\Python36-32\\\\Lib\\\\idlelib',  'C:\\\\Users\\\\dojang\\\\AppData\\\\Local\\\\Programs\\\\Python\\\\Python36-32\\\\python36.zip',  'C:\\\\Users\\\\dojang\\\\AppData\\\\Local\\\\Programs\\\\Python\\\\Python36-32\\\\DLLs',\n",
    " 'C:\\\\Users\\\\dojang\\\\AppData\\\\Local\\\\Programs\\\\Python\\\\Python36-32\\\\lib',\n",
    " 'C:\\\\Users\\\\dojang\\\\AppData\\\\Local\\\\Programs\\\\Python\\\\Python36-32',\n",
    " 'C:\\\\Users\\\\dojang\\\\AppData\\\\Local\\\\Programs\\\\Python\\\\Python36-32\\\\lib\\\\site-packages']\n",
    "```\n",
    "- sys 모듈의 path 변수에는 모듈, 패키지를 찾는 경로가 들어있다.\n",
    "    - 여기서 site-packages 폴더에는 pip로 설치한 패키지가 들어간다.\n",
    "    - 그리고 자기가 만든 모듈, 패키지도 site-packages 폴더에 넣으면 스크립트 파일이 어디에 있든 모듈, 패키지를 사용할 수 있다.\n",
    "- 만약 가상 환경(virtual environment)를 만들어서 모듈과 패키지를 관리한다면, \"가상환경/Lib/site-packages\" 폴더에 모듈과 패키지가 들어간다."
   ]
  },
  {
   "cell_type": "markdown",
   "metadata": {},
   "source": [
    "# 패키지에서 from import 응용하기"
   ]
  },
  {
   "cell_type": "markdown",
   "metadata": {},
   "source": [
    "## import 패키지 형식으로 패키지만 가져와서 모듈을 사용하기\n",
    "- import로 패키지를 가져오면 ```__init__.py``` 파일이 실행되므로, 이 파일에서 ```from . import 모듈``` 형식으로 현재 패키지에서 모듈을 가져오게 만들어야 한다.\n",
    "    - 참고로 .(점)은 현재 패키지라는 뜻이다.\n",
    "``` python\n",
    "# 해당 패키지의 __init__.py 파일을 다음과 같이 수정\n",
    "from . import 모듈\n",
    "```"
   ]
  },
  {
   "cell_type": "markdown",
   "metadata": {},
   "source": [
    "## 패키지에 속한 모든 변수, 함수, 클래스 가져오기\n",
    "- 패키지에 속한 모든 변수, 함수, 클래스를 가져오려면 어떻게 해야 할까?\n",
    "- 이때는 ```__init__.py```에서 모듈 안의 함수를 가져오게 만들어야 한다.\n",
    "    - 특히 현재 패키지(calcpkg)라는 것을 명확하게 나타내기 위해 모듈 앞에 .(점)을 붙인다.\n",
    "``` python\n",
    "# 해당 패키지의 __init__.py 파일을 다음과 같이 수정\n",
    "from .모듈 import 변수, 함수, 클래스\n",
    "```\n",
    "    - 물론 ```__init__.py``` 파일에서 특정 함수(변수, 클래스)를 지정하지 않고, \"*\"을 사용해서 모든 함수(변수, 클래스)를 가져와도 상관없다.\n",
    "``` python\n",
    "# 해당 패키지의 __init__.py 파일을 다음과 같이 수정\n",
    "from .모듈 import *\n",
    "```\n",
    "- 패키지의 ```__init__.py```에서 ```from .모듈 import 변수, 함수, 클래스``` 또는 ```from .모듈 import *``` 형식으로 작성했다면, 패키지를 가져오는 스크립트에서는 **패키지.함수()** 형식으로 사용할 수 있다. (변수, 클래스도 같은 형식)\n",
    "``` python\n",
    "import 패키지\n",
    "패키지.변수\n",
    "패키지.함수()\n",
    "패키지.클래스()\n",
    "```"
   ]
  },
  {
   "cell_type": "markdown",
   "metadata": {},
   "source": [
    "<참고>\n",
    "- 패키지의 ```__init__.py```에서 ```from .모듈 import *```로 모든 변수, 함수, 클래스를 가져오면 패키지 외부에 공개하고 싶지 않은 것까지 공개하게 된다.\n",
    "- 이때는 ```__all__```에 공개할 모듈, 변수, 함수, 클래스를 리스트 형태로 지정해주면 된다.\n",
    "    - ```__all__```이라는 이름 그대로 모든 것(*)을 가져갈 때의 목록을 정한다는 뜻이다.\n",
    "``` python\n",
    "# calcpkg/__init__.py 예시\n",
    "__all__ = ['add', 'triangle_area']    # calcpkg 패키지에서 add, triangle_area 함수만 공개\n",
    "from .operation import *    # 현재 패키지의 operation 모듈에서 모든 변수, 함수, 클래스를 가져옴\n",
    "from .geometry import *     # 현재 패키지의 geometry 모듈에서 모든 변수, 함수, 클래스를 가져옴\n",
    "```\n",
    "``` python\n",
    "# main.py 예시\n",
    "from calcpkg import *    # calcpkg 패키지의 모든 변수, 함수, 클래스를 가져옴\n",
    "print(add(10, 20))    # add 함수는 공개되어 있으므로 사용할 수 있음\n",
    "print(mul(10, 20))    # 에러: mul 함수는 공개되어 있지 않으므로 사용할 수 없음\n",
    "print(triangle_area(30, 40))    # triangle_area 함수는 공개되어 있으므로 사용할 수 있음\n",
    "print(rectangle_area(30, 40))   # 에러: rectangle_area 함수는 공개되어 있으므로 사용할 수 없음\n",
    "```"
   ]
  },
  {
   "cell_type": "markdown",
   "metadata": {},
   "source": [
    "<참고>\n",
    "- 파이썬의 패키지는 **패키지 안에 하위 패키지**를 만들 수 있다.\n",
    "    - 즉, 패키지 안에 폴더(디렉터리)를 만들고 ```__init__.py```와 **모듈**을 넣으면 하위 패키지가 됩니다.\n",
    "- import로 하위 패키지의 모듈을 가져올 때는 계층 순서대로 .(점)을 붙여서 가져오면 된다.\n",
    "``` python\n",
    "import 패키지.하위패키지.모듈\n",
    "# 예시\n",
    "import calcpkg.operation.element\n",
    "# 함수를 사용할 때 예시\n",
    "calcpkg.operation.element.add(10, 20)\n",
    "```\n",
    "- 만약, ```import calcpkg```처럼 패키지만 가져와서 사용하고 싶다면, ```calcpkg/__init__.py```에서 하위 패키지의 모듈에 들어있는 변수, 함수, 클래스를 모두 가져오게 만들면 된다.\n",
    "``` python\n",
    "# calcpkg/__init__.py 예시\n",
    "from .operation.element import *\n",
    "from .operation.logic import *\n",
    "from .geometry.shape import *\n",
    "from .geometry.vector import *\n",
    "```\n",
    "- 참고로 하위 패키지 안에서 옆에 있는 패키지의 요소를 가져와서 사용하려면 **..**을 사용해야 한다.\n",
    "    - **..**은 상위 폴더(디렉터리)라는 뜻이며, **..패키지** 또는 **..모듈**은 상위 폴더에 있는 패키지, 모듈이라는 뜻이다.\n",
    "    - 즉, 현재 패키지와 같은 계층의 패키지 또는 모듈이라는 것이며, **...**은 상위 폴더의 상위 폴더라는 뜻이며 **위로 갈 수록 .이 하나씩 늘어난다.**\n",
    "``` python\n",
    "from ..패키지 import 모듈\n",
    "from ..패키지.모듈 import 클래스, 변수, 함수\n",
    "from ..패키지.모듈 import *\n",
    "```"
   ]
  },
  {
   "cell_type": "markdown",
   "metadata": {},
   "source": [
    "<하위 패키지 사용 예시>\n",
    "<img src=\"down_pkg.png\" />"
   ]
  },
  {
   "cell_type": "markdown",
   "metadata": {},
   "source": [
    "<참고>\n",
    "- **모듈의 독스트링**은 모듈 파일의 첫 줄에 **\"\"\" \"\"\"(큰 따옴표 세 개)** 또는 **''' '''(작은 따옴표 세 개)**를 사용하여 문자열을 넣는다.\n",
    "``` python\n",
    "'''모듈의 독스트링'''\n",
    "```\n",
    "- **패키지의 독스트링**은 ```__init__.py``` 파일의 첫 줄에 **\"\"\" \"\"\"(큰 따옴표 세 개)** 또는 **''' '''(작은 따옴표 세 개)**를 사용하여 문자열을 넣는다.\n",
    "``` python\n",
    "# 해당 패키지의 __init__.py 파일에서 작성\n",
    "'''패키지의 독스트링'''\n",
    "```\n",
    "- 모듈과 패키지의 독스트링을 출력하려면, 모듈 또는 패키지의 ```__doc__```를 출력하면 된다.\n",
    "``` python\n",
    "모듈.__doc__\n",
    "패키지.__doc__\n",
    "```"
   ]
  }
 ],
 "metadata": {
  "hide_input": false,
  "kernelspec": {
   "display_name": "Python 3",
   "language": "python",
   "name": "python3"
  },
  "language_info": {
   "codemirror_mode": {
    "name": "ipython",
    "version": 3
   },
   "file_extension": ".py",
   "mimetype": "text/x-python",
   "name": "python",
   "nbconvert_exporter": "python",
   "pygments_lexer": "ipython3",
   "version": "3.8.3"
  },
  "toc": {
   "base_numbering": 1,
   "nav_menu": {},
   "number_sections": true,
   "sideBar": true,
   "skip_h1_title": false,
   "title_cell": "Table of Contents",
   "title_sidebar": "Contents",
   "toc_cell": false,
   "toc_position": {},
   "toc_section_display": true,
   "toc_window_display": false
  },
  "varInspector": {
   "cols": {
    "lenName": 16,
    "lenType": 16,
    "lenVar": 40
   },
   "kernels_config": {
    "python": {
     "delete_cmd_postfix": "",
     "delete_cmd_prefix": "del ",
     "library": "var_list.py",
     "varRefreshCmd": "print(var_dic_list())"
    },
    "r": {
     "delete_cmd_postfix": ") ",
     "delete_cmd_prefix": "rm(",
     "library": "var_list.r",
     "varRefreshCmd": "cat(var_dic_list()) "
    }
   },
   "types_to_exclude": [
    "module",
    "function",
    "builtin_function_or_method",
    "instance",
    "_Feature"
   ],
   "window_display": false
  }
 },
 "nbformat": 4,
 "nbformat_minor": 4
}
