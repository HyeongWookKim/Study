{
 "cells": [
  {
   "cell_type": "markdown",
   "metadata": {},
   "source": [
    "# 클래스(Class)와 메서드(Method)\n",
    "- 클래스는 객체를 표현하기 위한 문법이며, 프로그래밍으로 객체를 만들 때 사용하는 것이다."
   ]
  },
  {
   "cell_type": "markdown",
   "metadata": {},
   "source": [
    "## 클래스와 메서드를 만들고 호출하기"
   ]
  },
  {
   "cell_type": "code",
   "execution_count": 1,
   "metadata": {
    "ExecuteTime": {
     "end_time": "2021-02-02T11:19:26.604122Z",
     "start_time": "2021-02-02T11:19:26.588914Z"
    }
   },
   "outputs": [],
   "source": [
    "class Person:\n",
    "    def greeting(self):\n",
    "        print('Hello, Everyone!')"
   ]
  },
  {
   "cell_type": "code",
   "execution_count": 2,
   "metadata": {
    "ExecuteTime": {
     "end_time": "2021-02-02T11:19:26.787786Z",
     "start_time": "2021-02-02T11:19:26.780627Z"
    }
   },
   "outputs": [
    {
     "name": "stdout",
     "output_type": "stream",
     "text": [
      "Hello, Everyone!\n"
     ]
    }
   ],
   "source": [
    "brian = Person()\n",
    "brian.greeting()"
   ]
  },
  {
   "cell_type": "markdown",
   "metadata": {},
   "source": [
    "<참고>\n",
    "- 앞서 클래스는 객체를 표현하는 문법이라고 했는데, 클래스로 인스턴스를 만든다고 하니 좀 헷갈릴 수도 있을 것 같다.\n",
    "- 결과적으로 **인스턴스와 객체는 같은 것**을 뜻하며, 보통 객체만 지칭할 때는 그냥 객체(object)라고 부른다. 하지만 클래스와 연관지어서 말할 때는 인스턴스(instance)라고 부른다."
   ]
  },
  {
   "cell_type": "markdown",
   "metadata": {},
   "source": [
    "## 메서드 안에서 메서드 호출하기"
   ]
  },
  {
   "cell_type": "code",
   "execution_count": 3,
   "metadata": {
    "ExecuteTime": {
     "end_time": "2021-02-02T11:19:27.520324Z",
     "start_time": "2021-02-02T11:19:27.509332Z"
    }
   },
   "outputs": [],
   "source": [
    "class Person:\n",
    "    def greeting(self):\n",
    "        print('Hello, Everyone!')\n",
    "        \n",
    "    def hello(self):\n",
    "        self.greeting() # self.메서드() 형식으로 클래스 안의 메서드를 호출"
   ]
  },
  {
   "cell_type": "code",
   "execution_count": 4,
   "metadata": {
    "ExecuteTime": {
     "end_time": "2021-02-02T11:19:27.749828Z",
     "start_time": "2021-02-02T11:19:27.730995Z"
    }
   },
   "outputs": [
    {
     "name": "stdout",
     "output_type": "stream",
     "text": [
      "Hello, Everyone!\n"
     ]
    }
   ],
   "source": [
    "brian = Person()\n",
    "brian.hello()"
   ]
  },
  {
   "cell_type": "markdown",
   "metadata": {},
   "source": [
    "## 특정 클래스의 인스턴스인지 확인하기\n",
    "- 현재 인스턴스가 특정 클래스의 인스턴스인지 확인할 때는 ```isinstance()``` 함수를 사용한다.\n",
    "    - 특정 클래스의 인스턴스가 맞으면 True, 아니면 False를 반환한다.\n",
    "    - isinstance는 주로 **객체의 자료형을 판단할 때 사용**합니다."
   ]
  },
  {
   "cell_type": "code",
   "execution_count": 5,
   "metadata": {
    "ExecuteTime": {
     "end_time": "2021-02-02T11:19:28.405213Z",
     "start_time": "2021-02-02T11:19:28.401034Z"
    }
   },
   "outputs": [],
   "source": [
    "# 빈 클래스 만들기\n",
    "class Person:\n",
    "    pass"
   ]
  },
  {
   "cell_type": "code",
   "execution_count": 6,
   "metadata": {
    "ExecuteTime": {
     "end_time": "2021-02-02T11:19:28.666943Z",
     "start_time": "2021-02-02T11:19:28.642190Z"
    }
   },
   "outputs": [
    {
     "data": {
      "text/plain": [
       "True"
      ]
     },
     "execution_count": 6,
     "metadata": {},
     "output_type": "execute_result"
    }
   ],
   "source": [
    "brian = Person()\n",
    "isinstance(brian, Person)"
   ]
  },
  {
   "cell_type": "markdown",
   "metadata": {},
   "source": [
    "# 속성(attribute)\n",
    "- 클래스에서 속성(attribute)을 만들 때는 ```__init__``` 메서드 안에서 self.속성에 값을 할당한다.\n",
    "    - 여기서 **self는 인스턴스 자기 자신을 의미**한다.\n",
    "- 속성은 **__init__ 메서드에서 만든다**는 점과 **self에 .(점)을 붙인 뒤 값을 할당한다**는 점이 중요합니다.\n",
    "``` python\n",
    "class 클래스이름:\n",
    "    def __init__(self):\n",
    "        self.속성 = 값\n",
    "```\n",
    "- ```__init__``` 메서드는 brian = Person()처럼 클래스에 ( )(괄호)를 붙여서 인스턴스를 만들 때 호출되는 특별한 메서드입니다. \n",
    "    - 즉, __init__(initialize)이라는 이름 그대로 **인스턴스(객체)를 초기화**합니다."
   ]
  },
  {
   "cell_type": "markdown",
   "metadata": {},
   "source": [
    "<참고>\n",
    "- 이렇게 ```앞 뒤로 __(밑줄 두 개)가 붙은 메서드```는 **파이썬이 자동으로 호출해주는 메서드**이며, **스페셜 메서드(special method)** 또는 **매직 메서드(magic method)**라고 부른다.\n",
    "- 파이썬의 여러 가지 기능을 사용할 때, 이 스페셜 메서드를 채우는 식으로 사용하게 된다."
   ]
  },
  {
   "cell_type": "markdown",
   "metadata": {},
   "source": [
    "## 속성 사용하기"
   ]
  },
  {
   "cell_type": "code",
   "execution_count": 7,
   "metadata": {
    "ExecuteTime": {
     "end_time": "2021-02-02T11:19:30.011565Z",
     "start_time": "2021-02-02T11:19:30.004456Z"
    }
   },
   "outputs": [],
   "source": [
    "class Person:\n",
    "    def __init__(self):\n",
    "        self.hello = '안녕하세요.'\n",
    "    \n",
    "    def greeting(self):\n",
    "        print(self.hello)"
   ]
  },
  {
   "cell_type": "markdown",
   "metadata": {},
   "source": [
    "## 인스턴스를 만들 때 값 받기\n",
    "- ```__init__``` 메서드에서 self 다음에 값을 받을 매개변수를 지정하고, 매개변수를 self.속성에 넣어준다.\n",
    "``` python\n",
    "class 클래스이름:\n",
    "    def __init__(self, 매개변수1, 매개변수2):\n",
    "        self.속성1 = 매개변수1\n",
    "        self.속성2 = 매개변수2\n",
    "```"
   ]
  },
  {
   "cell_type": "code",
   "execution_count": 8,
   "metadata": {
    "ExecuteTime": {
     "end_time": "2021-02-02T11:19:30.911882Z",
     "start_time": "2021-02-02T11:19:30.900769Z"
    }
   },
   "outputs": [],
   "source": [
    "class Person:\n",
    "    def __init__(self, name, age, address):\n",
    "        self.hello = '안녕하세요.'\n",
    "        self.name = name\n",
    "        self.age = age\n",
    "        self.address = address\n",
    "        \n",
    "    def greeting(self):\n",
    "        print('{} 저는 {}입니다.'.format(self.hello, self.name))"
   ]
  },
  {
   "cell_type": "markdown",
   "metadata": {},
   "source": [
    "- 클래스 바깥에서 속성에 접근할 때는 \"인스턴스.속성\" 형식으로 접근한다.\n",
    "- 이렇게 인스턴스를 통해 접근하는 속성을 **인스턴스 속성**이라 부른다."
   ]
  },
  {
   "cell_type": "code",
   "execution_count": 9,
   "metadata": {
    "ExecuteTime": {
     "end_time": "2021-02-02T11:19:31.703147Z",
     "start_time": "2021-02-02T11:19:31.684330Z"
    }
   },
   "outputs": [
    {
     "name": "stdout",
     "output_type": "stream",
     "text": [
      "안녕하세요. 저는 마리아입니다.\n",
      "이름: 마리아\n",
      "나이: 29\n",
      "주소: 서울시 서초구 반포동\n"
     ]
    }
   ],
   "source": [
    "maria = Person('마리아', 29, '서울시 서초구 반포동')\n",
    "maria.greeting()\n",
    "\n",
    "# 인스턴스 속성\n",
    "print('이름:', maria.name)\n",
    "print('나이:', maria.age)\n",
    "print('주소:', maria.address)"
   ]
  },
  {
   "cell_type": "markdown",
   "metadata": {},
   "source": [
    "## 클래스의 위치 인수 및 키워드 인수 사용하기\n",
    "- 클래스로 인스턴스를 만들 때 **위치 인수**와 **키워드 인수**를 사용할 수 있다."
   ]
  },
  {
   "cell_type": "markdown",
   "metadata": {},
   "source": [
    "- 규칙은 함수와 같으며, 위치 인수와 리스트 언패킹을 사용하려면 ```*args```를 사용하면 된다.\n",
    "    - 이때 매개변수에서 값을 가져오려면 ```args[0]```처럼 사용해야 한다."
   ]
  },
  {
   "cell_type": "code",
   "execution_count": 10,
   "metadata": {
    "ExecuteTime": {
     "end_time": "2021-02-02T11:19:33.452305Z",
     "start_time": "2021-02-02T11:19:33.436981Z"
    }
   },
   "outputs": [],
   "source": [
    "class Person:\n",
    "    def __init__(self, *args):\n",
    "        self.name = args[0]\n",
    "        self.age = args[1]\n",
    "        self.address = args[2]"
   ]
  },
  {
   "cell_type": "code",
   "execution_count": 11,
   "metadata": {
    "ExecuteTime": {
     "end_time": "2021-02-02T11:19:33.785091Z",
     "start_time": "2021-02-02T11:19:33.769901Z"
    }
   },
   "outputs": [],
   "source": [
    "maria = Person(*['마리아', 29, '서울시 서초구 반포동'])"
   ]
  },
  {
   "cell_type": "markdown",
   "metadata": {},
   "source": [
    "- 키워드 인수와 딕셔너리 언패킹을 사용하려면 ```**kwargs```를 사용하면 된다.\n",
    "    - 이 때 매개변수에서 값을 가져오려면 ```kwargs['name']```처럼 사용해야 한다."
   ]
  },
  {
   "cell_type": "code",
   "execution_count": 12,
   "metadata": {
    "ExecuteTime": {
     "end_time": "2021-02-02T11:19:34.727426Z",
     "start_time": "2021-02-02T11:19:34.716527Z"
    }
   },
   "outputs": [],
   "source": [
    "class Person:\n",
    "    def __init__(self, **kwargs):\n",
    "        self.name = kwargs['name']\n",
    "        self.age = kwargs['age']\n",
    "        self.address = kwargs['address']"
   ]
  },
  {
   "cell_type": "code",
   "execution_count": 13,
   "metadata": {
    "ExecuteTime": {
     "end_time": "2021-02-02T11:19:36.536667Z",
     "start_time": "2021-02-02T11:19:36.509259Z"
    }
   },
   "outputs": [
    {
     "name": "stdout",
     "output_type": "stream",
     "text": [
      "마리아 29 서울시 서초구 반포동\n",
      "\n",
      "\n",
      "마리아 29 서울시 서초구 반포동\n"
     ]
    }
   ],
   "source": [
    "maria1 = Person(name = '마리아', age = 29, address = '서울시 서초구 반포동')\n",
    "maria2 = Person(**{'name': '마리아', 'age': 29, 'address': '서울시 서초구 반포동'})\n",
    "\n",
    "print(maria1.name, maria1.age, maria1.address)\n",
    "print('\\n')\n",
    "print(maria2.name, maria2.age, maria2.address)"
   ]
  },
  {
   "cell_type": "markdown",
   "metadata": {},
   "source": [
    "## 인스턴스를 생성한 뒤에 속성 추가하기\n",
    "- 클래스로 인스턴스를 만든 뒤에도 **\"인스턴스.속성 = 값\"** 형식으로 속성을 계속 추가할 수 있습니다."
   ]
  },
  {
   "cell_type": "code",
   "execution_count": 14,
   "metadata": {
    "ExecuteTime": {
     "end_time": "2021-02-02T11:19:39.357041Z",
     "start_time": "2021-02-02T11:19:39.351861Z"
    }
   },
   "outputs": [],
   "source": [
    "# 빈 클래스 생성\n",
    "class Person:\n",
    "    pass"
   ]
  },
  {
   "cell_type": "code",
   "execution_count": 15,
   "metadata": {
    "ExecuteTime": {
     "end_time": "2021-02-02T11:19:39.541279Z",
     "start_time": "2021-02-02T11:19:39.530152Z"
    }
   },
   "outputs": [
    {
     "data": {
      "text/plain": [
       "'제임스'"
      ]
     },
     "execution_count": 15,
     "metadata": {},
     "output_type": "execute_result"
    }
   ],
   "source": [
    "james = Person()\n",
    "james.name = '제임스'\n",
    "james.name"
   ]
  },
  {
   "cell_type": "markdown",
   "metadata": {},
   "source": [
    "- 이렇게 추가한 속성은 해당 인스턴스에만 생성된다.\n",
    "- 따라서 클래스로 다른 인스턴스를 만들었을 때는 추가한 속성이 생성되지 않는다."
   ]
  },
  {
   "cell_type": "code",
   "execution_count": 16,
   "metadata": {
    "ExecuteTime": {
     "end_time": "2021-02-02T11:19:40.327019Z",
     "start_time": "2021-02-02T11:19:40.042972Z"
    }
   },
   "outputs": [
    {
     "ename": "AttributeError",
     "evalue": "'Person' object has no attribute 'name'",
     "output_type": "error",
     "traceback": [
      "\u001b[1;31m---------------------------------------------------------------------------\u001b[0m",
      "\u001b[1;31mAttributeError\u001b[0m                            Traceback (most recent call last)",
      "\u001b[1;32m<ipython-input-16-7860b95cf572>\u001b[0m in \u001b[0;36m<module>\u001b[1;34m\u001b[0m\n\u001b[0;32m      1\u001b[0m \u001b[0mmaria\u001b[0m \u001b[1;33m=\u001b[0m \u001b[0mPerson\u001b[0m\u001b[1;33m(\u001b[0m\u001b[1;33m)\u001b[0m\u001b[1;33m\u001b[0m\u001b[1;33m\u001b[0m\u001b[0m\n\u001b[1;32m----> 2\u001b[1;33m \u001b[0mmaria\u001b[0m\u001b[1;33m.\u001b[0m\u001b[0mname\u001b[0m\u001b[1;33m\u001b[0m\u001b[1;33m\u001b[0m\u001b[0m\n\u001b[0m",
      "\u001b[1;31mAttributeError\u001b[0m: 'Person' object has no attribute 'name'"
     ]
    }
   ],
   "source": [
    "maria = Person()\n",
    "maria.name"
   ]
  },
  {
   "cell_type": "markdown",
   "metadata": {},
   "source": [
    "- 인스턴스는 생성한 뒤에 속성을 추가할 수 있으므로, ```__init__``` 메서드가 아닌 다른 메서드에서도 속성을 추가할 수 있다.\n",
    "    - 단, 이 때는 메서드를 호출해야 속성이 생성된다."
   ]
  },
  {
   "cell_type": "code",
   "execution_count": 17,
   "metadata": {
    "ExecuteTime": {
     "end_time": "2021-02-02T11:19:40.493972Z",
     "start_time": "2021-02-02T11:19:40.474144Z"
    }
   },
   "outputs": [],
   "source": [
    "class Person:\n",
    "    def greeting(self):\n",
    "        self.hello = '안녕하세요.' # greeting 메서드에서 hello 속성 추가"
   ]
  },
  {
   "cell_type": "code",
   "execution_count": 18,
   "metadata": {
    "ExecuteTime": {
     "end_time": "2021-02-02T11:19:40.736838Z",
     "start_time": "2021-02-02T11:19:40.714512Z"
    }
   },
   "outputs": [
    {
     "ename": "AttributeError",
     "evalue": "'Person' object has no attribute 'hello'",
     "output_type": "error",
     "traceback": [
      "\u001b[1;31m---------------------------------------------------------------------------\u001b[0m",
      "\u001b[1;31mAttributeError\u001b[0m                            Traceback (most recent call last)",
      "\u001b[1;32m<ipython-input-18-d304f0ec4aa9>\u001b[0m in \u001b[0;36m<module>\u001b[1;34m\u001b[0m\n\u001b[0;32m      1\u001b[0m \u001b[0mmaria\u001b[0m \u001b[1;33m=\u001b[0m \u001b[0mPerson\u001b[0m\u001b[1;33m(\u001b[0m\u001b[1;33m)\u001b[0m\u001b[1;33m\u001b[0m\u001b[1;33m\u001b[0m\u001b[0m\n\u001b[1;32m----> 2\u001b[1;33m \u001b[0mmaria\u001b[0m\u001b[1;33m.\u001b[0m\u001b[0mhello\u001b[0m\u001b[1;33m\u001b[0m\u001b[1;33m\u001b[0m\u001b[0m\n\u001b[0m",
      "\u001b[1;31mAttributeError\u001b[0m: 'Person' object has no attribute 'hello'"
     ]
    }
   ],
   "source": [
    "maria = Person()\n",
    "maria.hello"
   ]
  },
  {
   "cell_type": "code",
   "execution_count": 19,
   "metadata": {
    "ExecuteTime": {
     "end_time": "2021-02-02T11:19:41.041543Z",
     "start_time": "2021-02-02T11:19:41.016774Z"
    }
   },
   "outputs": [
    {
     "data": {
      "text/plain": [
       "'안녕하세요.'"
      ]
     },
     "execution_count": 19,
     "metadata": {},
     "output_type": "execute_result"
    }
   ],
   "source": [
    "maria.greeting() # greeting 메서드를 호출해야,\n",
    "maria.hello      # hello 속성이 생성됨"
   ]
  },
  {
   "cell_type": "markdown",
   "metadata": {},
   "source": [
    "## 특정 속성만 허용하기\n",
    "- 인스턴스는 자유롭게 속성을 추가할 수 있지만 특정 속성만 허용하고 다른 속성은 제한하고 싶을 수도 있다.\n",
    "- 이 때는 클래스에서 ```__slots__```에 허용할 속성 이름을 리스트로 넣어주면 된다.\n",
    "    - **속성 이름은 반드시 문자열로 지정**해줘야 한다.\n",
    "``` python\n",
    "__slots__ = ['속성이름1', '속성이름2']\n",
    "```"
   ]
  },
  {
   "cell_type": "code",
   "execution_count": 20,
   "metadata": {
    "ExecuteTime": {
     "end_time": "2021-02-02T11:19:41.563195Z",
     "start_time": "2021-02-02T11:19:41.544823Z"
    }
   },
   "outputs": [],
   "source": [
    "class Person:\n",
    "    __slots__ = ['name', 'age'] # name, age만 허용(다른 속성은 생성 제한)"
   ]
  },
  {
   "cell_type": "code",
   "execution_count": 21,
   "metadata": {
    "ExecuteTime": {
     "end_time": "2021-02-02T11:19:41.886412Z",
     "start_time": "2021-02-02T11:19:41.864920Z"
    }
   },
   "outputs": [
    {
     "ename": "AttributeError",
     "evalue": "'Person' object has no attribute 'address'",
     "output_type": "error",
     "traceback": [
      "\u001b[1;31m---------------------------------------------------------------------------\u001b[0m",
      "\u001b[1;31mAttributeError\u001b[0m                            Traceback (most recent call last)",
      "\u001b[1;32m<ipython-input-21-8536f9a7bddc>\u001b[0m in \u001b[0;36m<module>\u001b[1;34m\u001b[0m\n\u001b[0;32m      2\u001b[0m \u001b[0mmaria\u001b[0m\u001b[1;33m.\u001b[0m\u001b[0mname\u001b[0m \u001b[1;33m=\u001b[0m \u001b[1;34m'마리아'\u001b[0m  \u001b[1;31m# 허용된 속성\u001b[0m\u001b[1;33m\u001b[0m\u001b[1;33m\u001b[0m\u001b[0m\n\u001b[0;32m      3\u001b[0m \u001b[0mmaria\u001b[0m\u001b[1;33m.\u001b[0m\u001b[0mage\u001b[0m \u001b[1;33m=\u001b[0m \u001b[1;36m29\u001b[0m        \u001b[1;31m# 허용된 속성\u001b[0m\u001b[1;33m\u001b[0m\u001b[1;33m\u001b[0m\u001b[0m\n\u001b[1;32m----> 4\u001b[1;33m \u001b[0mmaria\u001b[0m\u001b[1;33m.\u001b[0m\u001b[0maddress\u001b[0m \u001b[1;33m=\u001b[0m \u001b[1;34m'서울시 서초구 반포동'\u001b[0m  \u001b[1;31m# 허용되지 않은 속성\u001b[0m\u001b[1;33m\u001b[0m\u001b[1;33m\u001b[0m\u001b[0m\n\u001b[0m",
      "\u001b[1;31mAttributeError\u001b[0m: 'Person' object has no attribute 'address'"
     ]
    }
   ],
   "source": [
    "maria = Person()\n",
    "maria.name = '마리아'  # 허용된 속성\n",
    "maria.age = 29        # 허용된 속성\n",
    "maria.address = '서울시 서초구 반포동'  # 허용되지 않은 속성"
   ]
  },
  {
   "cell_type": "markdown",
   "metadata": {},
   "source": [
    "# 비공개 속성(Private Attribute)\n",
    "- 비공개 속성(private attribute)은 클래스 바깥에서는 접근할 수 없고, 클래스 안에서만 사용할 수 있다.\n",
    "- 비공개 속성은 **클래스 바깥으로 드러내고 싶지 않은 값에 사용**한다.\n",
    "    - 즉, **중요한 값인데 바깥에서 함부로 바꾸면 안 될 때** 비공개 속성을 주로 사용하며, 비공개 속성을 바꾸는 경우는 클래스의 메서드로 한정한다.\n",
    "\n",
    "<이해를 돕기 위한 예시>\n",
    "- 예를 들어 게임 캐릭터가 마나를 소비해서 스킬을 쓴다고 치면 마나 소비량을 계산해서 차감하는 메서드는 비공개 메서드로 만들고, 스킬을 쓰는 메서드는 공개 메서드로 만든다.\n",
    "- 만약 마나를 차감하는 메서드가 공개되어 있다면 마음대로 마나를 차감시킬 수 있으므로 잘못된 클래스 설계가 된다."
   ]
  },
  {
   "cell_type": "markdown",
   "metadata": {},
   "source": [
    "## 비공개 속성 사용하기\n",
    "- 비공개 속성은 ```__속성```과 같이 **이름이 __(밑줄 두 개)로 시작**해야 합니다.\n",
    "    - 단, ```__속성__```처럼 **밑줄 두 개가 양 옆에 왔을 때는 비공개 속성이 아니므로 주의**해야 합니다.\n",
    "``` python\n",
    "class 클래스이름:\n",
    "        def __init__(self, 매개변수):\n",
    "            self.__속성 = 값\n",
    "```"
   ]
  },
  {
   "cell_type": "code",
   "execution_count": 22,
   "metadata": {
    "ExecuteTime": {
     "end_time": "2021-02-02T11:19:42.909451Z",
     "start_time": "2021-02-02T11:19:42.892113Z"
    }
   },
   "outputs": [],
   "source": [
    "class Person:\n",
    "    def __init__(self, name, age, address, wallet):\n",
    "        self.name = name\n",
    "        self.age = age\n",
    "        self.address = address\n",
    "        self.__wallet = wallet # 변수 앞에 __를 붙여서 비공개 속성으로 만듦"
   ]
  },
  {
   "cell_type": "code",
   "execution_count": 23,
   "metadata": {
    "ExecuteTime": {
     "end_time": "2021-02-02T11:19:43.246693Z",
     "start_time": "2021-02-02T11:19:43.225400Z"
    }
   },
   "outputs": [
    {
     "ename": "AttributeError",
     "evalue": "'Person' object has no attribute '__wallet'",
     "output_type": "error",
     "traceback": [
      "\u001b[1;31m---------------------------------------------------------------------------\u001b[0m",
      "\u001b[1;31mAttributeError\u001b[0m                            Traceback (most recent call last)",
      "\u001b[1;32m<ipython-input-23-f09d6326a02d>\u001b[0m in \u001b[0;36m<module>\u001b[1;34m\u001b[0m\n\u001b[0;32m      1\u001b[0m \u001b[0mmaria\u001b[0m \u001b[1;33m=\u001b[0m \u001b[0mPerson\u001b[0m\u001b[1;33m(\u001b[0m\u001b[1;34m'마리아'\u001b[0m\u001b[1;33m,\u001b[0m \u001b[1;36m29\u001b[0m\u001b[1;33m,\u001b[0m \u001b[1;34m'서울시 서초구 반포동'\u001b[0m\u001b[1;33m,\u001b[0m \u001b[1;36m10000\u001b[0m\u001b[1;33m)\u001b[0m\u001b[1;33m\u001b[0m\u001b[1;33m\u001b[0m\u001b[0m\n\u001b[1;32m----> 2\u001b[1;33m \u001b[0mmaria\u001b[0m\u001b[1;33m.\u001b[0m\u001b[0m__wallet\u001b[0m \u001b[1;33m-=\u001b[0m \u001b[1;36m10000\u001b[0m \u001b[1;31m# 클래스 바깥에서 비공개 속성에 접근하면 에러가 발생함\u001b[0m\u001b[1;33m\u001b[0m\u001b[1;33m\u001b[0m\u001b[0m\n\u001b[0m",
      "\u001b[1;31mAttributeError\u001b[0m: 'Person' object has no attribute '__wallet'"
     ]
    }
   ],
   "source": [
    "maria = Person('마리아', 29, '서울시 서초구 반포동', 10000)\n",
    "maria.__wallet -= 10000 # 클래스 바깥에서 비공개 속성에 접근하면 에러가 발생함"
   ]
  },
  {
   "cell_type": "markdown",
   "metadata": {},
   "source": [
    "- 비공개 속성은 다음과 같이 클래스 안의 메서드에서만 접근할 수 있다."
   ]
  },
  {
   "cell_type": "code",
   "execution_count": 24,
   "metadata": {
    "ExecuteTime": {
     "end_time": "2021-02-02T11:19:44.237967Z",
     "start_time": "2021-02-02T11:19:44.220093Z"
    }
   },
   "outputs": [],
   "source": [
    "class Person:\n",
    "    def __init__(self, name, age, address, wallet):\n",
    "        self.name = name\n",
    "        self.age = age\n",
    "        self.address = address\n",
    "        self.__wallet = wallet # 변수 앞에 __를 붙여서 비공개 속성으로 만듦\n",
    "        \n",
    "    def pay(self, amount):\n",
    "        self.__wallet -= amount # 비공개 속성은 클래스 안의 메서드에서만 접근할 수 있음\n",
    "        print('이제 {}원 남았습니다.'.format(self.__wallet))"
   ]
  },
  {
   "cell_type": "code",
   "execution_count": 25,
   "metadata": {
    "ExecuteTime": {
     "end_time": "2021-02-02T11:19:44.741883Z",
     "start_time": "2021-02-02T11:19:44.724283Z"
    }
   },
   "outputs": [
    {
     "name": "stdout",
     "output_type": "stream",
     "text": [
      "이제 7000원 남았습니다.\n"
     ]
    }
   ],
   "source": [
    "maria = Person('마리아', 20, '서울시 서초구 반포동', 10000)\n",
    "maria.pay(3000)"
   ]
  },
  {
   "cell_type": "markdown",
   "metadata": {},
   "source": [
    "# 연습문제"
   ]
  },
  {
   "cell_type": "markdown",
   "metadata": {},
   "source": [
    "## 연습문제 1\n",
    "- 다음 소스 코드에서 클래스를 작성하여 게임 캐릭터의 능력치와 '베기'가 출력되게 만드세요.\n",
    "``` python                                          \n",
    "x = Knight(health = 542.4, mana = 210.3, armor = 38)\n",
    "print(x.health, x.mana, x.armor)\n",
    "x.slash()\n",
    "```\n",
    "``` python\n",
    "# 실행 결과\n",
    "542.4 210.3 38\n",
    "베기\n",
    "```"
   ]
  },
  {
   "cell_type": "code",
   "execution_count": 26,
   "metadata": {
    "ExecuteTime": {
     "end_time": "2021-02-02T11:19:47.107291Z",
     "start_time": "2021-02-02T11:19:47.092079Z"
    }
   },
   "outputs": [],
   "source": [
    "class Knight:\n",
    "    def __init__(self, health, mana, armor):\n",
    "        self.health = health\n",
    "        self.mana = mana\n",
    "        self.armor = armor\n",
    "        \n",
    "    def slash(self):\n",
    "        print('베기')"
   ]
  },
  {
   "cell_type": "code",
   "execution_count": 27,
   "metadata": {
    "ExecuteTime": {
     "end_time": "2021-02-02T11:19:47.749404Z",
     "start_time": "2021-02-02T11:19:47.732164Z"
    }
   },
   "outputs": [
    {
     "name": "stdout",
     "output_type": "stream",
     "text": [
      "542.4 210.3 38\n",
      "베기\n"
     ]
    }
   ],
   "source": [
    "x = Knight(health = 542.4, mana = 210.3, armor = 38)\n",
    "print(x.health, x.mana, x.armor)\n",
    "x.slash()"
   ]
  },
  {
   "cell_type": "markdown",
   "metadata": {},
   "source": [
    "## 연습문제 2\n",
    "- 표준 입력으로 게임 캐릭터 능력치(체력, 마나, AP)가 입력됩니다.\n",
    "- 다음 소스 코드에서 애니(Annie) 클래스를 작성하여 티버(tibbers) 스킬의 피해량이 출력되게 만드세요.\n",
    "- 티버의 피해량은 AP * 0.65 + 400이며 AP(Ability Power, 주문력)는 마법 능력치를 뜻합니다.\n",
    "``` python\n",
    "health, mana, ability_power = map(float, input().split())\n",
    "x = Annie(health = health, mana = mana, ability_power = ability_power)\n",
    "x.tibbers()\n",
    "```\n",
    "``` python\n",
    "# 입력 예시\n",
    "511.68 334.0 298\n",
    "# 결과 예시\n",
    "티버: 피해량 593.7\n",
    "```"
   ]
  },
  {
   "cell_type": "code",
   "execution_count": 28,
   "metadata": {
    "ExecuteTime": {
     "end_time": "2021-02-02T11:19:52.570882Z",
     "start_time": "2021-02-02T11:19:52.561856Z"
    }
   },
   "outputs": [],
   "source": [
    "class Annie:\n",
    "    def __init__(self, health, mana, ability_power):\n",
    "        self.health = health\n",
    "        self.mana = mana\n",
    "        self.ability_power = ability_power\n",
    "        \n",
    "    def tibbers(self):\n",
    "        print('티버: 피해량 {}'.format(self.ability_power * 0.65 + 400))"
   ]
  },
  {
   "cell_type": "code",
   "execution_count": 29,
   "metadata": {
    "ExecuteTime": {
     "end_time": "2021-02-02T11:20:01.163393Z",
     "start_time": "2021-02-02T11:19:53.532410Z"
    }
   },
   "outputs": [
    {
     "name": "stdout",
     "output_type": "stream",
     "text": [
      "511.68 334.0 298\n",
      "티버: 피해량 593.7\n"
     ]
    }
   ],
   "source": [
    "health, mana, ability_power = map(float, input().split())\n",
    "x = Annie(health = health, mana = mana, ability_power = ability_power)\n",
    "x.tibbers()"
   ]
  }
 ],
 "metadata": {
  "hide_input": false,
  "kernelspec": {
   "display_name": "Python 3",
   "language": "python",
   "name": "python3"
  },
  "language_info": {
   "codemirror_mode": {
    "name": "ipython",
    "version": 3
   },
   "file_extension": ".py",
   "mimetype": "text/x-python",
   "name": "python",
   "nbconvert_exporter": "python",
   "pygments_lexer": "ipython3",
   "version": "3.8.3"
  },
  "toc": {
   "base_numbering": 1,
   "nav_menu": {},
   "number_sections": true,
   "sideBar": true,
   "skip_h1_title": false,
   "title_cell": "Table of Contents",
   "title_sidebar": "Contents",
   "toc_cell": false,
   "toc_position": {},
   "toc_section_display": true,
   "toc_window_display": false
  },
  "varInspector": {
   "cols": {
    "lenName": 16,
    "lenType": 16,
    "lenVar": 40
   },
   "kernels_config": {
    "python": {
     "delete_cmd_postfix": "",
     "delete_cmd_prefix": "del ",
     "library": "var_list.py",
     "varRefreshCmd": "print(var_dic_list())"
    },
    "r": {
     "delete_cmd_postfix": ") ",
     "delete_cmd_prefix": "rm(",
     "library": "var_list.r",
     "varRefreshCmd": "cat(var_dic_list()) "
    }
   },
   "types_to_exclude": [
    "module",
    "function",
    "builtin_function_or_method",
    "instance",
    "_Feature"
   ],
   "window_display": false
  }
 },
 "nbformat": 4,
 "nbformat_minor": 4
}
