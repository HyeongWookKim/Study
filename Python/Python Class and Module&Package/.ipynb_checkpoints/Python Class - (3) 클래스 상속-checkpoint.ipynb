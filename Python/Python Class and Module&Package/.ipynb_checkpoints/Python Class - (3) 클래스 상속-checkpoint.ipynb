{
 "cells": [
  {
   "cell_type": "markdown",
   "metadata": {},
   "source": [
    "# 클래스 상속\n",
    "- 클래스 상속은 물려받은 기능을 유지한채로 다른 기능을 추가할 때 사용하는 기능이다.\n",
    "    - 새로운 기능이 필요할 때마다 계속 클래스를 만든다면 중복되는 부분을 반복해서 만들어야 한다.\n",
    "    - 이럴 때 상속을 사용하면 중복되는 기능을 만들지 않아도 되므로, 상속은 기존 기능을 재사용할 수 있어서 효율적이다.\n",
    "- 여기서 기능을 물려주는 클래스를 **기반 클래스(base class)**, 상속을 받아 새롭게 만드는 클래스를 **파생 클래스(derived class)**라고 한다.\n",
    "    - 보통 **기반 클래스**는 **부모 클래스(parent class), 슈퍼 클래스(superclass)**라고 부르고, **파생 클래스**는 **자식 클래스(child class), 서브 클래스(subclass)**라고도 부른다.\n",
    "``` python\n",
    "class 기반클래스이름:\n",
    "        코드\n",
    "class 파생클래스이름(기반클래스이름):\n",
    "        코드\n",
    "```\n",
    "- 클래스 상속은 연관되면서 동등한 기능일 때 사용한다."
   ]
  },
  {
   "cell_type": "markdown",
   "metadata": {},
   "source": [
    "## 클래스 상속 사용하기"
   ]
  },
  {
   "cell_type": "code",
   "execution_count": 1,
   "metadata": {
    "ExecuteTime": {
     "end_time": "2021-02-04T02:41:01.344832Z",
     "start_time": "2021-02-04T02:41:01.336081Z"
    }
   },
   "outputs": [],
   "source": [
    "class Person:\n",
    "    def greeting(self):\n",
    "        print('안녕하세요.')\n",
    "\n",
    "class Student(Person):\n",
    "    def study(self):\n",
    "        print('공부하기')"
   ]
  },
  {
   "cell_type": "code",
   "execution_count": 2,
   "metadata": {
    "ExecuteTime": {
     "end_time": "2021-02-04T02:41:01.686720Z",
     "start_time": "2021-02-04T02:41:01.677965Z"
    }
   },
   "outputs": [
    {
     "name": "stdout",
     "output_type": "stream",
     "text": [
      "안녕하세요.\n",
      "공부하기\n"
     ]
    }
   ],
   "source": [
    "james = Student()\n",
    "james.greeting()  # 안녕하세요.: 기반 클래스 Person의 메서드 호출\n",
    "james.study()     # 공부하기: 파생 클래스 Student에 추가한 study 메서드"
   ]
  },
  {
   "cell_type": "markdown",
   "metadata": {},
   "source": [
    "## 상속 관계 확인하기\n",
    "- 클래스의 상속 관계를 확인하고 싶을 때는 ```issubclass()``` 함수를 사용한다.\n",
    "- 즉, 클래스가 기반 클래스의 파생 클래스인지 확인한다.\n",
    "    - 기반 클래스의 파생 클래스가 맞으면 True, 아니면 False를 반환한다.\n",
    "``` python\n",
    "issubclass(파생클래스, 기반클래스)\n",
    "```"
   ]
  },
  {
   "cell_type": "code",
   "execution_count": 3,
   "metadata": {
    "ExecuteTime": {
     "end_time": "2021-02-04T02:41:02.358856Z",
     "start_time": "2021-02-04T02:41:02.344783Z"
    }
   },
   "outputs": [],
   "source": [
    "class Person:\n",
    "    pass\n",
    "class Student(Person):\n",
    "    pass"
   ]
  },
  {
   "cell_type": "code",
   "execution_count": 4,
   "metadata": {
    "ExecuteTime": {
     "end_time": "2021-02-04T02:41:02.588415Z",
     "start_time": "2021-02-04T02:41:02.569677Z"
    }
   },
   "outputs": [
    {
     "data": {
      "text/plain": [
       "True"
      ]
     },
     "execution_count": 4,
     "metadata": {},
     "output_type": "execute_result"
    }
   ],
   "source": [
    "issubclass(Student, Person)"
   ]
  },
  {
   "cell_type": "markdown",
   "metadata": {},
   "source": [
    "# 상속 관계와 포함 관계\n",
    "1. 상속 관계\n",
    "    - 앞서 구현한 클래스 상속에서 학생 Student는 사람 Person이므로 같은 종류이다.\n",
    "    - 이처럼 상속은 **명확하게 같은 종류이며 동등한 관계일 때 사용**한다.\n",
    "    - 즉, \"학생은 사람이다.\"라고 했을 때 말이 되면 **동등한 관계**이다.\n",
    "    - 그래서 상속 관계를 영어로 **is-a 관계**라고 부른다(Student is a Person).\n",
    "2. 포함 관계\n",
    "    - 만약 학생 클래스가 아니라 사람 목록을 관리하는 클래스를 만든다면 어떻게 해야 할까?\n",
    "    - 아래과 같이 리스트 속성에 Person 인스턴스를 넣어서 관리하면 된다.\n",
    "    - 여기서는 상속을 사용하지 않고 속성에 인스턴스를 넣어서 관리하므로 PersonList가 Person을 포함하고 있다.\n",
    "    - 이러면 사람 목록 PersonList와 사람 Person은 동등한 관계가 아니라 **포함 관계**이다.\n",
    "    - 즉, \"사람 목록은 사람을 가지고 있다.\"라고 말할 수 있다.\n",
    "    - 그래서 포함 관계를 영어로 **has-a 관계**라고 부른다(PersonList has a Person)."
   ]
  },
  {
   "cell_type": "markdown",
   "metadata": {},
   "source": [
    "- 아래의 코드는 \"포함 관계\"를 구현한 코드이다."
   ]
  },
  {
   "cell_type": "code",
   "execution_count": 5,
   "metadata": {
    "ExecuteTime": {
     "end_time": "2021-02-04T02:41:03.263331Z",
     "start_time": "2021-02-04T02:41:03.252369Z"
    }
   },
   "outputs": [],
   "source": [
    "class Person:\n",
    "    def greeting(self):\n",
    "        print('안녕하세요.')\n",
    "\n",
    "class PersonList:\n",
    "    def __init__(self):\n",
    "        self.person_list = [] # 리스트 속성에 Person 인스턴스를 넣어서 관리\n",
    "        \n",
    "    def append_person(self, person): # 리스트 속성에 Person 인스턴스를 추가하는 함수\n",
    "        self.person_list.append(person)\n",
    "        print(self.person_list)"
   ]
  },
  {
   "cell_type": "code",
   "execution_count": 6,
   "metadata": {
    "ExecuteTime": {
     "end_time": "2021-02-04T02:41:03.462857Z",
     "start_time": "2021-02-04T02:41:03.457699Z"
    }
   },
   "outputs": [
    {
     "name": "stdout",
     "output_type": "stream",
     "text": [
      "[<__main__.Person object at 0x0000016F7AC3FA00>]\n",
      "[<__main__.Person object at 0x0000016F7AC3FA00>, <__main__.Person object at 0x0000016F7AC3F280>]\n"
     ]
    }
   ],
   "source": [
    "person1 = Person()\n",
    "person2 = Person()\n",
    "\n",
    "p_list = PersonList()\n",
    "p_list.append_person(person1)\n",
    "p_list.append_person(person2)"
   ]
  },
  {
   "cell_type": "markdown",
   "metadata": {},
   "source": [
    "<요약 정리>\n",
    "- 정리하면 같은 종류에 **동등한 관계일 때는 상속을 사용**하고, **그 이외에는 속성에 인스턴스를 넣는 포함 방식을 사용**하면 된다."
   ]
  },
  {
   "cell_type": "markdown",
   "metadata": {},
   "source": [
    "# 기반 클래스의 속성"
   ]
  },
  {
   "cell_type": "markdown",
   "metadata": {},
   "source": [
    "## 기반 클래스의 속성 사용하기\n",
    "- 기반 클래스에 들어있는 인스턴스 속성을 사용해보겠다."
   ]
  },
  {
   "cell_type": "markdown",
   "metadata": {},
   "source": [
    "- 아래의 코드는 기반 클래스 Person의 ```__init__``` 메서드가 호출되지 않았기 때문에, 실행 결과를 살펴보면 ```Student __init__```만 출력된 것을 알 수 있다."
   ]
  },
  {
   "cell_type": "code",
   "execution_count": 7,
   "metadata": {
    "ExecuteTime": {
     "end_time": "2021-02-04T02:41:04.919055Z",
     "start_time": "2021-02-04T02:41:04.915976Z"
    }
   },
   "outputs": [],
   "source": [
    "class Person:\n",
    "    def __init__(self):\n",
    "        print('Person __init__')\n",
    "        self.hello = '안녕하세요.'\n",
    "        \n",
    "class Student(Person):\n",
    "    def __init__(self):\n",
    "        print('Student __init__')\n",
    "        self.school = '파이썬 코딩 도장'"
   ]
  },
  {
   "cell_type": "code",
   "execution_count": 8,
   "metadata": {
    "ExecuteTime": {
     "end_time": "2021-02-04T02:41:05.423875Z",
     "start_time": "2021-02-04T02:41:05.092671Z"
    }
   },
   "outputs": [
    {
     "name": "stdout",
     "output_type": "stream",
     "text": [
      "Student __init__\n",
      "파이썬 코딩 도장\n"
     ]
    },
    {
     "ename": "AttributeError",
     "evalue": "'Student' object has no attribute 'hello'",
     "output_type": "error",
     "traceback": [
      "\u001b[1;31m---------------------------------------------------------------------------\u001b[0m",
      "\u001b[1;31mAttributeError\u001b[0m                            Traceback (most recent call last)",
      "\u001b[1;32m<ipython-input-8-fe1cb5b2b8fc>\u001b[0m in \u001b[0;36m<module>\u001b[1;34m\u001b[0m\n\u001b[0;32m      1\u001b[0m \u001b[0mjames\u001b[0m \u001b[1;33m=\u001b[0m \u001b[0mStudent\u001b[0m\u001b[1;33m(\u001b[0m\u001b[1;33m)\u001b[0m\u001b[1;33m\u001b[0m\u001b[1;33m\u001b[0m\u001b[0m\n\u001b[0;32m      2\u001b[0m \u001b[0mprint\u001b[0m\u001b[1;33m(\u001b[0m\u001b[0mjames\u001b[0m\u001b[1;33m.\u001b[0m\u001b[0mschool\u001b[0m\u001b[1;33m)\u001b[0m\u001b[1;33m\u001b[0m\u001b[1;33m\u001b[0m\u001b[0m\n\u001b[1;32m----> 3\u001b[1;33m \u001b[0mprint\u001b[0m\u001b[1;33m(\u001b[0m\u001b[0mjames\u001b[0m\u001b[1;33m.\u001b[0m\u001b[0mhello\u001b[0m\u001b[1;33m)\u001b[0m \u001b[1;31m# 기반 클래스의 속성을 출력하려고 하면 에러가 발생함\u001b[0m\u001b[1;33m\u001b[0m\u001b[1;33m\u001b[0m\u001b[0m\n\u001b[0m",
      "\u001b[1;31mAttributeError\u001b[0m: 'Student' object has no attribute 'hello'"
     ]
    }
   ],
   "source": [
    "james = Student()\n",
    "print(james.school)\n",
    "print(james.hello) # 기반 클래스의 속성을 출력하려고 하면 에러가 발생함"
   ]
  },
  {
   "cell_type": "markdown",
   "metadata": {},
   "source": [
    "## super()로 기반 클래스 초기화하기\n",
    "- 위와 같은 에러가 발생할 경우에는 ```super()```를 사용해서 기반 클래스의 ```__init__``` 메서드를 호출해준다.\n",
    "    - 아래과 같이 **super() 뒤에 .(점)을 붙여서 메서드를 호출**하는 방식이다.\n",
    "``` python\n",
    "super().메서드()\n",
    "```"
   ]
  },
  {
   "cell_type": "markdown",
   "metadata": {},
   "source": [
    "- ```super().__init__()```와 같이 기반 클래스 Person의 ```__init__``` 메서드를 호출해주면 기반 클래스가 초기화되어서 속성이 만들어진다."
   ]
  },
  {
   "cell_type": "code",
   "execution_count": 9,
   "metadata": {
    "ExecuteTime": {
     "end_time": "2021-02-04T02:41:05.582087Z",
     "start_time": "2021-02-04T02:41:05.568998Z"
    }
   },
   "outputs": [],
   "source": [
    "class Person:\n",
    "    def __init__(self):\n",
    "        print('Person __init__')\n",
    "        self.hello = '안녕하세요.'\n",
    "        \n",
    "class Student(Person):\n",
    "    def __init__(self):\n",
    "        print('Student __init__')\n",
    "        super().__init__() # super()로 기반 클래스의 __init__ 메서드 호출\n",
    "        self.school = '파이썬 코딩 도장'"
   ]
  },
  {
   "cell_type": "code",
   "execution_count": 10,
   "metadata": {
    "ExecuteTime": {
     "end_time": "2021-02-04T02:41:05.735992Z",
     "start_time": "2021-02-04T02:41:05.727850Z"
    }
   },
   "outputs": [
    {
     "name": "stdout",
     "output_type": "stream",
     "text": [
      "Student __init__\n",
      "Person __init__\n",
      "파이썬 코딩 도장\n",
      "안녕하세요.\n"
     ]
    }
   ],
   "source": [
    "james = Student()\n",
    "print(james.school)\n",
    "print(james.hello)"
   ]
  },
  {
   "cell_type": "markdown",
   "metadata": {},
   "source": [
    "## 기반 클래스를 초기화하지 않아도 되는 경우\n",
    "- 만약 파생 클래스에서 ```__init__``` 메서드를 생략한다면, 기반 클래스의 ```__init__```이 자동으로 호출되므로 super()는 사용하지 않아도 된다."
   ]
  },
  {
   "cell_type": "code",
   "execution_count": 11,
   "metadata": {
    "ExecuteTime": {
     "end_time": "2021-02-04T02:41:06.102102Z",
     "start_time": "2021-02-04T02:41:06.097055Z"
    }
   },
   "outputs": [],
   "source": [
    "class Person:\n",
    "    def __init__(self):\n",
    "        print('Person __init__')\n",
    "        self.hello = '안녕하세요.'\n",
    "        \n",
    "class Student(Person):\n",
    "    pass"
   ]
  },
  {
   "cell_type": "code",
   "execution_count": 12,
   "metadata": {
    "ExecuteTime": {
     "end_time": "2021-02-04T02:41:06.316136Z",
     "start_time": "2021-02-04T02:41:06.307966Z"
    }
   },
   "outputs": [
    {
     "name": "stdout",
     "output_type": "stream",
     "text": [
      "Person __init__\n",
      "안녕하세요.\n"
     ]
    }
   ],
   "source": [
    "james = Student()\n",
    "print(james.hello)"
   ]
  },
  {
   "cell_type": "markdown",
   "metadata": {},
   "source": [
    "<참고>\n",
    "- ```super()```는 **파생 클래스와 self를 넣어서 현재 클래스가 어떤 클래스인지 명확하게 표시하는 방법**도 있다.\n",
    "    - 물론 ```super()```와 기능은 같다.\n",
    "``` python\n",
    "super(파생클래스, self).메서드()\n",
    "```\n",
    "- 좀 더 명확하게 ```super()```를 사용하려면 아래과 같이 코드를 구현하면 된다.\n",
    "    - 실제로 대부분의 딥러닝 프레임워크를 사용하여 코드를 구현할 때 아래와 같은 방식을 선호한다.\n",
    "``` python\n",
    "class Student(Person):\n",
    "        def __init__(self):\n",
    "            print('Student __init__')\n",
    "            super(Student, self).__init__()     # super(파생클래스, self)로 기반 클래스의 메서드 호출\n",
    "            self.school = '파이썬 코딩 도장'\n",
    "```"
   ]
  },
  {
   "cell_type": "markdown",
   "metadata": {},
   "source": [
    "# 메서드 오버라이딩\n",
    "- **파생 클래스에서 기반 클래스의 메서드를 새로 정의하는 것**을 **\"메서드 오버라이딩\"**이라고 한다.\n",
    "- 오버라이딩(overriding)은 \"무시하다, 우선하다\"라는 뜻을 가지고 있는데, 말 그대로 **기반 클래스의 메서드를 무시하고 새로운 메서드를 만든다는 뜻**이다.\n",
    "    - 즉, 메서드 오버라이딩은 **원래 기능을 유지하면서 새로운 기능을 덧붙일 때 사용**한다.\n",
    "- 보통 프로그램에서 어떤 기능이 같은 메서드 이름으로 계속 사용되어야 할 때 메서드 오버라이딩을 활용한다. "
   ]
  },
  {
   "cell_type": "code",
   "execution_count": 13,
   "metadata": {
    "ExecuteTime": {
     "end_time": "2021-02-04T02:41:06.923973Z",
     "start_time": "2021-02-04T02:41:06.914760Z"
    }
   },
   "outputs": [],
   "source": [
    "class Person:\n",
    "    def greeting(self):\n",
    "        print('안녕하세요.')\n",
    "    \n",
    "class Student(Person):\n",
    "    def greeting(self):\n",
    "        print('안녕하세요. 저는 파이썬 코딩 도장 학생입니다.')"
   ]
  },
  {
   "cell_type": "code",
   "execution_count": 14,
   "metadata": {
    "ExecuteTime": {
     "end_time": "2021-02-04T02:41:07.212196Z",
     "start_time": "2021-02-04T02:41:07.202018Z"
    }
   },
   "outputs": [
    {
     "name": "stdout",
     "output_type": "stream",
     "text": [
      "안녕하세요. 저는 파이썬 코딩 도장 학생입니다.\n"
     ]
    }
   ],
   "source": [
    "james = Student()\n",
    "james.greeting()"
   ]
  },
  {
   "cell_type": "markdown",
   "metadata": {},
   "source": [
    "- 위 코드의 결과를 보면, Person 클래스의 greeting 메서드와 Student 클래스의 greeting 메서드를 보면 '안녕하세요.'라는 문구가 중복된다.\n",
    "- 이럴 때는 **기반 클래스의 메서드를 재활용**하면 중복을 줄일 수 있다.\n",
    "    - 즉, 중복되는 기능은 파생 클래스에서 다시 만들지 않고, 기반 클래스의 기능을 사용하면 된다.\n",
    "- 아래과 같이 오버라이딩된 메서드에서 ```super()```로 **기반 클래스의 메서드를 호출**해봅니다."
   ]
  },
  {
   "cell_type": "code",
   "execution_count": 15,
   "metadata": {
    "ExecuteTime": {
     "end_time": "2021-02-04T02:41:07.669662Z",
     "start_time": "2021-02-04T02:41:07.650945Z"
    }
   },
   "outputs": [],
   "source": [
    "class Person:\n",
    "    def greeting(self):\n",
    "        print('안녕하세요.')\n",
    "        \n",
    "class Student(Person):\n",
    "    def greeting(self):\n",
    "        super().greeting() # 기반 클래스의 메서드 호출하여 중복을 줄임\n",
    "        print('저는 파이썬 코딩 도장 학생입니다.')"
   ]
  },
  {
   "cell_type": "code",
   "execution_count": 16,
   "metadata": {
    "ExecuteTime": {
     "end_time": "2021-02-04T02:41:07.851872Z",
     "start_time": "2021-02-04T02:41:07.843691Z"
    }
   },
   "outputs": [
    {
     "name": "stdout",
     "output_type": "stream",
     "text": [
      "안녕하세요.\n",
      "저는 파이썬 코딩 도장 학생입니다.\n"
     ]
    }
   ],
   "source": [
    "james = Student()\n",
    "james.greeting()"
   ]
  },
  {
   "cell_type": "markdown",
   "metadata": {},
   "source": [
    "# 다중 상속\n",
    "- 다중 상속은 여러 기반 클래스로부터 상속을 받아서 파생 클래스를 만드는 방법이다.\n",
    "- 다음과 같이 클래스를 만들 때, ( )(괄호) 안에 클래스 이름을 \",(콤마)\"로 구분해서 넣는다.\n",
    "``` python\n",
    "class 기반클래스이름1:\n",
    "    코드\n",
    "class 기반클래스이름2:\n",
    "    코드\n",
    "class 파생클래스이름(기반클래스이름1, 기반클래스이름2):\n",
    "    코드\n",
    "```"
   ]
  },
  {
   "cell_type": "markdown",
   "metadata": {},
   "source": [
    "## 다중 상속 사용하기"
   ]
  },
  {
   "cell_type": "code",
   "execution_count": 17,
   "metadata": {
    "ExecuteTime": {
     "end_time": "2021-02-04T02:41:08.434529Z",
     "start_time": "2021-02-04T02:41:08.418078Z"
    }
   },
   "outputs": [],
   "source": [
    "class Person:\n",
    "    def greeting(self):\n",
    "        print('안녕하세요.')\n",
    "        \n",
    "class University:\n",
    "    def manage_credit(self):\n",
    "        print('학점 관리')\n",
    "        \n",
    "class Undergraduate(Person, University):\n",
    "    def study(self):\n",
    "        print('공부하기')"
   ]
  },
  {
   "cell_type": "code",
   "execution_count": 18,
   "metadata": {
    "ExecuteTime": {
     "end_time": "2021-02-04T02:41:08.603031Z",
     "start_time": "2021-02-04T02:41:08.594951Z"
    }
   },
   "outputs": [
    {
     "name": "stdout",
     "output_type": "stream",
     "text": [
      "안녕하세요.\n",
      "학점 관리\n",
      "공부하기\n"
     ]
    }
   ],
   "source": [
    "james = Undergraduate()\n",
    "james.greeting()         # 안녕하세요.: 기반 클래스 Person의 메서드 호출\n",
    "james.manage_credit()    # 학점 관리: 기반 클래스 University의 메서드 호출\n",
    "james.study()            # 공부하기: 파생 클래스 Undergraduate에 추가한 study 메서드"
   ]
  },
  {
   "cell_type": "markdown",
   "metadata": {},
   "source": [
    "## 다이아몬드 상속\n",
    "- 클래스 간의 관계가 다이아몬드 같이 생긴 다소 복잡한 형태의 클래스 상속을 뜻한다."
   ]
  },
  {
   "cell_type": "markdown",
   "metadata": {},
   "source": [
    "- 예시를 통해 다이아몬드 상속을 이해해보도록 하겠다.\n",
    "    - 다음와 같이 기반 클래스 A가 있고, B, C는 A를 상속 받는다. 그리고 다시 D는 B, C를 상속 받는다.\n",
    "    - 여기서는 클래스 A를 상속받아서 B, C를 만들고, 클래스 B와 C를 상속받아서 D를 만들었다. 그리고 A, B, C 모두 greeting이라는 같은 메서드를 가지고 있는데, D는 어떤 클래스의 메서드를 호출할까?"
   ]
  },
  {
   "cell_type": "code",
   "execution_count": 19,
   "metadata": {
    "ExecuteTime": {
     "end_time": "2021-02-04T02:41:09.167979Z",
     "start_time": "2021-02-04T02:41:09.147784Z"
    }
   },
   "outputs": [],
   "source": [
    "class A:\n",
    "    def greeting(self):\n",
    "        print('안녕하세요. A 입니다.')\n",
    "        \n",
    "class B(A):\n",
    "    def greeting(self):\n",
    "        print('안녕하세요. B 입니다.')\n",
    "        \n",
    "class C(A):\n",
    "    def greeting(self):\n",
    "        print('안녕하세요. C 입니다.')\n",
    "        \n",
    "class D(B, C):\n",
    "    pass"
   ]
  },
  {
   "cell_type": "code",
   "execution_count": 20,
   "metadata": {
    "ExecuteTime": {
     "end_time": "2021-02-04T02:41:09.321361Z",
     "start_time": "2021-02-04T02:41:09.306087Z"
    }
   },
   "outputs": [
    {
     "name": "stdout",
     "output_type": "stream",
     "text": [
      "안녕하세요. B 입니다.\n"
     ]
    }
   ],
   "source": [
    "x = D()\n",
    "x.greeting()"
   ]
  },
  {
   "cell_type": "markdown",
   "metadata": {},
   "source": [
    "- 결과를 보면, B의 greeting()이 호출됨을 알 수 있다. 그렇다면 왜 이러한 결과가 나온 것일까?"
   ]
  },
  {
   "cell_type": "markdown",
   "metadata": {},
   "source": [
    "### 메서드 탐색 순서 확인하기\n",
    "- 프로그래밍에서는 위와 같이 명확하지 않고 애매한 상태를 좋아하지 않는다.\n",
    "- 그리고 프로그램이 어떨 때는 A의 메서드를 호출하고, 또 어떨 때는 B 또는 C의 메서드를 호출한다면 큰 문제가 생긴다.\n",
    "- 많은 프로그래밍 언어들이 다이아몬드 상속에 대한 해결책을 제시하고 있는데, 파이썬에서는 **메서드 탐색 순서(Method Resolution Order, MRO)**를 따른다.\n",
    "    - 파이썬에서 메서드 탐색 순서를 확인하는 방법은 아래와 같다.\n",
    "``` python\n",
    "클래스.mro()\n",
    "```"
   ]
  },
  {
   "cell_type": "markdown",
   "metadata": {},
   "source": [
    "- ```mro()```를 활용하여 앞서 구현한 코드의 메서드 탐색 순서를 확인해보면 다음과 같다.\n",
    "    - MRO에 따르면 D의 메서드 호출 순서는 자기 자신 D, 그 다음이 B이다.\n",
    "    - 따라서 D로 인스턴스를 만들고 greeting을 호출하면 B의 greeting이 호출된다. (D는 greeting 메서드가 없으므로!)"
   ]
  },
  {
   "cell_type": "code",
   "execution_count": 21,
   "metadata": {
    "ExecuteTime": {
     "end_time": "2021-02-04T02:41:10.006762Z",
     "start_time": "2021-02-04T02:41:09.996640Z"
    }
   },
   "outputs": [
    {
     "data": {
      "text/plain": [
       "[__main__.D, __main__.B, __main__.C, __main__.A, object]"
      ]
     },
     "execution_count": 21,
     "metadata": {},
     "output_type": "execute_result"
    }
   ],
   "source": [
    "D.mro()"
   ]
  },
  {
   "cell_type": "markdown",
   "metadata": {},
   "source": [
    "<참고>\n",
    "- 위에서 본 예시와 같이 파이썬에서 다중 상속을 한다면 class D(B, C):의 클래스 목록 중, **왼쪽에서 오른쪽 순서로** 메서드를 찾기 때문에 같은 메서드가 있다면 B가 우선된다.\n",
    "- 만약 상속 관계가 복잡하게 얽혀 있다면 MRO를 살펴보는 것이 편리하다."
   ]
  },
  {
   "cell_type": "markdown",
   "metadata": {},
   "source": [
    "<참고>\n",
    "- 파이썬에서 **object**는 모든 클래스의 조상이다.\n",
    "``` python\n",
    "int.mro()\n",
    "# 출력 결과: [<class 'int'>, <class 'object'>]\n",
    "```\n",
    "- 즉, 파이썬 3에서 모든 클래스는 object 클래스를 상속 받으므로 기본적으로 object를 생략한다.\n",
    "``` python\n",
    "# 아래의 두 클래스는 동일함\n",
    "class X:\n",
    "    pass\n",
    "class X(object):\n",
    "    pass\n",
    "```\n",
    "- 파이썬 2에서는 class X:가 old-style 클래스를 만들고 class X(object):가 new-style 클래스를 만들었기 때문에, 파이썬 2에서는 이 둘을 구분해서 사용해야 했다.\n",
    "- 그러나 파이썬 3에서는 old-style 클래스가 삭제되었고 class X:와 class X(object): 모두 new-style 클래스를 만든다.\n",
    "    - 따라서 파이썬 3에서는 괄호 안에 object를 넣어도 되고 넣지 않아도 된다."
   ]
  },
  {
   "cell_type": "markdown",
   "metadata": {},
   "source": [
    "# 추상 클래스(Abstract Class)\n",
    "- 추상 클래스는 **메서드의 목록만 가진 클래스**이며, **상속받는 클래스에서 메서드 구현을 강제하기 위해 사용**한다.\n",
    "    - 즉, 추상 클래스는 **파생 클래스가 반드시 구현해야 하는 메서드를 정해줄 수 있다.**\n",
    "- 먼저 추상 클래스를 만들려면 **abc 모듈**을 가져와야 한다. (abc는 abstract base class의 약자)\n",
    "- 그리고 클래스의 ( )(괄호) 안에 **metaclass = ABCMeta**를 지정하고, 메서드를 만들 때 위에 ```@abstractmethod```를 붙여서 추상 메서드로 지정한다.\n",
    "``` python\n",
    "# 만약 import abc로 모듈을 가져왔다면, abc.ABCMeta, @abc.abstractmethod로 사용해야 함\n",
    "from abc import *\n",
    "class 추상클래스이름(metaclass = ABCMeta):\n",
    "    @abstractmethod\n",
    "    def 메서드이름(self):\n",
    "        코드\n",
    "```"
   ]
  },
  {
   "cell_type": "markdown",
   "metadata": {},
   "source": [
    "## 추상 클래스 사용하기\n",
    "- 아래의 예시 코드에서는 추상 클래스 StudentBase에서는 추상 메서드로 study와 go_to_school을 정의했다.\n",
    "- 하지만 StudentBase를 상속받은 Student에서는 study 메서드만 구현하고, **go_to_school 메서드는 구현하지 않았으므로 에러가 발생**한다."
   ]
  },
  {
   "cell_type": "code",
   "execution_count": 22,
   "metadata": {
    "ExecuteTime": {
     "end_time": "2021-02-04T02:41:10.983106Z",
     "start_time": "2021-02-04T02:41:10.970894Z"
    }
   },
   "outputs": [],
   "source": [
    "from abc import *\n",
    "\n",
    "class StudentBase(metaclass = ABCMeta):\n",
    "    @abstractmethod\n",
    "    def study(self):\n",
    "        pass # 추상 메서드는 호출할 일이 없으므로 빈 메서드로 만듦\n",
    "    \n",
    "    @abstractmethod\n",
    "    def go_to_school(self):\n",
    "        pass # 추상 메서드는 호출할 일이 없으므로 빈 메서드로 만듦\n",
    "    \n",
    "class Student(StudentBase):\n",
    "    def study(self):\n",
    "        print('공부하기')"
   ]
  },
  {
   "cell_type": "code",
   "execution_count": 23,
   "metadata": {
    "ExecuteTime": {
     "end_time": "2021-02-04T02:41:11.183046Z",
     "start_time": "2021-02-04T02:41:11.161824Z"
    }
   },
   "outputs": [
    {
     "ename": "TypeError",
     "evalue": "Can't instantiate abstract class Student with abstract methods go_to_school",
     "output_type": "error",
     "traceback": [
      "\u001b[1;31m---------------------------------------------------------------------------\u001b[0m",
      "\u001b[1;31mTypeError\u001b[0m                                 Traceback (most recent call last)",
      "\u001b[1;32m<ipython-input-23-5f2e5861623e>\u001b[0m in \u001b[0;36m<module>\u001b[1;34m\u001b[0m\n\u001b[1;32m----> 1\u001b[1;33m \u001b[0mjames\u001b[0m \u001b[1;33m=\u001b[0m \u001b[0mStudent\u001b[0m\u001b[1;33m(\u001b[0m\u001b[1;33m)\u001b[0m\u001b[1;33m\u001b[0m\u001b[1;33m\u001b[0m\u001b[0m\n\u001b[0m\u001b[0;32m      2\u001b[0m \u001b[0mjames\u001b[0m\u001b[1;33m.\u001b[0m\u001b[0mstudy\u001b[0m\u001b[1;33m(\u001b[0m\u001b[1;33m)\u001b[0m\u001b[1;33m\u001b[0m\u001b[1;33m\u001b[0m\u001b[0m\n",
      "\u001b[1;31mTypeError\u001b[0m: Can't instantiate abstract class Student with abstract methods go_to_school"
     ]
    }
   ],
   "source": [
    "james = Student()\n",
    "james.study()"
   ]
  },
  {
   "cell_type": "markdown",
   "metadata": {},
   "source": [
    "- 따라서 추상 클래스를 상속 받았다면, 다음과 같이 **@abstractmethod가 붙은 추상 메서드를 모두 구현**해야 한다."
   ]
  },
  {
   "cell_type": "code",
   "execution_count": 24,
   "metadata": {
    "ExecuteTime": {
     "end_time": "2021-02-04T02:41:11.749337Z",
     "start_time": "2021-02-04T02:41:11.742164Z"
    }
   },
   "outputs": [],
   "source": [
    "from abc import *\n",
    "\n",
    "class StudentBase(metaclass = ABCMeta):\n",
    "    @abstractmethod\n",
    "    def study(self):\n",
    "        pass # 추상 메서드는 호출할 일이 없으므로 빈 메서드로 만듦\n",
    "    \n",
    "    @abstractmethod\n",
    "    def go_to_school(self):\n",
    "        pass # 추상 메서드는 호출할 일이 없으므로 빈 메서드로 만듦\n",
    "    \n",
    "class Student(StudentBase):\n",
    "    def study(self):\n",
    "        print('공부하기')\n",
    "    \n",
    "    def go_to_school(self):\n",
    "        print('학교가기')"
   ]
  },
  {
   "cell_type": "code",
   "execution_count": 25,
   "metadata": {
    "ExecuteTime": {
     "end_time": "2021-02-04T02:41:12.054591Z",
     "start_time": "2021-02-04T02:41:12.038296Z"
    }
   },
   "outputs": [
    {
     "name": "stdout",
     "output_type": "stream",
     "text": [
      "공부하기\n",
      "학교가기\n"
     ]
    }
   ],
   "source": [
    "james = Student()\n",
    "james.study()\n",
    "james.go_to_school()"
   ]
  },
  {
   "cell_type": "markdown",
   "metadata": {},
   "source": [
    "## 추상 메서드를 빈 메서드로 만드는 이유\n",
    "- **추상 클래스는 인스턴스로 만들 수가 없다.**\n",
    "``` python\n",
    "james = StudentBase()\n",
    "```\n",
    "``` python\n",
    "# 실행 결과\n",
    "Traceback (most recent call last):\n",
    "  File \"<pyshell#3>\", line 1, in <module>\n",
    "    james = StudentBase()\n",
    "TypeError: Can't instantiate abstract class StudentBase with abstract methods go_to_school, study\n",
    "```\n",
    "- 그래서 지금까지 추상 메서드를 만들 때 **pass**만 넣어서 빈 메서드로 만든 것이다.\n",
    "    - 왜냐하면 추상 클래스는 인스턴스를 만들 수 없으니, 추상 메서드도 호출할 일이 없기 때문이다.\n",
    "``` python\n",
    "@abstractmethod\n",
    "def study(self):\n",
    "        pass    # 추상 메서드는 호출할 일이 없으므로 빈 메서드로 만듦\n",
    "@abstractmethod\n",
    "def go_to_school(self):\n",
    "        pass    # 추상 메서드는 호출할 일이 없으므로 빈 메서드로 만듦\n",
    "```"
   ]
  },
  {
   "cell_type": "markdown",
   "metadata": {},
   "source": [
    "<요약 정리>\n",
    "- 정리하면 **추상 클래스**는 인스턴스로 만들 때는 사용하지 않으며 **오로지 상속에만 사용**한다.\n",
    "- 그리고 **파생 클래스에서 반드시 구현해야 할 메서드를 정해 줄 때 사용**한다."
   ]
  },
  {
   "cell_type": "markdown",
   "metadata": {},
   "source": [
    "# 연습문제"
   ]
  },
  {
   "cell_type": "markdown",
   "metadata": {},
   "source": [
    "## 연습문제 1: 리스트에 기능 추가하기\n",
    "- 다음 소스 코드에서 리스트(list)에 replace 메서드를 추가한 AdvancedList 클래스를 작성하세요.\n",
    "- AdvancedList는 list를 상속받아서 만들고, replace 메서드는 리스트에서 특정 값으로 된 요소를 찾아서 다른 값으로 바꾸도록 만드세요.\n",
    "``` python\n",
    "class AdvancedLsit:\n",
    "    코드\n",
    "x = AdvancedList([1, 2, 3, 1, 2, 3, 1, 2, 3])\n",
    "x.replace(1, 100)\n",
    "print(x)\n",
    "```\n",
    "``` python\n",
    "# 실행 결과\n",
    "[100, 2, 3, 100, 2, 3, 100, 2, 3]\n",
    "```"
   ]
  },
  {
   "cell_type": "code",
   "execution_count": 26,
   "metadata": {
    "ExecuteTime": {
     "end_time": "2021-02-04T02:41:13.926522Z",
     "start_time": "2021-02-04T02:41:13.916499Z"
    }
   },
   "outputs": [],
   "source": [
    "class AdvancedList(list):\n",
    "    def replace(self, old, new):\n",
    "        # 클래스의 메서드 안에서 현재 객체를 조작하려면 self를 이용해야 함\n",
    "        # 여기서는 AdvancedList가 list를 상속 받았으므로, self로 리스트의 모든 메서드를 사용할 수 있음\n",
    "        while old in self: # while로 반복하면서 self에 특정 요소가 있을 때 계속 반복하도록 만든 뒤 요소를 바꿔주기\n",
    "            self[self.index(old)] = new"
   ]
  },
  {
   "cell_type": "code",
   "execution_count": 27,
   "metadata": {
    "ExecuteTime": {
     "end_time": "2021-02-04T02:41:14.202837Z",
     "start_time": "2021-02-04T02:41:14.187668Z"
    }
   },
   "outputs": [
    {
     "name": "stdout",
     "output_type": "stream",
     "text": [
      "[100, 2, 3, 100, 2, 3, 100, 2, 3]\n"
     ]
    }
   ],
   "source": [
    "x = AdvancedList([1, 2, 3, 1, 2, 3, 1, 2, 3])\n",
    "x.replace(1, 100)\n",
    "print(x)"
   ]
  },
  {
   "cell_type": "markdown",
   "metadata": {},
   "source": [
    "## 연습문제 2: 다중 상속 사용하기\n",
    "- 다음 소스 코드에서 동물 클래스 Animal과 날개 클래스 Wing을 상속받아 새 클래스 Bird를 작성하여 '먹다', '파닥거리다', '날다', True, True가 각 줄에 출력되게 만드세요.\n",
    "``` python\n",
    "class Animal:\n",
    "    def eat(self):\n",
    "        print('먹다')\n",
    "class Wing:\n",
    "    def flap(self):\n",
    "        print('파닥거리다')\n",
    "class Bird:\n",
    "    코드\n",
    "b = Bird()\n",
    "b.eat()\n",
    "b.flap()\n",
    "b.fly()\n",
    "print(issubclass(Bird, Animal))\n",
    "print(issubclass(Bird, Wing))\n",
    "```\n",
    "``` python\n",
    "# 실행 결과\n",
    "'먹다', '파닥거리다', '날다', True, True\n",
    "```"
   ]
  },
  {
   "cell_type": "code",
   "execution_count": 28,
   "metadata": {
    "ExecuteTime": {
     "end_time": "2021-02-04T02:41:14.918538Z",
     "start_time": "2021-02-04T02:41:14.907333Z"
    }
   },
   "outputs": [],
   "source": [
    "class Animal:\n",
    "    def eat(self):\n",
    "        print('먹다')\n",
    "\n",
    "class Wing:\n",
    "    def flap(self):\n",
    "        print('파닥거리다')\n",
    "\n",
    "class Bird(Animal, Wing):\n",
    "    def fly(self):\n",
    "        print('날다')"
   ]
  },
  {
   "cell_type": "code",
   "execution_count": 29,
   "metadata": {
    "ExecuteTime": {
     "end_time": "2021-02-04T02:41:15.240865Z",
     "start_time": "2021-02-04T02:41:15.234785Z"
    }
   },
   "outputs": [
    {
     "name": "stdout",
     "output_type": "stream",
     "text": [
      "먹다\n",
      "파닥거리다\n",
      "날다\n",
      "True\n",
      "True\n"
     ]
    }
   ],
   "source": [
    "b = Bird()\n",
    "b.eat()\n",
    "b.flap()\n",
    "b.fly()\n",
    "print(issubclass(Bird, Animal))\n",
    "print(issubclass(Bird, Wing))"
   ]
  }
 ],
 "metadata": {
  "hide_input": false,
  "kernelspec": {
   "display_name": "Python 3",
   "language": "python",
   "name": "python3"
  },
  "language_info": {
   "codemirror_mode": {
    "name": "ipython",
    "version": 3
   },
   "file_extension": ".py",
   "mimetype": "text/x-python",
   "name": "python",
   "nbconvert_exporter": "python",
   "pygments_lexer": "ipython3",
   "version": "3.8.3"
  },
  "toc": {
   "base_numbering": 1,
   "nav_menu": {},
   "number_sections": true,
   "sideBar": true,
   "skip_h1_title": false,
   "title_cell": "Table of Contents",
   "title_sidebar": "Contents",
   "toc_cell": false,
   "toc_position": {},
   "toc_section_display": true,
   "toc_window_display": false
  },
  "varInspector": {
   "cols": {
    "lenName": 16,
    "lenType": 16,
    "lenVar": 40
   },
   "kernels_config": {
    "python": {
     "delete_cmd_postfix": "",
     "delete_cmd_prefix": "del ",
     "library": "var_list.py",
     "varRefreshCmd": "print(var_dic_list())"
    },
    "r": {
     "delete_cmd_postfix": ") ",
     "delete_cmd_prefix": "rm(",
     "library": "var_list.r",
     "varRefreshCmd": "cat(var_dic_list()) "
    }
   },
   "types_to_exclude": [
    "module",
    "function",
    "builtin_function_or_method",
    "instance",
    "_Feature"
   ],
   "window_display": false
  }
 },
 "nbformat": 4,
 "nbformat_minor": 4
}
