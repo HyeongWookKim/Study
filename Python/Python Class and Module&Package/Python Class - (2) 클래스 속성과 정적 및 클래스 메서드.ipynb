{
 "cells": [
  {
   "cell_type": "markdown",
   "metadata": {},
   "source": [
    "# 클래스 속성과 인스턴스 속성"
   ]
  },
  {
   "cell_type": "markdown",
   "metadata": {},
   "source": [
    "## 클래스 속성 사용하기\n",
    "- 속성에는 **클래스 속성**과 **인스턴스 속성** 두 가지 종류가 있다.\n",
    "- ```__init__``` 메서드에서 만들었던 속성은 **인스턴스 속성**이다.\n",
    "- 클래스 속성은 다음과 같이 클래스에 바로 속성을 만듭니다.\n",
    "``` python\n",
    "class 클래스이름:\n",
    "    속성 = 값\n",
    "```"
   ]
  },
  {
   "cell_type": "markdown",
   "metadata": {},
   "source": [
    "- **클래스 속성**은 클래스에 속해 있으며 **모든 인스턴스에서 공유한다**는 점을 주의해야 한다."
   ]
  },
  {
   "cell_type": "code",
   "execution_count": 1,
   "metadata": {
    "ExecuteTime": {
     "end_time": "2021-02-02T08:55:52.091376Z",
     "start_time": "2021-02-02T08:55:52.079915Z"
    }
   },
   "outputs": [],
   "source": [
    "class Person:\n",
    "    bag = [] # 클래스 속성은 모든 인스턴스에서 공유함\n",
    "    \n",
    "    def put_bag(self, stuff):\n",
    "        self.bag.append(stuff)"
   ]
  },
  {
   "cell_type": "code",
   "execution_count": 2,
   "metadata": {
    "ExecuteTime": {
     "end_time": "2021-02-02T08:55:52.612623Z",
     "start_time": "2021-02-02T08:55:52.607540Z"
    }
   },
   "outputs": [
    {
     "name": "stdout",
     "output_type": "stream",
     "text": [
      "['책', '열쇠']\n",
      "['책', '열쇠']\n"
     ]
    }
   ],
   "source": [
    "james = Person()\n",
    "james.put_bag('책')\n",
    "\n",
    "maria = Person()\n",
    "maria.put_bag('열쇠')\n",
    "\n",
    "print(james.bag)\n",
    "print(maria.bag)"
   ]
  },
  {
   "cell_type": "markdown",
   "metadata": {},
   "source": [
    "- 사실 self는 현재 인스턴스를 뜻하므로, 위의 예시처럼 클래스 속성을 지칭하기에는 조금 모호하다.\n",
    "- 때문에 클래스 속성에 접근할 때는 다음과 같이 클래스 이름으로 접근하면 좀 더 코드가 명확해진다."
   ]
  },
  {
   "cell_type": "code",
   "execution_count": 3,
   "metadata": {
    "ExecuteTime": {
     "end_time": "2021-02-02T08:55:53.512473Z",
     "start_time": "2021-02-02T08:55:53.502338Z"
    }
   },
   "outputs": [],
   "source": [
    "class Person:\n",
    "    bag = [] # 클래스 속성은 모든 인스턴스에서 공유함\n",
    "    \n",
    "    def put_bag(self, stuff):\n",
    "        Person.bag.append(stuff) # 클래스 이름으로 클래스 속성에 접근"
   ]
  },
  {
   "cell_type": "code",
   "execution_count": 4,
   "metadata": {
    "ExecuteTime": {
     "end_time": "2021-02-02T08:55:53.988384Z",
     "start_time": "2021-02-02T08:55:53.979788Z"
    }
   },
   "outputs": [
    {
     "name": "stdout",
     "output_type": "stream",
     "text": [
      "[]\n"
     ]
    }
   ],
   "source": [
    "print(Person.bag)"
   ]
  },
  {
   "cell_type": "markdown",
   "metadata": {},
   "source": [
    "<참고>\n",
    "- 파이썬에서는 속성, 메서드 이름을 찾을 때 **\"인스턴스 >> 클래스\" 순**으로 찾는다.\n",
    "    - 즉, 인스턴스 속성이 없으면 클래스 속성을 찾게 된다."
   ]
  },
  {
   "cell_type": "markdown",
   "metadata": {},
   "source": [
    "## 인스턴스 속성 사용하기\n",
    "- **인스턴스 속성**은 **인스턴스별로 독립**되어 있으며 **서로 영향을 주지 않는다.**"
   ]
  },
  {
   "cell_type": "code",
   "execution_count": 5,
   "metadata": {
    "ExecuteTime": {
     "end_time": "2021-02-02T08:55:55.337225Z",
     "start_time": "2021-02-02T08:55:55.327692Z"
    }
   },
   "outputs": [],
   "source": [
    "class Person:\n",
    "    def __init__(self):\n",
    "        self.bag = []\n",
    "        \n",
    "    def put_bag(self, stuff):\n",
    "        self.bag.append(stuff)"
   ]
  },
  {
   "cell_type": "code",
   "execution_count": 6,
   "metadata": {
    "ExecuteTime": {
     "end_time": "2021-02-02T08:55:55.781348Z",
     "start_time": "2021-02-02T08:55:55.772988Z"
    }
   },
   "outputs": [
    {
     "name": "stdout",
     "output_type": "stream",
     "text": [
      "['책']\n",
      "['열쇠']\n"
     ]
    }
   ],
   "source": [
    "james = Person()\n",
    "james.put_bag('책')\n",
    "\n",
    "maria = Person()\n",
    "maria.put_bag('열쇠')\n",
    "\n",
    "print(james.bag)\n",
    "print(maria.bag)"
   ]
  },
  {
   "cell_type": "markdown",
   "metadata": {},
   "source": [
    "<요약 정리>\n",
    "- 클래스 속성과 인스턴스 속성의 차이점을 정리해보면 다음과 같다.\n",
    "    - **클래스 속성**\n",
    "        - **모든 인스턴스가 공유**함\n",
    "        - 인스턴스 전체가 사용해야 하는 값을 저장할 때 사용함\n",
    "    - **인스턴스 속성**\n",
    "        - **인스턴스별로 독립**되어 있음\n",
    "        - 각 인스턴스가 값을 따로 저장해야 할 때 사용함"
   ]
  },
  {
   "cell_type": "markdown",
   "metadata": {},
   "source": [
    "## 비공개 클래스 속성 사용하기\n",
    "- 클래스 속성도 비공개 속성을 만들 수 있다.\n",
    "- 클래스 속성을 만들 때, ```__속성```과 같이 **__(밑줄 두 개)로 시작**하면 비공개 속성이 된다.\n",
    "- 비공개 클래스 속성도 마찬가지로 클래스 안에서만 접근할 수 있고, 클래스 바깥에서는 접근할 수 없다.\n",
    "``` python\n",
    "class 클래스이름:\n",
    "    __속성 = 값     # 비공개 클래스 속성\n",
    "```"
   ]
  },
  {
   "cell_type": "code",
   "execution_count": 7,
   "metadata": {
    "ExecuteTime": {
     "end_time": "2021-02-02T08:55:57.144852Z",
     "start_time": "2021-02-02T08:55:57.134766Z"
    }
   },
   "outputs": [],
   "source": [
    "class Knight:\n",
    "    __item_limit = 10 # 비공개 클래스 속성\n",
    "    \n",
    "    def print_item_limit(self):\n",
    "        print(Knight.__item_limit) # 비공개 클래스 속성은 클래스 안에서만 접근할 수 있음"
   ]
  },
  {
   "cell_type": "code",
   "execution_count": 8,
   "metadata": {
    "ExecuteTime": {
     "end_time": "2021-02-02T08:55:57.908019Z",
     "start_time": "2021-02-02T08:55:57.893719Z"
    }
   },
   "outputs": [
    {
     "name": "stdout",
     "output_type": "stream",
     "text": [
      "10\n"
     ]
    }
   ],
   "source": [
    "x = Knight()\n",
    "x.print_item_limit()"
   ]
  },
  {
   "cell_type": "code",
   "execution_count": 9,
   "metadata": {
    "ExecuteTime": {
     "end_time": "2021-02-02T08:55:58.660745Z",
     "start_time": "2021-02-02T08:55:58.421750Z"
    }
   },
   "outputs": [
    {
     "ename": "AttributeError",
     "evalue": "type object 'Knight' has no attribute '__item_limit'",
     "output_type": "error",
     "traceback": [
      "\u001b[1;31m---------------------------------------------------------------------------\u001b[0m",
      "\u001b[1;31mAttributeError\u001b[0m                            Traceback (most recent call last)",
      "\u001b[1;32m<ipython-input-9-f5366f9f2826>\u001b[0m in \u001b[0;36m<module>\u001b[1;34m\u001b[0m\n\u001b[1;32m----> 1\u001b[1;33m \u001b[0mprint\u001b[0m\u001b[1;33m(\u001b[0m\u001b[0mKnight\u001b[0m\u001b[1;33m.\u001b[0m\u001b[0m__item_limit\u001b[0m\u001b[1;33m)\u001b[0m \u001b[1;31m# 비공개 클래스 속성은 클래스 바깥에서는 접근할 수 없음\u001b[0m\u001b[1;33m\u001b[0m\u001b[1;33m\u001b[0m\u001b[0m\n\u001b[0m",
      "\u001b[1;31mAttributeError\u001b[0m: type object 'Knight' has no attribute '__item_limit'"
     ]
    }
   ],
   "source": [
    "print(Knight.__item_limit) # 비공개 클래스 속성은 클래스 바깥에서는 접근할 수 없음"
   ]
  },
  {
   "cell_type": "markdown",
   "metadata": {},
   "source": [
    "## 클래스와 메서드의 독스트링 사용하기\n",
    "- 함수와 마찬가지로 클래스와 메서드도 독스트링을 사용할 수 있다.\n",
    "- 클래스와 메서드를 만들 때, :(콜론) 바로 다음 줄에 ```\"\"\" \"\"\"(큰 따옴표 세 개)``` 또는 ```''' '''(작은 따옴표 세 개)```로 문자열을 입력하면 된다.\n",
    "    - **클래스의 독스트링**\n",
    "        - ```클래스.__doc__``` 형식으로 사용한다. \n",
    "    - **메서드의 독스트링**\n",
    "        - ```클래스.메서드.__doc__``` 또는 ```인스턴스.메서드.__doc__``` 형식으로 사용한다."
   ]
  },
  {
   "cell_type": "code",
   "execution_count": 10,
   "metadata": {
    "ExecuteTime": {
     "end_time": "2021-02-02T08:55:59.836901Z",
     "start_time": "2021-02-02T08:55:59.821659Z"
    }
   },
   "outputs": [],
   "source": [
    "class Person:\n",
    "    '''사람 클래스입니다.'''\n",
    "    \n",
    "    def greeting(self):\n",
    "        '''인사 메서드입니다.'''\n",
    "        print('Hello!')"
   ]
  },
  {
   "cell_type": "code",
   "execution_count": 11,
   "metadata": {
    "ExecuteTime": {
     "end_time": "2021-02-02T08:56:00.373353Z",
     "start_time": "2021-02-02T08:56:00.367300Z"
    }
   },
   "outputs": [
    {
     "name": "stdout",
     "output_type": "stream",
     "text": [
      "사람 클래스입니다.\n",
      "인사 메서드입니다.\n",
      "인사 메서드입니다.\n"
     ]
    }
   ],
   "source": [
    "# 1. 클래스의 독스트링\n",
    "print(Person.__doc__)\n",
    "\n",
    "# 2. 메서드의 독스트링\n",
    "# 방법 1\n",
    "print(Person.greeting.__doc__)\n",
    "# 방법 2\n",
    "maria = Person()\n",
    "print(maria.greeting.__doc__)"
   ]
  },
  {
   "cell_type": "markdown",
   "metadata": {},
   "source": [
    "# 정적 메서드와 클래스 메서드\n",
    "- 지금까지 클래스의 메서드를 사용할 때 인스턴스를 통해서 호출했다.\n",
    "- 이번에는 인스턴스를 통하지 않고, **클래스에서 바로 호출**할 수 있는 **정적 메서드**와 **클래스 메서드**에 대해 알아보겠다."
   ]
  },
  {
   "cell_type": "markdown",
   "metadata": {},
   "source": [
    "## 정적 메서드 사용하기\n",
    "- 정적 메서드는 다음과 같이 메서드 위에 ```@staticmethod```를 붙인다.\n",
    "    - 이때 정적 메서드는 **매개변수에 self를 지정하지 않는다.**\n",
    "``` python\n",
    "class 클래스이름:\n",
    "        @staticmethod\n",
    "        def 메서드(매개변수1, 매개변수2):\n",
    "            코드\n",
    "```\n",
    "- 정적 메서드는 self를 받지 않으므로 인스턴스 속성에는 접근할 수 없다.\n",
    "    - 그래서 보통 정적 메서드는 인스턴스 속성, 인스턴스 메서드가 필요 없을 때 사용한다.\n",
    "- 정적 메서드는 메서드의 실행이 외부 상태에 영향을 끼치지 않는 순수 함수(pure function)를 만들 때 사용한다.\n",
    "    - 순수 함수는 부수 효과(side effect)가 없고, 입력 값이 같으면 언제나 같은 출력 값을 반환한다.\n",
    "    - 즉, 정적 메서드는 인스턴스의 상태를 변화시키지 않는 메서드를 만들 때 사용한다.\n",
    "\n",
    "<참고>\n",
    "- ```@```이 붙은 것을 **데코레이터**라고 하며, **메서드(함수)에 추가 기능을 구현할 때 사용**한다."
   ]
  },
  {
   "cell_type": "code",
   "execution_count": 12,
   "metadata": {
    "ExecuteTime": {
     "end_time": "2021-02-02T08:56:01.949109Z",
     "start_time": "2021-02-02T08:56:01.932503Z"
    }
   },
   "outputs": [],
   "source": [
    "class Calc:\n",
    "    @staticmethod\n",
    "    def add(a, b):\n",
    "        print(a + b)\n",
    "        \n",
    "    @staticmethod\n",
    "    def mul(a, b):\n",
    "        print(a * b)"
   ]
  },
  {
   "cell_type": "markdown",
   "metadata": {},
   "source": [
    "- 정적 메서드를 호출할 때는 다음과 같이 **클래스에서 바로 메서드를 호출**하면 된다.\n",
    "    - 즉, ```클래스.메서드()``` 형식으로 호출하면 된다."
   ]
  },
  {
   "cell_type": "code",
   "execution_count": 13,
   "metadata": {
    "ExecuteTime": {
     "end_time": "2021-02-02T08:56:02.946978Z",
     "start_time": "2021-02-02T08:56:02.942859Z"
    }
   },
   "outputs": [
    {
     "name": "stdout",
     "output_type": "stream",
     "text": [
      "30\n",
      "200\n"
     ]
    }
   ],
   "source": [
    "Calc.add(10, 20)\n",
    "Calc.mul(10, 20)"
   ]
  },
  {
   "cell_type": "markdown",
   "metadata": {},
   "source": [
    "## 클래스 메서드 사용하기\n",
    "- 클래스 메서드는 다음과 같이 메서드 위에 ```@classmethod```를 붙인다.\n",
    "- 이 때 클래스 메서드는 첫 번째 매개변수에 ```cls```를 지정해야 합니다\n",
    "    - cls는 class에서 따온 것이다.\n",
    "``` python\n",
    "class 클래스이름:\n",
    "        @classmethod\n",
    "        def 메서드(cls, 매개변수1, 매개변수2):\n",
    "            코드\n",
    "```\n",
    "- 클래스 메서드는 정적 메서드처럼 인스턴스 없이 호출할 수 있다는 점은 같다.\n",
    "- 하지만 클래스 메서드는 메서드 안에서 클래스 속성, 클래스 메서드에 접근해야 할 때 사용한다."
   ]
  },
  {
   "cell_type": "code",
   "execution_count": 14,
   "metadata": {
    "ExecuteTime": {
     "end_time": "2021-02-02T08:56:03.991937Z",
     "start_time": "2021-02-02T08:56:03.975059Z"
    }
   },
   "outputs": [],
   "source": [
    "class Person:\n",
    "    count = 0 # 클래스 속성\n",
    "    \n",
    "    def __init__(self):\n",
    "        # 인스턴스가 만들어질 때, 클래스 속성 count에 1을 더함\n",
    "        Person.count += 1\n",
    "        \n",
    "    @classmethod\n",
    "    def print_count(cls): # 클래스 메서드의 첫 번째 매개변수는 cls로 지정\n",
    "        print('{}명 생성되었습니다.'.format(cls.count)) # cls로 클래스 속성에 접근"
   ]
  },
  {
   "cell_type": "code",
   "execution_count": 15,
   "metadata": {
    "ExecuteTime": {
     "end_time": "2021-02-02T08:56:04.532205Z",
     "start_time": "2021-02-02T08:56:04.515695Z"
    }
   },
   "outputs": [
    {
     "name": "stdout",
     "output_type": "stream",
     "text": [
      "2명 생성되었습니다.\n"
     ]
    }
   ],
   "source": [
    "james = Person()\n",
    "maria = Person()\n",
    "\n",
    "Person.print_count()"
   ]
  },
  {
   "cell_type": "markdown",
   "metadata": {},
   "source": [
    "<참고>\n",
    "- 아래의 예시와 같이, cls를 사용하면 메서드 안에서 현재 클래스의 인스턴스를 만들 수도 있다.\n",
    "    - 즉, cls는 클래스이므로 cls()는 Person()과 같다.\n",
    "``` python\n",
    " @classmethod\n",
    "    def create(cls):\n",
    "        p = cls()      # cls()로 인스턴스 생성\n",
    "        return p\n",
    "```"
   ]
  },
  {
   "cell_type": "markdown",
   "metadata": {},
   "source": [
    "# 연습문제"
   ]
  },
  {
   "cell_type": "markdown",
   "metadata": {},
   "source": [
    "## 연습문제 1\n",
    "- 다음 소스 코드에서 Date 클래스를 완성하세요.\n",
    "- ```is_date_valid```는 문자열이 올바른 날짜인지 검사하는 메서드입니다.\n",
    "- 날짜에서 월(month)은 12월까지, 일(day)은 31일까지 있어야 합니다.\n",
    "``` python\n",
    "class Date:\n",
    "    코드\n",
    "if Date.is_date_valid('2000-10-31'):\n",
    "    print('올바른 날짜 형식입니다.')\n",
    "else:\n",
    "    print('잘못된 날짜 형식입니다.')\n",
    "```\n",
    "``` python\n",
    "# 실행 결과\n",
    "올바른 날짜 형식입니다.\n",
    "```"
   ]
  },
  {
   "cell_type": "code",
   "execution_count": 16,
   "metadata": {
    "ExecuteTime": {
     "end_time": "2021-02-02T08:56:06.515236Z",
     "start_time": "2021-02-02T08:56:06.502958Z"
    }
   },
   "outputs": [],
   "source": [
    "class Date:\n",
    "    @staticmethod\n",
    "    def is_date_valid(date_string):\n",
    "        year, month, day = map(int, date_string.split('-'))\n",
    "        return month <= 12 and day <= 31"
   ]
  },
  {
   "cell_type": "code",
   "execution_count": 17,
   "metadata": {
    "ExecuteTime": {
     "end_time": "2021-02-02T08:56:07.707603Z",
     "start_time": "2021-02-02T08:56:07.695481Z"
    }
   },
   "outputs": [
    {
     "name": "stdout",
     "output_type": "stream",
     "text": [
      "올바른 날짜 형식입니다.\n"
     ]
    }
   ],
   "source": [
    "if Date.is_date_valid('2000-10-31'):\n",
    "    print('올바른 날짜 형식입니다.')\n",
    "else:\n",
    "    print('잘못된 날짜 형식입니다.')"
   ]
  }
 ],
 "metadata": {
  "hide_input": false,
  "kernelspec": {
   "display_name": "Python 3",
   "language": "python",
   "name": "python3"
  },
  "language_info": {
   "codemirror_mode": {
    "name": "ipython",
    "version": 3
   },
   "file_extension": ".py",
   "mimetype": "text/x-python",
   "name": "python",
   "nbconvert_exporter": "python",
   "pygments_lexer": "ipython3",
   "version": "3.8.3"
  },
  "toc": {
   "base_numbering": 1,
   "nav_menu": {},
   "number_sections": true,
   "sideBar": true,
   "skip_h1_title": false,
   "title_cell": "Table of Contents",
   "title_sidebar": "Contents",
   "toc_cell": false,
   "toc_position": {},
   "toc_section_display": true,
   "toc_window_display": false
  },
  "varInspector": {
   "cols": {
    "lenName": 16,
    "lenType": 16,
    "lenVar": 40
   },
   "kernels_config": {
    "python": {
     "delete_cmd_postfix": "",
     "delete_cmd_prefix": "del ",
     "library": "var_list.py",
     "varRefreshCmd": "print(var_dic_list())"
    },
    "r": {
     "delete_cmd_postfix": ") ",
     "delete_cmd_prefix": "rm(",
     "library": "var_list.r",
     "varRefreshCmd": "cat(var_dic_list()) "
    }
   },
   "types_to_exclude": [
    "module",
    "function",
    "builtin_function_or_method",
    "instance",
    "_Feature"
   ],
   "window_display": false
  }
 },
 "nbformat": 4,
 "nbformat_minor": 4
}
