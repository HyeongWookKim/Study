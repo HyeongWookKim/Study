{
 "cells": [
  {
   "cell_type": "code",
   "execution_count": 2,
   "metadata": {},
   "outputs": [
    {
     "name": "stdout",
     "output_type": "stream",
     "text": [
      "2\n",
      "3\n",
      "-1\n"
     ]
    }
   ],
   "source": [
    "# Quiz 7. 주어진 리스트에 특정한 값이 있는지 찾아, 그 위치를 돌려주는 알고리즘 만들기\n",
    "# 리스트에 찾는 값이 없다면 -1을 돌려준다\n",
    "def search_list(a, x):\n",
    "    n = len(a)\n",
    "    for i in range(0, n):\n",
    "        if x == a[i]:\n",
    "            return i\n",
    "    return -1\n",
    "\n",
    "v = [17, 92, 18, 33, 58, 7, 33, 42]\n",
    "print(search_list(v, 18))\n",
    "print(search_list(v, 33))\n",
    "print(search_list(v, 900))"
   ]
  },
  {
   "cell_type": "code",
   "execution_count": 6,
   "metadata": {},
   "outputs": [
    {
     "name": "stdout",
     "output_type": "stream",
     "text": [
      "[2]\n",
      "[3, 6]\n",
      "[]\n"
     ]
    }
   ],
   "source": [
    "# 연습문제 7-1\n",
    "def search_list2(a, x):\n",
    "    n = len(a)\n",
    "    result = []\n",
    "    for i in range(0, n):\n",
    "        if x == a[i]:\n",
    "            result.append(i)\n",
    "    return result\n",
    "\n",
    "v = [17, 92, 18, 33, 58, 7, 33, 42]\n",
    "print(search_list2(v, 18))\n",
    "print(search_list2(v, 33))\n",
    "print(search_list2(v, 900))\n",
    "\n",
    "# 연습문제 7-2\n",
    "# 답: 연습문제 7-1의 계산 복잡도는 O(n)이다"
   ]
  },
  {
   "cell_type": "code",
   "execution_count": 7,
   "metadata": {},
   "outputs": [
    {
     "name": "stdout",
     "output_type": "stream",
     "text": [
      "Justin\n",
      "Summer\n",
      "?\n"
     ]
    }
   ],
   "source": [
    "# 연습문제 7-3\n",
    "# 학생 번호에 해당하는 학생 이름 찾기\n",
    "# 학생 번호 리스트: s_no\n",
    "# 학생 이름 리스트: s_name\n",
    "# 찾는 학생 번호: find_no\n",
    "def get_name(s_no, s_name, find_no):\n",
    "    n = len(s_no)\n",
    "    for i in range(0, n):\n",
    "        if find_no == s_no[i]:  # 학생 번호가 찾는 학생 번호과 같으면\n",
    "            return s_name[i]\n",
    "    return \"?\"\n",
    "\n",
    "stu_no = [39, 14, 67, 105]\n",
    "stu_name = [\"Justin\", \"John\", \"Mike\", \"Summer\"]\n",
    "print(get_name(stu_no, stu_name, 39))\n",
    "print(get_name(stu_no, stu_name, 105))\n",
    "print(get_name(stu_no, stu_name, 200))"
   ]
  },
  {
   "cell_type": "code",
   "execution_count": 8,
   "metadata": {},
   "outputs": [
    {
     "name": "stdout",
     "output_type": "stream",
     "text": [
      "[1, 2, 3, 4, 5]\n"
     ]
    }
   ],
   "source": [
    "# Quiz 8. 주어진 리스트 안의 자료를 작은 수부터 큰 수 순서로 배열하는 정렬 알고리즘 만들기 (선택 정렬)\n",
    "\n",
    "# 8-1. 쉽게 설명한 선택 정렬 알고리즘\n",
    "def find_min_idx(a):\n",
    "    n = len(a)\n",
    "    min_idx = 0\n",
    "    for i in range(1, n):\n",
    "        if a[i] < a[min_idx]:\n",
    "            min_idx = i\n",
    "    return min_idx\n",
    "\n",
    "def sel_sort(a):\n",
    "    result = []\n",
    "    while a: # 주어진 리스트에 값이 남아 있는 동안 계속 실행\n",
    "        min_idx = find_min_idx(a)  # 리스트에 남아 있는 값 중, 최솟값의 위치\n",
    "        value = a.pop(min_idx)     # 찾은 최솟값을 빼내어 value에 저장\n",
    "        result.append(value)       # value를 결과 리스트 끝에 추가\n",
    "    return result\n",
    "\n",
    "d = [2, 4, 5, 1, 3]\n",
    "print(sel_sort(d))"
   ]
  },
  {
   "cell_type": "code",
   "execution_count": 12,
   "metadata": {},
   "outputs": [
    {
     "name": "stdout",
     "output_type": "stream",
     "text": [
      "[1, 4, 5, 2, 3]\n",
      "[1, 2, 5, 4, 3]\n",
      "[1, 2, 3, 4, 5]\n",
      "[1, 2, 3, 4, 5]\n",
      "[1, 2, 3, 4, 5]\n"
     ]
    }
   ],
   "source": [
    "# 8-2. 일반적인 선택 정렬 알고리즘\n",
    "def selection_sort(a):\n",
    "    n = len(a)\n",
    "    for i in range(0, n - 1):  # 0부터 n-2까지 반복\n",
    "        # i번 위치부터 끝까지 자료 값 중, 최솟값의 위치를 찾음\n",
    "        min_idx = i\n",
    "        for j in range(i + 1, n):\n",
    "            if a[j] < a[min_idx]: # 오름차순 정렬\n",
    "                min_idx = j\n",
    "        # 찾은 최솟값을 i번 위치로\n",
    "        a[i], a[min_idx] = a[min_idx], a[i]\n",
    "        print(a) # 정렬 과정 출력하기\n",
    "\n",
    "d = [2, 4, 5, 1, 3]\n",
    "selection_sort(d)\n",
    "print(d)"
   ]
  },
  {
   "cell_type": "code",
   "execution_count": 15,
   "metadata": {},
   "outputs": [
    {
     "name": "stdout",
     "output_type": "stream",
     "text": [
      "[5, 4, 2, 1, 3]\n",
      "[5, 4, 2, 1, 3]\n",
      "[5, 4, 3, 1, 2]\n",
      "[5, 4, 3, 2, 1]\n",
      "[5, 4, 3, 2, 1]\n"
     ]
    }
   ],
   "source": [
    "# 연습문제 8-2\n",
    "def selection_sort(a):\n",
    "    n = len(a)\n",
    "    for i in range(0, n - 1):  # 0부터 n-2까지 반복\n",
    "        # i번 위치부터 끝까지 자료 값 중, 최댓값의 위치를 찾음\n",
    "        max_idx = i\n",
    "        for j in range(i + 1, n):\n",
    "            if a[j] > a[max_idx]: # 내림차순 정렬\n",
    "                max_idx = j\n",
    "        # 찾은 최댓값을 i번 위치로\n",
    "        a[i], a[max_idx] = a[max_idx], a[i]\n",
    "        print(a) # 정렬 과정 출력하기\n",
    "\n",
    "d = [2, 4, 5, 1, 3]\n",
    "selection_sort(d)\n",
    "print(d)"
   ]
  },
  {
   "cell_type": "code",
   "execution_count": 21,
   "metadata": {},
   "outputs": [
    {
     "name": "stdout",
     "output_type": "stream",
     "text": [
      "[4, 5, 1, 3] []\n",
      "[5, 1, 3] [2]\n",
      "[1, 3] [2, 4]\n",
      "[3] [2, 4, 5]\n",
      "[] [1, 2, 4, 5]\n",
      "[1, 2, 3, 4, 5]\n"
     ]
    }
   ],
   "source": [
    "# Quiz 9. 리스트 안의 자료를 작은 수부터 큰 수 순서로 배열하는 정렬 알고리즘 만들기 (삽입 정렬)\n",
    "\n",
    "# 9-1. 쉽게 설명한 삽입 정렬 알고리즘\n",
    "def find_ins_idx(r, v):  # 리스트 r에서 v가 들어가야 할 위치를 돌려주는 함수\n",
    "    n = len(r)\n",
    "    # 이미 정렬된 리스트 r의 자료를 앞에서부터 차례로 확인하여\n",
    "    for i in range(0, n):\n",
    "        # v 값보다 i번 위치에 있는 자료 값이 크면\n",
    "        # v가 그 값 바로 앞에 놓여야 정렬 순서가 유지됨\n",
    "        if v < r[i]:\n",
    "            return i\n",
    "    # 적절한 위치를 못 찾았을 때는\n",
    "    # v가 r의 모든 자료보다 크다는 뜻이므로 맨 뒤에 삽입\n",
    "    return n\n",
    "\n",
    "def ins_sort(a):\n",
    "    result = []\n",
    "    while a:   # 기존 리스트에 값이 남아 있는 동안 반복\n",
    "        value = a.pop(0) # 기존 리스트에서 맨 앞의 값 한 개를 뽑아냄\n",
    "        ins_idx = find_ins_idx(result, value) # 꺼낸 값이 들어갈 적당한 위치 찾기\n",
    "        print(a, result) # 정렬 과정 출력하기\n",
    "        result.insert(ins_idx, value) # 찾은 위치에 값 삽입(이후 값은 한 칸씩 밀려남)\n",
    "    return result\n",
    "\n",
    "d = [2, 4, 5, 1, 3]\n",
    "print(ins_sort(d))"
   ]
  },
  {
   "cell_type": "code",
   "execution_count": 29,
   "metadata": {},
   "outputs": [
    {
     "name": "stdout",
     "output_type": "stream",
     "text": [
      "[1, 2, 3, 4, 5]\n"
     ]
    }
   ],
   "source": [
    "# 9-2. 일반적인 삽입 정렬 알고리즘\n",
    "def ins_sort(a):\n",
    "    n = len(a)\n",
    "    for i in range(1, n):  # 1부터 n-1까지 반복\n",
    "        # i번 위치에 있는 값을 key에 저장\n",
    "        key = a[i]\n",
    "        # j를 i 바로 왼쪽 위치로 저장\n",
    "        j = i - 1\n",
    "        # 리스트의 j번 위치에 있는 값과 key를 비교해 key가 삽입될 적절한 위치를 찾음\n",
    "        while j >= 0 and a[j] > key: # 오름차순 정렬\n",
    "            a[j + 1] = a[j]  # 삽입할 공간이 생기도록 값을 오른쪽으로 한 칸 이동\n",
    "            j -= 1\n",
    "        a[j + 1] = key  # 찾은 삽입 위치에 key를 저장\n",
    "        \n",
    "d = [2, 4, 5, 1, 3]\n",
    "ins_sort(d)\n",
    "print(d)"
   ]
  },
  {
   "cell_type": "code",
   "execution_count": 31,
   "metadata": {},
   "outputs": [
    {
     "name": "stdout",
     "output_type": "stream",
     "text": [
      "[5, 4, 3, 2, 1]\n"
     ]
    }
   ],
   "source": [
    "# 연습문제 9-2\n",
    "def insert_sort(a):\n",
    "    n = len(a)\n",
    "    for i in range(1, n):  # 1부터 n-1까지 반복\n",
    "        # i번 위치에 있는 값을 key에 저장\n",
    "        key = a[i]\n",
    "        # j를 i 바로 왼쪽 위치로 저장\n",
    "        j = i - 1\n",
    "        # 리스트의 j번 위치에 있는 값과 key를 비교해 key가 삽입될 적절한 위치를 찾음\n",
    "        while j >= 0 and a[j] < key: # 내림차순 정렬\n",
    "            a[j + 1] = a[j]  # 삽입할 공간이 생기도록 값을 오른쪽으로 한 칸 이동\n",
    "            j -= 1\n",
    "        a[j + 1] = key  # 찾은 삽입 위치에 key를 저장\n",
    "        \n",
    "d = [2, 4, 5, 1, 3]\n",
    "insert_sort(d)\n",
    "print(d)"
   ]
  },
  {
   "cell_type": "code",
   "execution_count": 1,
   "metadata": {},
   "outputs": [
    {
     "name": "stdout",
     "output_type": "stream",
     "text": [
      "[1, 2, 3, 4, 5, 6, 7, 8, 9, 10]\n"
     ]
    }
   ],
   "source": [
    "# Quiz 10. 리스트 안의 자료를 작은 수부터 큰 수 순서로 배열하는 정렬 알고리즘 만들기 (병합 정렬)\n",
    "\n",
    "# 10-1. 쉽게 설명한 병합 정렬 알고리즘\n",
    "def merge_sort(a):\n",
    "    n = len(a)\n",
    "    # 종료 조건: 정렬할 리스트의 자료 개수가 한 개 이하이면 정렬할 필요 없음\n",
    "    if n <= 1: return a\n",
    "    \n",
    "    # 중간을 기준으로 두 그룹으로 나눔\n",
    "    mid = n // 2\n",
    "    g1 = merge_sort(a[:mid])  # 재귀 호출로 첫 번째 그룹을 정렬\n",
    "    g2 = merge_sort(a[mid:])  # 재귀 호출로 두 번째 그룹을 정렬\n",
    "    \n",
    "    # 두 그룹을 하나로 병합\n",
    "    result = []        # 두 그룹을 합쳐 만들 최종 결과\n",
    "    while g1 and g2:  # 두 그룹에 모두 자료가 남아 있는 동안 반복\n",
    "        if g1[0] < g2[0]:\n",
    "            result.append(g1.pop(0))  # g1 값이 더 작으면 그 값을 빼내어 결과로 추가\n",
    "        else:\n",
    "            result.append(g2.pop(0))  # g2 값이 더 작으면 그 값을 빼내어 결과로 추가\n",
    "    \n",
    "    # 아직 남아 있는 자료들을 결과에 추가\n",
    "    # g1과 g2 중, 이미 빈 것은 while을 바로 지나감\n",
    "    while g1:\n",
    "        result.append(g1.pop(0))\n",
    "    while g2:\n",
    "        result.append(g2.pop(0))\n",
    "        \n",
    "    return result\n",
    "\n",
    "d = [6, 8, 3, 9, 10, 1, 2, 4, 7, 5]\n",
    "print(merge_sort(d))"
   ]
  },
  {
   "cell_type": "code",
   "execution_count": 4,
   "metadata": {},
   "outputs": [
    {
     "name": "stdout",
     "output_type": "stream",
     "text": [
      "[1, 2, 3, 4, 5, 6, 7, 8, 9, 10]\n"
     ]
    }
   ],
   "source": [
    "# 10-2. 일반적인 병합 정렬 알고리즘\n",
    "def merge_sort2(a):\n",
    "    n = len(a)\n",
    "    # 종료 조건: 정렬할 리스트의 자료 개수가 한 개 이하이면 정렬할 필요 없음\n",
    "    if n <= 1: return a\n",
    "    \n",
    "    # 그룹을 나누어 각각 병합 정렬을 호출하는 과정\n",
    "    mid = n // 2\n",
    "    g1 = a[:mid]\n",
    "    g2 = a[mid:]\n",
    "    merge_sort2(g1)  # 재귀 호출로 첫 번째 그룹을 정렬\n",
    "    merge_sort2(g2)  # 재귀 호출로 두 번째 그룹을 정렬\n",
    "    \n",
    "    # 두 그룹을 하나로 병합\n",
    "    i1 = 0\n",
    "    i2 = 0\n",
    "    ia = 0\n",
    "    while i1 < len(g1) and i2 < len(g2):  # 두 그룹(g1, g2)에 모두 자료가 남아 있는 동안 반복\n",
    "        if g1[i1] < g2[i2]:  # 오름차순 정렬\n",
    "            a[ia] = g1[i1]\n",
    "            i1 += 1\n",
    "            ia += 1\n",
    "        else:\n",
    "            a[ia] = g2[i2]\n",
    "            i2 += 1\n",
    "            ia += 1\n",
    "    \n",
    "    # 아직 남아 있는 자료들을 결과에 추가\n",
    "    while i1 < len(g1):  # g1 그룹에 자료가 남아 있는 동안 반복\n",
    "        a[ia] = g1[i1]\n",
    "        i1 += 1\n",
    "        ia += 1\n",
    "    while i2 < len(g2):  # g2 그룹에 자료가 남아 있는 동안 반복\n",
    "        a[ia] = g2[i2]\n",
    "        i2 += 1\n",
    "        ia += 1\n",
    "        \n",
    "d = [6, 8, 3, 9, 10, 1, 2, 4, 7, 5]\n",
    "merge_sort2(d)\n",
    "print(d)"
   ]
  },
  {
   "cell_type": "code",
   "execution_count": 5,
   "metadata": {},
   "outputs": [
    {
     "name": "stdout",
     "output_type": "stream",
     "text": [
      "[10, 9, 8, 7, 6, 5, 4, 3, 2, 1]\n"
     ]
    }
   ],
   "source": [
    "# 연습문제 10-1\n",
    "def merge_sort3(a):\n",
    "    n = len(a)\n",
    "    # 종료 조건: 정렬할 리스트의 자료 개수가 한 개 이하이면 정렬할 필요 없음\n",
    "    if n <= 1: return a\n",
    "    \n",
    "    # 그룹을 나누어 각각 병합 정렬을 호출하는 과정\n",
    "    mid = n // 2\n",
    "    g1 = a[:mid]\n",
    "    g2 = a[mid:]\n",
    "    merge_sort3(g1)  # 재귀 호출로 첫 번째 그룹을 정렬\n",
    "    merge_sort3(g2)  # 재귀 호출로 두 번째 그룹을 정렬\n",
    "    \n",
    "    # 두 그룹을 하나로 병합\n",
    "    i1 = 0\n",
    "    i2 = 0\n",
    "    ia = 0\n",
    "    while i1 < len(g1) and i2 < len(g2):  # 두 그룹(g1, g2)에 모두 자료가 남아 있는 동안 반복\n",
    "        if g1[i1] > g2[i2]:  # 내림차순 정렬\n",
    "            a[ia] = g1[i1]\n",
    "            i1 += 1\n",
    "            ia += 1\n",
    "        else:\n",
    "            a[ia] = g2[i2]\n",
    "            i2 += 1\n",
    "            ia += 1\n",
    "    \n",
    "    # 아직 남아 있는 자료들을 결과에 추가\n",
    "    while i1 < len(g1):  # g1 그룹에 자료가 남아 있는 동안 반복\n",
    "        a[ia] = g1[i1]\n",
    "        i1 += 1\n",
    "        ia += 1\n",
    "    while i2 < len(g2):  # g2 그룹에 자료가 남아 있는 동안 반복\n",
    "        a[ia] = g2[i2]\n",
    "        i2 += 1\n",
    "        ia += 1\n",
    "        \n",
    "d = [6, 8, 3, 9, 10, 1, 2, 4, 7, 5]\n",
    "merge_sort3(d)\n",
    "print(d)"
   ]
  },
  {
   "cell_type": "code",
   "execution_count": 6,
   "metadata": {},
   "outputs": [
    {
     "name": "stdout",
     "output_type": "stream",
     "text": [
      "[1, 2, 3, 4, 5, 6, 7, 8, 9, 10]\n"
     ]
    }
   ],
   "source": [
    "# Quiz 11. 리스트 안의 자료를 작은 수부터 큰 수 순서로 배열하는 정렬 알고리즘 만들기 (퀵 정렬)\n",
    "\n",
    "# 11-1. 쉽게 설명한 퀵 정렬 알고리즘\n",
    "def quick_sort(a):\n",
    "    n = len(a)\n",
    "    # 종료 조건: 정렬할 리스트의 자료 개수가 한 개 이하이면 정렬할 필요 없음\n",
    "    if n <= 1: return a\n",
    "    \n",
    "    # 기준 값을 정하고, 그 기준 값에 맞춰 그룹을 나누는 과정\n",
    "    pivot = a[-1]  # 편의상 리스트의 마지막 값을 기준 값으로 정함\n",
    "    g1 = []        # g1: 기준 값보다 작은 값을 담을 리스트\n",
    "    g2 = []        # g2: 기준 값보다 큰 값을 담을 리스트\n",
    "    for i in range(0, n - 1):  # 0부터 n-2까지 반복인 이유는 마지막 값은 기준 값이므로 제외하기 때문!\n",
    "        if a[i] < pivot:       # 기준 값과 비교\n",
    "            g1.append(a[i])    # 기준 값보다 작으면 g1에 추가\n",
    "        else: \n",
    "            g2.append(a[i])    # 기준 값보다 크면 g2에 추가\n",
    "    \n",
    "    # 각 그룹에 대해 재귀 호출로 퀵 정렬을 한 후\n",
    "    # 기준 값과 합쳐 하나의 리스트로 결과값 변환\n",
    "    return quick_sort(g1) + [pivot] + quick_sort(g2)\n",
    "\n",
    "d = [6, 8, 3, 9, 10, 1, 2, 4, 7, 5]\n",
    "print(quick_sort(d))"
   ]
  },
  {
   "cell_type": "code",
   "execution_count": 7,
   "metadata": {},
   "outputs": [
    {
     "name": "stdout",
     "output_type": "stream",
     "text": [
      "[1, 2, 3, 4, 5, 6, 7, 8, 9, 10]\n"
     ]
    }
   ],
   "source": [
    "# 11-2. 일반적인 퀵 정렬 알고리즘\n",
    "# 리스트 a에서 어디부터(start) 어디까지(end)가 정렬 대상인지\n",
    "# 범위를 지정하여 정렬하는 재귀 호출 함수\n",
    "def quick_sort_sub(a, start, end):\n",
    "    # 종료 조건: 정렬 대상이 한 개 이하이면 정렬할 필요가 없음\n",
    "    if end - start <= 0:\n",
    "        return\n",
    "    \n",
    "    # 기준 값을 정하고, 그 기준 값에 맞춰 리스트 안에서 각 자료의 위치를 맞춤\n",
    "    # --> [기준 값보다 작은 값들, 기준 값, 기준 값보다 큰 값들] 이런 식으로..!\n",
    "    pivot = a[end]  # 편의상 리스트의 마지막 값을 기준 값으로 정함\n",
    "    i = start\n",
    "    for j in range(start, end):\n",
    "        if a[j] <= pivot:\n",
    "            a[i], a[j] = a[j], a[i]\n",
    "            i += 1\n",
    "    a[i], a[end] = a[end], a[i]\n",
    "    \n",
    "    # 재귀 호출 부분\n",
    "    quick_sort_sub(a, start, i - 1)  # 기준 값보다 작은 그룹을 재귀 호출로 다시 정렬\n",
    "    quick_sort_sub(a, i + 1, end)    # 기준 값보다 큰 그룹을 재귀 호출로 다시 정렬\n",
    "    \n",
    "# 리스트 전체(0 ~ len(a)-1)를 대상으로 재귀 호출 함수 호출\n",
    "def quick_sort2(a):\n",
    "    quick_sort_sub(a, 0, len(a) - 1)\n",
    "    \n",
    "d = [6, 8, 3, 9, 10, 1, 2, 4, 7, 5]\n",
    "quick_sort2(d)\n",
    "print(d)"
   ]
  },
  {
   "cell_type": "code",
   "execution_count": 14,
   "metadata": {},
   "outputs": [
    {
     "name": "stdout",
     "output_type": "stream",
     "text": [
      "[2, 4, 5, 1, 3]\n",
      "[2, 4, 1, 5, 3]\n",
      "[2, 4, 1, 3, 5]\n",
      "[2, 1, 4, 3, 5]\n",
      "[2, 1, 3, 4, 5]\n",
      "[1, 2, 3, 4, 5]\n"
     ]
    }
   ],
   "source": [
    "# 연습문제 11-1 (버블 정렬)\n",
    "# 최선의 경우 계산 복잡도는 O(n)이지만\n",
    "# 이미 정렬된 리스트가 아닌 일반적인 입력에 대한 버블 정렬의 계산 복잡도는 O(n^2)\n",
    "def bubble_sort(a):\n",
    "    n = len(a)\n",
    "    while True:          # 정렬이 완료될 때까지 계속 수행\n",
    "        changed = False  # 자료를 앞뒤로 바꾸었는지 여부\n",
    "        \n",
    "        # 자료를 훑어보면서 뒤집힌 자료가 있으면 바꾸고 바뀌었다고 표시\n",
    "        for i in range(0, n - 1):\n",
    "            if a[i] > a[i + 1]:  # 앞이 뒤보다 크면\n",
    "                print(a)  # 정렬 과정 출력(참고용)\n",
    "                a[i], a[i + 1] = a[i + 1], a[i]\n",
    "                changed = True  # 자료가 앞뒤로 바뀌었음을 기록\n",
    "                \n",
    "        # 자료를 한 번 훑어보는 동안 바뀐 적이 없다면 정렬이 완성된 것이므로 종료\n",
    "        # 바뀐 적이 있으면 다시 앞에서부터 비교를 반복\n",
    "        if changed == False:\n",
    "            return\n",
    "\n",
    "d = [2, 4, 5, 1, 3]\n",
    "bubble_sort(d)\n",
    "print(d)"
   ]
  },
  {
   "cell_type": "code",
   "execution_count": 18,
   "metadata": {},
   "outputs": [
    {
     "name": "stdout",
     "output_type": "stream",
     "text": [
      "5\n",
      "-1\n"
     ]
    }
   ],
   "source": [
    "# Quiz 12. 자료가 크기 순서대로 정렬된 리스트에서 특정한 값이 있는지 찾아 그 위치를 돌려주는 알고리즘 만들기 (이분 탐색 = 이진 탐색)\n",
    "# 리스트에 찾는 값이 없으면 -1을 돌려준다\n",
    "# a: 리스트, x: 찾는 값\n",
    "def binary_search(a, x):\n",
    "    n = len(a)\n",
    "    # 탐색할 범위를 저장하는 변수 start, end\n",
    "    # 리스트 전체를 범위로 탐색 시작(0 ~ (n - 1))\n",
    "    start = 0\n",
    "    end = n - 1\n",
    "    \n",
    "    while start <= end:  # 탐색할 범위가 남아 있는 동안 반복\n",
    "        mid = (start + end) // 2  # 탐색 범위의 중간 위치\n",
    "        if x == a[mid]:  # 발견!\n",
    "            return mid\n",
    "        elif x > a[mid]:\n",
    "            start = mid + 1  # 찾는 값이 더 크면, 오른쪽으로 범위를 좁혀 계속 탐색\n",
    "        else:\n",
    "            end = mid - 1  # 찾는 값이 더 작으면, 왼쪽으로 범위를 좁혀 계속 탐색\n",
    "            \n",
    "    return -1  # 찾지 못했을 때는 '-1'을 반환\n",
    "\n",
    "d = [1, 4, 9, 16, 25, 36, 49, 64, 81]\n",
    "print(binary_search(d, 36))\n",
    "print(binary_search(d, 50))"
   ]
  },
  {
   "cell_type": "code",
   "execution_count": 20,
   "metadata": {},
   "outputs": [
    {
     "name": "stdout",
     "output_type": "stream",
     "text": [
      "5\n",
      "-1\n"
     ]
    }
   ],
   "source": [
    "# 연습문제 12-1 (재귀 호출을 사용한 이분 탐색 알고리즘)\n",
    "\n",
    "# 리스트 a의 어디부터(start) 어디까지(end)가 탐색 범위인지 지정하여\n",
    "# 그 범위 안에서 x를 찾는 재귀 함수\n",
    "def binary_search_sub(a, x, start, end):\n",
    "    # 종료 조건: 남은 탐색 범위가 비었으면 종료\n",
    "    if start > end: return -1\n",
    "    \n",
    "    # 탐색 범위의 중간 위치\n",
    "    mid = (start + end) // 2\n",
    "    if x == a[mid]:   # 발견!\n",
    "        return mid\n",
    "    elif x > a[mid]:  # 찾는 값이 더 크면, 중간을 기준으로 오른쪽 값을 대상으로 재귀 호출\n",
    "        return binary_search_sub(a, x, mid + 1, end)\n",
    "    else:             # 찾는 값이 더 작으면, 중간을 기준으로 왼쪽 값을 대상으로 재귀 호출\n",
    "        return binary_search_sub(a, x, start, mid -1)\n",
    "    \n",
    "    return -1         # 찾지 못했을 때는 '-1'을 반환\n",
    "\n",
    "# 리스트 전체(0 ~ len(a)-1)를 대상으로 재귀 호출 함수 호출\n",
    "def binary_search2(a, x):\n",
    "    n = len(a)\n",
    "    return binary_search_sub(a, x, 0, n - 1)\n",
    "\n",
    "d = [1, 4, 9, 16, 25, 36, 49, 64, 81]\n",
    "print(binary_search2(d, 36))\n",
    "print(binary_search2(d, 50))"
   ]
  }
 ],
 "metadata": {
  "kernelspec": {
   "display_name": "Python 3",
   "language": "python",
   "name": "python3"
  },
  "language_info": {
   "codemirror_mode": {
    "name": "ipython",
    "version": 3
   },
   "file_extension": ".py",
   "mimetype": "text/x-python",
   "name": "python",
   "nbconvert_exporter": "python",
   "pygments_lexer": "ipython3",
   "version": "3.6.10"
  }
 },
 "nbformat": 4,
 "nbformat_minor": 4
}
