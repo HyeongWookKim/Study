{
 "cells": [
  {
   "cell_type": "code",
   "execution_count": 6,
   "metadata": {},
   "outputs": [
    {
     "name": "stdout",
     "output_type": "stream",
     "text": [
      "5\n",
      "3\n",
      "5.0\n",
      "3.0\n"
     ]
    }
   ],
   "source": [
    "# Intro: 몸풀기 문제\n",
    "# 절댓값 구하기 알고리즘\n",
    "\n",
    "# 방법 1\n",
    "def abs_sign(a):\n",
    "    if a >= 0: return a\n",
    "    else: return -a\n",
    "\n",
    "print(abs_sign(5))\n",
    "print(abs_sign(-3))\n",
    "\n",
    "\n",
    "# 방법 2\n",
    "import math\n",
    "\n",
    "def abs_square(a):\n",
    "    b = a * a\n",
    "    return math.sqrt(b)\n",
    "\n",
    "print(abs_square(5))\n",
    "print(abs_square(-3))"
   ]
  },
  {
   "cell_type": "code",
   "execution_count": 13,
   "metadata": {},
   "outputs": [
    {
     "name": "stdout",
     "output_type": "stream",
     "text": [
      "55\n",
      "5050\n",
      "55.0\n",
      "5050.0\n"
     ]
    }
   ],
   "source": [
    "# Quiz 1. 1부터 n까지 연속한 정수의 합을 구하는 알고리즘 만들기\n",
    "\n",
    "# 방법 1\n",
    "def sum_n(n):\n",
    "    s = 0\n",
    "    for i in range(1, n + 1):\n",
    "        s += i\n",
    "    return s\n",
    "\n",
    "print(sum_n(10))\n",
    "print(sum_n(100))\n",
    "\n",
    "\n",
    "# 방법 2\n",
    "def sum_n2(n):\n",
    "    return n * (n + 1) / 2\n",
    "\n",
    "print(sum_n2(10))\n",
    "print(sum_n2(100))"
   ]
  },
  {
   "cell_type": "code",
   "execution_count": 30,
   "metadata": {},
   "outputs": [
    {
     "name": "stdout",
     "output_type": "stream",
     "text": [
      "385\n",
      "385.0\n"
     ]
    }
   ],
   "source": [
    "# 연습문제 1-1\n",
    "def ex1_1(n):\n",
    "    s = 0\n",
    "    for i in range(1, n + 1):\n",
    "        s += i ** 2\n",
    "    return s\n",
    "\n",
    "print(ex1_1(10))\n",
    "\n",
    "\n",
    "# 연습문제 1-2\n",
    "# 정답: 연습문제 1-1의 계산 복잡도(시간 복잡도)는 \"O(n)\"이다\n",
    "\n",
    "\n",
    "# 연습문제 1-3\n",
    "# 연습문제 1-3의 계산 복잡도는(시간 복잡도)는 \"O(1)\"이다\n",
    "def ex1_3(n):\n",
    "    return n * (n + 1) * (2 * n + 1) / 6\n",
    "\n",
    "print(ex1_3(10))"
   ]
  },
  {
   "cell_type": "code",
   "execution_count": 24,
   "metadata": {},
   "outputs": [
    {
     "name": "stdout",
     "output_type": "stream",
     "text": [
      "92\n",
      "1\n"
     ]
    }
   ],
   "source": [
    "# Quiz 2-1. 주어진 숫자 n개 중, 가장 큰 숫자를 찾는 알고리즘을 만들기\n",
    "def find_max(a):\n",
    "    n = len(a)\n",
    "    max_v = a[0]              # 리스트의 첫 번째 값을 최댓값으로 기억\n",
    "    for i in range(1, n):    # 1부터 n-1까지 반복\n",
    "        if a[i] > max_v:     # 이번 값이 현재까지 기억된 최댓값보다 크면\n",
    "            max_v = a[i]     # 최댓값을 변경\n",
    "    return max_v\n",
    "\n",
    "v = [17, 92, 18, 33, 58, 7, 33, 42]\n",
    "print(find_max(v))\n",
    "\n",
    "\n",
    "# Quiz 2-2. 리스트에 숫자가 n개 있을 때, 가장 큰 값이 있는 위치 번호를 돌려주는 알고리즘 만들기\n",
    "def find_max_idx(a):\n",
    "    n = len(a)\n",
    "    max_idx = 0                # 리스트 중, 0번 위치를 최댓값 위치로 기억\n",
    "    for i in range(1, n):     \n",
    "        if a[i] > a[max_idx]:  # 이번 값이 현재까지 기억된 최댓값보다 크면\n",
    "            max_idx = i        # 최댓값의 위치를 변경\n",
    "    return max_idx\n",
    "\n",
    "v = [17, 92, 18, 33, 58, 7, 33, 42]\n",
    "print(find_max_idx(v))"
   ]
  },
  {
   "cell_type": "code",
   "execution_count": 25,
   "metadata": {},
   "outputs": [
    {
     "name": "stdout",
     "output_type": "stream",
     "text": [
      "7\n"
     ]
    }
   ],
   "source": [
    "# 연습문제 2-1\n",
    "def find_min(a):\n",
    "    n = len(a)\n",
    "    min_v = a[0]\n",
    "    for i in range(1, n):\n",
    "        if a[i] < min_v:\n",
    "            min_v = a[i]\n",
    "    return min_v\n",
    "\n",
    "v = [17, 92, 18, 33, 58, 7, 33, 42]\n",
    "print(find_min(v))"
   ]
  },
  {
   "cell_type": "code",
   "execution_count": 37,
   "metadata": {},
   "outputs": [
    {
     "name": "stdout",
     "output_type": "stream",
     "text": [
      "{'Tom'}\n",
      "\n",
      "{'Tom', 'Mike'}\n"
     ]
    }
   ],
   "source": [
    "# Quiz 3. n명의 사람 이름 중에서 같은 이름을 찾아 집합으로 만들어 돌려주는 알고리즘 만들기\n",
    "def find_same_name(a):\n",
    "    n = len(a)\n",
    "    result = set()\n",
    "    for i in range(0, n - 1):       # 리스트의 마지막 값에 해당하는 a[n-1]은 이미 앞에서 다른 자료와 한 번씩 다 비교했으므로 제외\n",
    "        for j in range(i + 1, n):   # 비교 기준으로 정해진 i번째 위치에 1을 더한 위치의 값부터 끝까지 비교\n",
    "            if a[i] == a[j]:        # 비교 기준인 i번째 위치의 값과 j번째 위치의 값이 동일하면(즉, 이름이 같으면)\n",
    "                result.add(a[i])    # 찾은 이름을 result에 추가\n",
    "    return result\n",
    "\n",
    "name = [\"Tom\", \"Jerry\", \"Mike\", \"Tom\"]\n",
    "print(find_same_name(name))\n",
    "print()\n",
    "name2= [\"Tom\", \"Jerry\", \"Mike\", \"Tom\", \"Mike\"]\n",
    "print(find_same_name(name2))"
   ]
  },
  {
   "cell_type": "code",
   "execution_count": 38,
   "metadata": {},
   "outputs": [
    {
     "name": "stdout",
     "output_type": "stream",
     "text": [
      "Tom - Jerry\n",
      "Tom - Mike\n",
      "Jerry - Mike\n",
      "\n",
      "Tom - Jerry\n",
      "Tom - Mike\n",
      "Tom - John\n",
      "Jerry - Mike\n",
      "Jerry - John\n",
      "Mike - John\n"
     ]
    }
   ],
   "source": [
    "# 연습문제 3-1\n",
    "# Quiz 3에서 비교 부분을 출력 문장으로 고치면 쉽게 풀 수 있다\n",
    "def print_pairs(a):\n",
    "    n = len(a)\n",
    "    for i in range(0, n - 1):\n",
    "        for j in range(i + 1, n):\n",
    "            print(a[i], \"-\", a[j])\n",
    "    \n",
    "name = [\"Tom\", \"Jerry\", \"Mike\"]\n",
    "print_pairs(name)\n",
    "print()\n",
    "name2 = [\"Tom\", \"Jerry\", \"Mike\", \"John\"]\n",
    "print_pairs(name2)"
   ]
  }
 ],
 "metadata": {
  "kernelspec": {
   "display_name": "Python 3",
   "language": "python",
   "name": "python3"
  },
  "language_info": {
   "codemirror_mode": {
    "name": "ipython",
    "version": 3
   },
   "file_extension": ".py",
   "mimetype": "text/x-python",
   "name": "python",
   "nbconvert_exporter": "python",
   "pygments_lexer": "ipython3",
   "version": "3.6.10"
  }
 },
 "nbformat": 4,
 "nbformat_minor": 4
}
