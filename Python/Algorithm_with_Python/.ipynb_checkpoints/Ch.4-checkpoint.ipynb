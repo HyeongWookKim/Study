{
 "cells": [
  {
   "cell_type": "code",
   "execution_count": 1,
   "metadata": {},
   "outputs": [
    {
     "name": "stdout",
     "output_type": "stream",
     "text": [
      "큐:  ['o', 'w']\n",
      "스택:  ['w', 'o']\n",
      "--------------------------------------------------------------------------------\n",
      "큐:  ['w']\n",
      "스택:  ['w']\n",
      "--------------------------------------------------------------------------------\n",
      "큐:  []\n",
      "스택:  []\n",
      "--------------------------------------------------------------------------------\n",
      "True\n",
      "큐:  ['a', 'd', 'a', 'm', 'i', 'm', 'a', 'd', 'a', 'm']\n",
      "스택:  ['m', 'a', 'd', 'a', 'm', 'i', 'm', 'a', 'd', 'a']\n",
      "--------------------------------------------------------------------------------\n",
      "큐:  ['d', 'a', 'm', 'i', 'm', 'a', 'd', 'a', 'm']\n",
      "스택:  ['m', 'a', 'd', 'a', 'm', 'i', 'm', 'a', 'd']\n",
      "--------------------------------------------------------------------------------\n",
      "큐:  ['a', 'm', 'i', 'm', 'a', 'd', 'a', 'm']\n",
      "스택:  ['m', 'a', 'd', 'a', 'm', 'i', 'm', 'a']\n",
      "--------------------------------------------------------------------------------\n",
      "큐:  ['m', 'i', 'm', 'a', 'd', 'a', 'm']\n",
      "스택:  ['m', 'a', 'd', 'a', 'm', 'i', 'm']\n",
      "--------------------------------------------------------------------------------\n",
      "큐:  ['i', 'm', 'a', 'd', 'a', 'm']\n",
      "스택:  ['m', 'a', 'd', 'a', 'm', 'i']\n",
      "--------------------------------------------------------------------------------\n",
      "큐:  ['m', 'a', 'd', 'a', 'm']\n",
      "스택:  ['m', 'a', 'd', 'a', 'm']\n",
      "--------------------------------------------------------------------------------\n",
      "큐:  ['a', 'd', 'a', 'm']\n",
      "스택:  ['m', 'a', 'd', 'a']\n",
      "--------------------------------------------------------------------------------\n",
      "큐:  ['d', 'a', 'm']\n",
      "스택:  ['m', 'a', 'd']\n",
      "--------------------------------------------------------------------------------\n",
      "큐:  ['a', 'm']\n",
      "스택:  ['m', 'a']\n",
      "--------------------------------------------------------------------------------\n",
      "큐:  ['m']\n",
      "스택:  ['m']\n",
      "--------------------------------------------------------------------------------\n",
      "큐:  []\n",
      "스택:  []\n",
      "--------------------------------------------------------------------------------\n",
      "True\n",
      "큐:  ['a', 'd', 'a', 'm', 'i', 'a', 'm', 'a', 'd', 'a', 'm']\n",
      "스택:  ['m', 'a', 'd', 'a', 'm', 'i', 'a', 'm', 'a', 'd', 'a']\n",
      "--------------------------------------------------------------------------------\n",
      "큐:  ['d', 'a', 'm', 'i', 'a', 'm', 'a', 'd', 'a', 'm']\n",
      "스택:  ['m', 'a', 'd', 'a', 'm', 'i', 'a', 'm', 'a', 'd']\n",
      "--------------------------------------------------------------------------------\n",
      "큐:  ['a', 'm', 'i', 'a', 'm', 'a', 'd', 'a', 'm']\n",
      "스택:  ['m', 'a', 'd', 'a', 'm', 'i', 'a', 'm', 'a']\n",
      "--------------------------------------------------------------------------------\n",
      "큐:  ['m', 'i', 'a', 'm', 'a', 'd', 'a', 'm']\n",
      "스택:  ['m', 'a', 'd', 'a', 'm', 'i', 'a', 'm']\n",
      "--------------------------------------------------------------------------------\n",
      "큐:  ['i', 'a', 'm', 'a', 'd', 'a', 'm']\n",
      "스택:  ['m', 'a', 'd', 'a', 'm', 'i', 'a']\n",
      "--------------------------------------------------------------------------------\n",
      "False\n"
     ]
    }
   ],
   "source": [
    "# Quiz 13. 문자열이 회문(回文)인지 아닌지 판단하여 회문이면 True, 아니면 False를 결과로 알려주는 알고리즘 만들기 (큐와 스택)\n",
    "def palindrome(s):\n",
    "    # 큐와 스택을 리스트로 정의\n",
    "    qu = []\n",
    "    st = []\n",
    "    \n",
    "    # 1단계: 문자열의 알파벳 문자를 각각 큐와 스택에 넣음\n",
    "    for x in s:\n",
    "        # 해당 문자가 알파벳이면 (공백, 숫자, 특수 문자가 아니면)\n",
    "        # 큐와 스택에 각각 그 문자를 추가\n",
    "        if x.isalpha():\n",
    "            qu.append(x.lower())\n",
    "            st.append(x.lower())\n",
    "\n",
    "    # 2단계: 큐와 스택에 들어 있는 문자를 꺼내면서 비교\n",
    "    while qu:  # 큐에 문자가 남아 있는 동안 반복\n",
    "        if qu.pop(0) != st.pop():  # 큐와 스택에서 꺼낸 문자가 다르면 회문이 아님\n",
    "            return False\n",
    "        print(\"큐: \", qu)\n",
    "        print(\"스택: \", st)\n",
    "        print(\"-\" * 80)\n",
    "    return True\n",
    "\n",
    "print(palindrome(\"Wow\"))\n",
    "print(palindrome(\"Madam, I'm Adam.\"))\n",
    "print(palindrome(\"Madam, I am Adam.\"))\n",
    "\n",
    "\n",
    "# <참고>\n",
    "# isalpha 함수는 문자열이 문자인지 아닌지를 True, False로 리턴\n",
    "# isdigit 함수는 문자열이 숫자인지 아닌지를 True, False로 리턴"
   ]
  },
  {
   "cell_type": "code",
   "execution_count": 2,
   "metadata": {},
   "outputs": [
    {
     "name": "stdout",
     "output_type": "stream",
     "text": [
      "True\n",
      "True\n",
      "False\n"
     ]
    }
   ],
   "source": [
    "# 연습문제 13-1\n",
    "def palindrome2(s):\n",
    "    i = 0            # 문자열의 앞에서 비교할 위치\n",
    "    j = len(s) - 1   # 문자열의 뒤에서 비교할 위치\n",
    "    \n",
    "    while i < j:    # 중간까지만 검사하면 됨\n",
    "        # i 위치에 있는 문자가 알파벳 문자가 아니면 뒤로 이동\n",
    "        if s[i].isalpha() == False:\n",
    "            i += 1\n",
    "        # j 위치에 있는 문자가 알파벳 문자가 아니면 앞으로 이동\n",
    "        elif s[j].isalpha() == False:\n",
    "            j -= 1\n",
    "        # i와 j 위치에 둘 다 알파벳 문자가 있으면 두 문자를 비교하고 다르면 회문이 아님\n",
    "        elif s[i].lower() != s[j].lower():\n",
    "            return False\n",
    "        # i와 j 위치에 두 문자를 비교하고 같으면 다음 비교 대상으로 넘어감\n",
    "        else:\n",
    "            i += 1\n",
    "            j -= 1\n",
    "            \n",
    "    return True\n",
    "\n",
    "print(palindrome2(\"Wow\"))\n",
    "print(palindrome2(\"Madam, I'm Adam.\"))\n",
    "print(palindrome2(\"Madam, I am Adam.\"))"
   ]
  },
  {
   "cell_type": "code",
   "execution_count": 3,
   "metadata": {},
   "outputs": [
    {
     "data": {
      "text/plain": [
       "deque([2])"
      ]
     },
     "execution_count": 3,
     "metadata": {},
     "output_type": "execute_result"
    }
   ],
   "source": [
    "# '큐'는 리스트의 0번 위치에서 자료를 빼내면 0번 위치가 비므로, 남은 자료를 전부 한 칸씩 당겨 주는 처리가 필요\n",
    "# 즉, 비효율적이다!!\n",
    "# 때문에 효율성이 중요한 프로그램이라면, 파이썬의 collections 모듈에 있는 deque를 이용하자\n",
    "from collections import deque\n",
    "\n",
    "qu = deque()\n",
    "qu.append(1)  # 1을 큐에 추가(enqueue)\n",
    "qu.append(2)  # 2를 큐에 추가(enqueue)\n",
    "qu.popleft()  # 큐에서 1을 꺼냄(dequeue)\n",
    "\n",
    "qu"
   ]
  },
  {
   "cell_type": "code",
   "execution_count": 4,
   "metadata": {},
   "outputs": [
    {
     "name": "stdout",
     "output_type": "stream",
     "text": [
      "{'Tom'}\n",
      "{'Tom', 'Mike'}\n"
     ]
    }
   ],
   "source": [
    "# Quiz 14. n명의 사람 이름 중에 같은 이름을 찾아 집합으로 만들어 돌려주는 알고리즘 만들기 (딕셔너리)\n",
    "def find_same_name(a):\n",
    "    # 1단계: 각 이름이 등장한 횟수를 딕셔너리로 만듦\n",
    "    name_dict = {}\n",
    "    for name in a:                # 리스트 a에 있는 자료들을 차례로 반복\n",
    "        if name in name_dict:     # 이름이 name_dict에 있으면\n",
    "            name_dict[name] += 1  # 등장 횟수를 1 증가\n",
    "        else:                     # 새 이름이면\n",
    "            name_dict[name] = 1   # 등장 횟수를 1로 저장\n",
    "        \n",
    "    # 2단계: 만들어진 딕셔너리에서 등장 횟수가 2 이상인 것을 결과에 추가\n",
    "    result = set()                 # 결과값을 저장할 빈 집합\n",
    "    for name in name_dict:         # 딕셔너리 name_dict에 있는 자료들을 차례로 반복\n",
    "        if name_dict[name] >= 2:\n",
    "            result.add(name)\n",
    "            \n",
    "    return result\n",
    "\n",
    "name = [\"Tom\", \"Jerry\", \"Mike\", \"Tom\"]  # 대소문자 유의: 파이썬은 대소문자를 구분함!\n",
    "print(find_same_name(name))\n",
    "\n",
    "name2 = [\"Tom\", \"Jerry\", \"Mike\", \"Tom\", \"Mike\"]\n",
    "print(find_same_name(name2))"
   ]
  },
  {
   "cell_type": "code",
   "execution_count": 5,
   "metadata": {},
   "outputs": [
    {
     "name": "stdout",
     "output_type": "stream",
     "text": [
      "Justin\n",
      "Mike\n",
      "?\n"
     ]
    }
   ],
   "source": [
    "# 연습문제 14-1\n",
    "def get_name(s_info, find_no):\n",
    "    if find_no in s_info:\n",
    "        return s_info[find_no]\n",
    "    else:\n",
    "        return \"?\"\n",
    "    \n",
    "sample_info = {39:\"Justin\", 14:\"John\", 67:\"Mike\", 105:\"Summer\"}\n",
    "print(get_name(sample_info, 39))\n",
    "print(get_name(sample_info, 67))\n",
    "print(get_name(sample_info, 100))"
   ]
  },
  {
   "cell_type": "code",
   "execution_count": 6,
   "metadata": {},
   "outputs": [
    {
     "name": "stdout",
     "output_type": "stream",
     "text": [
      "Summer\n",
      "John\n",
      "Justin\n",
      "Mike\n",
      "May\n",
      "Kim\n",
      "\n",
      "Jerry\n",
      "Tom\n"
     ]
    }
   ],
   "source": [
    "# Quiz 15-1. 친구 관계를 이용하여 어떤 한 사람이 직접 또는 간접으로 아는 모든 친구를 출력하는 알고리즘 만들기 (그래프)\n",
    "# 즉, 친구 관계를 이용하여 어떤 한 사람의 '모든 친구'를 출력하는 알고리즘 만들기\n",
    "\n",
    "# <그래프 탐색 알고리즘>\n",
    "# 입력: 친구 관계 그래프 g, 모든 친구를 찾을 자신 start\n",
    "# 출력: 모든 친구의 이름\n",
    "def print_all_friends(g, start):\n",
    "    qu = []       # 기억 장소1: 앞으로 처리해야 할 사람들을 큐에 저장\n",
    "    done = set()  # 기억 장소2: 이미 큐에 추가한 사람들을 집합에 기록(중복 방지)\n",
    "\n",
    "    qu.append(start)  # 자신을 큐에 넣고 시작\n",
    "    done.add(start)   # 집합에도 추가\n",
    "\n",
    "    while qu:           # 큐에 처리할 사람이 남아 있는 동안\n",
    "        p = qu.pop(0)   # 큐에서 처리 대상을 한 명 꺼내\n",
    "        print(p)        # 이름을 출력하고\n",
    "        for x in g[p]:  # 그의 친구들 중에\n",
    "            if x not in done:  # 아직 큐에 추가된 적이 없는 사람을\n",
    "                qu.append(x)   # 큐에 추가하고\n",
    "                done.add(x)    # 집합에도 추가\n",
    "\n",
    "# <친구 관계 리스트>\n",
    "# A와 B가 친구이면\n",
    "# A의 친구 리스트에도 B가 나오고, B의 친구 리스트에도 A가 나옴\n",
    "fr_info = {\n",
    "    'Summer': ['John', 'Justin', 'Mike'],\n",
    "    'John': ['Summer', 'Justin'],\n",
    "    'Justin': ['John', 'Summer', 'Mike', 'May'],\n",
    "    'Mike': ['Summer', 'Justin'],\n",
    "    'May': ['Justin', 'Kim'],\n",
    "    'Kim': ['May'],\n",
    "    'Tom': ['Jerry'],\n",
    "    'Jerry': ['Tom']\n",
    "}\n",
    "\n",
    "print_all_friends(fr_info, 'Summer')\n",
    "print()\n",
    "print_all_friends(fr_info, 'Jerry')"
   ]
  },
  {
   "cell_type": "code",
   "execution_count": 7,
   "metadata": {},
   "outputs": [
    {
     "name": "stdout",
     "output_type": "stream",
     "text": [
      "Summer 0\n",
      "John 1\n",
      "Justin 1\n",
      "Mike 1\n",
      "May 2\n",
      "Kim 3\n",
      "\n",
      "Jerry 0\n",
      "Tom 1\n"
     ]
    }
   ],
   "source": [
    "# Quiz 15-2. 모든 친구를 찾아서 친밀도를 계산하는 알고리즘 만들기 (그래프)\n",
    "# 즉, 친구 리스트에서 자신의 모든 친구를 찾고, 친구들의 친밀도를 계산하는 알고리즘\n",
    "\n",
    "# 출력: 모든 친구의 이름과 자신과의 친밀도\n",
    "def print_all_friends2(g, start):\n",
    "    qu = []       # 기억 장소 1: 앞으로 처리해야 할 (사람 이름, 친밀도) 튜플을 큐에 저장\n",
    "    done = set()  # 기억 장소 2: 이미 큐에 추가한 사람을 집합에 기록(중복 방지)\n",
    "\n",
    "    qu.append((start, 0))  # (사람 이름, 친밀도) 정보를 하나의 튜플로 묶어 처리(자기 자신 친밀도: 0)\n",
    "    done.add(start)        # 집합에도 추가\n",
    "\n",
    "    while qu:               # 큐에 처리할 사람이 남아 있는 동안\n",
    "        (p, d) = qu.pop(0)  # 큐에서 (사람 이름, 친밀도) 정보를 p와 d로 각각 꺼냄\n",
    "        print(p, d)         # 사람 이름과 친밀도를 출력\n",
    "        for x in g[p]:      # 친구들 중에\n",
    "            if x not in done:          # 아직 큐에 추가된 적이 없는 사람을\n",
    "                qu.append((x, d + 1))  # 친밀도를 1 증가시켜 큐에 추가하고\n",
    "                done.add(x)            # 집합에도 추가\n",
    "                \n",
    "fr_info = {\n",
    "    'Summer': ['John', 'Justin', 'Mike'],\n",
    "    'John': ['Summer', 'Justin'],\n",
    "    'Justin': ['John', 'Summer', 'Mike', 'May'],\n",
    "    'Mike': ['Summer', 'Justin'],\n",
    "    'May': ['Justin', 'Kim'],\n",
    "    'Kim': ['May'],\n",
    "    'Tom': ['Jerry'],\n",
    "    'Jerry': ['Tom']\n",
    "}\n",
    "\n",
    "print_all_friends2(fr_info, 'Summer')\n",
    "print()\n",
    "print_all_friends2(fr_info, 'Jerry')"
   ]
  },
  {
   "cell_type": "code",
   "execution_count": 8,
   "metadata": {},
   "outputs": [
    {
     "name": "stdout",
     "output_type": "stream",
     "text": [
      "1\n",
      "2\n",
      "3\n",
      "4\n",
      "5\n"
     ]
    }
   ],
   "source": [
    "# 연습문제 15-1\n",
    "# '너비 우선 탐색(Breadth First Search; BFS)' 알고리즘\n",
    "def bfs(g, start):\n",
    "    qu = []          # 기억 장소 1: 앞으로 처리해야 할 꼭짓점을 큐에 저장\n",
    "    done = set()     # 기억 장소 2: 이미 큐에 추가한 꼭짓점들을 집합에 기록(중복 방지)\n",
    "\n",
    "    qu.append(start) # 시작점을 큐에 넣고 시작\n",
    "    done.add(start)  # 집합에도 추가\n",
    "\n",
    "    while qu:                  # 큐에 처리할 꼭짓점이 남아있으면\n",
    "        p = qu.pop(0)          # 큐에서 처리 대상을 꺼내어\n",
    "        print(p)               # 꼭짓점 이름을 출력하고\n",
    "        for x in g[p]:         # 대상 꼭짓점에 연결된 꼭짓점들 중에\n",
    "            if x not in done:  # 아직 큐에 추가된 적이 없는 꼭짓점들을\n",
    "                qu.append(x)   # 큐에 추가하고\n",
    "                done.add(x)    # 집합에도 추가\n",
    "\n",
    "# 그래프 정보\n",
    "g = {\n",
    "    1: [2, 3],\n",
    "    2: [1, 4, 5],\n",
    "    3: [1],\n",
    "    4: [2],\n",
    "    5: [2]\n",
    "}\n",
    "\n",
    "bfs(g, 1)"
   ]
  }
 ],
 "metadata": {
  "kernelspec": {
   "display_name": "Python 3",
   "language": "python",
   "name": "python3"
  },
  "language_info": {
   "codemirror_mode": {
    "name": "ipython",
    "version": 3
   },
   "file_extension": ".py",
   "mimetype": "text/x-python",
   "name": "python",
   "nbconvert_exporter": "python",
   "pygments_lexer": "ipython3",
   "version": "3.7.6"
  }
 },
 "nbformat": 4,
 "nbformat_minor": 4
}
