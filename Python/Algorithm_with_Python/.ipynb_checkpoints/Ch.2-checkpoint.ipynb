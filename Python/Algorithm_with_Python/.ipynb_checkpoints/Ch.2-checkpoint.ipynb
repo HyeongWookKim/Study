{
 "cells": [
  {
   "cell_type": "code",
   "execution_count": 6,
   "metadata": {},
   "outputs": [
    {
     "name": "stdout",
     "output_type": "stream",
     "text": [
      "1\n",
      "120\n",
      "3628800\n",
      "1\n",
      "120\n",
      "3628800\n"
     ]
    }
   ],
   "source": [
    "# Quiz 4. 1부터 n까지 연속한 정수의 곱을 구하는 알고리즘 만들기\n",
    "# 방법 1. 재귀 호출을 사용하지 않은 방법\n",
    "def fact(n):\n",
    "    s = 1\n",
    "    for i in range(1, n + 1):\n",
    "        s *= i\n",
    "    return s\n",
    "\n",
    "print(fact(1))\n",
    "print(fact(5))\n",
    "print(fact(10))\n",
    "\n",
    "\n",
    "# 방법 2. 재귀 호출을 사용한 방법\n",
    "def fact2(n):\n",
    "    if n <= 1: return 1\n",
    "    return n * fact2(n - 1)\n",
    "\n",
    "print(fact2(1))\n",
    "print(fact2(5))\n",
    "print(fact2(10))"
   ]
  },
  {
   "cell_type": "code",
   "execution_count": 10,
   "metadata": {},
   "outputs": [
    {
     "name": "stdout",
     "output_type": "stream",
     "text": [
      "55\n",
      "5050\n"
     ]
    }
   ],
   "source": [
    "# 연습문제 4-1\n",
    "def sum_n(n):\n",
    "    if n == 0: return 0\n",
    "    return n + sum_n(n - 1)\n",
    "\n",
    "print(sum_n(10))\n",
    "print(sum_n(100))"
   ]
  },
  {
   "cell_type": "code",
   "execution_count": 12,
   "metadata": {},
   "outputs": [
    {
     "name": "stdout",
     "output_type": "stream",
     "text": [
      "92\n"
     ]
    }
   ],
   "source": [
    "# 연습문제 4-2\n",
    "def find_max(a, n):           # 리스트 a의 앞부분 n개 중, 최댓값을 구하는 재귀 함수\n",
    "    if n == 1: return a[0]   # 종료 조건\n",
    "    \n",
    "    max_n_1 = find_max(a, n - 1)               # n-1개 중, 최댓값을 구함\n",
    "    if max_n_1 > a[n - 1]: return max_n_1     # n-1개 중, 최댓값과 n-1번 위치 값을 비교\n",
    "    else: return a[n - 1]\n",
    "    \n",
    "v = [17, 92, 18, 33, 58, 7, 33, 42]\n",
    "print(find_max(v, len(v)))"
   ]
  },
  {
   "cell_type": "code",
   "execution_count": 16,
   "metadata": {
    "scrolled": true
   },
   "outputs": [
    {
     "name": "stdout",
     "output_type": "stream",
     "text": [
      "1\n",
      "3\n",
      "12\n",
      "27\n",
      "gcd:  1 5\n",
      "gcd:  5 1\n",
      "gcd:  1 0\n",
      "1\n",
      "gcd:  3 6\n",
      "gcd:  6 3\n",
      "gcd:  3 0\n",
      "3\n",
      "gcd:  60 24\n",
      "gcd:  24 12\n",
      "gcd:  12 0\n",
      "12\n",
      "gcd:  81 27\n",
      "gcd:  27 0\n",
      "27\n"
     ]
    }
   ],
   "source": [
    "# Quiz 5-1. 두 자연수 a와 b의 최대공약수를 구하는 알고리즘 만들기\n",
    "def gcd(a, b):\n",
    "    i = min(a, b)\n",
    "    while True:\n",
    "        if a % i == 0 and b % i == 0:\n",
    "            return i\n",
    "        i -= 1\n",
    "\n",
    "print(gcd(1, 5))\n",
    "print(gcd(3, 6))\n",
    "print(gcd(60, 24))\n",
    "print(gcd(81, 27))\n",
    "\n",
    "\n",
    "# Quiz 5-2. 유클리드 알고리즘(재귀 호출 사용)을 사용해서, 두 자연수 a와 b의 최대공약수 구하기\n",
    "def gcd2(a, b):\n",
    "    print(\"gcd: \", a, b)   # 함수 호출을 입력(인자) 값과 함께 화면에 표시 --> 이해를 돕기 위해!\n",
    "    if b == 0: return a   # 재귀 호출 종료 조건\n",
    "    return gcd2(b, a % b) # 좀 더 작은 값으로 자기 자신을 호출(재귀 호출)\n",
    "\n",
    "print(gcd2(1, 5))\n",
    "print(gcd2(3, 6))\n",
    "print(gcd2(60, 24))\n",
    "print(gcd2(81, 27))"
   ]
  },
  {
   "cell_type": "code",
   "execution_count": 23,
   "metadata": {},
   "outputs": [
    {
     "name": "stdout",
     "output_type": "stream",
     "text": [
      "13\n",
      "55\n"
     ]
    }
   ],
   "source": [
    "# 연습문제 5-1\n",
    "def fibo(n):\n",
    "    if n <= 1: return n  # 종료 조건\n",
    "    return fibo(n - 1) + fibo(n - 2)\n",
    "\n",
    "print(fibo(7))\n",
    "print(fibo(10))"
   ]
  },
  {
   "cell_type": "code",
   "execution_count": 28,
   "metadata": {
    "scrolled": true
   },
   "outputs": [
    {
     "name": "stdout",
     "output_type": "stream",
     "text": [
      "n = 1인 경우\n",
      "1 -> 3\n",
      "\n",
      "n = 2인 경우\n",
      "1 -> 2\n",
      "1 -> 3\n",
      "2 -> 3\n",
      "\n",
      "n = 3인 경우\n",
      "1 -> 3\n",
      "1 -> 2\n",
      "3 -> 2\n",
      "1 -> 3\n",
      "2 -> 1\n",
      "2 -> 3\n",
      "1 -> 3\n"
     ]
    }
   ],
   "source": [
    "# Quiz 6. 원반이 n개인 하노이의 탑을 옮기기 위한 원반 이동 순서를 출력하는 알고리즘 만들기\n",
    "# 옮기려는 원반의 개수: n\n",
    "# 옮길 원반이 현재 있는 출발점 기둥: from_pos\n",
    "# 원반을 옮길 도착점 기둥: to_pos\n",
    "# 옮기는 과정에서 사용할 보조 기둥: aux_pos\n",
    "def hanoi(n, from_pos, to_pos, aux_pos):\n",
    "    if n == 1:   # 종료 조건\n",
    "        print(from_pos, \"->\", to_pos)\n",
    "        return\n",
    "    \n",
    "    # 원반 n-1개를 aux_pos로 이동(to_pos를 보조 기둥으로 사용)\n",
    "    hanoi(n - 1, from_pos, aux_pos, to_pos)\n",
    "    # 가장 큰 원반을 목적지로 이동\n",
    "    print(from_pos, \"->\", to_pos)\n",
    "    # aux_pos에 있는 원반 n-1개를 목적지로 이동(from_pos를 보조 기둥으로 사용)\n",
    "    hanoi(n - 1, aux_pos, to_pos, from_pos)\n",
    "\n",
    "\n",
    "# n = 1인 경우\n",
    "print(\"n = 1인 경우\")\n",
    "# 원반 한 개를 1번 기둥에서 3번 기둥으로 이동(2번을 보조 기둥으로 사용)\n",
    "hanoi(1, 1, 3, 2)\n",
    "print()\n",
    "\n",
    "# n = 2인 경우\n",
    "print(\"n = 2인 경우\")\n",
    "# 원반 두 개를 1번 기둥에서 3번 기둥으로 이동(2번을 보조 기둥으로 사용)\n",
    "hanoi(2, 1, 3, 2)\n",
    "print()\n",
    "\n",
    "# n = 3인 경우\n",
    "print(\"n = 3인 경우\")\n",
    "# 원반 세 개를 1번 기둥에서 3번 기둥으로 이동(2번을 보조 기둥으로 사용)\n",
    "hanoi(3, 1, 3, 2)"
   ]
  },
  {
   "cell_type": "code",
   "execution_count": 32,
   "metadata": {},
   "outputs": [],
   "source": [
    "# 연습문제 6-1 (부록 D 참고)\n",
    "\n",
    "# 1. 사각 나선을 그리는 프로그램\n",
    "import turtle as t\n",
    "\n",
    "def spiral(sp_len):\n",
    "    if sp_len <= 5:\n",
    "        return\n",
    "    \n",
    "    t.forward(sp_len)\n",
    "    t.right(90)\n",
    "    spiral(sp_len - 5)\n",
    "    \n",
    "t.speed(0)\n",
    "spiral(200)\n",
    "t.hideturtle()\n",
    "t.done()"
   ]
  },
  {
   "cell_type": "code",
   "execution_count": 34,
   "metadata": {},
   "outputs": [],
   "source": [
    "# 2. 시에르핀스키의 삼각형을 그리는 프로그램\n",
    "import turtle as t\n",
    "\n",
    "def tri(tri_len):\n",
    "    if tri_len <= 10:\n",
    "        for i in range(0, 3):\n",
    "            t.forward(tri_len)\n",
    "            t.left(120)\n",
    "        return\n",
    "\n",
    "    new_len = tri_len / 2\n",
    "    tri(new_len)\n",
    "    t.forward(new_len)\n",
    "    tri(new_len)\n",
    "    t.backward(new_len)\n",
    "    t.left(60)\n",
    "    t.forward(new_len)\n",
    "    t.right(60)\n",
    "    tri(new_len)\n",
    "    t.left(60)\n",
    "    t.backward(new_len)\n",
    "    t.right(60)\n",
    "    \n",
    "t.speed(0)\n",
    "tri(160)\n",
    "t.hideturtle()\n",
    "t.done()"
   ]
  },
  {
   "cell_type": "code",
   "execution_count": 36,
   "metadata": {},
   "outputs": [],
   "source": [
    "# 3. 나무를 그리는 프로그램\n",
    "import turtle as t\n",
    "\n",
    "def tree(br_len):\n",
    "    if br_len <= 5:\n",
    "        return\n",
    "    \n",
    "    new_len = br_len * 0.7\n",
    "    t.forward(new_len)\n",
    "    t.right(20)\n",
    "    tree(new_len)\n",
    "    t.left(40)\n",
    "    tree(new_len)\n",
    "    t.right(20)\n",
    "    t.backward(new_len)\n",
    "\n",
    "t.speed(0)\n",
    "t.left(90)\n",
    "tree(70)\n",
    "t.hideturtle()\n",
    "t.done()"
   ]
  },
  {
   "cell_type": "code",
   "execution_count": 1,
   "metadata": {},
   "outputs": [],
   "source": [
    "# 4. 눈꽃을 그리는 프로그램\n",
    "import turtle as t\n",
    "\n",
    "def snow_line(snow_len):\n",
    "    if snow_len <= 5:\n",
    "        t.forward(snow_len)\n",
    "        return\n",
    "    \n",
    "    new_len = snow_len / 3\n",
    "    snow_line(new_len)\n",
    "    t.left(60)\n",
    "    snow_line(new_len)\n",
    "    t.right(120)\n",
    "    snow_line(new_len)\n",
    "    t.left(60)\n",
    "    snow_line(new_len)\n",
    "    \n",
    "t.speed(0)\n",
    "snow_line(150)\n",
    "t.right(120)\n",
    "snow_line(150)\n",
    "t.right(120)\n",
    "snow_line(150)\n",
    "t.hideturtle()\n",
    "t.done()"
   ]
  }
 ],
 "metadata": {
  "kernelspec": {
   "display_name": "Python 3",
   "language": "python",
   "name": "python3"
  },
  "language_info": {
   "codemirror_mode": {
    "name": "ipython",
    "version": 3
   },
   "file_extension": ".py",
   "mimetype": "text/x-python",
   "name": "python",
   "nbconvert_exporter": "python",
   "pygments_lexer": "ipython3",
   "version": "3.6.10"
  }
 },
 "nbformat": 4,
 "nbformat_minor": 4
}
