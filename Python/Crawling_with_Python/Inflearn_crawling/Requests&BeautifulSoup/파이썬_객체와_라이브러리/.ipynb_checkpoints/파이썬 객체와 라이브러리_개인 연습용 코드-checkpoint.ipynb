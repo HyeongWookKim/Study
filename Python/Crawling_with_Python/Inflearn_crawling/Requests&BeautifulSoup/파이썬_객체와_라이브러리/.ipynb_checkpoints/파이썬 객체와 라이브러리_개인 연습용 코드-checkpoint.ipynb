{
 "cells": [
  {
   "cell_type": "markdown",
   "metadata": {},
   "source": [
    "# 클래스 선언"
   ]
  },
  {
   "cell_type": "code",
   "execution_count": 1,
   "metadata": {
    "ExecuteTime": {
     "end_time": "2020-12-14T08:59:16.664334Z",
     "start_time": "2020-12-14T08:59:16.660328Z"
    }
   },
   "outputs": [],
   "source": [
    "class Quad():\n",
    "    width = 0\n",
    "    height = 0\n",
    "    color = ''\n",
    "    name = 'Quad'\n",
    "    \n",
    "    def quad_name(self, arg1, arg2):\n",
    "        print(arg1, arg2)\n",
    "        return self.name\n",
    "    \n",
    "    def get_area(self):\n",
    "        return self.width * self.height"
   ]
  },
  {
   "cell_type": "markdown",
   "metadata": {},
   "source": [
    "# 객체 생성"
   ]
  },
  {
   "cell_type": "code",
   "execution_count": 2,
   "metadata": {
    "ExecuteTime": {
     "end_time": "2020-12-14T08:59:16.672335Z",
     "start_time": "2020-12-14T08:59:16.667333Z"
    }
   },
   "outputs": [],
   "source": [
    "quad1 = Quad()\n",
    "quad2 = Quad()"
   ]
  },
  {
   "cell_type": "markdown",
   "metadata": {},
   "source": [
    "# 객체 기능 호출"
   ]
  },
  {
   "cell_type": "code",
   "execution_count": 3,
   "metadata": {
    "ExecuteTime": {
     "end_time": "2020-12-14T08:59:16.679331Z",
     "start_time": "2020-12-14T08:59:16.674332Z"
    }
   },
   "outputs": [],
   "source": [
    "quad1.width = 10\n",
    "quad1.height = 10\n",
    "quad1.color = 'blue'\n",
    "quad1.name = 'blue 사각형'\n",
    "\n",
    "quad2.width = 5\n",
    "quad2.height = 5\n",
    "quad2.color = 'yellow'\n",
    "quad2.name = 'yellow 사각형'"
   ]
  },
  {
   "cell_type": "code",
   "execution_count": 4,
   "metadata": {
    "ExecuteTime": {
     "end_time": "2020-12-14T08:59:16.687333Z",
     "start_time": "2020-12-14T08:59:16.681388Z"
    }
   },
   "outputs": [
    {
     "name": "stdout",
     "output_type": "stream",
     "text": [
      "10 5\n"
     ]
    }
   ],
   "source": [
    "print(quad1.width, quad2.width)"
   ]
  },
  {
   "cell_type": "code",
   "execution_count": 5,
   "metadata": {
    "ExecuteTime": {
     "end_time": "2020-12-14T08:59:16.694331Z",
     "start_time": "2020-12-14T08:59:16.689328Z"
    }
   },
   "outputs": [
    {
     "name": "stdout",
     "output_type": "stream",
     "text": [
      "1 2\n",
      "3 4\n",
      "blue 사각형 yellow 사각형\n"
     ]
    }
   ],
   "source": [
    "print(quad1.quad_name(1, 2), quad2.quad_name(3, 4))"
   ]
  },
  {
   "cell_type": "code",
   "execution_count": 6,
   "metadata": {
    "ExecuteTime": {
     "end_time": "2020-12-14T08:59:16.700331Z",
     "start_time": "2020-12-14T08:59:16.696335Z"
    }
   },
   "outputs": [
    {
     "name": "stdout",
     "output_type": "stream",
     "text": [
      "100\n",
      "25\n"
     ]
    }
   ],
   "source": [
    "print(quad1.get_area())\n",
    "print(quad2.get_area())"
   ]
  },
  {
   "cell_type": "markdown",
   "metadata": {},
   "source": [
    "# 연습문제"
   ]
  },
  {
   "cell_type": "markdown",
   "metadata": {},
   "source": [
    "<div class=\"alert alert-block alert-success\">\n",
    "<strong><font color=\"blue\" size=\"4em\">초간단 연습1</font></strong><br>\n",
    "* width, height, color 속성을 가진 사각형 클래스 Dave를 만들고 다음 2개의 객체 만들기 (객체 속성을 바꿔주시고, 출력도 해보세요)<br>\n",
    "  - 직사각형 1개 객체 속성: width=10, height=5, color='red'<br>\n",
    "  - 정사각형 1개 객체 속성: width=7, height=7, color='blue'<br>\n",
    "</div>"
   ]
  },
  {
   "cell_type": "code",
   "execution_count": 7,
   "metadata": {
    "ExecuteTime": {
     "end_time": "2020-12-14T08:59:16.710369Z",
     "start_time": "2020-12-14T08:59:16.703328Z"
    }
   },
   "outputs": [
    {
     "name": "stdout",
     "output_type": "stream",
     "text": [
      "10 5 red\n",
      "7 7 blue\n"
     ]
    }
   ],
   "source": [
    "class Dave():\n",
    "    width = 0\n",
    "    height = 0\n",
    "    color = ''\n",
    "    \n",
    "square1 = Dave()\n",
    "square2 = Dave()\n",
    "\n",
    "square1.width = 10\n",
    "square1.height = 5\n",
    "square1.color = 'red'\n",
    "\n",
    "square2.width = 7\n",
    "square2.height = 7\n",
    "square2.color = 'blue'\n",
    "\n",
    "print(square1.width, square1.height, square1.color)\n",
    "print(square2.width, square2.height, square2.color)"
   ]
  },
  {
   "cell_type": "markdown",
   "metadata": {},
   "source": [
    "<div class=\"alert alert-block alert-success\">\n",
    "<strong><font color=\"blue\" size=\"4em\">초간단 연습2</font></strong><br>\n",
    "* Quadrangle 클래스를 기반으로 직사각형 1개 객체와 정사각형 1개 객체를 만들고, 각 사각형 너비 출력하기<br>\n",
    "  - 직사각형2개 속성: width=10, height=5, color='red'<br>\n",
    "  - 정사각형2개 속성: width=7, height=7, color='blue'<br>\n",
    "</div>"
   ]
  },
  {
   "cell_type": "code",
   "execution_count": 8,
   "metadata": {
    "ExecuteTime": {
     "end_time": "2020-12-14T08:59:16.724329Z",
     "start_time": "2020-12-14T08:59:16.714334Z"
    }
   },
   "outputs": [
    {
     "name": "stdout",
     "output_type": "stream",
     "text": [
      "50\n",
      "49\n"
     ]
    }
   ],
   "source": [
    "class Quadrangle():\n",
    "    width = 0\n",
    "    height = 0\n",
    "    color = ''\n",
    "        \n",
    "    def get_area(self):\n",
    "        return self.width * self.height\n",
    "    \n",
    "square1 = Quadrangle()\n",
    "square2 = Quadrangle()\n",
    "\n",
    "square1.width = 10\n",
    "square1.height = 5\n",
    "square1.color = 'red'\n",
    "\n",
    "square2.width = 7\n",
    "square2.height = 7\n",
    "square2.color = 'blue'\n",
    "\n",
    "print(square1.get_area())\n",
    "print(square2.get_area())"
   ]
  },
  {
   "cell_type": "markdown",
   "metadata": {},
   "source": [
    "<div class=\"alert alert-block alert-success\">\n",
    "<strong><font color=\"blue\" size=\"4em\">한발짝 더 나가보기!(심화 문제)</font></strong><br>\n",
    "* 위에서 작성한 Quadrangle 클래스를 기반으로 직사각형 1개 객체와 정사각형 1개 객체를 만들되, 너비(width), 높이(height), 색상(color)를 한번에 설정할 수 있는 메서드만들고, 다음 값으로 각 객체의 속성값을 변경한 후, 사각형 너비와 색상도 함께 출력하기<br>\n",
    "  - 직사각형2개 속성: width=10, height=5, color='red'<br>\n",
    "  - 정사각형2개 속성: width=7, height=7, color='blue'<br>\n",
    "</div>"
   ]
  },
  {
   "cell_type": "code",
   "execution_count": 9,
   "metadata": {
    "ExecuteTime": {
     "end_time": "2020-12-14T08:59:16.737327Z",
     "start_time": "2020-12-14T08:59:16.727328Z"
    }
   },
   "outputs": [
    {
     "name": "stdout",
     "output_type": "stream",
     "text": [
      "50 red\n",
      "49 blue\n"
     ]
    }
   ],
   "source": [
    "class Quadrangle2():\n",
    "    width = 0\n",
    "    height = 0\n",
    "    color = ''\n",
    "    \n",
    "    def set_area(self, data1, data2, colordata):\n",
    "        self.width = data1\n",
    "        self.height = data2\n",
    "        self.color = colordata\n",
    "        \n",
    "    def get_area(self):\n",
    "        return self.width * self.height\n",
    "        \n",
    "square1 = Quadrangle2()\n",
    "square2 = Quadrangle2()\n",
    "\n",
    "square1.set_area(10, 5, 'red')\n",
    "square2.set_area(7, 7, 'blue')\n",
    "\n",
    "print(square1.get_area(), square1.color)\n",
    "print(square2.get_area(), square2.color)"
   ]
  }
 ],
 "metadata": {
  "hide_input": false,
  "kernelspec": {
   "display_name": "Python 3",
   "language": "python",
   "name": "python3"
  },
  "language_info": {
   "codemirror_mode": {
    "name": "ipython",
    "version": 3
   },
   "file_extension": ".py",
   "mimetype": "text/x-python",
   "name": "python",
   "nbconvert_exporter": "python",
   "pygments_lexer": "ipython3",
   "version": "3.8.3"
  },
  "toc": {
   "base_numbering": 1,
   "nav_menu": {},
   "number_sections": true,
   "sideBar": true,
   "skip_h1_title": false,
   "title_cell": "Table of Contents",
   "title_sidebar": "Contents",
   "toc_cell": false,
   "toc_position": {},
   "toc_section_display": true,
   "toc_window_display": false
  },
  "varInspector": {
   "cols": {
    "lenName": 16,
    "lenType": 16,
    "lenVar": 40
   },
   "kernels_config": {
    "python": {
     "delete_cmd_postfix": "",
     "delete_cmd_prefix": "del ",
     "library": "var_list.py",
     "varRefreshCmd": "print(var_dic_list())"
    },
    "r": {
     "delete_cmd_postfix": ") ",
     "delete_cmd_prefix": "rm(",
     "library": "var_list.r",
     "varRefreshCmd": "cat(var_dic_list()) "
    }
   },
   "types_to_exclude": [
    "module",
    "function",
    "builtin_function_or_method",
    "instance",
    "_Feature"
   ],
   "window_display": false
  }
 },
 "nbformat": 4,
 "nbformat_minor": 4
}
