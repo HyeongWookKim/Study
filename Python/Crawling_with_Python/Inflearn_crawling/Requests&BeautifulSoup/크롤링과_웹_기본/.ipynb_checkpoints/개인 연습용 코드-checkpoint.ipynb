{
 "cells": [
  {
   "cell_type": "markdown",
   "metadata": {},
   "source": [
    "# find / find_all을 사용한 크롤링"
   ]
  },
  {
   "cell_type": "code",
   "execution_count": 1,
   "metadata": {
    "ExecuteTime": {
     "end_time": "2020-12-15T09:39:19.243636Z",
     "start_time": "2020-12-15T09:39:18.678626Z"
    }
   },
   "outputs": [
    {
     "name": "stdout",
     "output_type": "stream",
     "text": [
      "EU, 아마존·애플·구글 등 겨냥 규제 추진..\"걸리면 수십조 벌금\" 선한결 2020.12.15\n",
      "\n",
      "유럽연합(EU)이 구글·애플·아마존·페이스북 등 대형 정보기술(IT) 기업이 공정거래·경쟁 관련 규정을 어길 경우 연 매출의 최대 10%를 벌금으로 부과하는 법안 추진에 나선다.\n",
      "게이트키퍼 기업이 EU 27개국에서 영업을 하다 이같은 조항을 어기면 연 매출액의 최대 10%를 벌금으로 부과한다.\n",
      " 티에리 브르통 EU 디지털담당 집행위원은 \"거대 IT기업이 EU 규정을 반복적으로 위반할 경우 EU 사업체를 해체할 수 있다\"고 경고했다. 기사 제목과 주요 문장을 기반으로 자동요약한 결과입니다. 전체 맥락을 이해하기 위해서는 본문 보기를 권장합니다.\n",
      "\n"
     ]
    }
   ],
   "source": [
    "import requests\n",
    "from bs4 import BeautifulSoup\n",
    "\n",
    "res = requests.get('https://news.v.daum.net/v/20201215160707223')\n",
    "soup = BeautifulSoup(res.content, 'html.parser')\n",
    "\n",
    "# 기사 제목\n",
    "title = soup.find('h3', {'class': 'tit_view'}).text\n",
    "# 기자 이름 및 일자\n",
    "info = soup.find_all('span', {'class': 'txt_info'})\n",
    "press = info[0].text # 기자 이름\n",
    "date = info[1].text[3:13] # 일자\n",
    "# 기사 내용\n",
    "content = soup.find('div', {'class': 'layer_util layer_summary'}).text\n",
    "\n",
    "print(title, press, date)\n",
    "print(content)"
   ]
  },
  {
   "cell_type": "code",
   "execution_count": 2,
   "metadata": {
    "ExecuteTime": {
     "end_time": "2020-12-15T09:39:19.623677Z",
     "start_time": "2020-12-15T09:39:19.246686Z"
    },
    "scrolled": false
   },
   "outputs": [
    {
     "name": "stdout",
     "output_type": "stream",
     "text": [
      "(왕초보) - 클래스 소개\n",
      "(왕초보) - 블로그 개발 필요한 준비물 준비하기\n",
      "(왕초보) - Github pages 설정해서 블로그 첫 페이지 만들어보기\n",
      "(왕초보) - 초간단 페이지 만들어보기\n",
      "(왕초보) - 이쁘게 테마 적용해보기\n",
      "(왕초보) - 마크다운 기초 이해하고, 실제 나만의 블로그 페이지 만들기\n",
      "(왕초보) - 다양한 마크다운 기법 익혀보며, 나만의 블로그 페이지 꾸며보기\n",
      "(초급) - 강사가 실제 사용하는 자동 프로그램 소개 [2]\n",
      "(초급) - 필요한 프로그램 설치 시연 [5]\n",
      "(초급) - 데이터를 엑셀 파일로 만들기 [9]\n",
      "(초급) -     엑셀 파일 이쁘게! 이쁘게! [8]\n",
      "(초급) -     나대신 주기적으로 파이썬 프로그램 실행하기 [7]\n",
      "(초급) - 파이썬으로 슬랙(slack) 메신저에 글쓰기 [40]\n",
      "(초급) - 웹사이트 변경사항 주기적으로 체크해서, 메신저로 알람주기 [12]\n",
      "(초급) - 네이버 API 사용해서, 블로그에 글쓰기 [42]\n",
      "(중급) - 자동으로 쿠팡파트너스 API 로 가져온 상품 정보, 네이버 블로그/트위터에 홍보하기 [412]\n"
     ]
    }
   ],
   "source": [
    "import requests\n",
    "from bs4 import BeautifulSoup\n",
    "\n",
    "res = requests.get('https://davelee-fun.github.io/blog/crawl_test')\n",
    "soup = BeautifulSoup(res.content, 'html.parser')\n",
    "\n",
    "titles = soup.find_all('li', {'class': 'course'})\n",
    "for title in titles:\n",
    "    print(title.text)"
   ]
  },
  {
   "cell_type": "code",
   "execution_count": 3,
   "metadata": {
    "ExecuteTime": {
     "end_time": "2020-12-15T09:39:19.993681Z",
     "start_time": "2020-12-15T09:39:19.626619Z"
    }
   },
   "outputs": [
    {
     "name": "stdout",
     "output_type": "stream",
     "text": [
      "(초급) - 강사가 실제 사용하는 자동 프로그램 소개 [2]\n",
      "(초급) - 필요한 프로그램 설치 시연 [5]\n",
      "(초급) - 데이터를 엑셀 파일로 만들기 [9]\n",
      "(초급) -     엑셀 파일 이쁘게! 이쁘게! [8]\n",
      "(초급) -     나대신 주기적으로 파이썬 프로그램 실행하기 [7]\n",
      "(초급) - 파이썬으로 슬랙(slack) 메신저에 글쓰기 [40]\n",
      "(초급) - 웹사이트 변경사항 주기적으로 체크해서, 메신저로 알람주기 [12]\n",
      "(초급) - 네이버 API 사용해서, 블로그에 글쓰기 [42]\n",
      "(중급) - 자동으로 쿠팡파트너스 API 로 가져온 상품 정보, 네이버 블로그/트위터에 홍보하기 [412]\n"
     ]
    }
   ],
   "source": [
    "import requests\n",
    "from bs4 import BeautifulSoup\n",
    "\n",
    "res = requests.get('https://davelee-fun.github.io/blog/crawl_test')\n",
    "soup = BeautifulSoup(res.content, 'html.parser')\n",
    "\n",
    "section = soup.find('ul', {'id': 'dev_course_list'})\n",
    "titles = section.find_all('li', {'class': 'course'})\n",
    "for title in titles:\n",
    "    print(title.text)"
   ]
  },
  {
   "cell_type": "code",
   "execution_count": 4,
   "metadata": {
    "ExecuteTime": {
     "end_time": "2020-12-15T09:39:20.186691Z",
     "start_time": "2020-12-15T09:39:19.996617Z"
    }
   },
   "outputs": [
    {
     "name": "stdout",
     "output_type": "stream",
     "text": [
      "1. 강사가 실제 사용하는 자동 프로그램 소개\n",
      "2. 필요한 프로그램 설치 시연\n",
      "3. 데이터를 엑셀 파일로 만들기\n",
      "4. 엑셀 파일 이쁘게! 이쁘게!\n",
      "5. 나대신 주기적으로 파이썬 프로그램 실행하기\n",
      "6. 파이썬으로 슬랙(slack) 메신저에 글쓰기\n",
      "7. 웹사이트 변경사항 주기적으로 체크해서, 메신저로 알람주기\n",
      "8. 네이버 API 사용해서, 블로그에 글쓰기\n",
      "9. 자동으로 쿠팡파트너스 API 로 가져온 상품 정보, 네이버 블로그/트위터에 홍보하기\n"
     ]
    }
   ],
   "source": [
    "import requests\n",
    "from bs4 import BeautifulSoup\n",
    "\n",
    "res = requests.get('https://davelee-fun.github.io/blog/crawl_test')\n",
    "soup = BeautifulSoup(res.content, 'html.parser')\n",
    "\n",
    "section = soup.find('ul', {'id': 'dev_course_list'})\n",
    "titles = section.find_all('li', {'class': 'course'})\n",
    "for idx, title in enumerate(titles):\n",
    "    print(str(idx + 1) + '.', title.text.split('[')[0].split('-')[1].strip())"
   ]
  },
  {
   "cell_type": "markdown",
   "metadata": {},
   "source": [
    "# select_one / select를 사용한 크롤링\n",
    "ex)\n",
    "- \"ul a\"(띄어쓰기): a 태그는 ul 태그 하위 어디엔가 존재하는 태그\n",
    "    - ul 태그 바로 하위에 존재하지 않아도 된다.\n",
    "- \"ul > a\": a 태그는 ul 태그 바로 밑에 존재하는 태그"
   ]
  },
  {
   "cell_type": "markdown",
   "metadata": {},
   "source": [
    "## select"
   ]
  },
  {
   "cell_type": "code",
   "execution_count": 5,
   "metadata": {
    "ExecuteTime": {
     "end_time": "2020-12-15T09:39:20.559924Z",
     "start_time": "2020-12-15T09:39:20.189626Z"
    }
   },
   "outputs": [
    {
     "name": "stdout",
     "output_type": "stream",
     "text": [
      "(왕초보) - 클래스 소개\n",
      "(왕초보) - 블로그 개발 필요한 준비물 준비하기\n",
      "(왕초보) - Github pages 설정해서 블로그 첫 페이지 만들어보기\n",
      "(왕초보) - 초간단 페이지 만들어보기\n",
      "(왕초보) - 이쁘게 테마 적용해보기\n",
      "(왕초보) - 마크다운 기초 이해하고, 실제 나만의 블로그 페이지 만들기\n",
      "(왕초보) - 다양한 마크다운 기법 익혀보며, 나만의 블로그 페이지 꾸며보기\n",
      "(초급) - 강사가 실제 사용하는 자동 프로그램 소개 [2]\n",
      "(초급) - 필요한 프로그램 설치 시연 [5]\n",
      "(초급) - 데이터를 엑셀 파일로 만들기 [9]\n",
      "(초급) -     엑셀 파일 이쁘게! 이쁘게! [8]\n",
      "(초급) -     나대신 주기적으로 파이썬 프로그램 실행하기 [7]\n",
      "(초급) - 파이썬으로 슬랙(slack) 메신저에 글쓰기 [40]\n",
      "(초급) - 웹사이트 변경사항 주기적으로 체크해서, 메신저로 알람주기 [12]\n",
      "(초급) - 네이버 API 사용해서, 블로그에 글쓰기 [42]\n",
      "(중급) - 자동으로 쿠팡파트너스 API 로 가져온 상품 정보, 네이버 블로그/트위터에 홍보하기 [412]\n"
     ]
    }
   ],
   "source": [
    "import requests\n",
    "from bs4 import BeautifulSoup\n",
    "\n",
    "res = requests.get('https://davelee-fun.github.io/blog/crawl_test_css.html')\n",
    "soup = BeautifulSoup(res.content, 'html.parser')\n",
    "\n",
    "items = soup.select('.course') # class를 통한 select\n",
    "# items = soup.select('#start') # id를 통한 select\n",
    "# items = soup.select('.course.paid') # class가 여러 개인 경우\n",
    "for item in items:\n",
    "    print(item.text)"
   ]
  },
  {
   "cell_type": "code",
   "execution_count": 6,
   "metadata": {
    "ExecuteTime": {
     "end_time": "2020-12-15T09:39:20.944902Z",
     "start_time": "2020-12-15T09:39:20.561844Z"
    }
   },
   "outputs": [
    {
     "name": "stdout",
     "output_type": "stream",
     "text": [
      "(왕초보) - 클래스 소개\n",
      "(왕초보) - 블로그 개발 필요한 준비물 준비하기\n",
      "(왕초보) - Github pages 설정해서 블로그 첫 페이지 만들어보기\n",
      "(왕초보) - 초간단 페이지 만들어보기\n",
      "(왕초보) - 이쁘게 테마 적용해보기\n",
      "(왕초보) - 마크다운 기초 이해하고, 실제 나만의 블로그 페이지 만들기\n",
      "(왕초보) - 다양한 마크다운 기법 익혀보며, 나만의 블로그 페이지 꾸며보기\n"
     ]
    }
   ],
   "source": [
    "import requests\n",
    "from bs4 import BeautifulSoup\n",
    "\n",
    "res = requests.get('https://davelee-fun.github.io/blog/crawl_test_css.html')\n",
    "soup = BeautifulSoup(res.content, 'html.parser')\n",
    "\n",
    "items = soup.select('ul > li#start')\n",
    "for item in items:\n",
    "    print(item.text)"
   ]
  },
  {
   "cell_type": "code",
   "execution_count": 7,
   "metadata": {
    "ExecuteTime": {
     "end_time": "2020-12-15T09:39:21.131846Z",
     "start_time": "2020-12-15T09:39:20.946845Z"
    }
   },
   "outputs": [
    {
     "name": "stdout",
     "output_type": "stream",
     "text": [
      "(중급) - 자동으로 쿠팡파트너스 API 로 가져온 상품 정보, 네이버 블로그/트위터에 홍보하기 [412]\n"
     ]
    }
   ],
   "source": [
    "import requests\n",
    "from bs4 import BeautifulSoup\n",
    "\n",
    "res = requests.get('https://davelee-fun.github.io/blog/crawl_test_css.html')\n",
    "soup = BeautifulSoup(res.content, 'html.parser')\n",
    "\n",
    "items = soup.select('ul#dev_course_list > li.course.paid')\n",
    "for item in items:\n",
    "    print(item.text)"
   ]
  },
  {
   "cell_type": "markdown",
   "metadata": {},
   "source": [
    "## select_one"
   ]
  },
  {
   "cell_type": "code",
   "execution_count": 8,
   "metadata": {
    "ExecuteTime": {
     "end_time": "2020-12-15T09:39:21.314848Z",
     "start_time": "2020-12-15T09:39:21.134843Z"
    }
   },
   "outputs": [
    {
     "name": "stdout",
     "output_type": "stream",
     "text": [
      "(중급) - 자동으로 쿠팡파트너스 API 로 가져온 상품 정보, 네이버 블로그/트위터에 홍보하기 [412]\n"
     ]
    }
   ],
   "source": [
    "import requests\n",
    "from bs4 import BeautifulSoup\n",
    "\n",
    "res = requests.get('https://davelee-fun.github.io/blog/crawl_test_css.html')\n",
    "soup = BeautifulSoup(res.content, 'html.parser')\n",
    "\n",
    "item = soup.select_one('ul#dev_course_list > li.course.paid')\n",
    "print(item.text)"
   ]
  },
  {
   "cell_type": "markdown",
   "metadata": {},
   "source": [
    "## select와 find를 같이 사용하는 경우"
   ]
  },
  {
   "cell_type": "code",
   "execution_count": 9,
   "metadata": {
    "ExecuteTime": {
     "end_time": "2020-12-15T09:39:21.707157Z",
     "start_time": "2020-12-15T09:39:21.317836Z"
    }
   },
   "outputs": [
    {
     "name": "stdout",
     "output_type": "stream",
     "text": [
      "일정, 커리큘럼 타이틀, 난이도\n",
      "5.1 ~ 6.15, 나만의 엣지있는 블로그 사이트 만들기 (취미로 익히는 IT), 초급\n",
      "6.16 ~ 7.31, 파이썬과 데이터과학 첫걸음 (IT 기본기 익히기), 중급\n"
     ]
    }
   ],
   "source": [
    "import requests\n",
    "from bs4 import BeautifulSoup\n",
    "\n",
    "res = requests.get('https://davelee-fun.github.io/blog/crawl_html_css.html')\n",
    "soup = BeautifulSoup(res.content, 'html.parser')\n",
    "\n",
    "items = soup.select('tr') # select 사용\n",
    "for item in items:\n",
    "    columns = item.select('td')\n",
    "    row_str = ''\n",
    "    for column in columns:\n",
    "        row_str += ', ' + column.text\n",
    "    print(row_str[2:])"
   ]
  },
  {
   "cell_type": "code",
   "execution_count": 10,
   "metadata": {
    "ExecuteTime": {
     "end_time": "2020-12-15T09:39:21.903138Z",
     "start_time": "2020-12-15T09:39:21.710102Z"
    }
   },
   "outputs": [
    {
     "name": "stdout",
     "output_type": "stream",
     "text": [
      "일정, 커리큘럼 타이틀, 난이도\n",
      "5.1 ~ 6.15, 나만의 엣지있는 블로그 사이트 만들기 (취미로 익히는 IT), 초급\n",
      "6.16 ~ 7.31, 파이썬과 데이터과학 첫걸음 (IT 기본기 익히기), 중급\n"
     ]
    }
   ],
   "source": [
    "import requests\n",
    "from bs4 import BeautifulSoup\n",
    "\n",
    "res = requests.get('https://davelee-fun.github.io/blog/crawl_html_css.html')\n",
    "soup = BeautifulSoup(res.content, 'html.parser')\n",
    "\n",
    "items = soup.find_all('tr') # find_all 사용\n",
    "for item in items:\n",
    "    columns = item.select('td')\n",
    "    row_str = ''\n",
    "    for column in columns:\n",
    "        row_str += ', ' + column.text\n",
    "    print(row_str[2:])"
   ]
  },
  {
   "cell_type": "markdown",
   "metadata": {},
   "source": [
    "# 실전 크롤링"
   ]
  },
  {
   "cell_type": "markdown",
   "metadata": {},
   "source": [
    "## 네이버 쇼핑 사이트 크롤링 실습"
   ]
  },
  {
   "cell_type": "code",
   "execution_count": 11,
   "metadata": {
    "ExecuteTime": {
     "end_time": "2020-12-15T09:39:22.363156Z",
     "start_time": "2020-12-15T09:39:21.906099Z"
    }
   },
   "outputs": [
    {
     "name": "stdout",
     "output_type": "stream",
     "text": [
      "1. 크리스마스 트리\n",
      "2. KF94 마스크\n",
      "3. 헤드셋\n",
      "4. 면도기\n",
      "5. 롱패딩\n",
      "6. 닌텐도 스위치\n",
      "7. 에어팟 프로\n",
      "8. 여성 롱패딩\n",
      "9. 마스크\n",
      "10. 가습기\n"
     ]
    }
   ],
   "source": [
    "import requests\n",
    "from bs4 import BeautifulSoup\n",
    "\n",
    "res = requests.get('https://search.shopping.naver.com/best100v2/main.nhn')\n",
    "soup = BeautifulSoup(res.content, 'html.parser')\n",
    "\n",
    "chart_data = soup.select('#popular_srch_lst > li > span.txt')\n",
    "for idx, chart in enumerate(chart_data):\n",
    "    print(str(idx + 1) + '.', chart.text)"
   ]
  },
  {
   "cell_type": "code",
   "execution_count": 12,
   "metadata": {
    "ExecuteTime": {
     "end_time": "2020-12-15T09:39:23.990582Z",
     "start_time": "2020-12-15T09:39:22.366115Z"
    },
    "scrolled": true
   },
   "outputs": [
    {
     "name": "stdout",
     "output_type": "stream",
     "text": [
      "https://search.shopping.naver.com/best100v2/detail.nhn?catId=50000000\n",
      "지오다노 어니언 퀄팅 경량다운 자켓 37090...\n",
      "지오다노 여 에코다운 숏푸파 패딩 370921\n",
      "나이키 NSW 기모 조거팬츠 트레이닝바지 츄...\n",
      "에고이스트 사가퍼 라그랑 볼륨 구스 숏 다...\n",
      "내셔널지오그래픽 카이만3 구스다운 롱패딩...\n",
      "노스페이스화이트라벨 공용 알칸 티볼 자켓...\n",
      "휠라 크레마 보아 플리스 자켓 FS2PLC4101X\n",
      "에고이스트 폭스퍼 스모킹 WAIST 벨티드 다...\n",
      "달콤한레드 스윗드림 신혼부부 파자마 수면...\n",
      "캘빈클라인진 남성 덕 다운 푸퍼 점퍼 J318...\n",
      "폴로랄프로렌 남녀공용 하프집업 니트 맨투...\n",
      "뉴발란스 공용 액티브 구스 롱다운 NBNP843...\n",
      "지오지아 남성용 히든 사이드 슬릿 구스다운...\n",
      "지오다노 공용 코튼 져지 크루넥 3PCS 패키...\n",
      "지오지아 폭스퍼 후드 롱 다운 AEA4FP1101\n",
      "캘빈클라인진 여성 오버핏 벨트로고 다운점...\n",
      "자체제작 하트베리 피치기모 파자마 3coor\n",
      "폴햄 여성 기모 조거 트레이닝 팬츠 PHA4PT...\n",
      "지오다노 여 울 블레이저 370910\n",
      "나이키 남성용 NSW 클럽 조거팬츠 BV2679\n",
      "내셔널지오그래픽 헤러 플리스 풀 집업 N20...\n",
      "내셔널지오그래픽 카이만S RDS 구스 다운 벤...\n",
      "남자 9부 겨울 기모 면 스판 치노 슬랙스 밴...\n",
      "순면 기모 체크 커플 파자마 잠옷 홈웨어\n",
      "다이나핏 메시브 2.0 벤치다운 구스 롱패딩...\n",
      "데상트 남여공용 캐논 구스 롱패딩 S9323SD...\n",
      "테이트 2020가을 남여공용 브이넥 경량 덕다...\n",
      "폴로랄프로렌 남녀공용 라운드넥 꽈배기 니...\n",
      "지오다노 여 브러시드 테리 조거 팬츠 4109...\n",
      "더아이잗 리버시블 롱 무스탕 ik9a3fs04\n",
      "보들 따뜻 극세사 수면 커플 잠옷 세트\n",
      "코듀로이 골덴 벨벳와이드 겨울 밴딩팬츠 고...\n",
      "ZOOC 폭스퍼 구스다운 숏 패딩점퍼 Z204PSG...\n",
      "지오다노 브러시드 맨투맨 320930\n",
      "앤드지 프리미엄 푸퍼 숏다운 점퍼 BZA4JP1...\n",
      "폴앤조 폴앤조 코튼 블렌디드 코듀로이 팬츠...\n",
      "올리브데올리브 폭스퍼 트리밍 다운 숏패딩...\n",
      "휠라 에이스 롱다운 FS2DJB4003X\n",
      "면팬티 하고 모달팬티 노라인 하성민기업\n",
      "기모 밴딩 카모 스판 조거팬츠\n",
      "더뽐 무릎 안나오는 부드러운 골지 조거팬츠\n",
      "뉴발란스 남여공용 UNI 액티브 구스 숏 다운...\n",
      "지오다노 여 브러시드 T R 슬림핏 슬랙스 0...\n",
      "폴로랄프로렌 여성 코튼 브이넥 케이블 꽈배...\n",
      "자라 숏패딩 푸퍼 점퍼 4341202\n",
      "뉴발란스 여성 연아 벨핏 푸퍼 다운 NBNP84...\n",
      "남성 극세사 수면잠옷세트 겨울잠옷 밍크잠...\n",
      "마이워니 여성 융기모 슬랙스 팬츠 겨울 방...\n",
      "다이나핏 플레이어 PLAYER 미들다운 스포츠...\n",
      "스윗베어 곰돌이 캐릭터 순면 커플 잠옷 파...\n",
      "남녀공용 엘모 체크 면 커플 신혼 잠옷세트...\n",
      "지오다노 남성 발마칸 코트 070917\n",
      "캐시미어 빅사이즈 봄 가을 겨울 오버핏 라...\n",
      "수면잠옷세트 홈웨어 극세사 수면바지 여성...\n",
      "루나코어스 파스텔 양모 하프코트\n",
      "나이키 클럽 플리스 오픈햄 남자 기모 트레...\n",
      "온앤온 페이크퍼 숏패딩 점퍼 JP0WM516\n",
      "클라이드앤 여성 폭스퍼 롱패딩 FJDDU953F\n",
      "노스페이스화이트라벨 남녀공용 익스플로링...\n",
      "클래식 순면 잠옷세트 커플 파자마 신혼부부\n",
      "나이키 남성 클럽 조거팬츠 BB BV2671-010\n",
      "폴로랄프로렌 여성 New 브이넥 케이블 면니...\n",
      "오조이 울 30% 플리츠 모직 롱 밴딩 스커트\n",
      "지오다노 남 푸파 숏 다운 070920\n",
      "파타고니아 클래식 레트로-X 후리스 플리스...\n",
      "폴로랄프로렌 플리스 맨투맨 남녀공용 맨투...\n",
      "반에이크 데일리패치언발기모조거팬츠 VB0Z...\n",
      "스톤아일랜드 남자 후드 롱패딩 731570123 ...\n",
      "레노마레이디스 호바트 슬림 라인 폭스 퍼 ...\n",
      "파트 남자 조거팬츠 테크웨어 카고바지\n",
      "기모 레터링 패치 스트링 언발 밴딩 조거팬...\n",
      "속옷미인 피치기모 플라워피치기모 세트 여...\n",
      "스위스밀리터리 남자팬티 드로즈속옷\n",
      "몽클레르 20FW 클루니 남성 패딩 CLUNY 091...\n",
      "폴앤조 메탈릭 니트 풀오버 3종\n",
      "폴햄 남성 밴딩 플리스 트레이닝 팬츠 PHZ4...\n",
      "나이키 NSW 롱다운 필 윈드러너 후디 자켓 ...\n",
      "아디다스 3ST 롱 코트 GF0070 GP2921\n",
      "AND 아뜰리에 1st 호주산 양모 100\n",
      "울30 도톰 골지 니트 조거 팬츠\n",
      "파타고니아 레트로 파일 플리스 자켓 22801\n",
      "마른파이브 히트터치 발열내의 기모 겨울 성...\n",
      "케네스레이디 메모리즈 구스패딩 EGDHJK990...\n",
      "RZ지오지아 프리미엄 폭스퍼 후드 롱 구스 ...\n",
      "씨티지 STELLA 호주 양모 베스트\n",
      "TBJ 공용 SOLAR BALL 푸퍼 패딩 점퍼 T194J...\n",
      "폴로랄프로렌 여성 베이직 코튼 브이넥 꽈배...\n",
      "에디션앤드지 남성 V넥 구스다운  6종 택1 ...\n",
      "지오다노 여 페이크 퍼 베스트 370916\n",
      "휠라 팝콘 보아 플리스 자켓 FS2PLC4104X\n",
      "남자 겨울 기모 벌룬 와이드 면 코듀로이 골...\n",
      "에고이스트 하이넥 라이트 퀼팅 벨티드 다운...\n",
      "겨울 기모 밴딩 세미 트레이닝팬츠 따듯한 ...\n",
      "로엠 폭스퍼 숏 다운패딩 RMJDA4T01A\n",
      "피노 특양면 무지 맨투맨\n",
      "다니엘크레뮤 20FW 구스 다운 라미네이티드...\n",
      "MIR 남자 부드러운 캐시미어 스판 반폴라 니...\n",
      "지오다노 여 초경량 퀼팅 379902\n",
      "내셔널지오그래픽 바이슨 RDS 덕 다운 숏패...\n",
      "몽클레르 수엔 여성 롱패딩\n",
      "--------------------------------------------------------------------------------\n",
      "https://search.shopping.naver.com/best100v2/detail.nhn?catId=50000006\n",
      "락토핏 생유산균 골드 2g x 50포\n",
      "골든팜 지웨이 올스타 스팀 닭가슴살 오리지...\n",
      "제주특별자치도개발공사 삼다수 2L\n",
      "정관장 홍삼정 에브리타임 밸런스 10ml x 3...\n",
      "종근당건강 프로메가 알티지 오메가3 520mg...\n",
      "CJ제일제당 비비고 사골곰탕 500g\n",
      "대정 스파클 2L\n",
      "고려은단 비타민C 1000 1080mg x 720정\n",
      "제주특별자치도개발공사 삼다수 500ml\n",
      "농심 백산수 2L\n",
      "오리온 꼬북칩 초코츄러스맛 65g\n",
      "후디스 하이뮨 프로틴 밸런스 296g\n",
      "덴프스 덴마크 유산균 이야기 170mg x 60캡...\n",
      "동서식품 맥심 모카골드 마일드 12g x 400개...\n",
      "맛있는 오뚜기 밥 210g\n",
      "락토핏 생유산균 코어 2g x 60포\n",
      "동서식품 맥심 모카골드 마일드 12g x 210개...\n",
      "CJ제일제당 햇반 200g\n",
      "지웨이 프로바이오틱스 생 유산균 180mg x ...\n",
      "네이쳐티 버블티 블랙 타피오카펄 1kg\n",
      "지웨이 슈가 먹는 저분자 피쉬 콜라겐 150g\n",
      "종근당건강 아이클리어 루테인 지아잔틴 50...\n",
      "대정 스파클 500ml\n",
      "CJ제일제당 햇반 210g\n",
      "동서식품 맥심 화이트골드 11.7g x 400개입\n",
      "고려은단 메가도스C 3000 3g x 100개입\n",
      "코카콜라 제로 190ml\n",
      "하이트진로 석수 2L\n",
      "프롬바이오 관절연골 엔 보스웰리아 850mg ...\n",
      "농심 신라면 120g\n",
      "청년곡창 몽모랑시 타트체리 콜라겐 젤리 스...\n",
      "천연재료 사과 밀떡볶이\n",
      "복순도가 손막걸리 6.5도 935ml\n",
      "마이카인드 유기농 비타민D 1038mg x 60정\n",
      "청년곡창 친환경 새싹보리 분말 100g\n",
      "GC녹십자 마이크로바이옴 포스트바이오틱스...\n",
      "동서식품 카누 미니 마일드 로스트 아메리카...\n",
      "청년곡창 산양유 단백질 분말 100g\n",
      "건강한청년 새싹보리 분말 유기농\n",
      "CJ제일제당 비비고 육개장 500g\n",
      "청년곡창 친환경 새싹보리 분말 70g\n",
      "코카콜라 500ml\n",
      "종근당건강 아이클리어 눈사랑 루테인 500m...\n",
      "셀렉스 코어 프로틴 플러스 304g\n",
      "고려은단 비타민C 1000 1080mg x 600정\n",
      "고려은단 퓨어 알티지 오메가3 업그레이드 ...\n",
      "CJ제일제당 햇반 발아현미밥 210g\n",
      "락토핏 장을 위한 생유산균 19 2g x 180포\n",
      "한양식품 오징어 숏다리\n",
      "CJ제일제당 스팸 클래식 200g\n",
      "뉴트리원 비비랩 저분자 콜라겐 2g x 30포\n",
      "크릴56 크릴오일 1000mg x 30캡슐\n",
      "남원 월매식품 김부각 130g\n",
      "청년곡창 포스트바이오틱스 프롤린 170g\n",
      "오리온 꼬북칩 초코츄러스맛 160g\n",
      "마이카인드 유기농 맘스 멀티비타민 1827mg...\n",
      "뉴트리원 루테인 지아잔틴 164 500mg x 30캡...\n",
      "정관장 화애락 진 70ml x 30포\n",
      "오뚜기 진라면 매운맛 120g\n",
      "동원 샘물 2L\n",
      "레이델 폴리코사놀5 200mg x 30정\n",
      "고려은단 비타민C 1000 1080mg x 300정\n",
      "CJ제일제당 스팸 클래식 340g\n",
      "종근당건강 프리바이오틱스 프락토올리고당...\n",
      "정식품 베지밀 검은콩두유 고칼슘 190ml\n",
      "청년곡창 타트체리주스 NFC 착즙 100% 원액...\n",
      "안국건강 안국 루테인 지아잔틴 미니 90.91...\n",
      "NOW 비오틴 5000 480mg x 60캡슐\n",
      "동서식품 맥심 모카 골드 마일드 12g x 250...\n",
      "동아오츠카 나랑드 사이다 180ml\n",
      "롯데칠성음료 칸타타 콘트라베이스 콜드브루...\n",
      "정관장 홍삼정 에브리타임 로얄 10ml x 30개...\n",
      "마이카인드 유기농 밀크씨슬 1084mg x 30정\n",
      "매일유업 상하목장 유기농 우유 190ml\n",
      "매일유업 블루다이아몬드 아몬드브리즈 오리...\n",
      "청년곡창 사과초모식초 애플사이다비니거 분...\n",
      "오리온 닥터유 단백질바 50g\n",
      "프롬바이오 위건강엔 매스틱 세트 3g x 15포...\n",
      "매일유업 매일우유 매일두유 99.89 190ml\n",
      "마이카인드 유기농 여성 멀티비타민 1498mg...\n",
      "뼈엔 엠비피 MBP 130mg x 30캡슐\n",
      "대상 종가집 행복이온 포기김치 10kg\n",
      "종근당건강 프로메가 리얼 오메가3 735mg x...\n",
      "종근당건강 칼슘 앤 마그네슘 비타민D 아연...\n",
      "오늘의바디 제주 친환경 무농약 새싹보리 분...\n",
      "청년곡창 보스웰리아 환 플러스알파 120g\n",
      "고려은단 비타민C 1000 이지 600mg x 180정\n",
      "술샘 술취한 원숭이 10.8도 375ml\n",
      "CJ제일제당 비비고 왕교자 1.05kg\n",
      "G7 베트남 수출용 블랙커피 2g x 200개입\n",
      "ANCHOR 무염버터 454g\n",
      "청년곡창 초유단백질 분말 100g\n",
      "오리온 꼬북칩 초코츄러스맛 136g\n",
      "트레핀 벨기안 커피맛 스위트 캔디 1.5kg\n",
      "동원에프앤비 동원 샘물 500ml\n",
      "청년곡창 인생 타트체리 주스 분말\n",
      "농심 백산수 500ml\n",
      "뉴욕웨이 wpc 단백질보충제 헬스보충제 웨이...\n",
      "사조대림 사조 전자레인지용 로하이 팝콘 9...\n",
      "광동 비타500 100ml\n",
      "--------------------------------------------------------------------------------\n",
      "https://search.shopping.naver.com/best100v2/detail.nhn?catId=50000008\n",
      "베리어 15W 고속 무선충전 차량용 휴대폰 거...\n",
      "휴비딕 써모파인더 플러스 비접촉식 체온계...\n",
      "베리어 차량용 공기청정기\n",
      "암웨이 글리스터 치약 200g\n",
      "어니우니 밀대걸레 스프레이 물걸레 청소기\n",
      "야마하 디지털피아노 P125\n",
      "베리어 마그네틱 차량용 핸드폰 거치대 일반...\n",
      "BRAUN IRT-6520 귀체온계\n",
      "3M 8822 1급 방진마스크\n",
      "어니우니 바른 자세교정 밴드\n",
      "디스크닥터 에어리프 디닥넥\n",
      "휴비딕 FS-300\n",
      "세븐펫 강아지 미끄럼방지 도톰매트\n",
      "3M 새니타이저 손소독제 500ml 알로에\n",
      "센소다인 멀티케어 치약 100g\n",
      "ROCHE 아큐첵 퍼포마 혈당시험지 50매\n",
      "로얄캐닌 인도어 27\n",
      "메이튼 자동차 코일매트\n",
      "BRAUN 귀적외선 체온계 IRT-6030\n",
      "베리어 30W 듀얼포트 미니 PPS 초고속 차량...\n",
      "아이엠듀 차량용 공기청정기 제피로스 C1\n",
      "한다헬스케어 굿매너 황사 방역 마스크 KF9...\n",
      "퍼피가드 강아지 미끄럼방지  매트\n",
      "씨앗사 부루마블 클래식 58000 보드게임\n",
      "세븐펫 도톰카페트 50*50cm\n",
      "주파집 15W 차량용 센서 무선 고속충전거치...\n",
      "아이엠듀 차량용 핸드폰 거치대 CG9\n",
      "3M 표준형 올터치 더블액션 막대걸레\n",
      "방탄소년단 BTS - BE Deluxe Edition 초회한...\n",
      "대주산업 캐츠랑 고양이 전연령 사료\n",
      "덴티스테 플러스화이트 치약 튜브형 200g\n",
      "주파집 차량용 센서 무선 고속충전거치대 Q...\n",
      "메이튼 차량용 핸드폰 고속 무선충전 거치대...\n",
      "코지마 빅풋 CMF-630\n",
      "굿프렌드 캡틴 건식 족욕기 GOOD-F6\n",
      "두리씨오 두리펀 더블퀵 빨래건조대 6단 와...\n",
      "테라브레스 오랄린스 마일드민트 473ml\n",
      "아이엠듀 차량용 목쿠션 메모리폼 1 1 NCB1\n",
      "오므론 자동전자혈압계 HEM-7121\n",
      "매틴 앳플리 스마트 인바디 체중계 T8\n",
      "로얄캐닌 마더 앤 베이비 캣 캔\n",
      "한국콜마 애터미 프로폴리스 치약 200g\n",
      "MF매직하우스 고리회전형 논슬립 옷걸이\n",
      "에이티바이오 멍냥빌리지 강아지 덴탈껌 멍...\n",
      "로랜텍 텔포 퀄컴3.0 듀얼 차량용 고속충전...\n",
      "ROCHE 아큐첵 액티브 혈당시험지 50매\n",
      "뮤디스 디지털피아노 MF-300L Plus\n",
      "로얄캐닌 유리너리 케어\n",
      "네오 프리미엄 미디어 여과재 퓨어 중성 M ...\n",
      "3M 새니타이저 손소독제 9270겔 500ml\n",
      "디씨네트워크 퀵차지 3.0 듀얼 차량용 고속...\n",
      "엠지엠씨 가정용 진공 음식물쓰레기통 2L 3...\n",
      "초코펫하우스 강아지 슬라이드계단 미끄럼방...\n",
      "수이사쿠 프로호스 EX 2in1 고급사이펀\n",
      "모닝글로리 2021년 스탠딩 달력 4500 탁상 ...\n",
      "아이콘스 카카오프렌즈 2021년 스몰 탁상용...\n",
      "크리넥스 뉴 순수 소프트 3겹 화장지 27m 3...\n",
      "SK루브리컨츠 지크 탑 5W30 1L\n",
      "코리아보드게임즈 루미큐브 클래식 보드게임...\n",
      "센소다인 오리지널 치약 100g\n",
      "야마하 디지털피아노 P-125\n",
      "홈스웰 재활용 분리수거함 3P\n",
      "더블디 차량용 마그네틱 핸드폰 거치대\n",
      "그린제약 소독용 에탄올 1L 1병\n",
      "P&G 다우니 엑스퍼트 실내건조 섬유유연제 ...\n",
      "케이엠모터스 충잘 무선충전 거치대 WC300\n",
      "롤랜드 디지털피아노 ROLAND FP-10 FP10\n",
      "테트라 브릴란트 스펀지 슈퍼쌍기 여과기\n",
      "써모스 보온도시락 TKLD-1601F\n",
      "문교 소프트 오일 파스텔 72색 우드케이스 ...\n",
      "요요쉬 배변패드 플로랄와인향 소형 50매\n",
      "한울생약 닥터스 손소독티슈 30매\n",
      "네오메디컬 핸즈 클린 겔 손소독제 500ml\n",
      "세븐펫 강아지 고양이 미끄럼방지 매트 도톰...\n",
      "폴리덴트 5분 퀵 틀니 의치 세정제\n",
      "디씨네트워크 차량용 360도 마그네틱 자석거...\n",
      "큐디스 미세모 만모칫솔 1세트 2개입\n",
      "더블에이 A4용지 복사용지 80g 2500매\n",
      "펫큐리안 NOW 그레인프리 스몰브리드 어덜트\n",
      "에버크린 ES UN 고양이모래 19kg\n",
      "닥터웰 에어라이너 공기압마사지기 HDW-500...\n",
      "메이튼 차량용 목쿠션 2개\n",
      "그린제약 소독용 에탄올 4L\n",
      "ROCHE 아큐첵 퍼포마 혈당시험지 100매\n",
      "밧드야 음식물쓰레기통\n",
      "켄트 오리지널 초극세모 칫솔\n",
      "존슨앤존슨 리스테린 쿨민트 750ml\n",
      "써모스 보온도시락 TKLF-1200F\n",
      "에버조이 건식 좌훈 족욕기 JOY-010\n",
      "동국제약 의료용 압박밴드 센시안 메디슬리...\n",
      "J&J 비대면 적외선 온도계 케어유 2\n",
      "벡셀 알카라인 건전지 AAA\n",
      "로얄캐닌 FIT 피트\n",
      "다이나톤 디지털피아노 DCP-580\n",
      "아이센스 케어센스2 혈당시험지 100매\n",
      "디팡 펫플레이매트 1칸 폴딩타입 소형견\n",
      "둘더스 Y 스텐 대형 빨래건조대\n",
      "주파집 퀄컴 QC 3.0 듀얼 차량용 고속 충전...\n",
      "수림수족관 올디아망어항\n",
      "에프에이 이올스왑 100매\n",
      "--------------------------------------------------------------------------------\n"
     ]
    }
   ],
   "source": [
    "import requests\n",
    "from bs4 import BeautifulSoup\n",
    "\n",
    "website_list = ['https://search.shopping.naver.com/best100v2/detail.nhn?catId=50000000', # '패션의류' 사이트\n",
    "                'https://search.shopping.naver.com/best100v2/detail.nhn?catId=50000006', # '식품' 사이트\n",
    "                'https://search.shopping.naver.com/best100v2/detail.nhn?catId=50000008'] # '생활/건강' 사이트\n",
    "\n",
    "for website in website_list:\n",
    "    res = requests.get(website)\n",
    "    soup = BeautifulSoup(res.content, 'html.parser')\n",
    "    print(website)\n",
    "    \n",
    "    fashion_data = soup.select('#productListArea > ul > li > p > a')\n",
    "    for data in fashion_data:\n",
    "        print(data.text)\n",
    "    print('-' * 80)"
   ]
  },
  {
   "cell_type": "markdown",
   "metadata": {},
   "source": [
    "## 네이버 금융 사이트 크롤링 실습"
   ]
  },
  {
   "cell_type": "code",
   "execution_count": 13,
   "metadata": {
    "ExecuteTime": {
     "end_time": "2020-12-15T09:39:25.585769Z",
     "start_time": "2020-12-15T09:39:23.995542Z"
    }
   },
   "outputs": [
    {
     "name": "stdout",
     "output_type": "stream",
     "text": [
      "1. 삼성전자\n",
      "2. 셀트리온\n",
      "3. 명신산업\n",
      "4. 셀트리온헬스케어\n",
      "5. LG디스플레이\n",
      "6. 신풍제약\n",
      "7. 삼성전자우\n",
      "8. 현대바이오\n",
      "9. 카카오\n",
      "10. SK하이닉스\n"
     ]
    }
   ],
   "source": [
    "import requests\n",
    "from bs4 import BeautifulSoup\n",
    "\n",
    "res = requests.get('https://finance.naver.com/sise/')\n",
    "soup = BeautifulSoup(res.content, 'html.parser')\n",
    "\n",
    "popular_chart = soup.select('#popularItemList > li > a')\n",
    "for idx, popular in enumerate(popular_chart):\n",
    "    print(str(idx + 1) + '.', popular.text)"
   ]
  },
  {
   "cell_type": "code",
   "execution_count": 14,
   "metadata": {
    "ExecuteTime": {
     "end_time": "2020-12-15T09:39:27.206722Z",
     "start_time": "2020-12-15T09:39:25.588790Z"
    }
   },
   "outputs": [
    {
     "name": "stdout",
     "output_type": "stream",
     "text": [
      "지수이름: 다우산업 , 현재지수: 29,861.55 하락\n",
      "지수이름:  나스닥 , 현재지수: 12,440.04 상승\n",
      "지수이름:  홍콩H , 현재지수: 10,399.56 하락\n",
      "지수이름:  상해종합 , 현재지수: 3,367.23 하락\n",
      "지수이름:  니케이225 , 현재지수: 26,687.84 하락\n"
     ]
    }
   ],
   "source": [
    "import requests\n",
    "from bs4 import BeautifulSoup\n",
    "\n",
    "res = requests.get('https://finance.naver.com/sise/')\n",
    "soup = BeautifulSoup(res.content, 'html.parser')\n",
    "\n",
    "main_chart = soup.select('div.rgt > ul.lst_major > li')\n",
    "\n",
    "for main in main_chart:\n",
    "    name = main.find('a').text\n",
    "    value = main.find('span').text\n",
    "    trend = main.find('em').text\n",
    "    print('지수이름:', name, ',', '현재지수:', value, trend)"
   ]
  },
  {
   "cell_type": "markdown",
   "metadata": {},
   "source": [
    "# requests 라이브러리와 urllib 라이브러리 비교\n",
    "- 최근에는 **requests + bs4** 세트로 많이 사용되긴 하지만, 기존에 사용하던 **urllib + bs4** 세트도 알아두면 좋을 것이다.\n",
    "    - 경우에 따라 urllib  송수신시 인코딩 처리가 달라서, urllib으로는 정삭적으로 데이터를 가져오느 경우가 간혹 있다. (오래된 예전 사이트의 경우)\n",
    "    - 그러나 최근에는 대부분의 사이트가 인코딩 처리를 유니코드로 설정하고 있으므로, 위와 같은 경우는 극히 드물다.\n",
    "- 따라서 requests 라이브러리를 사용해서 크롤링을 진행하고, 문제가 있어보이는 경우에만 urllib으로 한 번 실행해보면 좋을 것이다."
   ]
  },
  {
   "cell_type": "markdown",
   "metadata": {},
   "source": [
    "## requests + bs4 세트를 사용한 경우"
   ]
  },
  {
   "cell_type": "code",
   "execution_count": 15,
   "metadata": {
    "ExecuteTime": {
     "end_time": "2020-12-15T09:39:27.601098Z",
     "start_time": "2020-12-15T09:39:27.209761Z"
    }
   },
   "outputs": [
    {
     "name": "stdout",
     "output_type": "stream",
     "text": [
      "상품명: 보몽드 순면스퀘어 솔리드 누빔매트커버, 다크블루\n",
      "상품명: 슈에뜨룸 선인장 리플 침구 세트, 베이지\n",
      "상품명: 선우랜드 레인보우 2단 문걸이용 옷걸이 _중형, 화이트, 상세페이지참조\n",
      "상품명: 보드래 헬로우 누빔 매트리스커버, 핑크\n",
      "상품명: 보드래 퍼펙트 누빔 매트리스커버, 차콜\n",
      "상품명: 피아블 클래식 방수 매트리스커버, 화이트\n",
      "상품명: 더자리 에코항균 마이크로 매트리스커버, 밀키차콜그레이\n",
      "상품명: 더자리 프레쉬 퓨어 매트리스 커버, 퓨어 차콜그레이\n",
      "상품명: 몽쉐어 알러스킨 항균 매트리스 커버, 카키그레이\n",
      "상품명: 쿠팡 브랜드 - 코멧 홈 40수 트윌 순면 100% 홑겹 매트리스커버, 그레이\n",
      "상품명: 패브릭아트 항균 마이크로 원단 매트리스 커버, 아이보리\n",
      "상품명: 바숨 순면 누빔 침대 매트리스커버, 차콜\n",
      "상품명: WEMAX 다용도 문옷걸이, 화이트, 1개\n",
      "상품명: 타카타카 프리미엄 나노 화이바 누빔 매트리스 커버, 젠틀핑핑\n",
      "상품명: 보몽드 순면스퀘어 누빔매트커버, 다크그레이\n",
      "상품명: 보드래 국내산 순면 60수 누빔 매트리스커버, 그레이\n"
     ]
    }
   ],
   "source": [
    "import requests\n",
    "from bs4 import BeautifulSoup\n",
    "\n",
    "res = requests.get('https://davelee-fun.github.io/')\n",
    "soup = BeautifulSoup(res.content, 'html.parser')\n",
    "\n",
    "items = soup.select('h4.card-text')\n",
    "for item in items:\n",
    "    print(item.text.strip())"
   ]
  },
  {
   "cell_type": "markdown",
   "metadata": {},
   "source": [
    "## urllib + bs4 세트를 사용한 경우"
   ]
  },
  {
   "cell_type": "code",
   "execution_count": 16,
   "metadata": {
    "ExecuteTime": {
     "end_time": "2020-12-15T09:39:28.939019Z",
     "start_time": "2020-12-15T09:39:27.603991Z"
    }
   },
   "outputs": [
    {
     "name": "stdout",
     "output_type": "stream",
     "text": [
      "상품명: 보몽드 순면스퀘어 솔리드 누빔매트커버, 다크블루\n",
      "상품명: 슈에뜨룸 선인장 리플 침구 세트, 베이지\n",
      "상품명: 선우랜드 레인보우 2단 문걸이용 옷걸이 _중형, 화이트, 상세페이지참조\n",
      "상품명: 보드래 헬로우 누빔 매트리스커버, 핑크\n",
      "상품명: 보드래 퍼펙트 누빔 매트리스커버, 차콜\n",
      "상품명: 피아블 클래식 방수 매트리스커버, 화이트\n",
      "상품명: 더자리 에코항균 마이크로 매트리스커버, 밀키차콜그레이\n",
      "상품명: 더자리 프레쉬 퓨어 매트리스 커버, 퓨어 차콜그레이\n",
      "상품명: 몽쉐어 알러스킨 항균 매트리스 커버, 카키그레이\n",
      "상품명: 쿠팡 브랜드 - 코멧 홈 40수 트윌 순면 100% 홑겹 매트리스커버, 그레이\n",
      "상품명: 패브릭아트 항균 마이크로 원단 매트리스 커버, 아이보리\n",
      "상품명: 바숨 순면 누빔 침대 매트리스커버, 차콜\n",
      "상품명: WEMAX 다용도 문옷걸이, 화이트, 1개\n",
      "상품명: 타카타카 프리미엄 나노 화이바 누빔 매트리스 커버, 젠틀핑핑\n",
      "상품명: 보몽드 순면스퀘어 누빔매트커버, 다크그레이\n",
      "상품명: 보드래 국내산 순면 60수 누빔 매트리스커버, 그레이\n"
     ]
    }
   ],
   "source": [
    "from urllib.request import urlopen\n",
    "from bs4 import BeautifulSoup\n",
    "\n",
    "res = urlopen('https://davelee-fun.github.io/')\n",
    "soup = BeautifulSoup(res, 'html.parser') # requests 라이브러리를 사용할 때와 다르게, 'res.content'가 아닌 'res'를 입력해줘야 함\n",
    "\n",
    "items = soup.select('h4.card-text')\n",
    "for item in items:\n",
    "    print(item.text.strip())"
   ]
  },
  {
   "cell_type": "markdown",
   "metadata": {},
   "source": [
    "# 크롤링 페이지 미존재 및 여러 페이지 크롤링"
   ]
  },
  {
   "cell_type": "markdown",
   "metadata": {},
   "source": [
    "## HTTP response code (크롤링할 페이지가 없는 경우 확인 방법)\n",
    "- HTTP 규격에 따라 **응답 코드(response code)**가 **200**인 경우는 **정상 응답**, 그렇지 않으면 무언가 문제가 있다는 것을 의미한다.\n",
    "    - ex) 응답 코드 404: 페이지가 없는 경우를 의미\n",
    "- 따라서 특정 페이지 요청 후, 응답 코드가 200이 아니면 특정 페이지가 없는 경우 또는 다른 문제가 있는 경우라고 인지할 수 있다."
   ]
  },
  {
   "cell_type": "code",
   "execution_count": 17,
   "metadata": {
    "ExecuteTime": {
     "end_time": "2020-12-15T09:39:29.127991Z",
     "start_time": "2020-12-15T09:39:28.941035Z"
    }
   },
   "outputs": [
    {
     "name": "stdout",
     "output_type": "stream",
     "text": [
      "페이지 없음\n"
     ]
    }
   ],
   "source": [
    "import requests\n",
    "from bs4 import BeautifulSoup\n",
    "\n",
    "res = requests.get('https://davelee-fun.github.io/xxxx')\n",
    "if res.status_code != 200:\n",
    "    print('페이지 없음')\n",
    "else:\n",
    "    soup = BeautifulSoup(res.content, 'html.parser')\n",
    "    \n",
    "    items = soup.select('h4.card-text')\n",
    "    for item in items:\n",
    "        print(item.text.strip())"
   ]
  },
  {
   "cell_type": "markdown",
   "metadata": {},
   "source": [
    "## 여러 페이지를 한 번에 크롤링"
   ]
  },
  {
   "cell_type": "code",
   "execution_count": 18,
   "metadata": {
    "ExecuteTime": {
     "end_time": "2020-12-15T09:39:33.602736Z",
     "start_time": "2020-12-15T09:39:29.131004Z"
    },
    "scrolled": true
   },
   "outputs": [
    {
     "name": "stdout",
     "output_type": "stream",
     "text": [
      "상품명: 보몽드 순면스퀘어 솔리드 누빔매트커버, 다크블루\n",
      "상품명: 슈에뜨룸 선인장 리플 침구 세트, 베이지\n",
      "상품명: 선우랜드 레인보우 2단 문걸이용 옷걸이 _중형, 화이트, 상세페이지참조\n",
      "상품명: 보드래 헬로우 누빔 매트리스커버, 핑크\n",
      "상품명: 보드래 퍼펙트 누빔 매트리스커버, 차콜\n",
      "상품명: 피아블 클래식 방수 매트리스커버, 화이트\n",
      "상품명: 더자리 에코항균 마이크로 매트리스커버, 밀키차콜그레이\n",
      "상품명: 더자리 프레쉬 퓨어 매트리스 커버, 퓨어 차콜그레이\n",
      "상품명: 몽쉐어 알러스킨 항균 매트리스 커버, 카키그레이\n",
      "상품명: 쿠팡 브랜드 - 코멧 홈 40수 트윌 순면 100% 홑겹 매트리스커버, 그레이\n",
      "상품명: 패브릭아트 항균 마이크로 원단 매트리스 커버, 아이보리\n",
      "상품명: 바숨 순면 누빔 침대 매트리스커버, 차콜\n",
      "상품명: WEMAX 다용도 문옷걸이, 화이트, 1개\n",
      "상품명: 타카타카 프리미엄 나노 화이바 누빔 매트리스 커버, 젠틀핑핑\n",
      "상품명: 보몽드 순면스퀘어 누빔매트커버, 다크그레이\n",
      "상품명: 보드래 국내산 순면 60수 누빔 매트리스커버, 그레이\n",
      "----------------------------------------------------------------------------------------------------\n",
      "상품명: 보드래 퍼펙트 누빔 매트리스커버, 베이지핑크\n",
      "상품명: 쿠팡 브랜드 - 코멧 홈 40수 순면 누빔 매트리스커버, 챠콜\n",
      "상품명: 바숨 순면 누빔 침대 매트리스커버, 화이트\n",
      "상품명: 프랑떼 항균 방수 매트리스커버, 화이트\n",
      "상품명: 보몽드 순면스퀘어 솔리드 누빔매트커버, 다크블루\n",
      "상품명: 네이쳐리빙 피아블 클래식 방수 매트리스커버, 그레이\n",
      "상품명: 쿠팡 브랜드 - 코멧 홈 순면 매트리스커버, 베이지\n",
      "상품명: 타카타카 프리미엄 나노 화이바 누빔 매트리스 커버, 프렌치불독\n",
      "상품명: 더자리 에코항균 마이크로 매트리스커버, 밀키그레이\n",
      "상품명: 보몽드 순면스퀘어 누빔매트커버, 화이트\n",
      "상품명: 피아블 클래식 방수 매트리스커버, 화이트\n",
      "상품명: 쿠팡 브랜드 - 코멧 홈 순면 매트리스커버, 차콜그레이\n",
      "----------------------------------------------------------------------------------------------------\n",
      "상품명: 쉬즈홈 모던그리드 순면 여름이불 베개커버 패드세트, 핑크\n",
      "상품명: 스코홈 빅리플 여름 차렵이불패드 3종 세트, 마린그레이\n",
      "상품명: 아망떼 시어서커 리플 홑이불 패드세트, 웨이크\n",
      "상품명: 마이센스 무더운 여름엔 시어서커 여름이불 패드 베개 이불세트 30종, 시어서커_파스텔그레이\n",
      "상품명: 믹스앤매치 로라 프릴 시어서커 침구세트, 그레이\n",
      "상품명: 에피소드1 샤베트 프릴 시어서커 여름이불패드세트, 그레이\n",
      "상품명: 슈에뜨룸 선인장 리플 침구 세트, 베이지\n",
      "상품명: 아망떼 시어서커 리플 홑이불 패드세트, 허브티\n",
      "상품명: 지베딩 아이스베어 시어서커 여름침구 풀세트, 민트그레이\n",
      "상품명: 쁘리엘르 테스 시어서커 여름이불 패드세트, 그레이\n",
      "상품명: 쉬즈홈 시어서커 홑이불 + 토퍼 + 베개커버 세트, 나나 옐로우\n",
      "상품명: 아망떼 시어서커 리플 퀼팅 이불패드세트, 리엔나\n",
      "----------------------------------------------------------------------------------------------------\n",
      "상품명: 바자르 트로피컬 인견 여름 이불세트 인견이불 + 베개커버 2p + 인견패드, 그린\n",
      "상품명: 바자르 라이닝 혼방 인견 여름 이불베개세트 + 패드 Q, 쿨 네이비\n",
      "상품명: 슈에뜨룸 비숑 피치스킨 침구세트, 그레이\n",
      "상품명: 스코홈 시어서커 여름 이불 패드 3종 세트, 차콜\n",
      "상품명: 스코홈 어번시리즈 순면 차렵이불 누빔 매트커버세트 S 차콜\n",
      "상품명: 쉬즈홈 루즈 시어서커 차렵이불 패드세트, 그레이\n",
      "상품명: 예가로드 메리엘 시어서커 누비이불 패드세트, 블루\n",
      "상품명: 에피소드1 샤베트 프릴 시어서커 여름이불패드세트, 화이트\n",
      "상품명: 쉬즈홈 플루 시어서커 차렵이불 패드세트, 그린\n",
      "상품명: 메종 레이스 차렵 이불 세트, 블루\n",
      "상품명: 믹스앤매치 로라 프릴 시어서커 침구세트, 그린\n",
      "상품명: 슈에뜨룸 발그레 피치 리플 침구 세트, 혼합 색상\n",
      "----------------------------------------------------------------------------------------------------\n",
      "상품명: 보몽드 메종 레이스 차렵이불 3종 세트, 민트\n",
      "상품명: 슈에뜨룸 체크 피치스킨 침구세트, 모카\n",
      "상품명: 메리엘 시어서커 에어리플 이불세트, 그레이\n",
      "상품명: 슈에뜨룸 빠삐용 시어서커 침구세트, 네이비\n",
      "상품명: 믹스앤매치 에이프릴 리플 누비이불 패드세트, 화이트\n",
      "상품명: 쉬즈홈 시어서커 홑이불 토퍼세트, 루즈 그레이\n",
      "상품명: 이코디 5단 엔틱 도어 행거, 브라운, 1개\n",
      "상품명: 선우랜드 우드볼 도어훅 4구, 실버, 1개\n",
      "상품명: 리은상점 다용도 도어훅 문걸이 행거 모자걸이 머플러 목도리 걸이, 화이트, 5개\n",
      "상품명: 퍼니스코 다용도걸이 모자걸이 가방걸이 도어훅 도어행거 문걸이, 엔틱브라운, 1세트\n",
      "상품명: 스텐 도어후크 옷걸이/도어훅 문옷걸이 행거 바지걸이, 혼합 색상, 1개\n",
      "상품명: 디비플러스 키펙스 컬러 폭조절 오버 도어훅, 블랙, 1개\n",
      "----------------------------------------------------------------------------------------------------\n",
      "상품명: 리빙스토리 1+1 문에 거는 문 옷걸이 음자리 도어후크 방문 행거, 음자리도어후크-로즈골드, 2개\n",
      "상품명: 나이스후크 도어행거 2개 세트 (문행거), 블랙+화이트\n",
      "상품명: 리빙파이 도어훅 옷걸이 행거 7구, 블랙, 1개\n",
      "상품명: 선우랜드 우드볼 도어훅 10구, 실버, 1개\n",
      "상품명: 웰렉스 도어행거 MH1060 신형 본사직발송 미니건조대 도어옷걸이 도어훅, 고동색, 1개\n",
      "상품명: 엔비 엔틱 7구 도어훅 옷걸이, 도어훅 1+1, 1+1\n",
      "상품명: 코시나 무타공 문걸이 후크선반 1단, 화이트, 1개\n",
      "상품명: 코시나 무타공 올스텐 문걸이행거, 혼합 색상, 1개\n",
      "상품명: [아트박스 POOM/이케아] ENUDDEN 도어 행거, 본품, 수량\n",
      "상품명: 비스비바 우드 폴 다용도걸이 3구, 혼합 색상, 1개\n",
      "상품명: 숲속애 웨이브 도어후크 5구, 블랙, 1개\n",
      "상품명: 펀타스틱 다용도 문틀걸이, 화이트, 1개\n",
      "----------------------------------------------------------------------------------------------------\n",
      "상품명: 선우랜드 우드볼 도어훅 4구, 화이트, 1개\n",
      "상품명: 네이쳐리빙 어반모카 와이어 도어훅 옷걸이 6구, 단일 색상, 1개\n",
      "상품명: 까사마루 블랑 접이식 문걸이 건조대, 1개\n",
      "상품명: 선우랜드 우드볼 도어훅 6구, 실버, 1개\n",
      "상품명: 이케아 ENUDDEN 문걸이 행거 402.516.66, 화이트, 1개\n",
      "상품명: 선우랜드 우드볼 도어훅 10구, 화이트, 1개\n",
      "상품명: 코멧 홈 우드볼 도어행거, 6구, 혼합색상\n",
      "상품명: 선우랜드 레인보우 2단 문걸이용 옷걸이 _중형, 화이트, 상세페이지참조\n",
      "상품명: 코시나 무타공 문걸이 후크선반 2단, 화이트, 1개\n",
      "상품명: 스파이더락 도어후크 8구, 화이트, 1개\n",
      "상품명: 선우랜드 우드볼 도어훅 6구, 화이트, 1개\n",
      "상품명: 코멧 홈 우드볼 도어행거, 10구, 혼합색상\n",
      "----------------------------------------------------------------------------------------------------\n",
      "상품명: 보드래 헬로우 누빔 매트리스커버, 핑크\n",
      "상품명: 보몽드 순면스퀘어 솔리드 누빔매트커버, 아이보리\n",
      "상품명: 더자리 에코항균 마이크로 매트리스커버, 밀키핑크\n",
      "상품명: 타카타카 프리미엄 나노 화이바 누빔 매트리스 커버, 미스밍고\n",
      "상품명: 네이쳐리빙 피아블 클래식 방수 매트리스커버, 그레이\n",
      "상품명: 프로텍트어베드 베이직 매트리스 방수커버, 그레이\n",
      "----------------------------------------------------------------------------------------------------\n"
     ]
    }
   ],
   "source": [
    "import requests\n",
    "from bs4 import BeautifulSoup\n",
    "\n",
    "for page_num in range(8):\n",
    "    if page_num == 0:\n",
    "        res = requests.get('https://davelee-fun.github.io/')\n",
    "    else:\n",
    "        res = requests.get('https://davelee-fun.github.io/page' + str(page_num + 1))\n",
    "    \n",
    "    soup = BeautifulSoup(res.content, 'html.parser')\n",
    "    \n",
    "    items = soup.select('h4.card-text')\n",
    "    for item in items:\n",
    "        print(item.text.strip())\n",
    "    print('-' * 100)"
   ]
  },
  {
   "cell_type": "markdown",
   "metadata": {},
   "source": [
    "# 크롤링 결과를 엑셀 파일로 만들기"
   ]
  },
  {
   "cell_type": "markdown",
   "metadata": {},
   "source": [
    "- ```openpyxl``` 라이브러리 활용\n",
    "    - xlsx 파일 읽고, 저장 모두 가능\n",
    "    - 설치: ```pip install openpyxl```\n",
    "- 먼저 라이브러리를 import 하고, ```Workbook()```으로 엑셀 파일을 생성한다."
   ]
  },
  {
   "cell_type": "code",
   "execution_count": 19,
   "metadata": {
    "ExecuteTime": {
     "end_time": "2020-12-15T09:39:35.060377Z",
     "start_time": "2020-12-15T09:39:33.604734Z"
    }
   },
   "outputs": [],
   "source": [
    "import openpyxl\n",
    "\n",
    "excel_file = openpyxl.Workbook()"
   ]
  },
  {
   "cell_type": "markdown",
   "metadata": {},
   "source": [
    "- 엑셀 파일이 생성되면 default sheet가 생성되며, ```엑셀파일변수.active```로 해당 sheet를 선택할 수 있다.\n",
    "    - 해당 sheet 이름을 변경하려면, title 변수 값을 변경해주면 된다.\n",
    "        ```\n",
    "        excel_sheet = excel_file.active\n",
    "        excel_sheet.title = '리포트'\n",
    "        ```"
   ]
  },
  {
   "cell_type": "code",
   "execution_count": 20,
   "metadata": {
    "ExecuteTime": {
     "end_time": "2020-12-15T09:39:35.065326Z",
     "start_time": "2020-12-15T09:39:35.062310Z"
    }
   },
   "outputs": [],
   "source": [
    "excel_sheet = excel_file.active"
   ]
  },
  {
   "cell_type": "markdown",
   "metadata": {},
   "source": [
    "- 데이터 추가하기\n",
    "    - 가장 간단한 방법으로 ```엑셀파일변수.append(리스트 형태의 하나의 열 데이터)```를 사용하여, 한 줄의 데이터 묶음을 쓸 수 있다."
   ]
  },
  {
   "cell_type": "code",
   "execution_count": 21,
   "metadata": {
    "ExecuteTime": {
     "end_time": "2020-12-15T09:39:35.079314Z",
     "start_time": "2020-12-15T09:39:35.073313Z"
    }
   },
   "outputs": [],
   "source": [
    "excel_sheet.append(['data1', 'data2', 'data3'])"
   ]
  },
  {
   "cell_type": "markdown",
   "metadata": {},
   "source": [
    "- 엑셀 파일 저장"
   ]
  },
  {
   "cell_type": "code",
   "execution_count": 22,
   "metadata": {
    "ExecuteTime": {
     "end_time": "2020-12-15T09:39:35.107316Z",
     "start_time": "2020-12-15T09:39:35.083314Z"
    }
   },
   "outputs": [],
   "source": [
    "excel_file.save('tmp.xlsx')"
   ]
  },
  {
   "cell_type": "markdown",
   "metadata": {},
   "source": [
    "- 엑셀 파일 닫기"
   ]
  },
  {
   "cell_type": "code",
   "execution_count": 23,
   "metadata": {
    "ExecuteTime": {
     "end_time": "2020-12-15T09:39:35.115332Z",
     "start_time": "2020-12-15T09:39:35.112314Z"
    }
   },
   "outputs": [],
   "source": [
    "excel_file.close()"
   ]
  },
  {
   "cell_type": "markdown",
   "metadata": {},
   "source": [
    "## 엑셀 파일 만들기 함수 생성\n",
    "- 앞에서 수행한 일련의 과정들을 하나의 함수로 작성"
   ]
  },
  {
   "cell_type": "code",
   "execution_count": 24,
   "metadata": {
    "ExecuteTime": {
     "end_time": "2020-12-15T09:39:35.127312Z",
     "start_time": "2020-12-15T09:39:35.120312Z"
    }
   },
   "outputs": [],
   "source": [
    "import openpyxl\n",
    "\n",
    "def write_excel_template(filename, sheetname, listdata):\n",
    "    excel_file = openpyxl.Workbook()\n",
    "    excel_sheet = excel_file.active\n",
    "    excel_sheet.column_dimensions['A'].width = 100 # 해당 엑셀 파일 sheet의 A열에 너비를 100으로 설정\n",
    "    excel_sheet.column_dimensions['B'].width = 30 # 해당 엑셀 파일 sheet의 B열에 너비를 30으로 설정\n",
    "    \n",
    "    if sheetname != '':\n",
    "        excel_sheet.title = sheetname\n",
    "        \n",
    "    for item in listdata:\n",
    "        excel_sheet.append(item)\n",
    "    \n",
    "    excel_file.save(filename)\n",
    "    excel_file.close()"
   ]
  },
  {
   "cell_type": "markdown",
   "metadata": {},
   "source": [
    "## 크롤링해서 엑셀 파일까지 만들기\n",
    "- 리스트 안에 리스트(각 행을 나타냄)가 들어가야 한다."
   ]
  },
  {
   "cell_type": "code",
   "execution_count": 25,
   "metadata": {
    "ExecuteTime": {
     "end_time": "2020-12-15T09:39:39.813584Z",
     "start_time": "2020-12-15T09:39:35.130311Z"
    },
    "scrolled": true
   },
   "outputs": [
    {
     "data": {
      "text/plain": [
       "[['상품명: 보몽드 순면스퀘어 솔리드 누빔매트커버, 다크블루', '05 Jun 2020'],\n",
       " ['상품명: 슈에뜨룸 선인장 리플 침구 세트, 베이지', '05 Jun 2020'],\n",
       " ['상품명: 선우랜드 레인보우 2단 문걸이용 옷걸이 _중형, 화이트, 상세페이지참조', '05 Jun 2020'],\n",
       " ['상품명: 보드래 헬로우 누빔 매트리스커버, 핑크', '05 Jun 2020'],\n",
       " ['상품명: 보드래 퍼펙트 누빔 매트리스커버, 차콜', '05 Jun 2020'],\n",
       " ['상품명: 피아블 클래식 방수 매트리스커버, 화이트', '05 Jun 2020'],\n",
       " ['상품명: 더자리 에코항균 마이크로 매트리스커버, 밀키차콜그레이', '05 Jun 2020'],\n",
       " ['상품명: 더자리 프레쉬 퓨어 매트리스 커버, 퓨어 차콜그레이', '05 Jun 2020'],\n",
       " ['상품명: 몽쉐어 알러스킨 항균 매트리스 커버, 카키그레이', '05 Jun 2020'],\n",
       " ['상품명: 쿠팡 브랜드 - 코멧 홈 40수 트윌 순면 100% 홑겹 매트리스커버, 그레이', '05 Jun 2020'],\n",
       " ['상품명: 패브릭아트 항균 마이크로 원단 매트리스 커버, 아이보리', '05 Jun 2020'],\n",
       " ['상품명: 바숨 순면 누빔 침대 매트리스커버, 차콜', '05 Jun 2020'],\n",
       " ['상품명: WEMAX 다용도 문옷걸이, 화이트, 1개', '05 Jun 2020'],\n",
       " ['상품명: 타카타카 프리미엄 나노 화이바 누빔 매트리스 커버, 젠틀핑핑', '05 Jun 2020'],\n",
       " ['상품명: 보몽드 순면스퀘어 누빔매트커버, 다크그레이', '05 Jun 2020'],\n",
       " ['상품명: 보드래 국내산 순면 60수 누빔 매트리스커버, 그레이', '05 Jun 2020'],\n",
       " ['상품명: 보드래 퍼펙트 누빔 매트리스커버, 베이지핑크', '05 Jun 2020'],\n",
       " ['상품명: 쿠팡 브랜드 - 코멧 홈 40수 순면 누빔 매트리스커버, 챠콜', '05 Jun 2020'],\n",
       " ['상품명: 바숨 순면 누빔 침대 매트리스커버, 화이트', '05 Jun 2020'],\n",
       " ['상품명: 프랑떼 항균 방수 매트리스커버, 화이트', '05 Jun 2020'],\n",
       " ['상품명: 보몽드 순면스퀘어 솔리드 누빔매트커버, 다크블루', '05 Jun 2020'],\n",
       " ['상품명: 네이쳐리빙 피아블 클래식 방수 매트리스커버, 그레이', '05 Jun 2020'],\n",
       " ['상품명: 쿠팡 브랜드 - 코멧 홈 순면 매트리스커버, 베이지', '05 Jun 2020'],\n",
       " ['상품명: 타카타카 프리미엄 나노 화이바 누빔 매트리스 커버, 프렌치불독', '05 Jun 2020'],\n",
       " ['상품명: 더자리 에코항균 마이크로 매트리스커버, 밀키그레이', '05 Jun 2020'],\n",
       " ['상품명: 보몽드 순면스퀘어 누빔매트커버, 화이트', '05 Jun 2020'],\n",
       " ['상품명: 피아블 클래식 방수 매트리스커버, 화이트', '05 Jun 2020'],\n",
       " ['상품명: 쿠팡 브랜드 - 코멧 홈 순면 매트리스커버, 차콜그레이', '05 Jun 2020'],\n",
       " ['상품명: 쉬즈홈 모던그리드 순면 여름이불 베개커버 패드세트, 핑크', '05 Jun 2020'],\n",
       " ['상품명: 스코홈 빅리플 여름 차렵이불패드 3종 세트, 마린그레이', '05 Jun 2020'],\n",
       " ['상품명: 아망떼 시어서커 리플 홑이불 패드세트, 웨이크', '05 Jun 2020'],\n",
       " ['상품명: 마이센스 무더운 여름엔 시어서커 여름이불 패드 베개 이불세트 30종, 시어서커_파스텔그레이', '05 Jun 2020'],\n",
       " ['상품명: 믹스앤매치 로라 프릴 시어서커 침구세트, 그레이', '05 Jun 2020'],\n",
       " ['상품명: 에피소드1 샤베트 프릴 시어서커 여름이불패드세트, 그레이', '05 Jun 2020'],\n",
       " ['상품명: 슈에뜨룸 선인장 리플 침구 세트, 베이지', '05 Jun 2020'],\n",
       " ['상품명: 아망떼 시어서커 리플 홑이불 패드세트, 허브티', '05 Jun 2020'],\n",
       " ['상품명: 지베딩 아이스베어 시어서커 여름침구 풀세트, 민트그레이', '05 Jun 2020'],\n",
       " ['상품명: 쁘리엘르 테스 시어서커 여름이불 패드세트, 그레이', '05 Jun 2020'],\n",
       " ['상품명: 쉬즈홈 시어서커 홑이불 + 토퍼 + 베개커버 세트, 나나 옐로우', '05 Jun 2020'],\n",
       " ['상품명: 아망떼 시어서커 리플 퀼팅 이불패드세트, 리엔나', '05 Jun 2020'],\n",
       " ['상품명: 바자르 트로피컬 인견 여름 이불세트 인견이불 + 베개커버 2p + 인견패드, 그린', '05 Jun 2020'],\n",
       " ['상품명: 바자르 라이닝 혼방 인견 여름 이불베개세트 + 패드 Q, 쿨 네이비', '05 Jun 2020'],\n",
       " ['상품명: 슈에뜨룸 비숑 피치스킨 침구세트, 그레이', '05 Jun 2020'],\n",
       " ['상품명: 스코홈 시어서커 여름 이불 패드 3종 세트, 차콜', '05 Jun 2020'],\n",
       " ['상품명: 스코홈 어번시리즈 순면 차렵이불 누빔 매트커버세트 S 차콜', '05 Jun 2020'],\n",
       " ['상품명: 쉬즈홈 루즈 시어서커 차렵이불 패드세트, 그레이', '05 Jun 2020'],\n",
       " ['상품명: 예가로드 메리엘 시어서커 누비이불 패드세트, 블루', '05 Jun 2020'],\n",
       " ['상품명: 에피소드1 샤베트 프릴 시어서커 여름이불패드세트, 화이트', '05 Jun 2020'],\n",
       " ['상품명: 쉬즈홈 플루 시어서커 차렵이불 패드세트, 그린', '05 Jun 2020'],\n",
       " ['상품명: 메종 레이스 차렵 이불 세트, 블루', '05 Jun 2020'],\n",
       " ['상품명: 믹스앤매치 로라 프릴 시어서커 침구세트, 그린', '05 Jun 2020'],\n",
       " ['상품명: 슈에뜨룸 발그레 피치 리플 침구 세트, 혼합 색상', '05 Jun 2020'],\n",
       " ['상품명: 보몽드 메종 레이스 차렵이불 3종 세트, 민트', '05 Jun 2020'],\n",
       " ['상품명: 슈에뜨룸 체크 피치스킨 침구세트, 모카', '05 Jun 2020'],\n",
       " ['상품명: 메리엘 시어서커 에어리플 이불세트, 그레이', '05 Jun 2020'],\n",
       " ['상품명: 슈에뜨룸 빠삐용 시어서커 침구세트, 네이비', '05 Jun 2020'],\n",
       " ['상품명: 믹스앤매치 에이프릴 리플 누비이불 패드세트, 화이트', '05 Jun 2020'],\n",
       " ['상품명: 쉬즈홈 시어서커 홑이불 토퍼세트, 루즈 그레이', '05 Jun 2020'],\n",
       " ['상품명: 이코디 5단 엔틱 도어 행거, 브라운, 1개', '05 Jun 2020'],\n",
       " ['상품명: 선우랜드 우드볼 도어훅 4구, 실버, 1개', '05 Jun 2020'],\n",
       " ['상품명: 리은상점 다용도 도어훅 문걸이 행거 모자걸이 머플러 목도리 걸이, 화이트, 5개', '05 Jun 2020'],\n",
       " ['상품명: 퍼니스코 다용도걸이 모자걸이 가방걸이 도어훅 도어행거 문걸이, 엔틱브라운, 1세트', '05 Jun 2020'],\n",
       " ['상품명: 스텐 도어후크 옷걸이/도어훅 문옷걸이 행거 바지걸이, 혼합 색상, 1개', '05 Jun 2020'],\n",
       " ['상품명: 디비플러스 키펙스 컬러 폭조절 오버 도어훅, 블랙, 1개', '05 Jun 2020'],\n",
       " ['상품명: 리빙스토리 1+1 문에 거는 문 옷걸이 음자리 도어후크 방문 행거, 음자리도어후크-로즈골드, 2개',\n",
       "  '05 Jun 2020'],\n",
       " ['상품명: 나이스후크 도어행거 2개 세트 (문행거), 블랙+화이트', '05 Jun 2020'],\n",
       " ['상품명: 리빙파이 도어훅 옷걸이 행거 7구, 블랙, 1개', '05 Jun 2020'],\n",
       " ['상품명: 선우랜드 우드볼 도어훅 10구, 실버, 1개', '05 Jun 2020'],\n",
       " ['상품명: 웰렉스 도어행거 MH1060 신형 본사직발송 미니건조대 도어옷걸이 도어훅, 고동색, 1개', '05 Jun 2020'],\n",
       " ['상품명: 엔비 엔틱 7구 도어훅 옷걸이, 도어훅 1+1, 1+1', '05 Jun 2020'],\n",
       " ['상품명: 코시나 무타공 문걸이 후크선반 1단, 화이트, 1개', '05 Jun 2020'],\n",
       " ['상품명: 코시나 무타공 올스텐 문걸이행거, 혼합 색상, 1개', '05 Jun 2020'],\n",
       " ['상품명: [아트박스 POOM/이케아] ENUDDEN 도어 행거, 본품, 수량', '05 Jun 2020'],\n",
       " ['상품명: 비스비바 우드 폴 다용도걸이 3구, 혼합 색상, 1개', '05 Jun 2020'],\n",
       " ['상품명: 숲속애 웨이브 도어후크 5구, 블랙, 1개', '05 Jun 2020'],\n",
       " ['상품명: 펀타스틱 다용도 문틀걸이, 화이트, 1개', '05 Jun 2020'],\n",
       " ['상품명: 선우랜드 우드볼 도어훅 4구, 화이트, 1개', '05 Jun 2020'],\n",
       " ['상품명: 네이쳐리빙 어반모카 와이어 도어훅 옷걸이 6구, 단일 색상, 1개', '05 Jun 2020'],\n",
       " ['상품명: 까사마루 블랑 접이식 문걸이 건조대, 1개', '05 Jun 2020'],\n",
       " ['상품명: 선우랜드 우드볼 도어훅 6구, 실버, 1개', '05 Jun 2020'],\n",
       " ['상품명: 이케아 ENUDDEN 문걸이 행거 402.516.66, 화이트, 1개', '05 Jun 2020'],\n",
       " ['상품명: 선우랜드 우드볼 도어훅 10구, 화이트, 1개', '05 Jun 2020'],\n",
       " ['상품명: 코멧 홈 우드볼 도어행거, 6구, 혼합색상', '05 Jun 2020'],\n",
       " ['상품명: 선우랜드 레인보우 2단 문걸이용 옷걸이 _중형, 화이트, 상세페이지참조', '05 Jun 2020'],\n",
       " ['상품명: 코시나 무타공 문걸이 후크선반 2단, 화이트, 1개', '05 Jun 2020'],\n",
       " ['상품명: 스파이더락 도어후크 8구, 화이트, 1개', '05 Jun 2020'],\n",
       " ['상품명: 선우랜드 우드볼 도어훅 6구, 화이트, 1개', '05 Jun 2020'],\n",
       " ['상품명: 코멧 홈 우드볼 도어행거, 10구, 혼합색상', '05 Jun 2020'],\n",
       " ['상품명: 보드래 헬로우 누빔 매트리스커버, 핑크', '05 Jun 2020'],\n",
       " ['상품명: 보몽드 순면스퀘어 솔리드 누빔매트커버, 아이보리', '05 Jun 2020'],\n",
       " ['상품명: 더자리 에코항균 마이크로 매트리스커버, 밀키핑크', '05 Jun 2020'],\n",
       " ['상품명: 타카타카 프리미엄 나노 화이바 누빔 매트리스 커버, 미스밍고', '05 Jun 2020'],\n",
       " ['상품명: 네이쳐리빙 피아블 클래식 방수 매트리스커버, 그레이', '05 Jun 2020'],\n",
       " ['상품명: 프로텍트어베드 베이직 매트리스 방수커버, 그레이', '05 Jun 2020']]"
      ]
     },
     "execution_count": 25,
     "metadata": {},
     "output_type": "execute_result"
    }
   ],
   "source": [
    "import requests\n",
    "from bs4 import BeautifulSoup\n",
    "\n",
    "product_lists = []\n",
    "for page_num in range(8):\n",
    "    if page_num == 0:\n",
    "        res = requests.get('https://davelee-fun.github.io/')\n",
    "    else:\n",
    "        res = requests.get('https://davelee-fun.github.io/page' + str(page_num + 1))\n",
    "    \n",
    "    soup = BeautifulSoup(res.content, 'html.parser')\n",
    "    \n",
    "    items = soup.select('div.card')\n",
    "    for item in items:\n",
    "        name = item.select_one('h4.card-text').text.strip()\n",
    "        date = item.select_one('span.post-date').text.strip()\n",
    "        product_info = [name, date]\n",
    "        product_lists.append(product_info)\n",
    "\n",
    "product_lists"
   ]
  },
  {
   "cell_type": "code",
   "execution_count": 26,
   "metadata": {
    "ExecuteTime": {
     "end_time": "2020-12-15T09:39:39.839523Z",
     "start_time": "2020-12-15T09:39:39.816526Z"
    }
   },
   "outputs": [],
   "source": [
    "write_excel_template('tmp2.xlsx', '상품정보', product_lists)"
   ]
  },
  {
   "cell_type": "markdown",
   "metadata": {},
   "source": [
    "## 엑셀 파일 읽기"
   ]
  },
  {
   "cell_type": "markdown",
   "metadata": {},
   "source": [
    "- 엑셀 파일 오픈 >> ```load_workbook()``` 함수 사용"
   ]
  },
  {
   "cell_type": "code",
   "execution_count": 27,
   "metadata": {
    "ExecuteTime": {
     "end_time": "2020-12-15T09:39:39.863602Z",
     "start_time": "2020-12-15T09:39:39.842526Z"
    }
   },
   "outputs": [],
   "source": [
    "import openpyxl\n",
    "\n",
    "excel_file = openpyxl.load_workbook('tmp2.xlsx')"
   ]
  },
  {
   "cell_type": "markdown",
   "metadata": {},
   "source": [
    "- 해당 엑셀 파일 안에 있는 sheet 이름 확인"
   ]
  },
  {
   "cell_type": "code",
   "execution_count": 28,
   "metadata": {
    "ExecuteTime": {
     "end_time": "2020-12-15T09:39:39.871529Z",
     "start_time": "2020-12-15T09:39:39.865522Z"
    }
   },
   "outputs": [
    {
     "data": {
      "text/plain": [
       "['상품정보']"
      ]
     },
     "execution_count": 28,
     "metadata": {},
     "output_type": "execute_result"
    }
   ],
   "source": [
    "excel_file.sheetnames # list 타입으로 보여줌"
   ]
  },
  {
   "cell_type": "markdown",
   "metadata": {},
   "source": [
    "- 해당 엑셀 파일 안에 있는 특정 sheet 선택"
   ]
  },
  {
   "cell_type": "code",
   "execution_count": 29,
   "metadata": {
    "ExecuteTime": {
     "end_time": "2020-12-15T09:39:39.878555Z",
     "start_time": "2020-12-15T09:39:39.874526Z"
    }
   },
   "outputs": [],
   "source": [
    "excel_sheet = excel_file['상품정보']\n",
    "# excel_sheet = excel_file.active"
   ]
  },
  {
   "cell_type": "markdown",
   "metadata": {},
   "source": [
    "- sheet 안에 있는 데이터 읽기\n",
    "    - item에는 한 라인의 각 셀에 있는 데이터를 가져온다.\n",
    "    - 각 데이터는 각 리스트 item의 value 변수로부터 실제 데이터를 가져올 수 있다."
   ]
  },
  {
   "cell_type": "code",
   "execution_count": 30,
   "metadata": {
    "ExecuteTime": {
     "end_time": "2020-12-15T09:39:39.906568Z",
     "start_time": "2020-12-15T09:39:39.880522Z"
    },
    "scrolled": true
   },
   "outputs": [
    {
     "name": "stdout",
     "output_type": "stream",
     "text": [
      "상품명: 보몽드 순면스퀘어 솔리드 누빔매트커버, 다크블루 / 05 Jun 2020\n",
      "상품명: 슈에뜨룸 선인장 리플 침구 세트, 베이지 / 05 Jun 2020\n",
      "상품명: 선우랜드 레인보우 2단 문걸이용 옷걸이 _중형, 화이트, 상세페이지참조 / 05 Jun 2020\n",
      "상품명: 보드래 헬로우 누빔 매트리스커버, 핑크 / 05 Jun 2020\n",
      "상품명: 보드래 퍼펙트 누빔 매트리스커버, 차콜 / 05 Jun 2020\n",
      "상품명: 피아블 클래식 방수 매트리스커버, 화이트 / 05 Jun 2020\n",
      "상품명: 더자리 에코항균 마이크로 매트리스커버, 밀키차콜그레이 / 05 Jun 2020\n",
      "상품명: 더자리 프레쉬 퓨어 매트리스 커버, 퓨어 차콜그레이 / 05 Jun 2020\n",
      "상품명: 몽쉐어 알러스킨 항균 매트리스 커버, 카키그레이 / 05 Jun 2020\n",
      "상품명: 쿠팡 브랜드 - 코멧 홈 40수 트윌 순면 100% 홑겹 매트리스커버, 그레이 / 05 Jun 2020\n",
      "상품명: 패브릭아트 항균 마이크로 원단 매트리스 커버, 아이보리 / 05 Jun 2020\n",
      "상품명: 바숨 순면 누빔 침대 매트리스커버, 차콜 / 05 Jun 2020\n",
      "상품명: WEMAX 다용도 문옷걸이, 화이트, 1개 / 05 Jun 2020\n",
      "상품명: 타카타카 프리미엄 나노 화이바 누빔 매트리스 커버, 젠틀핑핑 / 05 Jun 2020\n",
      "상품명: 보몽드 순면스퀘어 누빔매트커버, 다크그레이 / 05 Jun 2020\n",
      "상품명: 보드래 국내산 순면 60수 누빔 매트리스커버, 그레이 / 05 Jun 2020\n",
      "상품명: 보드래 퍼펙트 누빔 매트리스커버, 베이지핑크 / 05 Jun 2020\n",
      "상품명: 쿠팡 브랜드 - 코멧 홈 40수 순면 누빔 매트리스커버, 챠콜 / 05 Jun 2020\n",
      "상품명: 바숨 순면 누빔 침대 매트리스커버, 화이트 / 05 Jun 2020\n",
      "상품명: 프랑떼 항균 방수 매트리스커버, 화이트 / 05 Jun 2020\n",
      "상품명: 보몽드 순면스퀘어 솔리드 누빔매트커버, 다크블루 / 05 Jun 2020\n",
      "상품명: 네이쳐리빙 피아블 클래식 방수 매트리스커버, 그레이 / 05 Jun 2020\n",
      "상품명: 쿠팡 브랜드 - 코멧 홈 순면 매트리스커버, 베이지 / 05 Jun 2020\n",
      "상품명: 타카타카 프리미엄 나노 화이바 누빔 매트리스 커버, 프렌치불독 / 05 Jun 2020\n",
      "상품명: 더자리 에코항균 마이크로 매트리스커버, 밀키그레이 / 05 Jun 2020\n",
      "상품명: 보몽드 순면스퀘어 누빔매트커버, 화이트 / 05 Jun 2020\n",
      "상품명: 피아블 클래식 방수 매트리스커버, 화이트 / 05 Jun 2020\n",
      "상품명: 쿠팡 브랜드 - 코멧 홈 순면 매트리스커버, 차콜그레이 / 05 Jun 2020\n",
      "상품명: 쉬즈홈 모던그리드 순면 여름이불 베개커버 패드세트, 핑크 / 05 Jun 2020\n",
      "상품명: 스코홈 빅리플 여름 차렵이불패드 3종 세트, 마린그레이 / 05 Jun 2020\n",
      "상품명: 아망떼 시어서커 리플 홑이불 패드세트, 웨이크 / 05 Jun 2020\n",
      "상품명: 마이센스 무더운 여름엔 시어서커 여름이불 패드 베개 이불세트 30종, 시어서커_파스텔그레이 / 05 Jun 2020\n",
      "상품명: 믹스앤매치 로라 프릴 시어서커 침구세트, 그레이 / 05 Jun 2020\n",
      "상품명: 에피소드1 샤베트 프릴 시어서커 여름이불패드세트, 그레이 / 05 Jun 2020\n",
      "상품명: 슈에뜨룸 선인장 리플 침구 세트, 베이지 / 05 Jun 2020\n",
      "상품명: 아망떼 시어서커 리플 홑이불 패드세트, 허브티 / 05 Jun 2020\n",
      "상품명: 지베딩 아이스베어 시어서커 여름침구 풀세트, 민트그레이 / 05 Jun 2020\n",
      "상품명: 쁘리엘르 테스 시어서커 여름이불 패드세트, 그레이 / 05 Jun 2020\n",
      "상품명: 쉬즈홈 시어서커 홑이불 + 토퍼 + 베개커버 세트, 나나 옐로우 / 05 Jun 2020\n",
      "상품명: 아망떼 시어서커 리플 퀼팅 이불패드세트, 리엔나 / 05 Jun 2020\n",
      "상품명: 바자르 트로피컬 인견 여름 이불세트 인견이불 + 베개커버 2p + 인견패드, 그린 / 05 Jun 2020\n",
      "상품명: 바자르 라이닝 혼방 인견 여름 이불베개세트 + 패드 Q, 쿨 네이비 / 05 Jun 2020\n",
      "상품명: 슈에뜨룸 비숑 피치스킨 침구세트, 그레이 / 05 Jun 2020\n",
      "상품명: 스코홈 시어서커 여름 이불 패드 3종 세트, 차콜 / 05 Jun 2020\n",
      "상품명: 스코홈 어번시리즈 순면 차렵이불 누빔 매트커버세트 S 차콜 / 05 Jun 2020\n",
      "상품명: 쉬즈홈 루즈 시어서커 차렵이불 패드세트, 그레이 / 05 Jun 2020\n",
      "상품명: 예가로드 메리엘 시어서커 누비이불 패드세트, 블루 / 05 Jun 2020\n",
      "상품명: 에피소드1 샤베트 프릴 시어서커 여름이불패드세트, 화이트 / 05 Jun 2020\n",
      "상품명: 쉬즈홈 플루 시어서커 차렵이불 패드세트, 그린 / 05 Jun 2020\n",
      "상품명: 메종 레이스 차렵 이불 세트, 블루 / 05 Jun 2020\n",
      "상품명: 믹스앤매치 로라 프릴 시어서커 침구세트, 그린 / 05 Jun 2020\n",
      "상품명: 슈에뜨룸 발그레 피치 리플 침구 세트, 혼합 색상 / 05 Jun 2020\n",
      "상품명: 보몽드 메종 레이스 차렵이불 3종 세트, 민트 / 05 Jun 2020\n",
      "상품명: 슈에뜨룸 체크 피치스킨 침구세트, 모카 / 05 Jun 2020\n",
      "상품명: 메리엘 시어서커 에어리플 이불세트, 그레이 / 05 Jun 2020\n",
      "상품명: 슈에뜨룸 빠삐용 시어서커 침구세트, 네이비 / 05 Jun 2020\n",
      "상품명: 믹스앤매치 에이프릴 리플 누비이불 패드세트, 화이트 / 05 Jun 2020\n",
      "상품명: 쉬즈홈 시어서커 홑이불 토퍼세트, 루즈 그레이 / 05 Jun 2020\n",
      "상품명: 이코디 5단 엔틱 도어 행거, 브라운, 1개 / 05 Jun 2020\n",
      "상품명: 선우랜드 우드볼 도어훅 4구, 실버, 1개 / 05 Jun 2020\n",
      "상품명: 리은상점 다용도 도어훅 문걸이 행거 모자걸이 머플러 목도리 걸이, 화이트, 5개 / 05 Jun 2020\n",
      "상품명: 퍼니스코 다용도걸이 모자걸이 가방걸이 도어훅 도어행거 문걸이, 엔틱브라운, 1세트 / 05 Jun 2020\n",
      "상품명: 스텐 도어후크 옷걸이/도어훅 문옷걸이 행거 바지걸이, 혼합 색상, 1개 / 05 Jun 2020\n",
      "상품명: 디비플러스 키펙스 컬러 폭조절 오버 도어훅, 블랙, 1개 / 05 Jun 2020\n",
      "상품명: 리빙스토리 1+1 문에 거는 문 옷걸이 음자리 도어후크 방문 행거, 음자리도어후크-로즈골드, 2개 / 05 Jun 2020\n",
      "상품명: 나이스후크 도어행거 2개 세트 (문행거), 블랙+화이트 / 05 Jun 2020\n",
      "상품명: 리빙파이 도어훅 옷걸이 행거 7구, 블랙, 1개 / 05 Jun 2020\n",
      "상품명: 선우랜드 우드볼 도어훅 10구, 실버, 1개 / 05 Jun 2020\n",
      "상품명: 웰렉스 도어행거 MH1060 신형 본사직발송 미니건조대 도어옷걸이 도어훅, 고동색, 1개 / 05 Jun 2020\n",
      "상품명: 엔비 엔틱 7구 도어훅 옷걸이, 도어훅 1+1, 1+1 / 05 Jun 2020\n",
      "상품명: 코시나 무타공 문걸이 후크선반 1단, 화이트, 1개 / 05 Jun 2020\n",
      "상품명: 코시나 무타공 올스텐 문걸이행거, 혼합 색상, 1개 / 05 Jun 2020\n",
      "상품명: [아트박스 POOM/이케아] ENUDDEN 도어 행거, 본품, 수량 / 05 Jun 2020\n",
      "상품명: 비스비바 우드 폴 다용도걸이 3구, 혼합 색상, 1개 / 05 Jun 2020\n",
      "상품명: 숲속애 웨이브 도어후크 5구, 블랙, 1개 / 05 Jun 2020\n",
      "상품명: 펀타스틱 다용도 문틀걸이, 화이트, 1개 / 05 Jun 2020\n",
      "상품명: 선우랜드 우드볼 도어훅 4구, 화이트, 1개 / 05 Jun 2020\n",
      "상품명: 네이쳐리빙 어반모카 와이어 도어훅 옷걸이 6구, 단일 색상, 1개 / 05 Jun 2020\n",
      "상품명: 까사마루 블랑 접이식 문걸이 건조대, 1개 / 05 Jun 2020\n",
      "상품명: 선우랜드 우드볼 도어훅 6구, 실버, 1개 / 05 Jun 2020\n",
      "상품명: 이케아 ENUDDEN 문걸이 행거 402.516.66, 화이트, 1개 / 05 Jun 2020\n",
      "상품명: 선우랜드 우드볼 도어훅 10구, 화이트, 1개 / 05 Jun 2020\n",
      "상품명: 코멧 홈 우드볼 도어행거, 6구, 혼합색상 / 05 Jun 2020\n",
      "상품명: 선우랜드 레인보우 2단 문걸이용 옷걸이 _중형, 화이트, 상세페이지참조 / 05 Jun 2020\n",
      "상품명: 코시나 무타공 문걸이 후크선반 2단, 화이트, 1개 / 05 Jun 2020\n",
      "상품명: 스파이더락 도어후크 8구, 화이트, 1개 / 05 Jun 2020\n",
      "상품명: 선우랜드 우드볼 도어훅 6구, 화이트, 1개 / 05 Jun 2020\n",
      "상품명: 코멧 홈 우드볼 도어행거, 10구, 혼합색상 / 05 Jun 2020\n",
      "상품명: 보드래 헬로우 누빔 매트리스커버, 핑크 / 05 Jun 2020\n",
      "상품명: 보몽드 순면스퀘어 솔리드 누빔매트커버, 아이보리 / 05 Jun 2020\n",
      "상품명: 더자리 에코항균 마이크로 매트리스커버, 밀키핑크 / 05 Jun 2020\n",
      "상품명: 타카타카 프리미엄 나노 화이바 누빔 매트리스 커버, 미스밍고 / 05 Jun 2020\n",
      "상품명: 네이쳐리빙 피아블 클래식 방수 매트리스커버, 그레이 / 05 Jun 2020\n",
      "상품명: 프로텍트어베드 베이직 매트리스 방수커버, 그레이 / 05 Jun 2020\n"
     ]
    }
   ],
   "source": [
    "for item in excel_sheet.rows:\n",
    "    print(item[0].value, '/', item[1].value)\n",
    "    \n",
    "excel_file.close()"
   ]
  },
  {
   "cell_type": "markdown",
   "metadata": {},
   "source": [
    "## 엑셀 파일 읽기 전체 코드"
   ]
  },
  {
   "cell_type": "code",
   "execution_count": 31,
   "metadata": {
    "ExecuteTime": {
     "end_time": "2020-12-15T09:39:39.961568Z",
     "start_time": "2020-12-15T09:39:39.911525Z"
    },
    "scrolled": true
   },
   "outputs": [
    {
     "name": "stdout",
     "output_type": "stream",
     "text": [
      "상품명: 보몽드 순면스퀘어 솔리드 누빔매트커버, 다크블루 05 Jun 2020\n",
      "상품명: 슈에뜨룸 선인장 리플 침구 세트, 베이지 05 Jun 2020\n",
      "상품명: 선우랜드 레인보우 2단 문걸이용 옷걸이 _중형, 화이트, 상세페이지참조 05 Jun 2020\n",
      "상품명: 보드래 헬로우 누빔 매트리스커버, 핑크 05 Jun 2020\n",
      "상품명: 보드래 퍼펙트 누빔 매트리스커버, 차콜 05 Jun 2020\n",
      "상품명: 피아블 클래식 방수 매트리스커버, 화이트 05 Jun 2020\n",
      "상품명: 더자리 에코항균 마이크로 매트리스커버, 밀키차콜그레이 05 Jun 2020\n",
      "상품명: 더자리 프레쉬 퓨어 매트리스 커버, 퓨어 차콜그레이 05 Jun 2020\n",
      "상품명: 몽쉐어 알러스킨 항균 매트리스 커버, 카키그레이 05 Jun 2020\n",
      "상품명: 쿠팡 브랜드 - 코멧 홈 40수 트윌 순면 100% 홑겹 매트리스커버, 그레이 05 Jun 2020\n",
      "상품명: 패브릭아트 항균 마이크로 원단 매트리스 커버, 아이보리 05 Jun 2020\n",
      "상품명: 바숨 순면 누빔 침대 매트리스커버, 차콜 05 Jun 2020\n",
      "상품명: WEMAX 다용도 문옷걸이, 화이트, 1개 05 Jun 2020\n",
      "상품명: 타카타카 프리미엄 나노 화이바 누빔 매트리스 커버, 젠틀핑핑 05 Jun 2020\n",
      "상품명: 보몽드 순면스퀘어 누빔매트커버, 다크그레이 05 Jun 2020\n",
      "상품명: 보드래 국내산 순면 60수 누빔 매트리스커버, 그레이 05 Jun 2020\n",
      "상품명: 보드래 퍼펙트 누빔 매트리스커버, 베이지핑크 05 Jun 2020\n",
      "상품명: 쿠팡 브랜드 - 코멧 홈 40수 순면 누빔 매트리스커버, 챠콜 05 Jun 2020\n",
      "상품명: 바숨 순면 누빔 침대 매트리스커버, 화이트 05 Jun 2020\n",
      "상품명: 프랑떼 항균 방수 매트리스커버, 화이트 05 Jun 2020\n",
      "상품명: 보몽드 순면스퀘어 솔리드 누빔매트커버, 다크블루 05 Jun 2020\n",
      "상품명: 네이쳐리빙 피아블 클래식 방수 매트리스커버, 그레이 05 Jun 2020\n",
      "상품명: 쿠팡 브랜드 - 코멧 홈 순면 매트리스커버, 베이지 05 Jun 2020\n",
      "상품명: 타카타카 프리미엄 나노 화이바 누빔 매트리스 커버, 프렌치불독 05 Jun 2020\n",
      "상품명: 더자리 에코항균 마이크로 매트리스커버, 밀키그레이 05 Jun 2020\n",
      "상품명: 보몽드 순면스퀘어 누빔매트커버, 화이트 05 Jun 2020\n",
      "상품명: 피아블 클래식 방수 매트리스커버, 화이트 05 Jun 2020\n",
      "상품명: 쿠팡 브랜드 - 코멧 홈 순면 매트리스커버, 차콜그레이 05 Jun 2020\n",
      "상품명: 쉬즈홈 모던그리드 순면 여름이불 베개커버 패드세트, 핑크 05 Jun 2020\n",
      "상품명: 스코홈 빅리플 여름 차렵이불패드 3종 세트, 마린그레이 05 Jun 2020\n",
      "상품명: 아망떼 시어서커 리플 홑이불 패드세트, 웨이크 05 Jun 2020\n",
      "상품명: 마이센스 무더운 여름엔 시어서커 여름이불 패드 베개 이불세트 30종, 시어서커_파스텔그레이 05 Jun 2020\n",
      "상품명: 믹스앤매치 로라 프릴 시어서커 침구세트, 그레이 05 Jun 2020\n",
      "상품명: 에피소드1 샤베트 프릴 시어서커 여름이불패드세트, 그레이 05 Jun 2020\n",
      "상품명: 슈에뜨룸 선인장 리플 침구 세트, 베이지 05 Jun 2020\n",
      "상품명: 아망떼 시어서커 리플 홑이불 패드세트, 허브티 05 Jun 2020\n",
      "상품명: 지베딩 아이스베어 시어서커 여름침구 풀세트, 민트그레이 05 Jun 2020\n",
      "상품명: 쁘리엘르 테스 시어서커 여름이불 패드세트, 그레이 05 Jun 2020\n",
      "상품명: 쉬즈홈 시어서커 홑이불 + 토퍼 + 베개커버 세트, 나나 옐로우 05 Jun 2020\n",
      "상품명: 아망떼 시어서커 리플 퀼팅 이불패드세트, 리엔나 05 Jun 2020\n",
      "상품명: 바자르 트로피컬 인견 여름 이불세트 인견이불 + 베개커버 2p + 인견패드, 그린 05 Jun 2020\n",
      "상품명: 바자르 라이닝 혼방 인견 여름 이불베개세트 + 패드 Q, 쿨 네이비 05 Jun 2020\n",
      "상품명: 슈에뜨룸 비숑 피치스킨 침구세트, 그레이 05 Jun 2020\n",
      "상품명: 스코홈 시어서커 여름 이불 패드 3종 세트, 차콜 05 Jun 2020\n",
      "상품명: 스코홈 어번시리즈 순면 차렵이불 누빔 매트커버세트 S 차콜 05 Jun 2020\n",
      "상품명: 쉬즈홈 루즈 시어서커 차렵이불 패드세트, 그레이 05 Jun 2020\n",
      "상품명: 예가로드 메리엘 시어서커 누비이불 패드세트, 블루 05 Jun 2020\n",
      "상품명: 에피소드1 샤베트 프릴 시어서커 여름이불패드세트, 화이트 05 Jun 2020\n",
      "상품명: 쉬즈홈 플루 시어서커 차렵이불 패드세트, 그린 05 Jun 2020\n",
      "상품명: 메종 레이스 차렵 이불 세트, 블루 05 Jun 2020\n",
      "상품명: 믹스앤매치 로라 프릴 시어서커 침구세트, 그린 05 Jun 2020\n",
      "상품명: 슈에뜨룸 발그레 피치 리플 침구 세트, 혼합 색상 05 Jun 2020\n",
      "상품명: 보몽드 메종 레이스 차렵이불 3종 세트, 민트 05 Jun 2020\n",
      "상품명: 슈에뜨룸 체크 피치스킨 침구세트, 모카 05 Jun 2020\n",
      "상품명: 메리엘 시어서커 에어리플 이불세트, 그레이 05 Jun 2020\n",
      "상품명: 슈에뜨룸 빠삐용 시어서커 침구세트, 네이비 05 Jun 2020\n",
      "상품명: 믹스앤매치 에이프릴 리플 누비이불 패드세트, 화이트 05 Jun 2020\n",
      "상품명: 쉬즈홈 시어서커 홑이불 토퍼세트, 루즈 그레이 05 Jun 2020\n",
      "상품명: 이코디 5단 엔틱 도어 행거, 브라운, 1개 05 Jun 2020\n",
      "상품명: 선우랜드 우드볼 도어훅 4구, 실버, 1개 05 Jun 2020\n",
      "상품명: 리은상점 다용도 도어훅 문걸이 행거 모자걸이 머플러 목도리 걸이, 화이트, 5개 05 Jun 2020\n",
      "상품명: 퍼니스코 다용도걸이 모자걸이 가방걸이 도어훅 도어행거 문걸이, 엔틱브라운, 1세트 05 Jun 2020\n",
      "상품명: 스텐 도어후크 옷걸이/도어훅 문옷걸이 행거 바지걸이, 혼합 색상, 1개 05 Jun 2020\n",
      "상품명: 디비플러스 키펙스 컬러 폭조절 오버 도어훅, 블랙, 1개 05 Jun 2020\n",
      "상품명: 리빙스토리 1+1 문에 거는 문 옷걸이 음자리 도어후크 방문 행거, 음자리도어후크-로즈골드, 2개 05 Jun 2020\n",
      "상품명: 나이스후크 도어행거 2개 세트 (문행거), 블랙+화이트 05 Jun 2020\n",
      "상품명: 리빙파이 도어훅 옷걸이 행거 7구, 블랙, 1개 05 Jun 2020\n",
      "상품명: 선우랜드 우드볼 도어훅 10구, 실버, 1개 05 Jun 2020\n",
      "상품명: 웰렉스 도어행거 MH1060 신형 본사직발송 미니건조대 도어옷걸이 도어훅, 고동색, 1개 05 Jun 2020\n",
      "상품명: 엔비 엔틱 7구 도어훅 옷걸이, 도어훅 1+1, 1+1 05 Jun 2020\n",
      "상품명: 코시나 무타공 문걸이 후크선반 1단, 화이트, 1개 05 Jun 2020\n",
      "상품명: 코시나 무타공 올스텐 문걸이행거, 혼합 색상, 1개 05 Jun 2020\n",
      "상품명: [아트박스 POOM/이케아] ENUDDEN 도어 행거, 본품, 수량 05 Jun 2020\n",
      "상품명: 비스비바 우드 폴 다용도걸이 3구, 혼합 색상, 1개 05 Jun 2020\n",
      "상품명: 숲속애 웨이브 도어후크 5구, 블랙, 1개 05 Jun 2020\n",
      "상품명: 펀타스틱 다용도 문틀걸이, 화이트, 1개 05 Jun 2020\n",
      "상품명: 선우랜드 우드볼 도어훅 4구, 화이트, 1개 05 Jun 2020\n",
      "상품명: 네이쳐리빙 어반모카 와이어 도어훅 옷걸이 6구, 단일 색상, 1개 05 Jun 2020\n",
      "상품명: 까사마루 블랑 접이식 문걸이 건조대, 1개 05 Jun 2020\n",
      "상품명: 선우랜드 우드볼 도어훅 6구, 실버, 1개 05 Jun 2020\n",
      "상품명: 이케아 ENUDDEN 문걸이 행거 402.516.66, 화이트, 1개 05 Jun 2020\n",
      "상품명: 선우랜드 우드볼 도어훅 10구, 화이트, 1개 05 Jun 2020\n",
      "상품명: 코멧 홈 우드볼 도어행거, 6구, 혼합색상 05 Jun 2020\n",
      "상품명: 선우랜드 레인보우 2단 문걸이용 옷걸이 _중형, 화이트, 상세페이지참조 05 Jun 2020\n",
      "상품명: 코시나 무타공 문걸이 후크선반 2단, 화이트, 1개 05 Jun 2020\n",
      "상품명: 스파이더락 도어후크 8구, 화이트, 1개 05 Jun 2020\n",
      "상품명: 선우랜드 우드볼 도어훅 6구, 화이트, 1개 05 Jun 2020\n",
      "상품명: 코멧 홈 우드볼 도어행거, 10구, 혼합색상 05 Jun 2020\n",
      "상품명: 보드래 헬로우 누빔 매트리스커버, 핑크 05 Jun 2020\n",
      "상품명: 보몽드 순면스퀘어 솔리드 누빔매트커버, 아이보리 05 Jun 2020\n",
      "상품명: 더자리 에코항균 마이크로 매트리스커버, 밀키핑크 05 Jun 2020\n",
      "상품명: 타카타카 프리미엄 나노 화이바 누빔 매트리스 커버, 미스밍고 05 Jun 2020\n",
      "상품명: 네이쳐리빙 피아블 클래식 방수 매트리스커버, 그레이 05 Jun 2020\n",
      "상품명: 프로텍트어베드 베이직 매트리스 방수커버, 그레이 05 Jun 2020\n"
     ]
    }
   ],
   "source": [
    "import openpyxl\n",
    "\n",
    "excel_file = openpyxl.load_workbook('tmp2.xlsx')\n",
    "excel_sheet = excel_file.active\n",
    "# excel_sheet = excel_file.get_sheet_by_name('IT뉴스')\n",
    "for row in excel_sheet.rows:\n",
    "    print(row[0].value, row[1].value)\n",
    "    \n",
    "excel_file.close()"
   ]
  }
 ],
 "metadata": {
  "hide_input": false,
  "kernelspec": {
   "display_name": "Python 3",
   "language": "python",
   "name": "python3"
  },
  "language_info": {
   "codemirror_mode": {
    "name": "ipython",
    "version": 3
   },
   "file_extension": ".py",
   "mimetype": "text/x-python",
   "name": "python",
   "nbconvert_exporter": "python",
   "pygments_lexer": "ipython3",
   "version": "3.8.3"
  },
  "toc": {
   "base_numbering": 1,
   "nav_menu": {},
   "number_sections": true,
   "sideBar": true,
   "skip_h1_title": false,
   "title_cell": "Table of Contents",
   "title_sidebar": "Contents",
   "toc_cell": false,
   "toc_position": {},
   "toc_section_display": true,
   "toc_window_display": false
  },
  "varInspector": {
   "cols": {
    "lenName": 16,
    "lenType": 16,
    "lenVar": 40
   },
   "kernels_config": {
    "python": {
     "delete_cmd_postfix": "",
     "delete_cmd_prefix": "del ",
     "library": "var_list.py",
     "varRefreshCmd": "print(var_dic_list())"
    },
    "r": {
     "delete_cmd_postfix": ") ",
     "delete_cmd_prefix": "rm(",
     "library": "var_list.r",
     "varRefreshCmd": "cat(var_dic_list()) "
    }
   },
   "types_to_exclude": [
    "module",
    "function",
    "builtin_function_or_method",
    "instance",
    "_Feature"
   ],
   "window_display": false
  }
 },
 "nbformat": 4,
 "nbformat_minor": 4
}
