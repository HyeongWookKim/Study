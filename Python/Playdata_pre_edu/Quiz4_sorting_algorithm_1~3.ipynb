{
 "cells": [
  {
   "cell_type": "code",
   "execution_count": 1,
   "metadata": {},
   "outputs": [
    {
     "name": "stdout",
     "output_type": "stream",
     "text": [
      "[1, 3, 4, 9, 12]\n"
     ]
    }
   ],
   "source": [
    "# sorting_algorithm_quiz1\n",
    "\"\"\"\n",
    "1. <선택 정렬> 문제\n",
    "문제)\n",
    "[9, 4, 3, 1, 12]을 오름차순으로 정렬하시오.\n",
    "\n",
    "결과)\n",
    "[1, 3, 4, 9, 12]\n",
    "\"\"\"\n",
    "\n",
    "arr1 = [9, 4, 3, 1, 12]\n",
    "n = len(arr1)\n",
    "\n",
    "for i in range(0, n - 1):\n",
    "    min_idx = i\n",
    "    for j in range(i + 1, n):\n",
    "        if arr1[j] < arr1[min_idx]:\n",
    "            min_idx = j\n",
    "    arr1[i], arr1[min_idx] = arr1[min_idx], arr1[i]\n",
    "\n",
    "print(arr1)"
   ]
  },
  {
   "cell_type": "code",
   "execution_count": 2,
   "metadata": {},
   "outputs": [
    {
     "name": "stdout",
     "output_type": "stream",
     "text": [
      "[1, 3, 4, 5, 7]\n"
     ]
    }
   ],
   "source": [
    "# sorting_algorithm_quiz2\n",
    "'''\n",
    "2. <버블 정렬> 문제\n",
    "문제) \n",
    "주어진 리스트를 오름차순으로 정렬하시오.\n",
    "[7, 4, 5, 1, 3]\n",
    "\n",
    "결과)\n",
    "[1, 3, 4, 5, 7]\n",
    "'''\n",
    "\n",
    "arr2 = [7, 4, 5, 1, 3]\n",
    "n = len(arr2)\n",
    "\n",
    "for i in range(0, n):\n",
    "    for j in range(n - 1, i, -1):\n",
    "        if arr2[j - 1] > arr2[j]:\n",
    "            arr2[j - 1], arr2[j] = arr2[j], arr2[j - 1]\n",
    "\n",
    "print(arr2)"
   ]
  },
  {
   "cell_type": "code",
   "execution_count": 3,
   "metadata": {},
   "outputs": [
    {
     "name": "stdout",
     "output_type": "stream",
     "text": [
      "[1, 3, 4, 9, 12]\n"
     ]
    }
   ],
   "source": [
    "# sorting_algorithm_quiz3\n",
    "\"\"\"\n",
    "3. <삽입 정렬> 문제\n",
    "문제)\n",
    "[9, 4, 3, 1, 12]을 오름차순으로 정렬하시오\n",
    "\n",
    "결과)\n",
    "[1, 3, 4, 9, 12]\n",
    "\"\"\"\n",
    "\n",
    "arr3 = [9, 4, 3, 1, 12]\n",
    "n = len(arr3)\n",
    "\n",
    "# 새롭게 추가된 값보다 작은 숫자를 만나는 최초의 순간까지만 내부 반복문을 수행\n",
    "for end in range(1, n):\n",
    "    i = end\n",
    "    while i > 0 and arr3[i - 1] > arr3[i]:\n",
    "        arr3[i - 1], arr3[i] = arr3[i], arr3[i - 1]\n",
    "        i -= 1\n",
    "\n",
    "print(arr3)"
   ]
  }
 ],
 "metadata": {
  "kernelspec": {
   "display_name": "Python 3",
   "language": "python",
   "name": "python3"
  },
  "language_info": {
   "codemirror_mode": {
    "name": "ipython",
    "version": 3
   },
   "file_extension": ".py",
   "mimetype": "text/x-python",
   "name": "python",
   "nbconvert_exporter": "python",
   "pygments_lexer": "ipython3",
   "version": "3.6.10"
  }
 },
 "nbformat": 4,
 "nbformat_minor": 4
}
