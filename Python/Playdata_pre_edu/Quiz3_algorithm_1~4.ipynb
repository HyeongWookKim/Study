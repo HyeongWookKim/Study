{
 "cells": [
  {
   "cell_type": "code",
   "execution_count": 4,
   "metadata": {},
   "outputs": [
    {
     "name": "stdout",
     "output_type": "stream",
     "text": [
      "3628800\n"
     ]
    }
   ],
   "source": [
    "# Algorithm_quiz1\n",
    "'''\n",
    "1.\n",
    "팩토리얼은 1부터 n까지 연속한 숫자의 곱이라 합니다.\n",
    "팩토리얼을 함수(factorial)로 구현하는데 재귀함수를 이용하여 구현하시오.\n",
    "\n",
    "<입력>\n",
    "print(factorial(10))\n",
    "\n",
    "<출력>\n",
    "3628800'''\n",
    "\n",
    "def factorial(n):\n",
    "    if n == 1:     # n이 1일 때\n",
    "        return 1   # 1을 반환하고 재귀호출을 끝냄\n",
    "    return n * factorial(n-1)\n",
    "\n",
    "print(factorial(10))"
   ]
  },
  {
   "cell_type": "code",
   "execution_count": 89,
   "metadata": {},
   "outputs": [
    {
     "name": "stdout",
     "output_type": "stream",
     "text": [
      "[1, 2, 3, 6, 7, 8, 10, 21]\n"
     ]
    }
   ],
   "source": [
    "# Algorithm_quiz2\n",
    "'''\n",
    "2.\n",
    "첫 번째 숫자를 두 번째 숫자부터 마지막 숫자까지 차례대로 비교하여\n",
    "가장 작은 값을 찾아 첫 번째에 놓고,  두번째 숫자를 세 번째 숫자부터\n",
    "마지막 숫자까지 차례대로 비교하여그 중 가장 작은 값을 찾아\n",
    "두 번째 위치에 놓는 과정을 반복하며 정렬하는것을 선택정렬이라고 합니다.\n",
    "주어진 리스트를 선택정렬함수(select_sort)를 생성하여 오름차순으로 정렬하시오\n",
    "list=[6,2,3,7,8,10,21,1]\n",
    "\n",
    "<입력>\n",
    "print(select_sort(list))\n",
    "\n",
    "<출력>\n",
    "[1, 2, 3, 6, 7, 8, 10, 21]\n",
    "\n",
    "'''\n",
    "\n",
    "def select_sort(arr):\n",
    "    n = len(arr)\n",
    "    for i in range(n - 1):\n",
    "        min_idx = i\n",
    "        for j in range(i + 1, n):\n",
    "            if arr[j] < arr[min_idx]:\n",
    "                min_idx = j\n",
    "        arr[i], arr[min_idx] = arr[min_idx], arr[i]\n",
    "        \n",
    "list_ex2=[6,2,3,7,8,10,21,1]\n",
    "select_sort(list_ex2)\n",
    "print(list_ex2)"
   ]
  },
  {
   "cell_type": "code",
   "execution_count": 88,
   "metadata": {},
   "outputs": [
    {
     "name": "stdout",
     "output_type": "stream",
     "text": [
      "[1, 2, 3, 4, 5, 6, 7, 8, 10, 11, 16, 21]\n"
     ]
    }
   ],
   "source": [
    "# Algorithm_quiz3\n",
    "'''\n",
    "3.\n",
    "앞뒤로 이웃한 숫자를 비교하여 크기가 큰 숫자가 작은숫자보다 앞에 있을\n",
    "경우 서로 위치를 바꿔 가며 정렬하는 것을 버블정렬이라고 합니다.\n",
    "주어진 리스트를 버블정렬함수(bubble_sort)를 생성하여 오름차순으로 정렬하시오.\n",
    "list=[4,3,2,1,8,7,5,10,11,16,21,6]\n",
    "\n",
    "<입력>\n",
    "print(bubble_sort(list))\n",
    "\n",
    "<출력>\n",
    "[1, 2, 3, 4, 5, 6, 7, 8, 10, 11, 16, 21]\n",
    "'''\n",
    "\n",
    "# len(arr)가 4라면\n",
    "# 바깥 루프는 3번 돌아야 하므로\n",
    "# range()는 0, 1, 2까지 즉 range(3)이 되야 하므로\n",
    "# range(len(arr)-1)이 되어야 한다.\n",
    "def bubble_sort(arr):\n",
    "    n = len(arr)\n",
    "    for i in range(n - 1):\n",
    "        # 안쪽 루프는 1번당 3 -> 2 -> 1\n",
    "        # 즉, range(4 - 0 - 1) ->\n",
    "        # range(4 - 1 - 1) ->\n",
    "        # range(4 - 2 - 1)\n",
    "        # range(n - i - 1)\n",
    "        for j in range(n - i -1):\n",
    "            if arr[j] > arr[j+1]:  #만약 앞에 있는 값이 크다면 두 개를 교환\n",
    "                arr[j], arr[j+1] = arr[j+1], arr[j]\n",
    "                \n",
    "list_ex3=[4,3,2,1,8,7,5,10,11,16,21,6]\n",
    "bubble_sort(list_ex3)\n",
    "print(list_ex3)"
   ]
  },
  {
   "cell_type": "code",
   "execution_count": 2,
   "metadata": {
    "scrolled": false
   },
   "outputs": [
    {
     "name": "stdout",
     "output_type": "stream",
     "text": [
      "액수입력 : 1050\n",
      "동전의 종류 : 100 50 10\n",
      "100원 동전 10개, 50원 동전 1개, 10원 동전 0개\n"
     ]
    }
   ],
   "source": [
    "# Algorithm_quiz4\n",
    "'''\n",
    "4.\n",
    "탐욕 알고리즘은 최적해를 구하는 상황에서 사용하는 방법입니다.\n",
    "여러 경우 중 하나를 선택할 때 그것이 그 상황에서 가장 좋다고 생각하는 것을\n",
    "선택해 나가는 방식으로 진행하여 답을 구합니다.\n",
    "하지만 탐욕알고리즘은 그 상황에서 가장 좋다고 생각하는 것을 선택해 나가는\n",
    "방식이기 때문에 가장 좋은 결과를 얻는 것이 보장되는것은 아닙니다.\n",
    "탐욕 알고리즘을 이용하여 동전을 지불하는 함수(greedy)를 짜는데 지불해야 하는\n",
    "동전의 갯수가 최소가 되도록 함수를 구현하시오\n",
    "(input 으로 액수와 동전의 종류를 입력하게 구현)\n",
    "\n",
    "<입력>\n",
    "print(greedy())\n",
    "\n",
    "<출력>\n",
    "액수입력 :  1050\n",
    "동전의 종류 :  100 50 10\n",
    "100원 동전 10개, 50원 동전 1개, 10원 동전 0개\n",
    "'''\n",
    "\n",
    "def greedy():\n",
    "    value = int(input(\"액수입력 : \"))\n",
    "    coin_list = list(map(int, input(\"동전의 종류 : \").split(\" \")))\n",
    "    \n",
    "    result = []\n",
    "    \n",
    "    count = 0 # 누적 동전 개수\n",
    "    coin_list.sort(reverse = True)   # coin_list의 값들을 큰 순서대로 본다\n",
    "    \n",
    "    for i in coin_list:\n",
    "        count += (value // i)      # 현재 동전으로 몇 개 거슬러 줄 수 있는지 확인\n",
    "        result.append(\"{}원 동전 {}개\".format(i, value // i))\n",
    "        value -= (value // i) * i  # 잔액을 계산\n",
    "    answer = \", \".join(result)\n",
    "    return print(answer)\n",
    "    \n",
    "greedy()"
   ]
  }
 ],
 "metadata": {
  "kernelspec": {
   "display_name": "Python 3",
   "language": "python",
   "name": "python3"
  },
  "language_info": {
   "codemirror_mode": {
    "name": "ipython",
    "version": 3
   },
   "file_extension": ".py",
   "mimetype": "text/x-python",
   "name": "python",
   "nbconvert_exporter": "python",
   "pygments_lexer": "ipython3",
   "version": "3.6.10"
  }
 },
 "nbformat": 4,
 "nbformat_minor": 4
}
