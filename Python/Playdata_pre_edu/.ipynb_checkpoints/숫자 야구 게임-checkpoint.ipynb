{
 "cells": [
  {
   "cell_type": "markdown",
   "metadata": {},
   "source": [
    "# 숫자 야구 게임\n",
    "\n",
    "## 개요\n",
    "세자리의 임의의 숫자를 맞추는 게임.    \n",
    "맞추는 숫자는 서로 다른 숫자여야 한다.    \n",
    "사용자로부터 숫자 세자리를 입력받는다. 숫자와 자릿수가 다 맞으면 스트라이크, 숫자는 맞지만 자릿수가 틀리면 볼, 입력한 숫자가 정답에 포함되 있지 않으면 아웃으로 판정한다.    \n",
    "3 스트라이크이면 몇 번만에 맞췄는지 보여주고 게임을 종료한다.\n",
    "\n",
    "## 필요한 내용\n",
    "- 난수 발생: random.randint()\n",
    "- 리스트\n",
    "- 중첩 반복문\n",
    "- 조건문\n",
    "- 사용자 입력 함수 : (input())"
   ]
  },
  {
   "cell_type": "code",
   "execution_count": null,
   "metadata": {
    "ExecuteTime": {
     "end_time": "2020-04-30T05:03:23.976818Z",
     "start_time": "2020-04-30T05:03:23.972830Z"
    },
    "scrolled": true
   },
   "outputs": [],
   "source": [
    "# 정답을 저장할 리스트 선언\n",
    "\n",
    "\n",
    "# 중복되지 않은 3개의 숫자를 생성해서 위에서 생성한 리스트에 담는다. \n",
    "\n",
    "\n",
    "# 총 시도횟수를 저장할 변수 선언, 스트라이크 횟수를 저장할 변수 선언\n",
    "\n",
    "\n",
    "\n",
    "# 3 스트라이크가 될 때 까지 다음을 반복한다.\n",
    "# 1  사용자로 부터 숫자 3개 입력받는다. 입력받은 숫자를 하나씩 리스트에 넣는다. ex) '123' -> ['1','2','3']\n",
    "# 2. 정답을 가진 리스트와 입력받은 값을 가진 리스트의 원소들을 비교해 값과 자리가 같으면 스트라이크, 값만 같으면 볼로 판정한다.\n",
    "# 3. 3스트라이크면 반복을 중지하고 3스트라이크가 아니면 몇 스트라이크 몇 볼인지 알려준 뒤 다시 반복한다.\n",
    "\n",
    "\n",
    "# 3 스트라이크가 될때 까지 반복한다.\n",
    "    \n",
    "    # 총 시도횟수 카운트 증가\n",
    "\n",
    "    # 스트라이크, 볼 count 변수 초기화\n",
    "\n",
    "\n",
    "    # 사용자로부터 숫자 세개를 입력받는다. ex) 123 입력받은 값은 문자열로 사용한다. (정수로 변환하지 않는다.)\n",
    "    \n",
    "    \n",
    "    # 사용자가 입력한 값이 3자리면 정답과 일치하는 것을 비교한다. \n",
    "    \n",
    "\n",
    "        # 정답과 사용자 입력한 숫자가 일치하는지 비교한다.\n",
    "        #  - 반복문을 이용해 숫자 하나 하나씩 비교한다. \n",
    "        #  - 정답 리스트 반복 \n",
    "        \n",
    "            # 사용자입력 숫자 반복 \n",
    "            \n",
    "                # 사용자가 입력한 값이 numbers 와 같고 자리수가 같다면 (i == j) 스트라이크 카운트 증가\n",
    "                # 사용자가 입력한 값이 numbers 와 같고 자리수가 다르다면 (i != j) 볼 카운트 증가\n",
    "                \n",
    "                \n",
    "        # 비교결과 출력 (n 스트라이크, n 볼, n 아웃)\n",
    "\n",
    "\n",
    "# 최종결과 출력 - N 회만에 성공했습니다."
   ]
  },
  {
   "cell_type": "code",
   "execution_count": 11,
   "metadata": {},
   "outputs": [
    {
     "name": "stdout",
     "output_type": "stream",
     "text": [
      "정답:  ['3', '5', '9']\n",
      "--------------------------------------------------\n",
      "숫자 3자리를 입력해주세요: 215\n",
      "비교 결과: 0 스트라이크, 1 볼\n",
      "숫자 3자리를 입력해주세요: 222\n",
      "비교 결과: 0 스트라이크, 0 볼\n",
      "숫자 3자리를 입력해주세요: 333\n",
      "비교 결과: 1 스트라이크, 2 볼\n",
      "숫자 3자리를 입력해주세요: 357\n",
      "비교 결과: 2 스트라이크, 0 볼\n",
      "숫자 3자리를 입력해주세요: 359\n",
      "비교 결과: 3 스트라이크, 0 볼\n",
      "--------------------------------------------------\n",
      "숫자 야구 게임 종료! 5회 만에 성공했습니다.\n"
     ]
    }
   ],
   "source": [
    "# <풀이>\n",
    "import random\n",
    "\n",
    "ran_list = []\n",
    "\n",
    "# ran_list의 길이가 3이면 while문을 벗어나게끔 설정\n",
    "while len(ran_list) < 3:\n",
    "    # 난수를 '문자열'로 생성해주어야 함!!\n",
    "    ran_num = str(random.randint(1, 9))\n",
    "    # 생성된 난수 3개가 서로 중복되지 않게끔 만들어 줌\n",
    "    if ran_num not in ran_list:\n",
    "        ran_list.append(ran_num)\n",
    "        \n",
    "print(\"정답: \", ran_list)\n",
    "print(\"-\" * 50)\n",
    "\n",
    "\n",
    "t_cnt = 0    # 시도 횟수\n",
    "st_cnt = 0   # 스트라이크 갯수\n",
    "bl_cnt = 0   # 볼 갯수\n",
    "\n",
    "while st_cnt < 3:    \n",
    "    # 입력 받은 숫자는 '문자열'\n",
    "    num = input(\"숫자 3자리를 입력해주세요: \")\n",
    "    \n",
    "    st_cnt = 0\n",
    "    bl_cnt = 0\n",
    "    \n",
    "    for i in range(0, 3):\n",
    "        for j in range(0, 3):\n",
    "            if num[i] == ran_list[j] and i == j:\n",
    "                st_cnt += 1\n",
    "            elif num[i] == ran_list[j] and i != j:\n",
    "                bl_cnt += 1\n",
    "                \n",
    "    print(\"비교 결과: {} 스트라이크, {} 볼\".format(st_cnt, bl_cnt))\n",
    "    t_cnt += 1\n",
    "\n",
    "print(\"-\" * 50)\n",
    "print(\"숫자 야구 게임 종료! {}회 만에 성공했습니다.\".format(t_cnt))"
   ]
  }
 ],
 "metadata": {
  "kernelspec": {
   "display_name": "Python 3",
   "language": "python",
   "name": "python3"
  },
  "language_info": {
   "codemirror_mode": {
    "name": "ipython",
    "version": 3
   },
   "file_extension": ".py",
   "mimetype": "text/x-python",
   "name": "python",
   "nbconvert_exporter": "python",
   "pygments_lexer": "ipython3",
   "version": "3.7.6"
  },
  "toc": {
   "base_numbering": 1,
   "nav_menu": {},
   "number_sections": false,
   "sideBar": true,
   "skip_h1_title": false,
   "title_cell": "Table of Contents",
   "title_sidebar": "Contents",
   "toc_cell": false,
   "toc_position": {},
   "toc_section_display": true,
   "toc_window_display": false
  },
  "varInspector": {
   "cols": {
    "lenName": 16,
    "lenType": 16,
    "lenVar": 40
   },
   "kernels_config": {
    "python": {
     "delete_cmd_postfix": "",
     "delete_cmd_prefix": "del ",
     "library": "var_list.py",
     "varRefreshCmd": "print(var_dic_list())"
    },
    "r": {
     "delete_cmd_postfix": ") ",
     "delete_cmd_prefix": "rm(",
     "library": "var_list.r",
     "varRefreshCmd": "cat(var_dic_list()) "
    }
   },
   "types_to_exclude": [
    "module",
    "function",
    "builtin_function_or_method",
    "instance",
    "_Feature"
   ],
   "window_display": false
  }
 },
 "nbformat": 4,
 "nbformat_minor": 2
}
