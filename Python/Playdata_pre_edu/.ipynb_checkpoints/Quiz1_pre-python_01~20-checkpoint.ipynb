{
 "cells": [
  {
   "cell_type": "code",
   "execution_count": 1,
   "metadata": {},
   "outputs": [
    {
     "name": "stdout",
     "output_type": "stream",
     "text": [
      "가로의 숫자를 입력하시오 : 5\n",
      "세로의 숫자를 입력하시오 : 4\n",
      "★★★★★\n",
      "★★★★★\n",
      "★★★★★\n",
      "★★★★★\n"
     ]
    }
   ],
   "source": [
    "\"\"\"1. 아래와 같이 숫자를 두번 물어보게 하고 ★을 출력해서 사각형을 만드시오\n",
    "가로의 숫자를 입력하시오 : \n",
    "세로의 숫자를 입력하시오 :\n",
    "\n",
    "예시\n",
    "<입력>\n",
    "가로의 숫자를 입력하시오 : 5\n",
    "세로의 숫자를 입력하시오 : 4\n",
    "\n",
    "<출력>\n",
    "★★★★★\n",
    "★★★★★\n",
    "★★★★★\n",
    "★★★★★\n",
    " \"\"\"\n",
    "\n",
    "a = int(input(\"가로의 숫자를 입력하시오 : \"))\n",
    "b = int(input(\"세로의 숫자를 입력하시오 : \"))\n",
    "for i in range(b):\n",
    "    print('★' * a)"
   ]
  },
  {
   "cell_type": "code",
   "execution_count": 7,
   "metadata": {},
   "outputs": [
    {
     "name": "stdout",
     "output_type": "stream",
     "text": [
      "첫 번째 수를 입력하세요 : 10\n",
      "두 번째 수를 입력하세요 : 15\n",
      "어떤 연산을 하실 건가요? : *\n",
      "150\n"
     ]
    }
   ],
   "source": [
    "\"\"\"\"2.if문을 이용해 첫번째와 두번 수, 연산기호를 입력하게 하여 계산값이 나오는 계산기를 만드시오\n",
    "\n",
    "\n",
    "예시\n",
    "<입력>\n",
    "첫 번째 수를 입력하세요 : 10\n",
    "두 번째 수를 입력하세요 : 15\n",
    "어떤 연산을 하실 건가요? : *\n",
    "\n",
    "<출력>\n",
    "150\n",
    "\"\"\"\n",
    "\n",
    "num1 = int(input(\"첫 번째 수를 입력하세요 : \"))\n",
    "num2 = int(input(\"두 번째 수를 입력하세요 : \"))\n",
    "op = input(\"어떤 연산을 하실 건가요? : \")\n",
    "if op == \"+\":\n",
    "    print(num1 + num2)\n",
    "elif op == \"-\":\n",
    "    print(num1 - num2)\n",
    "elif op == \"*\":\n",
    "    print(num1 * num2)\n",
    "else:\n",
    "    print(num1 / num2)"
   ]
  },
  {
   "cell_type": "code",
   "execution_count": 8,
   "metadata": {},
   "outputs": [
    {
     "name": "stdout",
     "output_type": "stream",
     "text": [
      "첫번째 참가자 엔터키를 눌러 주사위를 던져 주세요 : 2\n",
      "두번째 참가자 엔터키를 눌러 주사위를 던져 주세요 : 1\n",
      "첫 번째 참가자의 승리입니다\n"
     ]
    }
   ],
   "source": [
    "\"\"\"3.Enter key를 눌러 주사위를 던지게 한 후, 주사위의 눈이 높은 사람이 승리하는\n",
    "간단한 주사위 게임을 만드세요\n",
    "\n",
    "\n",
    "예시\n",
    "<입력>\n",
    "첫번째 참가자 엔터키를 눌러 주사위를 던져 주세요 : 1~6 랜덤숫자 출력\n",
    "두번째 참가자 엔터키를 눌러 주사위를 던져 주세요 : 1~6 랜덤숫자 출력\n",
    "\n",
    "<출력>\n",
    "첫 번째(두 번째) 참가자의 승리입니다. or 비겼습니다.\n",
    "\n",
    "\"\"\"\n",
    "\n",
    "import random\n",
    "\n",
    "p1 = random.randrange(1,7)\n",
    "print(\"첫번째 참가자 엔터키를 눌러 주사위를 던져 주세요 : %d\" % p1)\n",
    "p2 = random.randrange(1,7)\n",
    "print(\"두번째 참가자 엔터키를 눌러 주사위를 던져 주세요 : %d\" % p2)\n",
    "\n",
    "if p1 > p2:\n",
    "    print(\"첫 번째 참가자의 승리입니다\")\n",
    "elif p1 < p2:\n",
    "    print(\"두 번째 참가자의 승리입니다\")\n",
    "else:\n",
    "    print(\"비겼습니다\")"
   ]
  },
  {
   "cell_type": "code",
   "execution_count": 9,
   "metadata": {},
   "outputs": [
    {
     "name": "stdout",
     "output_type": "stream",
     "text": [
      "100.0\n"
     ]
    }
   ],
   "source": [
    "\"\"\"4. 삼각형의 가로와 높이를 받아서 넓이를 출력하는 함수를 작성하시오.\n",
    "\n",
    "\n",
    "예시\n",
    "<입력>\n",
    "print(Triangle(10,20))\n",
    "\n",
    "<출력>\n",
    "100\n",
    "\n",
    "\"\"\"\n",
    "\n",
    "def Triangle(a, b):\n",
    "    return (a*b)/2\n",
    "\n",
    "print(Triangle(10, 20))"
   ]
  },
  {
   "cell_type": "code",
   "execution_count": 10,
   "metadata": {},
   "outputs": [
    {
     "name": "stdout",
     "output_type": "stream",
     "text": [
      "출력할 단을 입력해주세요 : 5\n",
      "5 * 1 = 5\n",
      "5 * 2 = 10\n",
      "5 * 3 = 15\n",
      "5 * 4 = 20\n",
      "5 * 5 = 25\n",
      "5 * 6 = 30\n",
      "5 * 7 = 35\n",
      "5 * 8 = 40\n",
      "5 * 9 = 45\n"
     ]
    }
   ],
   "source": [
    "\"\"\"5. N을 입력 받은 뒤, 구구단 N단을 출력하는 프로그램을 작성하시오(format 활용)\n",
    "\n",
    "예시\n",
    "<입력>\n",
    "출력할 단을 입력해주세요 : 5\n",
    "\n",
    "<출력>\n",
    "5 * 1 = 5\n",
    "5 * 2 = 10\n",
    "5 * 3 = 15\n",
    "5 * 4 = 20\n",
    "5 * 5 = 25\n",
    "5 * 6 = 30\n",
    "5 * 7 = 35\n",
    "5 * 8 = 40\n",
    "5 * 9 = 45\n",
    "\n",
    "\"\"\"\n",
    "\n",
    "N = int(input(\"출력할 단을 입력해주세요 : \"))\n",
    "for i in range(1, 10):\n",
    "    print(\"{} * {} = {}\".format(N, i, N * i))"
   ]
  },
  {
   "cell_type": "code",
   "execution_count": 11,
   "metadata": {},
   "outputs": [
    {
     "name": "stdout",
     "output_type": "stream",
     "text": [
      "숫자를 입력하세요 : 5\n",
      "     ★\n",
      "    ★★\n",
      "   ★★★\n",
      "  ★★★★\n",
      " ★★★★★\n",
      "  ★★★★\n",
      "   ★★★\n",
      "    ★★\n",
      "     ★\n"
     ]
    }
   ],
   "source": [
    "\"\"\"6. 아래와 같이 별이 찍히게 출력하시오.\n",
    "숫자를 입력하세요 : 5\n",
    "    ★\n",
    "   ★★\n",
    "  ★★★\n",
    " ★★★★\n",
    "★★★★★\n",
    " ★★★★\n",
    "  ★★★\n",
    "   ★★\n",
    "    ★\n",
    "\n",
    "예시\n",
    "<입력>\n",
    "숫자를 입력하세요 : 5\n",
    "\n",
    "<출력>\n",
    "    ★\n",
    "   ★★\n",
    "  ★★★\n",
    " ★★★★\n",
    "★★★★★  \n",
    " ★★★★\n",
    "  ★★★\n",
    "   ★★\n",
    "    ★\n",
    "\n",
    "\n",
    "\"\"\"\n",
    "# range(start, stop, step) 함수에서 stop 값은 포함하지 않으며, step 값에 음수를 넣을 수 있다\n",
    "n = int(input(\"숫자를 입력하세요 : \"))\n",
    "for i in range(1, n+1):\n",
    "    print((n-i) * \" \", i * \"★\")\n",
    "for j in range(n-1, 0, -1):\n",
    "    print((n-j) * \" \", j * \"★\")"
   ]
  },
  {
   "cell_type": "code",
   "execution_count": 12,
   "metadata": {},
   "outputs": [
    {
     "name": "stdout",
     "output_type": "stream",
     "text": [
      "45\n"
     ]
    }
   ],
   "source": [
    "\"\"\"7. 1부터 100까지 수의 합을 계산하고 있다. \n",
    "이 때 합이 최초로 1000을 넘게 하는 수가 무엇인지 코드를 만들고 답을 구하시오\n",
    "\n",
    "\n",
    "<출력>\n",
    " 45\n",
    "\"\"\"\n",
    "n = 0\n",
    "for i in range(1, 101):\n",
    "    n = n + i\n",
    "    if n > 1000:\n",
    "        break\n",
    "        \n",
    "print(i)"
   ]
  },
  {
   "cell_type": "code",
   "execution_count": 13,
   "metadata": {},
   "outputs": [
    {
     "name": "stdout",
     "output_type": "stream",
     "text": [
      "정수를 입력하세요 : 14\n",
      "짝수입니다.\n"
     ]
    }
   ],
   "source": [
    "\"\"\"8. 정수를 입력했을 때 짝수인지 홀수인지 핀별하는 코드를 작성하시오\n",
    "\n",
    "예시\n",
    "<입력>\n",
    "정수를 입력하세요 : 14\n",
    "\n",
    "<출력>\n",
    "짝수입니다.\n",
    "\"\"\"\n",
    "\n",
    "a = int(input(\"정수를 입력하세요 : \"))\n",
    "if a % 2 == 0:\n",
    "    print(\"짝수입니다.\")\n",
    "else:\n",
    "    print(\"홀수입니다.\")"
   ]
  },
  {
   "cell_type": "code",
   "execution_count": 14,
   "metadata": {},
   "outputs": [
    {
     "name": "stdout",
     "output_type": "stream",
     "text": [
      "score : 88\n",
      "A\n"
     ]
    }
   ],
   "source": [
    "\"\"\"\n",
    "9. 점수 구간에 해당하는 학점이 아래와 같이 정의되어 있다.\n",
    "점수를 입력했을 때 해당 학점이 출력되도록 하시오.\n",
    "81~100 : A\n",
    "61~80 : B\n",
    "41~60 : C\n",
    "21~40 : D\n",
    "0~20 : F\n",
    "\n",
    "예시\n",
    "<입력>\n",
    "score : 88\n",
    "\n",
    "<출력>\n",
    "A\n",
    "\n",
    "\"\"\"\n",
    "\n",
    "score = int(input(\"score : \"))\n",
    "if score >= 81 and score <= 100:\n",
    "    print(\"A\")\n",
    "elif score >= 61 and score <= 80:\n",
    "    print(\"B\")\n",
    "elif score >= 41 and score <= 60:\n",
    "    print(\"C\")\n",
    "elif score >= 21 and score <= 40:\n",
    "    print(\"D\")\n",
    "else:\n",
    "    print(\"F\")"
   ]
  },
  {
   "cell_type": "code",
   "execution_count": 15,
   "metadata": {},
   "outputs": [
    {
     "name": "stdout",
     "output_type": "stream",
     "text": [
      "120\n"
     ]
    }
   ],
   "source": [
    "\"\"\"10. 팩토리얼을 구하는 함수를 작성하시오.\n",
    "ex ) 5! = 5x4x3x2x1\n",
    "  print(factoral(5)) -> 120 출력\n",
    "  \n",
    "예시\n",
    "<입력>\n",
    "print(factorial(5))\n",
    "\n",
    "<출력>\n",
    "120\n",
    "  \"\"\"\n",
    "\n",
    "def factorial(n):\n",
    "    ret = 1\n",
    "    for i in range(1, n+1):\n",
    "        ret = ret * i\n",
    "    return ret\n",
    "\n",
    "print(factorial(5))"
   ]
  },
  {
   "cell_type": "code",
   "execution_count": 16,
   "metadata": {},
   "outputs": [
    {
     "name": "stdout",
     "output_type": "stream",
     "text": [
      "6\n"
     ]
    }
   ],
   "source": [
    "\"\"\"11. 최대공약수를 구하는 함수를 구현하시오\n",
    "\n",
    "예시\n",
    "<입력>\n",
    "print(gcd(12,6))\n",
    "\n",
    "<출력>\n",
    "6\n",
    "\"\"\"\n",
    "\n",
    "def gcd(a, b):\n",
    "    i = min(a, b)     # 두 수 중 더 작은 값을 i에 저장\n",
    "    while True:\n",
    "        if a % i == 0 and b % i == 0: # i가 두 수의 공통된 약수인지 확인\n",
    "            return i # i가 두 수의 공통된 약수이면, 이 값을 결과값으로 돌려주고 종료\n",
    "        i = i - 1    # i가 두 수의 공통된 약수가 아니면, i를 1만큼 감소시키고 위로 돌아가 과정 반복\n",
    "\n",
    "print(gcd(12, 6))"
   ]
  },
  {
   "cell_type": "code",
   "execution_count": 17,
   "metadata": {},
   "outputs": [
    {
     "name": "stdout",
     "output_type": "stream",
     "text": [
      "['Aimy', 'Bob', 'Kelly', 'Mary', 'Michale', 'Sams', 'Tom']\n"
     ]
    }
   ],
   "source": [
    "\"\"\"12. 리스트 메서드 중 하나를 이용하여 아래의 리스트를 \n",
    "ABCD 순으로 정렬하시오.\n",
    "\n",
    "namelist = ['Mary', 'Sams', 'Aimy', 'Tom', 'Michale', 'Bob', 'Kelly']\n",
    "\n",
    "예시\n",
    "<입력>\n",
    "print(namelist)\n",
    "\n",
    "<출력>\n",
    "['Aimy', 'Bob', 'Kelly', 'Mary', 'Michale', 'Sams', 'Tom']\n",
    "\"\"\"\n",
    "\n",
    "namelist = ['Mary', 'Sams', 'Aimy', 'Tom', 'Michale', 'Bob', 'Kelly']\n",
    "namelist.sort()\n",
    "print(namelist)"
   ]
  },
  {
   "cell_type": "code",
   "execution_count": 18,
   "metadata": {},
   "outputs": [
    {
     "name": "stdout",
     "output_type": "stream",
     "text": [
      "['태양', '수성', '금성', '지구', '화성', '목성', '토성', '천왕성', '해왕성']\n"
     ]
    }
   ],
   "source": [
    "\"\"\"\n",
    "13. 리스트 메서드 중 하나를 이용하여 아래의 리스트에 '화성'이라는 요소를 삽입하시오.\n",
    "\n",
    "planet =['태양','수성','금성','지구','목성','토성','천왕성','해왕성']\n",
    "\n",
    "결과 :\n",
    "planet =['태양','수성','금성','지구','화성','목성','토성','천왕성','해왕성']\n",
    "\n",
    "\n",
    "예시\n",
    "<입력>\n",
    "print(planet)\n",
    "\n",
    "<출력>\n",
    "['태양', '수성', '금성', '지구', '화성', '목성', '토성', '천왕성', '해왕성']\n",
    "\"\"\"\n",
    "\n",
    "planet =['태양','수성','금성','지구','목성','토성','천왕성','해왕성']\n",
    "planet.insert(4, '화성')\n",
    "print(planet)"
   ]
  },
  {
   "cell_type": "code",
   "execution_count": 21,
   "metadata": {},
   "outputs": [
    {
     "name": "stdout",
     "output_type": "stream",
     "text": [
      "안녕\n",
      "입력 형식이 잘못되었습니다.\n"
     ]
    }
   ],
   "source": [
    "\"\"\"14. 대문자는 소문자로, 소문자는 대문자로 출력하고\n",
    "영어가 아닌 문자가 입력 되었을 때는 \n",
    "'입력 형식이 잘못되었습니다' 라고 출력하는 프로그램을 작성하시오.\n",
    "\n",
    "예시\n",
    "<입력>\n",
    "EAST\n",
    "<출력>\n",
    "east\n",
    "\n",
    "<입력>\n",
    "hello\n",
    "<출력>\n",
    "HELLO\n",
    "\n",
    "<입력>\n",
    "안녕\n",
    "<출력>\n",
    "입력 형식이 잘못되었습니다.\n",
    "\n",
    "\"\"\"\n",
    "\n",
    "a = input(\"\")\n",
    "if a.isupper() == True:\n",
    "    print(a.lower())\n",
    "elif a.islower() == True:\n",
    "    print(a.upper())\n",
    "else:\n",
    "    print(\"입력 형식이 잘못되었습니다.\")"
   ]
  },
  {
   "cell_type": "code",
   "execution_count": 22,
   "metadata": {},
   "outputs": [
    {
     "name": "stdout",
     "output_type": "stream",
     "text": [
      "주민등록번호 : 941130-1002222\n",
      "남자\n"
     ]
    }
   ],
   "source": [
    "\"\"\"15. 주민등록번호를 입력하면 남자인지 여자인지 알려주는 프로그램을 작성하시오. \n",
    "(리스트 split 과 슬라이싱 활용) \n",
    "\n",
    "예시\n",
    "<입력>\n",
    "주민등록번호 : 941130-3002222\n",
    "\n",
    "<출력>\n",
    "남자\n",
    "\"\"\"\n",
    "\n",
    "id_1, id_2 = input(\"주민등록번호 : \").split(\"-\")\n",
    "\n",
    "if id_2[0] == \"1\":\n",
    "    print(\"남자\")\n",
    "else:\n",
    "    print(\"여자\")"
   ]
  },
  {
   "cell_type": "code",
   "execution_count": 23,
   "metadata": {},
   "outputs": [
    {
     "name": "stdout",
     "output_type": "stream",
     "text": [
      "3 6 9 12 15 18 21 24 27 30 33 36 39 42 45 48 "
     ]
    }
   ],
   "source": [
    "\"\"\"16. 1부터 50 까지의 숫자 중에서 3의 배수를 공백으로 구분하여 출력하시오.\n",
    "\n",
    "\n",
    "\n",
    "<출력>\n",
    "3  6  9  12  15  18  21  24  27  30  33  36  39  42  45  48  \n",
    "\n",
    "\"\"\"\n",
    "\n",
    "for i in range(1, 51):\n",
    "    if i % 3 == 0:\n",
    "        print(i, end=\" \")"
   ]
  },
  {
   "cell_type": "code",
   "execution_count": 24,
   "metadata": {},
   "outputs": [
    {
     "name": "stdout",
     "output_type": "stream",
     "text": [
      "1988\n",
      "1992\n",
      "1996\n",
      "2000\n",
      "2004\n",
      "2008\n",
      "2012\n",
      "2016\n",
      "2020\n",
      "2024\n",
      "2028\n",
      "2032\n",
      "2036\n",
      "2040\n",
      "2044\n",
      "2048\n",
      "2052\n",
      "2056\n",
      "2060\n"
     ]
    }
   ],
   "source": [
    "\"\"\"17. 1988년 ~ 2060년까지 중 월드컵이 개최되는 연도를 출력하시오\n",
    "\n",
    "\n",
    "예시\n",
    "<출력>\n",
    "1988\n",
    "1992\n",
    "1996\n",
    "2000\n",
    "2004\n",
    "2008\n",
    "2012\n",
    "2016\n",
    "2020\n",
    "2024\n",
    "2028\n",
    "2032\n",
    "2036\n",
    "2040\n",
    "2044\n",
    "2048\n",
    "2052\n",
    "2056\n",
    "2060\n",
    "\"\"\"\n",
    "\n",
    "for i in range(1988, 2061):\n",
    "    if i % 4 == 0:\n",
    "        print(i)"
   ]
  },
  {
   "cell_type": "code",
   "execution_count": 25,
   "metadata": {},
   "outputs": [
    {
     "name": "stdout",
     "output_type": "stream",
     "text": [
      "exit\n",
      "hi\n",
      "playdata\n",
      "intro\n"
     ]
    }
   ],
   "source": [
    "\"\"\"18. 확장자가 포함된 파일 이름이 담긴 리스트에서 확장자를 제거하고\n",
    "파일 이름만 추가 리스트에 저장하시오.\n",
    "\n",
    "file = ['exit.py', 'hi.py', 'playdata.hwp', 'intro.jpg']\n",
    "\n",
    "결과:\n",
    "file = ['exit', 'hi', 'playdata', 'intro']\n",
    "\n",
    "예시\n",
    "<입력>\n",
    "print(new_list)\n",
    "\n",
    "<출력>\n",
    "['exit', 'hi', 'playdata', 'intro']\n",
    "\n",
    "\"\"\"\n",
    "\n",
    "file = ['exit.py', 'hi.py', 'playdata.hwp', 'intro.jpg']\n",
    "for i in range(4):\n",
    "    new_list = file[i].split(\".\")\n",
    "    print(new_list[0])"
   ]
  },
  {
   "cell_type": "code",
   "execution_count": 28,
   "metadata": {},
   "outputs": [
    {
     "name": "stdout",
     "output_type": "stream",
     "text": [
      "charlie\n",
      "foxtrot\n"
     ]
    }
   ],
   "source": [
    "\"\"\"19. 다음 리스트에서 알파벳 개수가 7개인 단어를 출력하시오\n",
    "a = ['alpha', 'bravo', 'charlie', 'delta', 'echo', 'foxtrot', 'golf', 'hotel', 'india']\n",
    "\n",
    "\n",
    "예시\n",
    "<입력>\n",
    "print(list)\n",
    "\n",
    "<출력>\n",
    "['charlie', 'foxtrot']\n",
    "\n",
    " \"\"\"\n",
    "\n",
    "a = ['alpha', 'bravo', 'charlie', 'delta', 'echo', 'foxtrot', 'golf', 'hotel', 'india']\n",
    "for i in range(9):\n",
    "    list = a[i]\n",
    "    if len(list) == 7:\n",
    "        print(list)"
   ]
  },
  {
   "cell_type": "code",
   "execution_count": 29,
   "metadata": {},
   "outputs": [
    {
     "name": "stdout",
     "output_type": "stream",
     "text": [
      "1 2 짝 4 아자 짝 7 8 짝 아자 11 12 짝 14 아자 짝 17 18 짝 아자 21 22 짝 24 아자 짝 27 28 짝 짝 짝 짝 짝 짝 짝 짝 짝 짝 짝 아자 41 42 짝 44 아자 짝 47 48 짝 아자 51 52 짝 54 아자 짝 57 58 짝 짝 짝 짝 짝 짝 짝 짝 짝 짝 짝 아자 71 72 짝 74 아자 짝 77 78 짝 아자 81 82 짝 84 아자 짝 87 88 짝 짝 짝 짝 짝 짝 짝 짝 짝 짝 짝 아자 "
     ]
    }
   ],
   "source": [
    "\"\"\"20. 1부터 100까지 369 게임을 하려고 한다.\n",
    "3,6,9가 들어가는 부분에는 '짝' 을 출력하고, \n",
    "5의 배수에는 '아자' 를 출력,\n",
    "그외에는 수를 출력하는 프로그램을 만드시오.\n",
    "\n",
    "\n",
    "<출력>-일렬로 출력\n",
    "\n",
    "1  2  짝 4  아자  짝 7  8  짝 아자  11  12  짝 14  아자  짝 17  18  짝 아자  21  22  짝 24  아자  짝 27  28  \n",
    "짝 짝 짝 짝 짝 짝 짝 짝 짝 짝 짝 아자  41  42  짝 44  아자  짝 47  48  짝 아자  51  52  짝 54  아자  짝 57  58  \n",
    "짝 짝 짝 짝 짝 짝 짝 짝 짝 짝 짝 아자  71  72  짝 74  아자  짝 77  78  짝 아자  81  82  짝 84  아자  짝 87  88  \n",
    "짝 짝 짝 짝 짝 짝 짝 짝 짝 짝 짝 아자\n",
    "\n",
    "\"\"\"\n",
    "\n",
    "# Step 1. 입력받은 숫자에 3, 6, 9가 들어가는지 확인하는 함수 만들기\n",
    "def check369(c):\n",
    "    num = str(c)\n",
    "    if \"3\" in num or \"6\" in num or \"9\" in num:\n",
    "        return True\n",
    "    return False\n",
    "\n",
    "# Step 2. 1부터 100까지 369 게임 진행\n",
    "for i in range(1, 101):\n",
    "    if check369(i) == True:\n",
    "        print(\"짝\", end = \" \")\n",
    "    elif i % 5 == 0:\n",
    "        print(\"아자\", end = \" \")\n",
    "    else:\n",
    "        print(i, end = \" \")"
   ]
  }
 ],
 "metadata": {
  "kernelspec": {
   "display_name": "Python 3",
   "language": "python",
   "name": "python3"
  },
  "language_info": {
   "codemirror_mode": {
    "name": "ipython",
    "version": 3
   },
   "file_extension": ".py",
   "mimetype": "text/x-python",
   "name": "python",
   "nbconvert_exporter": "python",
   "pygments_lexer": "ipython3",
   "version": "3.6.10"
  }
 },
 "nbformat": 4,
 "nbformat_minor": 4
}
