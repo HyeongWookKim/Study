{
 "cells": [
  {
   "cell_type": "markdown",
   "metadata": {},
   "source": [
    "# 숫자 맞추기 게임\n",
    "\n",
    "## 개요\n",
    "1 - 100 사이의 임의의 숫자를 사용자가 그 숫자를 맞추는 게임.      \n",
    "예측이 틀린 경우 사용자가 예측한 정답보다 큰 숫자인지 작은 숫자인지 힌트를 준다.    \n",
    "정답인 경우 몇번째 맞췄는지 보여준다.\n",
    "\n",
    "## 필요한 내용\n",
    "- 난수 발생: random.randint()\n",
    "- 반복문\n",
    "- 조건문\n",
    "- 사용자 입력 함수 : (input())\n"
   ]
  },
  {
   "cell_type": "code",
   "execution_count": 1,
   "metadata": {},
   "outputs": [],
   "source": [
    "# 정답을 생성한다.\n",
    "\n",
    "# 시도횟수를 저장할 변수를 선언한다.\n",
    "\n",
    "# 예측한 숫자가 정답일 때 까지 반복해서 \n",
    "\n",
    "    # 1. 예측한 숫자를 사용자로부터 입력받는다.\n",
    "\n",
    "    # 2. 정답과 비교한다.\n",
    "\n",
    "    # 3-1. 정답일 경우 몇번째 맞췄는지 알려주고 반복을 멈춘다.\n",
    "\n",
    "    # 3-2. 정답이 아닐경우 예측숫자가 정답보다 큰지 작은지 출력하고 숫자를 입력받는 것부터 다시 반복한다."
   ]
  },
  {
   "cell_type": "code",
   "execution_count": 3,
   "metadata": {},
   "outputs": [
    {
     "name": "stdout",
     "output_type": "stream",
     "text": [
      "1 ~ 100까지의 숫자 중, 하나를 입력하세요: 50\n",
      "정답보다 작은 값입니다. 더 큰 값을 입력하세요.\n",
      "1 ~ 100까지의 숫자 중, 하나를 입력하세요: 80\n",
      "정답보다 큰 값입니다. 더 작은 값을 입력하세요.\n",
      "1 ~ 100까지의 숫자 중, 하나를 입력하세요: 70\n",
      "정답보다 작은 값입니다. 더 큰 값을 입력하세요.\n",
      "1 ~ 100까지의 숫자 중, 하나를 입력하세요: 75\n",
      "정답보다 작은 값입니다. 더 큰 값을 입력하세요.\n",
      "1 ~ 100까지의 숫자 중, 하나를 입력하세요: 77\n",
      "정답입니다! 5 번째 만에 맞추셨습니다.\n"
     ]
    }
   ],
   "source": [
    "# <풀이>\n",
    "import random\n",
    "\n",
    "i = random.randint(1, 100)  # 1 ~ 100까지의 숫자들 중에서 난수 생성. 100도 포함됨\n",
    "\n",
    "cnt = 0\n",
    "while True:\n",
    "    n = int(input('1 ~ 100까지의 숫자 중, 하나를 입력하세요: '))\n",
    "    if n > i:\n",
    "        print(\"정답보다 큰 값입니다. 더 작은 값을 입력하세요.\")\n",
    "        cnt += 1\n",
    "        continue\n",
    "    elif n < i:\n",
    "        print(\"정답보다 작은 값입니다. 더 큰 값을 입력하세요.\")\n",
    "        cnt += 1\n",
    "        continue\n",
    "    else:\n",
    "        print(\"정답입니다! {} 번째 만에 맞추셨습니다.\".format(cnt + 1))\n",
    "        break"
   ]
  }
 ],
 "metadata": {
  "kernelspec": {
   "display_name": "Python 3",
   "language": "python",
   "name": "python3"
  },
  "language_info": {
   "codemirror_mode": {
    "name": "ipython",
    "version": 3
   },
   "file_extension": ".py",
   "mimetype": "text/x-python",
   "name": "python",
   "nbconvert_exporter": "python",
   "pygments_lexer": "ipython3",
   "version": "3.7.6"
  },
  "toc": {
   "base_numbering": 1,
   "nav_menu": {},
   "number_sections": false,
   "sideBar": true,
   "skip_h1_title": false,
   "title_cell": "Table of Contents",
   "title_sidebar": "Contents",
   "toc_cell": false,
   "toc_position": {},
   "toc_section_display": true,
   "toc_window_display": false
  },
  "varInspector": {
   "cols": {
    "lenName": 16,
    "lenType": 16,
    "lenVar": 40
   },
   "kernels_config": {
    "python": {
     "delete_cmd_postfix": "",
     "delete_cmd_prefix": "del ",
     "library": "var_list.py",
     "varRefreshCmd": "print(var_dic_list())"
    },
    "r": {
     "delete_cmd_postfix": ") ",
     "delete_cmd_prefix": "rm(",
     "library": "var_list.r",
     "varRefreshCmd": "cat(var_dic_list()) "
    }
   },
   "types_to_exclude": [
    "module",
    "function",
    "builtin_function_or_method",
    "instance",
    "_Feature"
   ],
   "window_display": false
  }
 },
 "nbformat": 4,
 "nbformat_minor": 2
}
