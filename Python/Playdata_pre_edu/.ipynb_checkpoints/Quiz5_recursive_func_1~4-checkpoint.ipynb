{
 "cells": [
  {
   "cell_type": "code",
   "execution_count": 5,
   "metadata": {},
   "outputs": [
    {
     "name": "stdout",
     "output_type": "stream",
     "text": [
      "55\n"
     ]
    }
   ],
   "source": [
    "# recursive_func_quiz1\n",
    "\"\"\"\n",
    "1. 재귀 호출을 이용한 <피보나치 수열> 함수 만들기 문제\n",
    "\n",
    "피보나치 수열이란 첫 번째 항과 두 번째 항이 1이고, 세 번째 항부터는 바로 앞의 두 항의 합으로 정의된 수열입니다.\n",
    "예를 들어서 세 번째 항은 첫 번째 항(1)과 두 번째 항(1)을 더한 2이며, 네 번째 항은 두 번째 항(1)과 세 번째 항(2)을 더한 3이 될 것입니다.\n",
    "파라미터로 1 이상의 자연수 **`n`**을 받고, n번째 피보나치 수를 리턴하는 재귀 함수 fibonacci 함수를 작성하세요.\n",
    "예를 들어 n = 3이라면 2를 반환해주면 됩니다.\n",
    "\n",
    "입력 예시)\n",
    "print(fibonacci(10))\n",
    "\n",
    "출력 결과)\n",
    "55\n",
    "\"\"\"\n",
    "\n",
    "def fibonacci(n):\n",
    "    result = []\n",
    "    for i in range(0, n):\n",
    "        if i <= 1: \n",
    "            result.append(1)\n",
    "        else:\n",
    "            result.append(result[i-2] + result[i-1])\n",
    "    return result[-1]\n",
    "\n",
    "print(fibonacci(10))"
   ]
  },
  {
   "cell_type": "code",
   "execution_count": 9,
   "metadata": {},
   "outputs": [
    {
     "name": "stdout",
     "output_type": "stream",
     "text": [
      "[1, 2, 3, 4, 5, 6, 7, 8, 9, 10]\n"
     ]
    }
   ],
   "source": [
    "# recursive_func_quiz2\n",
    "\"\"\"\n",
    "2. 재귀 호출을 이용한 <병합 정렬> 문제\n",
    "\n",
    "입력 예시)\n",
    "list_ex2 = [6,8,3,9,10,1,2,4,7,5]\n",
    "\n",
    "출력 결과)\n",
    "[1,2,3,4,5,6,7,8,9,10]\n",
    "\"\"\"\n",
    "\n",
    "def merge_sort(arr):\n",
    "    n = len(arr)\n",
    "    # 종료 조건: 정렬할 리스트의 자료 개수가 한 개 이하이면 정렬할 필요가 없음\n",
    "    if n <= 1: return arr\n",
    "    \n",
    "    # 그룹을 나누어 각각 병합 정렬을 호출하는 과정\n",
    "    half = n // 2\n",
    "    g1 = arr[:half]\n",
    "    g2 = arr[half:]\n",
    "    merge_sort(g1)\n",
    "    merge_sort(g2)\n",
    "    \n",
    "    # 두 그룹을 합치는 과정(병합)\n",
    "    i1 = 0\n",
    "    i2 = 0\n",
    "    ia = 0\n",
    "    while i1 < len(g1) and i2 < len(g2):\n",
    "        if g1[i1] < g2[i2]:\n",
    "            arr[ia] = g1[i1]\n",
    "            i1 += 1\n",
    "            ia += 1\n",
    "        else:\n",
    "            arr[ia] = g2[i2]\n",
    "            i2 += 1\n",
    "            ia += 1\n",
    "    \n",
    "    while i1 < len(g1):\n",
    "        arr[ia] = g1[i1]\n",
    "        i1 += 1\n",
    "        ia += 1\n",
    "        \n",
    "    while i2 < len(g2):\n",
    "        arr[ia] = g2[i2]\n",
    "        i2 += 1\n",
    "        ia += 1\n",
    "        \n",
    "list_ex2 = [6,8,3,9,10,1,2,4,7,5]\n",
    "merge_sort(list_ex2)\n",
    "print(list_ex2)"
   ]
  },
  {
   "cell_type": "code",
   "execution_count": 17,
   "metadata": {},
   "outputs": [
    {
     "name": "stdout",
     "output_type": "stream",
     "text": [
      "[1, 2, 3, 4, 5, 6, 7, 8, 9, 10]\n"
     ]
    }
   ],
   "source": [
    "# recursive_func_quiz3\n",
    "\"\"\"\n",
    "3. 재귀 호출을 이용한 <퀵 정렬> 문제\n",
    "\n",
    "입력 예시)\n",
    "list_ex3 = [6,8,3,9,10,1,2,4,7,5]\n",
    "\n",
    "출력 결과)\n",
    "[1,2,3,4,5,6,7,8,9,10]\n",
    "\"\"\"\n",
    "\n",
    "def quick_sort(arr):\n",
    "    n = len(arr)\n",
    "    if n <= 1: return arr\n",
    "    \n",
    "    # 먼저 리스트의 맨 마지막 값을 pivot 값으로 선택\n",
    "    pivot = arr[-1]\n",
    "    # pivot 값보다 작은 값, 동일한 값 그리고 큰 값을 담아둘 3개의 리스트를 생성\n",
    "    less_arr, equal_arr, greater_arr = [], [], []\n",
    "    \n",
    "    # for문을 통해 각 값을 pivot과 비교 후에 해당하는 리스트에 추가\n",
    "    # 그 다음 작은 값과 큰 값을 담고 있는 배열을 대상으로 퀵 정렬 함수를 재귀 호출\n",
    "    # 마지막으로 재귀 호출의 결과를 다시 크기 순으로 합치기\n",
    "    for i in arr:\n",
    "        if i < pivot:\n",
    "            less_arr.append(i)\n",
    "        elif i > pivot:\n",
    "            greater_arr.append(i)\n",
    "        else: equal_arr.append(i)\n",
    "    return quick_sort(less_arr) + quick_sort(equal_arr) + quick_sort(greater_arr)\n",
    "\n",
    "list_ex3 = [6,8,3,9,10,1,2,4,7,5]\n",
    "print(quick_sort(list_ex3))"
   ]
  },
  {
   "cell_type": "code",
   "execution_count": 21,
   "metadata": {},
   "outputs": [
    {
     "name": "stdout",
     "output_type": "stream",
     "text": [
      "1번 기둥의 1번 원반을 3번 기둥에 옮긴다.\n",
      "1번 기둥의 2번 원반을 2번 기둥에 옮긴다.\n",
      "3번 기둥의 1번 원반을 2번 기둥에 옮긴다.\n",
      "1번 기둥의 3번 원반을 3번 기둥에 옮긴다.\n",
      "2번 기둥의 1번 원반을 1번 기둥에 옮긴다.\n",
      "2번 기둥의 2번 원반을 3번 기둥에 옮긴다.\n",
      "1번 기둥의 1번 원반을 3번 기둥에 옮긴다.\n"
     ]
    }
   ],
   "source": [
    "# recursive_func_quiz4\n",
    "\"\"\"\n",
    "4. 재귀 호출을 이용한 <하노이 탑> 문제\n",
    "\n",
    "입력 예시)\n",
    "hanoi(3, 1, 3)\n",
    "\n",
    "출력 결과)\n",
    "1번 기둥의 1번 원반을 3번 기둥에 옮긴다.\n",
    "1번 기둥의 2번 원반을 2번 기둥에 옮긴다.\n",
    "3번 기둥의 1번 원반을 2번 기둥에 옮긴다.\n",
    "1번 기둥의 3번 원반을 3번 기둥에 옮긴다.\n",
    "2번 기둥의 1번 원반을 1번 기둥에 옮긴다.\n",
    "2번 기둥의 2번 원반을 3번 기둥에 옮긴다.\n",
    "1번 기둥의 1번 원반을 3번 기둥에 옮긴다.\n",
    "\"\"\"\n",
    "\n",
    "def hanoi(n_disk, start_peg, end_peg):\n",
    "    # 옮길 원판이 없으면 부분 문제를 나누지 않고 함수를 끝냄\n",
    "    if n_disk == 0: return\n",
    "    else:\n",
    "        other_peg = 6 - start_peg - end_peg\n",
    "        # 가장 큰 원판을 제외하고 나머지 원판들을 start_peg에서 other_peg로 이동\n",
    "        hanoi(n_disk - 1, start_peg, other_peg)\n",
    "        # 가장 큰 원판을 start_peg에서 end_peg로 이동\n",
    "        print(\"{}번 기둥의 {}번 원반을 {}번 기둥에 옮긴다.\".format(start_peg, n_disk, end_peg))\n",
    "        # 나머지 원판들을 other_peg에서 end_peg로 이동\n",
    "        hanoi(n_disk - 1, other_peg, end_peg)\n",
    "        \n",
    "hanoi(3, 1, 3)"
   ]
  }
 ],
 "metadata": {
  "kernelspec": {
   "display_name": "Python 3",
   "language": "python",
   "name": "python3"
  },
  "language_info": {
   "codemirror_mode": {
    "name": "ipython",
    "version": 3
   },
   "file_extension": ".py",
   "mimetype": "text/x-python",
   "name": "python",
   "nbconvert_exporter": "python",
   "pygments_lexer": "ipython3",
   "version": "3.6.10"
  }
 },
 "nbformat": 4,
 "nbformat_minor": 4
}
