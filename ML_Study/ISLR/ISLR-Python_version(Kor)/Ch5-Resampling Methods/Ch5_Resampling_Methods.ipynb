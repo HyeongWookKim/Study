{
 "cells": [
  {
   "cell_type": "markdown",
   "metadata": {},
   "source": [
    "# 5.3 Lab: [Cross-Validation](http://scikit-learn.org/0.17/modules/cross_validation.html#cross-validation-iterators) and the Bootstrap\n"
   ]
  },
  {
   "cell_type": "code",
   "execution_count": 1,
   "metadata": {
    "collapsed": true
   },
   "outputs": [],
   "source": [
    "import pandas as pd\n",
    "import numpy as np\n",
    "import matplotlib.pyplot as plt\n",
    "import seaborn as sns\n",
    "\n",
    "%matplotlib inline"
   ]
  },
  {
   "cell_type": "markdown",
   "metadata": {},
   "source": [
    "### scikit-learn이 Version 0.18로 되면서 여러 곳에 흩어져 있던 모델 평가/선택에 관련된 모듈들을 한 데 모으고 몇 가지 변화를 주었음 (scikit-learn Version 0.18 groups together formerly scattered modules related to model evaulation and selection). [참조/see](http://scikit-learn.org/stable/whats_new.html#version-0-18) \n",
    "#### 이 Notebook은(this notebook is based on) [scikit-learn 0.17](http://scikit-learn.org/0.17/model_selection.html#model-selection) 사용 "
   ]
  },
  {
   "cell_type": "code",
   "execution_count": 2,
   "metadata": {
    "collapsed": false
   },
   "outputs": [
    {
     "name": "stdout",
     "output_type": "stream",
     "text": [
      "<class 'pandas.core.frame.DataFrame'>\n",
      "RangeIndex: 392 entries, 1 to 392\n",
      "Data columns (total 9 columns):\n",
      "mpg             392 non-null float64\n",
      "cylinders       392 non-null int64\n",
      "displacement    392 non-null float64\n",
      "horsepower      392 non-null float64\n",
      "weight          392 non-null int64\n",
      "acceleration    392 non-null float64\n",
      "year            392 non-null int64\n",
      "origin          392 non-null int64\n",
      "name            392 non-null object\n",
      "dtypes: float64(4), int64(4), object(1)\n",
      "memory usage: 26.1+ KB\n"
     ]
    }
   ],
   "source": [
    "# Load data\n",
    "# Auto = pd.read_csv(\"../Data/Auto.csv\", na_values=['?']).dropna()\n",
    "Auto = pd.read_csv(\"../Data/Auto.csv\")\n",
    "\n",
    "# 'horsepower' 열에 숫자가 아닌 행들을 제거, 'horsepower'열을 float로, Auto의 index를 1 .. 392로 \n",
    "rows_select = Auto.horsepower.apply(lambda x: x.isnumeric())\n",
    "Auto= Auto.loc[rows_select, :]\n",
    "Auto.horsepower = np.float64(Auto.horsepower)    \n",
    "Auto.index = range(1, len(Auto)+1)\n",
    "Auto.info()"
   ]
  },
  {
   "cell_type": "code",
   "execution_count": 3,
   "metadata": {
    "collapsed": false
   },
   "outputs": [
    {
     "data": {
      "text/html": [
       "<div>\n",
       "<table border=\"1\" class=\"dataframe\">\n",
       "  <thead>\n",
       "    <tr style=\"text-align: right;\">\n",
       "      <th></th>\n",
       "      <th>mpg</th>\n",
       "      <th>cylinders</th>\n",
       "      <th>displacement</th>\n",
       "      <th>horsepower</th>\n",
       "      <th>weight</th>\n",
       "      <th>acceleration</th>\n",
       "      <th>year</th>\n",
       "      <th>origin</th>\n",
       "      <th>name</th>\n",
       "    </tr>\n",
       "  </thead>\n",
       "  <tbody>\n",
       "    <tr>\n",
       "      <th>388</th>\n",
       "      <td>27.0</td>\n",
       "      <td>4</td>\n",
       "      <td>140.0</td>\n",
       "      <td>86.0</td>\n",
       "      <td>2790</td>\n",
       "      <td>15.6</td>\n",
       "      <td>82</td>\n",
       "      <td>1</td>\n",
       "      <td>ford mustang gl</td>\n",
       "    </tr>\n",
       "    <tr>\n",
       "      <th>389</th>\n",
       "      <td>44.0</td>\n",
       "      <td>4</td>\n",
       "      <td>97.0</td>\n",
       "      <td>52.0</td>\n",
       "      <td>2130</td>\n",
       "      <td>24.6</td>\n",
       "      <td>82</td>\n",
       "      <td>2</td>\n",
       "      <td>vw pickup</td>\n",
       "    </tr>\n",
       "    <tr>\n",
       "      <th>390</th>\n",
       "      <td>32.0</td>\n",
       "      <td>4</td>\n",
       "      <td>135.0</td>\n",
       "      <td>84.0</td>\n",
       "      <td>2295</td>\n",
       "      <td>11.6</td>\n",
       "      <td>82</td>\n",
       "      <td>1</td>\n",
       "      <td>dodge rampage</td>\n",
       "    </tr>\n",
       "    <tr>\n",
       "      <th>391</th>\n",
       "      <td>28.0</td>\n",
       "      <td>4</td>\n",
       "      <td>120.0</td>\n",
       "      <td>79.0</td>\n",
       "      <td>2625</td>\n",
       "      <td>18.6</td>\n",
       "      <td>82</td>\n",
       "      <td>1</td>\n",
       "      <td>ford ranger</td>\n",
       "    </tr>\n",
       "    <tr>\n",
       "      <th>392</th>\n",
       "      <td>31.0</td>\n",
       "      <td>4</td>\n",
       "      <td>119.0</td>\n",
       "      <td>82.0</td>\n",
       "      <td>2720</td>\n",
       "      <td>19.4</td>\n",
       "      <td>82</td>\n",
       "      <td>1</td>\n",
       "      <td>chevy s-10</td>\n",
       "    </tr>\n",
       "  </tbody>\n",
       "</table>\n",
       "</div>"
      ],
      "text/plain": [
       "      mpg  cylinders  displacement  horsepower  weight  acceleration  year  \\\n",
       "388  27.0          4         140.0        86.0    2790          15.6    82   \n",
       "389  44.0          4          97.0        52.0    2130          24.6    82   \n",
       "390  32.0          4         135.0        84.0    2295          11.6    82   \n",
       "391  28.0          4         120.0        79.0    2625          18.6    82   \n",
       "392  31.0          4         119.0        82.0    2720          19.4    82   \n",
       "\n",
       "     origin             name  \n",
       "388       1  ford mustang gl  \n",
       "389       2        vw pickup  \n",
       "390       1    dodge rampage  \n",
       "391       1      ford ranger  \n",
       "392       1       chevy s-10  "
      ]
     },
     "execution_count": 3,
     "metadata": {},
     "output_type": "execute_result"
    }
   ],
   "source": [
    "Auto.tail()            "
   ]
  },
  {
   "cell_type": "markdown",
   "metadata": {},
   "source": [
    "## 5.3.1 The Validation Set Approach\n",
    "### Train/Test split은 여러 방법으로 가능.  여기서는 scikit-learn이 제공하는 (we will be using) '[train_test_split](http://scikit-learn.org/stable/modules/generated/sklearn.model_selection.train_test_split.html#sklearn.model_selection.train_test_split)' 사용 "
   ]
  },
  {
   "cell_type": "code",
   "execution_count": 4,
   "metadata": {
    "collapsed": false
   },
   "outputs": [],
   "source": [
    "from sklearn.cross_validation import train_test_split, LeaveOneOut  # version 0.17 \n",
    "\n",
    "X = Auto.horsepower.reshape(-1, 1)\n",
    "y = Auto.mpg\n",
    "X_train, X_test, y_train, y_test = train_test_split(X, y, test_size=0.5, random_state=1)"
   ]
  },
  {
   "cell_type": "code",
   "execution_count": 5,
   "metadata": {
    "collapsed": false
   },
   "outputs": [
    {
     "name": "stdout",
     "output_type": "stream",
     "text": [
      "The MAE is: 3.9\n",
      "The MSE is: 24.8\n",
      "The RMSE is: 4.98\n"
     ]
    }
   ],
   "source": [
    "from sklearn.linear_model import LinearRegression\n",
    "lr_model = LinearRegression()\n",
    "lr_model.fit(X_train, y_train)\n",
    "y_pred = lr_model.predict(X_test)\n",
    "\n",
    "from sklearn import metrics\n",
    "print (\"The MAE is: {:.3}\".format( metrics.mean_absolute_error(y_test, y_pred) )  )  # (True, Predict) 순서  \n",
    "print (\"The MSE is: {:.3}\".format( metrics.mean_squared_error(y_test, y_pred) )  )\n",
    "print (\"The RMSE is: {:.3}\".format( np.sqrt( metrics.mean_squared_error(y_test, y_pred)))) "
   ]
  },
  {
   "cell_type": "markdown",
   "metadata": {},
   "source": [
    "#### 'horsepower'의 제곱, 세제곱을 feature로 쓴 경우의 Test Error (Test error for linear model with quadratic and cubic transformed 'horsepower')"
   ]
  },
  {
   "cell_type": "code",
   "execution_count": 6,
   "metadata": {
    "collapsed": false
   },
   "outputs": [
    {
     "data": {
      "text/html": [
       "<div>\n",
       "<table border=\"1\" class=\"dataframe\">\n",
       "  <thead>\n",
       "    <tr style=\"text-align: right;\">\n",
       "      <th></th>\n",
       "      <th>horsepower</th>\n",
       "      <th>hp_squared</th>\n",
       "      <th>hp_cubed</th>\n",
       "    </tr>\n",
       "  </thead>\n",
       "  <tbody>\n",
       "    <tr>\n",
       "      <th>1</th>\n",
       "      <td>130.0</td>\n",
       "      <td>16900.0</td>\n",
       "      <td>2197000.0</td>\n",
       "    </tr>\n",
       "    <tr>\n",
       "      <th>2</th>\n",
       "      <td>165.0</td>\n",
       "      <td>27225.0</td>\n",
       "      <td>4492125.0</td>\n",
       "    </tr>\n",
       "    <tr>\n",
       "      <th>3</th>\n",
       "      <td>150.0</td>\n",
       "      <td>22500.0</td>\n",
       "      <td>3375000.0</td>\n",
       "    </tr>\n",
       "    <tr>\n",
       "      <th>4</th>\n",
       "      <td>150.0</td>\n",
       "      <td>22500.0</td>\n",
       "      <td>3375000.0</td>\n",
       "    </tr>\n",
       "    <tr>\n",
       "      <th>5</th>\n",
       "      <td>140.0</td>\n",
       "      <td>19600.0</td>\n",
       "      <td>2744000.0</td>\n",
       "    </tr>\n",
       "  </tbody>\n",
       "</table>\n",
       "</div>"
      ],
      "text/plain": [
       "   horsepower  hp_squared   hp_cubed\n",
       "1       130.0     16900.0  2197000.0\n",
       "2       165.0     27225.0  4492125.0\n",
       "3       150.0     22500.0  3375000.0\n",
       "4       150.0     22500.0  3375000.0\n",
       "5       140.0     19600.0  2744000.0"
      ]
     },
     "execution_count": 6,
     "metadata": {},
     "output_type": "execute_result"
    }
   ],
   "source": [
    "X_poly = pd.concat([Auto.horsepower, np.power(Auto.horsepower, 2), np.power(Auto.horsepower, 3)], axis=1)\n",
    "X_poly.columns = ['horsepower', 'hp_squared', 'hp_cubed']\n",
    "X_poly.head()"
   ]
  },
  {
   "cell_type": "code",
   "execution_count": 7,
   "metadata": {
    "collapsed": false
   },
   "outputs": [
    {
     "name": "stdout",
     "output_type": "stream",
     "text": [
      "The MAE is: 3.244\n",
      "The MSE is: 18.85\n",
      "The RMSE is: 4.341\n"
     ]
    }
   ],
   "source": [
    "# Quadratic Regression\n",
    "X_2 = X_poly.loc[:, ['horsepower', 'hp_squared']]\n",
    "y = Auto.mpg\n",
    "X_train, X_test, y_train, y_test = train_test_split(X_2, y, test_size=0.5, random_state=1)\n",
    "lr_model = LinearRegression()\n",
    "lr_model.fit(X_train, y_train)\n",
    "y_pred = lr_model.predict(X_test)\n",
    "print (\"The MAE is: {:.4}\".format( metrics.mean_absolute_error(y_test, y_pred) )  )  # (True, Predict) 순서  \n",
    "print (\"The MSE is: {:.4}\".format( metrics.mean_squared_error(y_test, y_pred) )  )\n",
    "print (\"The RMSE is: {:.4}\".format( np.sqrt( metrics.mean_squared_error(y_test, y_pred)))) "
   ]
  },
  {
   "cell_type": "code",
   "execution_count": 8,
   "metadata": {
    "collapsed": false
   },
   "outputs": [
    {
     "name": "stdout",
     "output_type": "stream",
     "text": [
      "The MAE is: 3.245\n",
      "The MSE is: 18.81\n",
      "The RMSE is: 4.336\n"
     ]
    }
   ],
   "source": [
    "# Cubic regression\n",
    "X_3 = X_poly.loc[:, ['horsepower', 'hp_squared', 'hp_cubed']]\n",
    "y = Auto.mpg\n",
    "X_train, X_test, y_train, y_test = train_test_split(X_3, y, test_size=0.5, random_state=1)\n",
    "lr_model = LinearRegression()\n",
    "lr_model.fit(X_train, y_train)\n",
    "y_pred = lr_model.predict(X_test)\n",
    "print (\"The MAE is: {:.4}\".format( metrics.mean_absolute_error(y_test, y_pred) )  )  # (True, Predict) 순서  \n",
    "print (\"The MSE is: {:.4}\".format( metrics.mean_squared_error(y_test, y_pred) )  )\n",
    "print (\"The RMSE is: {:.4}\".format( np.sqrt( metrics.mean_squared_error(y_test, y_pred)))) "
   ]
  },
  {
   "cell_type": "markdown",
   "metadata": {},
   "source": [
    "#### Train/Test split를 변화시키면서 1차, 2차, 3차 regression 들의 MSE를 본다 (we'll see changes in MSE as train/test split differs by setting different random_state's)"
   ]
  },
  {
   "cell_type": "code",
   "execution_count": 9,
   "metadata": {
    "collapsed": false
   },
   "outputs": [
    {
     "name": "stdout",
     "output_type": "stream",
     "text": [
      "\n",
      "random_seed = 1\n",
      "Index(['horsepower'], dtype='object') : The MSE is: 24.8\n",
      "Index(['horsepower', 'hp_squared'], dtype='object') : The MSE is: 18.85\n",
      "Index(['horsepower', 'hp_squared', 'hp_cubed'], dtype='object') : The MSE is: 18.81\n",
      "\n",
      "random_seed = 5\n",
      "Index(['horsepower'], dtype='object') : The MSE is: 29.59\n",
      "Index(['horsepower', 'hp_squared'], dtype='object') : The MSE is: 24.15\n",
      "Index(['horsepower', 'hp_squared', 'hp_cubed'], dtype='object') : The MSE is: 24.1\n",
      "\n",
      "random_seed = 1234\n",
      "Index(['horsepower'], dtype='object') : The MSE is: 27.11\n",
      "Index(['horsepower', 'hp_squared'], dtype='object') : The MSE is: 20.87\n",
      "Index(['horsepower', 'hp_squared', 'hp_cubed'], dtype='object') : The MSE is: 20.9\n"
     ]
    }
   ],
   "source": [
    "for randomstate in [1, 5, 1234]:\n",
    "    print(\"\\nrandom_seed = %d\" % randomstate)\n",
    "    for features in [1, 2, 3]:\n",
    "        X = X_poly.iloc[:, :features]\n",
    "        print(X.columns, end=\" : \")\n",
    "        y = Auto.mpg\n",
    "        X_train, X_test, y_train, y_test = train_test_split(X, y, test_size=0.5, random_state=randomstate)\n",
    "        lr_model = LinearRegression()\n",
    "        lr_model.fit(X_train, y_train)\n",
    "        y_pred = lr_model.predict(X_test)\n",
    "        print (\"The MSE is: {:.4}\".format( metrics.mean_squared_error(y_test, y_pred) )  )"
   ]
  },
  {
   "cell_type": "markdown",
   "metadata": {},
   "source": [
    "## 5.3.3  [k-Fold](http://scikit-learn.org/0.17/modules/generated/sklearn.cross_validation.KFold.html#sklearn.cross_validation.KFold) Cross-Validation  \n",
    "### K-Fold Cross-Validation으로 Regressor 평가\n",
    "다음 cell은 10-Fold Cross-Validation 를 이용해 앞의 3차 (cubic) regression의 Cross-Validated MSE를 ***직접*** 구하는 과정을 담고있다 (The cell below shows the manual calculation of 10-fold cross-validated MSE of cubed_predictor regression)"
   ]
  },
  {
   "cell_type": "code",
   "execution_count": 10,
   "metadata": {
    "collapsed": false
   },
   "outputs": [
    {
     "name": "stdout",
     "output_type": "stream",
     "text": [
      "10-Fold CV MSE = 21.3366\n"
     ]
    }
   ],
   "source": [
    "from sklearn.cross_validation import KFold, cross_val_score\n",
    "\n",
    "# X_poly : Feature Matrix,   y = response vector\n",
    "kf = KFold(len(X_poly), n_folds=10, shuffle=False, random_state=1)\n",
    "\n",
    "MSE_s = list()   # 10-CV의 MSE들을 담을 리스트 \n",
    "for train, test in kf:\n",
    "    X_train = X_poly.iloc[train, :]\n",
    "    y_train = Auto.mpg.iloc[train]\n",
    "    X_test = X_poly.iloc[test, :]\n",
    "    y_test = Auto.mpg.iloc[test]\n",
    "    \n",
    "    lr_model = LinearRegression()\n",
    "    lr_model.fit(X_train, y_train)\n",
    "    y_pred = lr_model.predict(X_test)\n",
    "    # print (\"The MSE is: {:.5}\".format( metrics.mean_squared_error(y_test, y_pred) )  )\n",
    "    MSE_s.append( metrics.mean_squared_error(y_test, y_pred)  )\n",
    "    \n",
    "print(\"10-Fold CV MSE = %.4f\" % (np.array(MSE_s).mean()))"
   ]
  },
  {
   "cell_type": "markdown",
   "metadata": {},
   "source": [
    "#### scikit-learn의 '[cross_val_score](http://scikit-learn.org/0.17/modules/generated/sklearn.cross_validation.cross_val_score.html#sklearn.cross_validation.cross_val_score)' 메소드를 이용하여 위 cell의 과정을 수행 \n",
    "1. Estimator Instantiation\n",
    "2. Estimator, Predictor, Response, K, 평가지표(metric/scoring) 들을 'cross_val_score'의 argument로 주고, K개의 metric/scores를 반환 받음. Predictor와 Response로 전체 data set을 줌.\n",
    "3. scores를 적절히 활용 (Regressor 경우 scores가 MSE같은 성능치이면 이들의 평균을 취하는 것이 보통)\n",
    "\n",
    "**(참고)**  ['scoring'](http://scikit-learn.org/0.17/modules/model_evaluation.html#scoring-parameter) 패러미터 관련 \n",
    "\n",
    "\"All scorer ojects follow the convention that higher return values are better than lower return values. Thus the returns from ***mean_absolute_error and mean_squared_error***, which measure the distance between the model and the data, are ***negated***.\""
   ]
  },
  {
   "cell_type": "code",
   "execution_count": 11,
   "metadata": {
    "collapsed": false
   },
   "outputs": [
    {
     "name": "stdout",
     "output_type": "stream",
     "text": [
      "[ 12.56821522  16.72742348  19.97659557  21.51654569  13.88689296\n",
      "  10.32004012  11.81509234  20.58935444  49.97092377  35.99497823]\n",
      "10-Fold CV MSE = 21.3366\n"
     ]
    }
   ],
   "source": [
    "lm = LinearRegression()     # estimator instantiation \n",
    "scores = cross_val_score(lm, X_poly, y, cv=10, scoring='mean_squared_error')\n",
    "mse_scores = -scores    # cross_val_score 이 반환하는 MSE는 부호가 바뀌어 나옴 \n",
    "print(mse_scores)\n",
    "print(\"10-Fold CV MSE = %.4f\" % (np.array(mse_scores).mean()))"
   ]
  },
  {
   "cell_type": "markdown",
   "metadata": {},
   "source": [
    "***(참고)*** 앞에서 직접 계산한 10-fold CV의 MSE=21.3366와 방금 구한 MSE 값이 같다. 이로 보아 'cross_val_score'는 cross-validation에 들어가기 전에 shuffle 을 하지 않음을 알 수 있다. 한편, Cross-Validation이나 Training/Test split 방법을 쓰기 전에 데이터를 미리 shuffle (섞기)할 필요가 있는 경우가 있다. 이 경우에는 아래와 같이 해도 됨 (Note that the two average MSE's from the above two cells are the same. This suggests that ''cross_val_score' doesn't shuffle before going into CV process)  "
   ]
  },
  {
   "cell_type": "code",
   "execution_count": 12,
   "metadata": {
    "collapsed": false
   },
   "outputs": [
    {
     "name": "stdout",
     "output_type": "stream",
     "text": [
      "[ 18.55672195  16.48831466  22.37206719  24.74472029  12.07171089\n",
      "  33.78773319  11.90700848  23.96762937  16.03916995  11.61739629]\n",
      "10-Fold CV MSE = 19.1552\n"
     ]
    }
   ],
   "source": [
    "# If you need to shuffle : X와 y의 random sample을 취함 (all samples, no replacement). random_states have to be the same\n",
    "scores = cross_val_score(lm, X_poly.sample(frac=1, random_state=17), \n",
    "                         y.sample(frac=1, random_state=17), cv=10, scoring='mean_squared_error')\n",
    "mse_scores = -scores\n",
    "print(mse_scores)\n",
    "print(\"10-Fold CV MSE = %.4f\" % (np.array(mse_scores).mean()))"
   ]
  },
  {
   "cell_type": "markdown",
   "metadata": {
    "collapsed": true
   },
   "source": [
    "**(참고)** 위 경우는 앞에서 'KFold' 를 이용했을 경우의 (note that the steps in the cell above has the same effect as the one below)\n",
    "\n",
    "'KFold(len(X_poly), n_folds=10, shuffle=True, random_state=17)' 와 같음 "
   ]
  },
  {
   "cell_type": "markdown",
   "metadata": {},
   "source": [
    "### Cross-Validation 활용 예: KNN Regression에서 K 선정 (Selecting K in KNN)  \n",
    "**KNN regression으로 Auto 데이터에서 mpg를 예측할 때 hyper-parameter K를 튜닝/선정**"
   ]
  },
  {
   "cell_type": "code",
   "execution_count": 13,
   "metadata": {
    "collapsed": false
   },
   "outputs": [
    {
     "data": {
      "text/html": [
       "<div>\n",
       "<table border=\"1\" class=\"dataframe\">\n",
       "  <thead>\n",
       "    <tr style=\"text-align: right;\">\n",
       "      <th></th>\n",
       "      <th>mpg</th>\n",
       "      <th>cylinders</th>\n",
       "      <th>displacement</th>\n",
       "      <th>horsepower</th>\n",
       "      <th>weight</th>\n",
       "      <th>acceleration</th>\n",
       "      <th>year</th>\n",
       "      <th>origin</th>\n",
       "      <th>name</th>\n",
       "    </tr>\n",
       "  </thead>\n",
       "  <tbody>\n",
       "    <tr>\n",
       "      <th>1</th>\n",
       "      <td>18.0</td>\n",
       "      <td>8</td>\n",
       "      <td>307.0</td>\n",
       "      <td>130.0</td>\n",
       "      <td>3504</td>\n",
       "      <td>12.0</td>\n",
       "      <td>70</td>\n",
       "      <td>1</td>\n",
       "      <td>chevrolet chevelle malibu</td>\n",
       "    </tr>\n",
       "    <tr>\n",
       "      <th>2</th>\n",
       "      <td>15.0</td>\n",
       "      <td>8</td>\n",
       "      <td>350.0</td>\n",
       "      <td>165.0</td>\n",
       "      <td>3693</td>\n",
       "      <td>11.5</td>\n",
       "      <td>70</td>\n",
       "      <td>1</td>\n",
       "      <td>buick skylark 320</td>\n",
       "    </tr>\n",
       "    <tr>\n",
       "      <th>3</th>\n",
       "      <td>18.0</td>\n",
       "      <td>8</td>\n",
       "      <td>318.0</td>\n",
       "      <td>150.0</td>\n",
       "      <td>3436</td>\n",
       "      <td>11.0</td>\n",
       "      <td>70</td>\n",
       "      <td>1</td>\n",
       "      <td>plymouth satellite</td>\n",
       "    </tr>\n",
       "    <tr>\n",
       "      <th>4</th>\n",
       "      <td>16.0</td>\n",
       "      <td>8</td>\n",
       "      <td>304.0</td>\n",
       "      <td>150.0</td>\n",
       "      <td>3433</td>\n",
       "      <td>12.0</td>\n",
       "      <td>70</td>\n",
       "      <td>1</td>\n",
       "      <td>amc rebel sst</td>\n",
       "    </tr>\n",
       "    <tr>\n",
       "      <th>5</th>\n",
       "      <td>17.0</td>\n",
       "      <td>8</td>\n",
       "      <td>302.0</td>\n",
       "      <td>140.0</td>\n",
       "      <td>3449</td>\n",
       "      <td>10.5</td>\n",
       "      <td>70</td>\n",
       "      <td>1</td>\n",
       "      <td>ford torino</td>\n",
       "    </tr>\n",
       "  </tbody>\n",
       "</table>\n",
       "</div>"
      ],
      "text/plain": [
       "    mpg  cylinders  displacement  horsepower  weight  acceleration  year  \\\n",
       "1  18.0          8         307.0       130.0    3504          12.0    70   \n",
       "2  15.0          8         350.0       165.0    3693          11.5    70   \n",
       "3  18.0          8         318.0       150.0    3436          11.0    70   \n",
       "4  16.0          8         304.0       150.0    3433          12.0    70   \n",
       "5  17.0          8         302.0       140.0    3449          10.5    70   \n",
       "\n",
       "   origin                       name  \n",
       "1       1  chevrolet chevelle malibu  \n",
       "2       1          buick skylark 320  \n",
       "3       1         plymouth satellite  \n",
       "4       1              amc rebel sst  \n",
       "5       1                ford torino  "
      ]
     },
     "execution_count": 13,
     "metadata": {},
     "output_type": "execute_result"
    }
   ],
   "source": [
    "Auto.head()"
   ]
  },
  {
   "cell_type": "code",
   "execution_count": 14,
   "metadata": {
    "collapsed": false
   },
   "outputs": [
    {
     "data": {
      "text/plain": [
       "<seaborn.axisgrid.PairGrid at 0xb16aff0>"
      ]
     },
     "execution_count": 14,
     "metadata": {},
     "output_type": "execute_result"
    },
    {
     "data": {
      "image/png": "[encoded data removed]",
      "text/plain": [
       "<matplotlib.figure.Figure at 0xb16a4b0>"
      ]
     },
     "metadata": {},
     "output_type": "display_data"
    }
   ],
   "source": [
    "sns.pairplot(data=Auto, x_vars=['cylinders', 'displacement', 'horsepower', 'weight', 'acceleration'],\n",
    "             y_vars=['mpg'])"
   ]
  },
  {
   "cell_type": "code",
   "execution_count": 15,
   "metadata": {
    "collapsed": false
   },
   "outputs": [
    {
     "name": "stdout",
     "output_type": "stream",
     "text": [
      "[28.803476282051282, 22.611229807692308, 22.609331267806262, 21.470917708333335, 20.811982615384615, 20.367053027065527, 20.128171755625328, 20.041370252403844, 19.819893819246595, 19.394037391025638, 19.665185473617292, 19.563558159722223, 19.534176505841298, 19.876876403061225, 19.782276683760685, 19.661657960236379, 19.750322194126518, 19.972799835786642, 20.137255788763408, 20.309922937499998, 20.233491753881044, 20.182864776700569, 20.24482632203965, 20.144384929220085, 20.172909699487178, 20.189357255158548, 20.290644758362351, 20.211118291306907, 20.136955111436329, 20.159061073361823, 20.039118865898235, 20.01849016363682, 19.973645135504224, 19.9423782971786, 19.900149684981688, 19.797433732490504, 19.781925943979321, 19.724867849279072, 19.761354710126604, 19.704481494391025]\n",
      "\n",
      "min error K = 10\n"
     ]
    },
    {
     "data": {
      "image/png": "[encoded data removed]",
      "text/plain": [
       "<matplotlib.figure.Figure at 0xc91f4b0>"
      ]
     },
     "metadata": {},
     "output_type": "display_data"
    }
   ],
   "source": [
    "from sklearn.neighbors import KNeighborsRegressor\n",
    "scores = []\n",
    "X = Auto.loc[:, 'cylinders' : 'acceleration']\n",
    "y = Auto.mpg\n",
    "for k in range(1, 41):\n",
    "    knn = KNeighborsRegressor(n_neighbors=k)\n",
    "    mse_s = -cross_val_score(knn, X, y, cv=10, scoring='mean_squared_error')\n",
    "    scores.append(mse_s.mean())\n",
    "    \n",
    "print(scores)   \n",
    "\n",
    "plt.plot(range(1,41), scores )\n",
    "print(\"\\nmin error K = %d\" % ( np.argmin(scores) +1 ) )    # scores : 0 indexed"
   ]
  },
  {
   "cell_type": "markdown",
   "metadata": {},
   "source": [
    "- K를 1에서 40까지 변화해 가면서 각 K마다 10-fold Cross_validation을 해 보니, K=10 일 때 MSE가 가장 작음.  따라서 K=10으로 패러미터를 정하는 것이 타당\n",
    "- 물론 이 모델, 이 K가 전체적으로 최적이라는 말은 아님. Feature들을 달리하던가, feature들을 전처리(standardization 등)을 하면 최적의 K가 달라질 수 있고, Cross-validation으로 얻는 test MSE 추정값도 달라 질 것임"
   ]
  },
  {
   "cell_type": "markdown",
   "metadata": {},
   "source": [
    "### K-Fold Cross-Validation으로 Classifier 평가 : Classifier의 성능 지표 중 AUC를 계산\n",
    "#### scikit-learn의 '[cross_val_score](http://scikit-learn.org/0.17/modules/generated/sklearn.cross_validation.cross_val_score.html#sklearn.cross_validation.cross_val_score)' 함수를 이용"
   ]
  },
  {
   "cell_type": "code",
   "execution_count": 16,
   "metadata": {
    "collapsed": false
   },
   "outputs": [
    {
     "data": {
      "text/plain": [
       "0.74084663679136253"
      ]
     },
     "execution_count": 16,
     "metadata": {},
     "output_type": "execute_result"
    }
   ],
   "source": [
    "# Classifier로 Logistic Regression을, 데이터로 Caravan 사용\n",
    "Caravan = pd.read_csv('../Data/Caravan.csv', index_col=0)\n",
    "Caravan = pd.get_dummies(Caravan, drop_first=True)   # 'Purchase_Yes' is positve 1\n",
    "\n",
    "X = Caravan.drop(['Purchase_Yes'], axis=1)   #  response를 제외한 모든 변수들을 predictor로 삼음 \n",
    "y = Caravan.Purchase_Yes\n",
    "\n",
    "from sklearn.linear_model import LogisticRegression \n",
    "log_reg = LogisticRegression(solver='newton-cg')\n",
    "cross_val_score(log_reg, X, y, cv=7, scoring='roc_auc').mean()    # give 'roc_auc' as the argument for 'scoring' "
   ]
  },
  {
   "cell_type": "markdown",
   "metadata": {},
   "source": [
    "- 이 모델에서 threshold를 어디에서 잡아 sensitivity와 FPR간의 적절한 tradeoff를 결정할 지는 별개의 고려사항. 그렇지만 AUC가 크면 일단 유리한 것은 맞음  "
   ]
  },
  {
   "cell_type": "markdown",
   "metadata": {},
   "source": [
    "#### Classification 모델에서의 Cross-Validation 활용 :  Feature Selection\n",
    "85개나 되는 predictor들이 다 필요할까? Feature들을 많이 쓸수록 좋은 것은 아닐 터인데...\n",
    "\n",
    "There's a little problem when employing K-CV's to a model with lots of predictors(and derivative terms) to systematically select predictors. It's about how we can efficiently reduce the search space and do it automatically so that we can finish the job within a reasonable time.\n",
    "\n",
    "그런데 **문제가 있음**.  85개 predictor 중에 어느 것들을 추려야 하나?  또, predictor간의 interaction을 고려해야 하나? Predictor를 non-linear 변환해 적용할 수도 있는데, 그러면 그 조합들 수가 어떻게 되지? Correlation 관계를 보는 것이나 그 외 다른 방법도 이 경우엔 별 도움이 안될 듯. 6장에 있듯이 stepwise selection 등을 사용해 feature들을 선택하는 자동화된 방법이 있음. 하지만 cross-validation같이 널리 유연하게 사용할 수 있으면서 test performance를 직접적으로 추정하는 방법은 드뭄.\n",
    "\n",
    "하나 하나의 조합 케이스에 Cross-Validation 방법을 적용하면 쓸만한 performance estimate을 구할 수 있음. 그렇지만 거기에 요구되는 시간은?  또, 어떻게 이런 다양한 조합들을 체계적이고 자동으로 탐색할 수 있는지?  \n",
    "\n",
    "***이런 것들은 사람이 할 일이 아님! ***\n",
    "\n",
    "#### scikit-learn은 이런 질문/요구에 적용할 수 있는 기초적인 체계적/자동화된 메커니즘을 제공함.   이런 기능을 이용해 자동화된 탐색/분석 절차나 시스템을 사람이 만들고...  \n",
    "\n"
   ]
  },
  {
   "cell_type": "code",
   "execution_count": 17,
   "metadata": {
    "collapsed": false
   },
   "outputs": [
    {
     "name": "stdout",
     "output_type": "stream",
     "text": [
      "exit 0\n"
     ]
    }
   ],
   "source": [
    "print('exit 0')"
   ]
  }
 ],
 "metadata": {
  "anaconda-cloud": {},
  "kernelspec": {
   "display_name": "Python [Root]",
   "language": "python",
   "name": "Python [Root]"
  },
  "language_info": {
   "codemirror_mode": {
    "name": "ipython",
    "version": 3
   },
   "file_extension": ".py",
   "mimetype": "text/x-python",
   "name": "python",
   "nbconvert_exporter": "python",
   "pygments_lexer": "ipython3",
   "version": "3.5.2"
  }
 },
 "nbformat": 4,
 "nbformat_minor": 0
}
