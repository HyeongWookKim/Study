{
 "cells": [
  {
   "cell_type": "markdown",
   "metadata": {},
   "source": [
    "\n",
    "Earlier I said that if you need to get to categoric data, interactions, p-values and those stuff, don’t sweat on preprocessing/munging for scikit-learn LinearRegression to consume,  and rather just use statsmodel. It might be construed that I take on the preprocessing lightly. \n",
    "\n",
    "\n",
    "Far from it, coming from the vision and signal processing background I know the importance of the task too well. It’s just that there are other precious things in life like dating the other sex, watching your children grow up, spending time with your loved ones before you lose them.  You know what I am saying.\n",
    "\n",
    "\n",
    "Some thoughts on preprocessing.\n",
    "\n",
    "\n",
    "From the beginning when a group of photons strike rods and cones in the retina triggering a change in membrane potential, the signal goes through many stages of processing before we identify an object whether it’s a cat or a dog. And most of these stages are preprocessing.  Preprocessing amplifies and estimates to tease out true signal from noise, separates objects from background, construct features, and succesively build up more abstract things until it throws these well processed and almost done things to a classifier/regressor.  It’s the preprocessing stages that are doing the heavy lifting, and those possibly machine-learning-inspired classifiers are just final make-up.\n",
    "\n",
    "\n",
    "Abstraction.  It’s everywhere.  In fact, there’s no clear distinction between preprocessing and final decision making classifier/regressor.  A classifier is just a final leg of the continuum of abstraction.  And when there is an abstraction, estimation raises its head to fill the holes to give credibility for a guessing job cause you can’t do things entirely in bottom-up fashion.  \n",
    "\n",
    "\n",
    "Scikit-learn uses the term ‘estimator’ for good reasons.  Classifiers/Regressors and any serious preprocessors/filters are estimators.  When I read “an estimator is a Python object that implements the methods fit(X, y) and predict(T)” in the sense of software interface/protocol, you could have seen silly grin on my face. \n"
   ]
  },
  {
   "cell_type": "markdown",
   "metadata": {},
   "source": [
    "## A little preprocessing. \n",
    "ISLR 3장에 있는 카테고리형 변수의 변환, 변수를 non-linear 변환하여 linear regression을 적용하는 법, 변수간 interaction을 주는 연습을 한다\n",
    "\n",
    "\n",
    "We will trace exactly as written in ISLR Ch.3 to tranform a categorical variable, polynomialize a variable, give  interaction between variables, such that the transformed form is amenable for a scikit-learn estimator to consume. "
   ]
  },
  {
   "cell_type": "code",
   "execution_count": 1,
   "metadata": {
    "collapsed": false
   },
   "outputs": [],
   "source": [
    "# 패키지 imports\n",
    "import pandas as pd\n",
    "import numpy as np\n",
    "import statsmodels.formula.api as smf    \n",
    "import matplotlib.pyplot as plt\n",
    "import seaborn as sns \n",
    "\n",
    "%matplotlib inline"
   ]
  },
  {
   "cell_type": "code",
   "execution_count": 2,
   "metadata": {
    "collapsed": true
   },
   "outputs": [],
   "source": [
    "Carseats = pd.read_csv(\"../Data/carseats.csv\", index_col=0)"
   ]
  },
  {
   "cell_type": "code",
   "execution_count": 3,
   "metadata": {
    "collapsed": false
   },
   "outputs": [
    {
     "data": {
      "text/html": [
       "<div>\n",
       "<table border=\"1\" class=\"dataframe\">\n",
       "  <thead>\n",
       "    <tr style=\"text-align: right;\">\n",
       "      <th></th>\n",
       "      <th>Sales</th>\n",
       "      <th>CompPrice</th>\n",
       "      <th>Income</th>\n",
       "      <th>Advertising</th>\n",
       "      <th>Population</th>\n",
       "      <th>Price</th>\n",
       "      <th>ShelveLoc</th>\n",
       "      <th>Age</th>\n",
       "      <th>Education</th>\n",
       "      <th>Urban</th>\n",
       "      <th>US</th>\n",
       "    </tr>\n",
       "  </thead>\n",
       "  <tbody>\n",
       "    <tr>\n",
       "      <th>1</th>\n",
       "      <td>9.50</td>\n",
       "      <td>138</td>\n",
       "      <td>73</td>\n",
       "      <td>11</td>\n",
       "      <td>276</td>\n",
       "      <td>120</td>\n",
       "      <td>Bad</td>\n",
       "      <td>42</td>\n",
       "      <td>17</td>\n",
       "      <td>Yes</td>\n",
       "      <td>Yes</td>\n",
       "    </tr>\n",
       "    <tr>\n",
       "      <th>2</th>\n",
       "      <td>11.22</td>\n",
       "      <td>111</td>\n",
       "      <td>48</td>\n",
       "      <td>16</td>\n",
       "      <td>260</td>\n",
       "      <td>83</td>\n",
       "      <td>Good</td>\n",
       "      <td>65</td>\n",
       "      <td>10</td>\n",
       "      <td>Yes</td>\n",
       "      <td>Yes</td>\n",
       "    </tr>\n",
       "    <tr>\n",
       "      <th>3</th>\n",
       "      <td>10.06</td>\n",
       "      <td>113</td>\n",
       "      <td>35</td>\n",
       "      <td>10</td>\n",
       "      <td>269</td>\n",
       "      <td>80</td>\n",
       "      <td>Medium</td>\n",
       "      <td>59</td>\n",
       "      <td>12</td>\n",
       "      <td>Yes</td>\n",
       "      <td>Yes</td>\n",
       "    </tr>\n",
       "    <tr>\n",
       "      <th>4</th>\n",
       "      <td>7.40</td>\n",
       "      <td>117</td>\n",
       "      <td>100</td>\n",
       "      <td>4</td>\n",
       "      <td>466</td>\n",
       "      <td>97</td>\n",
       "      <td>Medium</td>\n",
       "      <td>55</td>\n",
       "      <td>14</td>\n",
       "      <td>Yes</td>\n",
       "      <td>Yes</td>\n",
       "    </tr>\n",
       "    <tr>\n",
       "      <th>5</th>\n",
       "      <td>4.15</td>\n",
       "      <td>141</td>\n",
       "      <td>64</td>\n",
       "      <td>3</td>\n",
       "      <td>340</td>\n",
       "      <td>128</td>\n",
       "      <td>Bad</td>\n",
       "      <td>38</td>\n",
       "      <td>13</td>\n",
       "      <td>Yes</td>\n",
       "      <td>No</td>\n",
       "    </tr>\n",
       "  </tbody>\n",
       "</table>\n",
       "</div>"
      ],
      "text/plain": [
       "   Sales  CompPrice  Income  Advertising  Population  Price ShelveLoc  Age  \\\n",
       "1   9.50        138      73           11         276    120       Bad   42   \n",
       "2  11.22        111      48           16         260     83      Good   65   \n",
       "3  10.06        113      35           10         269     80    Medium   59   \n",
       "4   7.40        117     100            4         466     97    Medium   55   \n",
       "5   4.15        141      64            3         340    128       Bad   38   \n",
       "\n",
       "   Education Urban   US  \n",
       "1         17   Yes  Yes  \n",
       "2         10   Yes  Yes  \n",
       "3         12   Yes  Yes  \n",
       "4         14   Yes  Yes  \n",
       "5         13   Yes   No  "
      ]
     },
     "execution_count": 3,
     "metadata": {},
     "output_type": "execute_result"
    }
   ],
   "source": [
    "Carseats.head()"
   ]
  },
  {
   "cell_type": "markdown",
   "metadata": {},
   "source": [
    "## statsmodels를 쓴 예,"
   ]
  },
  {
   "cell_type": "code",
   "execution_count": 4,
   "metadata": {
    "collapsed": false
   },
   "outputs": [
    {
     "data": {
      "text/html": [
       "<table class=\"simpletable\">\n",
       "<tr>\n",
       "                 <td></td>                    <th>coef</th>     <th>std err</th>      <th>t</th>      <th>P>|t|</th> <th>[95.0% Conf. Int.]</th> \n",
       "</tr>\n",
       "<tr>\n",
       "  <th>Intercept</th>                       <td>   14.2992</td> <td>    5.187</td> <td>    2.757</td> <td> 0.006</td> <td>    4.102    24.497</td>\n",
       "</tr>\n",
       "<tr>\n",
       "  <th>ShelveLoc[T.Good]</th>               <td>    4.4826</td> <td>    0.452</td> <td>    9.914</td> <td> 0.000</td> <td>    3.594     5.372</td>\n",
       "</tr>\n",
       "<tr>\n",
       "  <th>ShelveLoc[T.Medium]</th>             <td>    1.8654</td> <td>    0.361</td> <td>    5.168</td> <td> 0.000</td> <td>    1.156     2.575</td>\n",
       "</tr>\n",
       "<tr>\n",
       "  <th>Advertising</th>                     <td>    0.0869</td> <td>    0.034</td> <td>    2.588</td> <td> 0.010</td> <td>    0.021     0.153</td>\n",
       "</tr>\n",
       "<tr>\n",
       "  <th>ShelveLoc[T.Good]:Advertising</th>   <td>    0.0271</td> <td>    0.048</td> <td>    0.569</td> <td> 0.570</td> <td>   -0.067     0.121</td>\n",
       "</tr>\n",
       "<tr>\n",
       "  <th>ShelveLoc[T.Medium]:Advertising</th> <td>    0.0069</td> <td>    0.040</td> <td>    0.173</td> <td> 0.863</td> <td>   -0.071     0.085</td>\n",
       "</tr>\n",
       "<tr>\n",
       "  <th>Age</th>                             <td>   -0.0540</td> <td>    0.017</td> <td>   -3.180</td> <td> 0.002</td> <td>   -0.087    -0.021</td>\n",
       "</tr>\n",
       "<tr>\n",
       "  <th>Education</th>                       <td>   -0.0332</td> <td>    0.041</td> <td>   -0.814</td> <td> 0.416</td> <td>   -0.113     0.047</td>\n",
       "</tr>\n",
       "<tr>\n",
       "  <th>Income</th>                          <td>    0.0052</td> <td>    0.013</td> <td>    0.401</td> <td> 0.689</td> <td>   -0.020     0.031</td>\n",
       "</tr>\n",
       "<tr>\n",
       "  <th>CompPrice</th>                       <td>   -0.1253</td> <td>    0.080</td> <td>   -1.574</td> <td> 0.116</td> <td>   -0.282     0.031</td>\n",
       "</tr>\n",
       "<tr>\n",
       "  <th>np.power(CompPrice, 2)</th>          <td>    0.0005</td> <td>    0.000</td> <td>    1.674</td> <td> 0.095</td> <td> -9.3e-05     0.001</td>\n",
       "</tr>\n",
       "<tr>\n",
       "  <th>Age:Income</th>                      <td>    0.0002</td> <td>    0.000</td> <td>    0.914</td> <td> 0.361</td> <td>   -0.000     0.001</td>\n",
       "</tr>\n",
       "</table>"
      ],
      "text/plain": [
       "<class 'statsmodels.iolib.table.SimpleTable'>"
      ]
     },
     "execution_count": 4,
     "metadata": {},
     "output_type": "execute_result"
    }
   ],
   "source": [
    "lm_Carseats = smf.ols(formula = \"Sales ~ Advertising+Age+Education+Income +CompPrice + \\\n",
    "                                 np.power(CompPrice, 2) + ShelveLoc + Age:Income + ShelveLoc:Advertising\", \n",
    "                      data=Carseats).fit() \n",
    "\n",
    "lm_Carseats.summary().tables[1]"
   ]
  },
  {
   "cell_type": "markdown",
   "metadata": {},
   "source": [
    "## 앞에 categoric variable, polynomial transformation, interaction 들을 scikit-learn OLS estimator가 하도록 하려면, \n",
    "\n",
    "\n",
    "### Feature Preprocessing  \n",
    "- scikit-learn에 있는 [Preprocessing](http://scikit-learn.org/stable/modules/preprocessing.html) 말고 ISLR의 내용 따라 함    "
   ]
  },
  {
   "cell_type": "code",
   "execution_count": 5,
   "metadata": {
    "collapsed": true
   },
   "outputs": [],
   "source": [
    "Carseats2 = Carseats.copy()"
   ]
  },
  {
   "cell_type": "code",
   "execution_count": 6,
   "metadata": {
    "collapsed": false
   },
   "outputs": [
    {
     "data": {
      "text/plain": [
       "Index(['Sales', 'CompPrice', 'Income', 'Advertising', 'Population', 'Price',\n",
       "       'ShelveLoc', 'Age', 'Education', 'Urban', 'US'],\n",
       "      dtype='object')"
      ]
     },
     "execution_count": 6,
     "metadata": {},
     "output_type": "execute_result"
    }
   ],
   "source": [
    "Carseats2.columns"
   ]
  },
  {
   "cell_type": "code",
   "execution_count": 7,
   "metadata": {
    "collapsed": false
   },
   "outputs": [
    {
     "data": {
      "text/html": [
       "<div>\n",
       "<table border=\"1\" class=\"dataframe\">\n",
       "  <thead>\n",
       "    <tr style=\"text-align: right;\">\n",
       "      <th></th>\n",
       "      <th>Sales</th>\n",
       "      <th>CompPrice</th>\n",
       "      <th>Income</th>\n",
       "      <th>Advertising</th>\n",
       "      <th>Age</th>\n",
       "      <th>Education</th>\n",
       "      <th>ShelveLoc</th>\n",
       "    </tr>\n",
       "  </thead>\n",
       "  <tbody>\n",
       "    <tr>\n",
       "      <th>1</th>\n",
       "      <td>9.50</td>\n",
       "      <td>138</td>\n",
       "      <td>73</td>\n",
       "      <td>11</td>\n",
       "      <td>42</td>\n",
       "      <td>17</td>\n",
       "      <td>Bad</td>\n",
       "    </tr>\n",
       "    <tr>\n",
       "      <th>2</th>\n",
       "      <td>11.22</td>\n",
       "      <td>111</td>\n",
       "      <td>48</td>\n",
       "      <td>16</td>\n",
       "      <td>65</td>\n",
       "      <td>10</td>\n",
       "      <td>Good</td>\n",
       "    </tr>\n",
       "  </tbody>\n",
       "</table>\n",
       "</div>"
      ],
      "text/plain": [
       "   Sales  CompPrice  Income  Advertising  Age  Education ShelveLoc\n",
       "1   9.50        138      73           11   42         17       Bad\n",
       "2  11.22        111      48           16   65         10      Good"
      ]
     },
     "execution_count": 7,
     "metadata": {},
     "output_type": "execute_result"
    }
   ],
   "source": [
    "Carseats2 = Carseats2.loc[:, ['Sales', 'CompPrice', 'Income', 'Advertising', 'Age', 'Education', 'ShelveLoc']]\n",
    "Carseats2.head(2)"
   ]
  },
  {
   "cell_type": "code",
   "execution_count": 8,
   "metadata": {
    "collapsed": false
   },
   "outputs": [
    {
     "data": {
      "text/html": [
       "<div>\n",
       "<table border=\"1\" class=\"dataframe\">\n",
       "  <thead>\n",
       "    <tr style=\"text-align: right;\">\n",
       "      <th></th>\n",
       "      <th>Sales</th>\n",
       "      <th>CompPrice</th>\n",
       "      <th>Income</th>\n",
       "      <th>Advertising</th>\n",
       "      <th>Age</th>\n",
       "      <th>Education</th>\n",
       "      <th>ShelveLoc_Good</th>\n",
       "      <th>ShelveLoc_Medium</th>\n",
       "    </tr>\n",
       "  </thead>\n",
       "  <tbody>\n",
       "    <tr>\n",
       "      <th>1</th>\n",
       "      <td>9.50</td>\n",
       "      <td>138</td>\n",
       "      <td>73</td>\n",
       "      <td>11</td>\n",
       "      <td>42</td>\n",
       "      <td>17</td>\n",
       "      <td>0.0</td>\n",
       "      <td>0.0</td>\n",
       "    </tr>\n",
       "    <tr>\n",
       "      <th>2</th>\n",
       "      <td>11.22</td>\n",
       "      <td>111</td>\n",
       "      <td>48</td>\n",
       "      <td>16</td>\n",
       "      <td>65</td>\n",
       "      <td>10</td>\n",
       "      <td>1.0</td>\n",
       "      <td>0.0</td>\n",
       "    </tr>\n",
       "    <tr>\n",
       "      <th>3</th>\n",
       "      <td>10.06</td>\n",
       "      <td>113</td>\n",
       "      <td>35</td>\n",
       "      <td>10</td>\n",
       "      <td>59</td>\n",
       "      <td>12</td>\n",
       "      <td>0.0</td>\n",
       "      <td>1.0</td>\n",
       "    </tr>\n",
       "    <tr>\n",
       "      <th>4</th>\n",
       "      <td>7.40</td>\n",
       "      <td>117</td>\n",
       "      <td>100</td>\n",
       "      <td>4</td>\n",
       "      <td>55</td>\n",
       "      <td>14</td>\n",
       "      <td>0.0</td>\n",
       "      <td>1.0</td>\n",
       "    </tr>\n",
       "    <tr>\n",
       "      <th>5</th>\n",
       "      <td>4.15</td>\n",
       "      <td>141</td>\n",
       "      <td>64</td>\n",
       "      <td>3</td>\n",
       "      <td>38</td>\n",
       "      <td>13</td>\n",
       "      <td>0.0</td>\n",
       "      <td>0.0</td>\n",
       "    </tr>\n",
       "  </tbody>\n",
       "</table>\n",
       "</div>"
      ],
      "text/plain": [
       "   Sales  CompPrice  Income  Advertising  Age  Education  ShelveLoc_Good  \\\n",
       "1   9.50        138      73           11   42         17             0.0   \n",
       "2  11.22        111      48           16   65         10             1.0   \n",
       "3  10.06        113      35           10   59         12             0.0   \n",
       "4   7.40        117     100            4   55         14             0.0   \n",
       "5   4.15        141      64            3   38         13             0.0   \n",
       "\n",
       "   ShelveLoc_Medium  \n",
       "1               0.0  \n",
       "2               0.0  \n",
       "3               1.0  \n",
       "4               1.0  \n",
       "5               0.0  "
      ]
     },
     "execution_count": 8,
     "metadata": {},
     "output_type": "execute_result"
    }
   ],
   "source": [
    "Carseats2 = pd.get_dummies(Carseats2, drop_first=True)   # map() 메소드를 써서 해도 됨   \n",
    "Carseats2.head()"
   ]
  },
  {
   "cell_type": "code",
   "execution_count": 9,
   "metadata": {
    "collapsed": false
   },
   "outputs": [
    {
     "data": {
      "text/plain": [
       "Index(['Sales', 'CompPrice', 'Income', 'Advertising', 'Age', 'Education',\n",
       "       'ShelveLoc_Good', 'ShelveLoc_Medium'],\n",
       "      dtype='object')"
      ]
     },
     "execution_count": 9,
     "metadata": {},
     "output_type": "execute_result"
    }
   ],
   "source": [
    "Carseats2.columns"
   ]
  },
  {
   "cell_type": "code",
   "execution_count": 10,
   "metadata": {
    "collapsed": false
   },
   "outputs": [
    {
     "data": {
      "text/html": [
       "<div>\n",
       "<table border=\"1\" class=\"dataframe\">\n",
       "  <thead>\n",
       "    <tr style=\"text-align: right;\">\n",
       "      <th></th>\n",
       "      <th>Sales</th>\n",
       "      <th>CompPrice</th>\n",
       "      <th>Income</th>\n",
       "      <th>Advertising</th>\n",
       "      <th>Age</th>\n",
       "      <th>Education</th>\n",
       "      <th>ShelveLoc_Good</th>\n",
       "      <th>ShelveLoc_Medium</th>\n",
       "      <th>CompPrice_sq</th>\n",
       "      <th>Age*Income</th>\n",
       "      <th>ShelveLoc_Good*Advertising</th>\n",
       "      <th>ShelveLoc_Medium*Advertising</th>\n",
       "    </tr>\n",
       "  </thead>\n",
       "  <tbody>\n",
       "    <tr>\n",
       "      <th>1</th>\n",
       "      <td>9.50</td>\n",
       "      <td>138</td>\n",
       "      <td>73</td>\n",
       "      <td>11</td>\n",
       "      <td>42</td>\n",
       "      <td>17</td>\n",
       "      <td>0.0</td>\n",
       "      <td>0.0</td>\n",
       "      <td>19044</td>\n",
       "      <td>3066</td>\n",
       "      <td>0.0</td>\n",
       "      <td>0.0</td>\n",
       "    </tr>\n",
       "    <tr>\n",
       "      <th>2</th>\n",
       "      <td>11.22</td>\n",
       "      <td>111</td>\n",
       "      <td>48</td>\n",
       "      <td>16</td>\n",
       "      <td>65</td>\n",
       "      <td>10</td>\n",
       "      <td>1.0</td>\n",
       "      <td>0.0</td>\n",
       "      <td>12321</td>\n",
       "      <td>3120</td>\n",
       "      <td>16.0</td>\n",
       "      <td>0.0</td>\n",
       "    </tr>\n",
       "  </tbody>\n",
       "</table>\n",
       "</div>"
      ],
      "text/plain": [
       "   Sales  CompPrice  Income  Advertising  Age  Education  ShelveLoc_Good  \\\n",
       "1   9.50        138      73           11   42         17             0.0   \n",
       "2  11.22        111      48           16   65         10             1.0   \n",
       "\n",
       "   ShelveLoc_Medium  CompPrice_sq  Age*Income  ShelveLoc_Good*Advertising  \\\n",
       "1               0.0         19044        3066                         0.0   \n",
       "2               0.0         12321        3120                        16.0   \n",
       "\n",
       "   ShelveLoc_Medium*Advertising  \n",
       "1                           0.0  \n",
       "2                           0.0  "
      ]
     },
     "execution_count": 10,
     "metadata": {},
     "output_type": "execute_result"
    }
   ],
   "source": [
    "Carseats2['CompPrice_sq'] = np.power(Carseats2.CompPrice, 2)\n",
    "Carseats2['Age*Income'] = Carseats2.Age * Carseats2.Income\n",
    "Carseats2['ShelveLoc_Good*Advertising'] = Carseats2.ShelveLoc_Good * Carseats2.Advertising\n",
    "Carseats2['ShelveLoc_Medium*Advertising'] = Carseats2.ShelveLoc_Medium * Carseats2.Advertising\n",
    "Carseats2.head(2)"
   ]
  },
  {
   "cell_type": "code",
   "execution_count": 11,
   "metadata": {
    "collapsed": true
   },
   "outputs": [],
   "source": [
    "X = Carseats2.loc[:, 'CompPrice':] \n",
    "y = Carseats2.Sales"
   ]
  },
  {
   "cell_type": "code",
   "execution_count": 12,
   "metadata": {
    "collapsed": false,
    "scrolled": true
   },
   "outputs": [
    {
     "name": "stdout",
     "output_type": "stream",
     "text": [
      "intercept 14.2992015741\n"
     ]
    },
    {
     "data": {
      "text/plain": [
       "[('CompPrice', -0.12533253564712765),\n",
       " ('Income', 0.0051896584127176602),\n",
       " ('Advertising', 0.086904680461086778),\n",
       " ('Age', -0.053955023401916456),\n",
       " ('Education', -0.033226187003566311),\n",
       " ('ShelveLoc_Good', 4.4826130416522503),\n",
       " ('ShelveLoc_Medium', 1.8653783686161103),\n",
       " ('CompPrice_sq', 0.00053288587332844025),\n",
       " ('Age*Income', 0.00021253940130102429),\n",
       " ('ShelveLoc_Good*Advertising', 0.027095576071671807),\n",
       " ('ShelveLoc_Medium*Advertising', 0.0068851766080135785)]"
      ]
     },
     "execution_count": 12,
     "metadata": {},
     "output_type": "execute_result"
    }
   ],
   "source": [
    "from sklearn.linear_model import LinearRegression\n",
    "lm_sci = LinearRegression()\n",
    "lm_sci.fit(X, y)\n",
    "\n",
    "# intercept and coefficients\n",
    "print(\"intercept\", lm_sci.intercept_)\n",
    "list(zip(X.columns, lm_sci.coef_))"
   ]
  },
  {
   "cell_type": "markdown",
   "metadata": {},
   "source": [
    "- statsmodels의 결과와 같음.  Both the statsmodels & scikit-learn results are the same.\n",
    "\n",
    "\n",
    "### Note that,\n",
    "- Transform categorical variables first, then do interactions on them as needed."
   ]
  },
  {
   "cell_type": "code",
   "execution_count": 13,
   "metadata": {
    "collapsed": false
   },
   "outputs": [
    {
     "data": {
      "text/html": [
       "<div>\n",
       "<table border=\"1\" class=\"dataframe\">\n",
       "  <thead>\n",
       "    <tr style=\"text-align: right;\">\n",
       "      <th></th>\n",
       "      <th>0</th>\n",
       "    </tr>\n",
       "  </thead>\n",
       "  <tbody>\n",
       "    <tr>\n",
       "      <th>count</th>\n",
       "      <td>400.000000</td>\n",
       "    </tr>\n",
       "    <tr>\n",
       "      <th>mean</th>\n",
       "      <td>7.496325</td>\n",
       "    </tr>\n",
       "    <tr>\n",
       "      <th>std</th>\n",
       "      <td>1.918581</td>\n",
       "    </tr>\n",
       "    <tr>\n",
       "      <th>min</th>\n",
       "      <td>3.407655</td>\n",
       "    </tr>\n",
       "    <tr>\n",
       "      <th>25%</th>\n",
       "      <td>6.071667</td>\n",
       "    </tr>\n",
       "    <tr>\n",
       "      <th>50%</th>\n",
       "      <td>7.252025</td>\n",
       "    </tr>\n",
       "    <tr>\n",
       "      <th>75%</th>\n",
       "      <td>8.688959</td>\n",
       "    </tr>\n",
       "    <tr>\n",
       "      <th>max</th>\n",
       "      <td>12.879883</td>\n",
       "    </tr>\n",
       "  </tbody>\n",
       "</table>\n",
       "</div>"
      ],
      "text/plain": [
       "                0\n",
       "count  400.000000\n",
       "mean     7.496325\n",
       "std      1.918581\n",
       "min      3.407655\n",
       "25%      6.071667\n",
       "50%      7.252025\n",
       "75%      8.688959\n",
       "max     12.879883"
      ]
     },
     "execution_count": 13,
     "metadata": {},
     "output_type": "execute_result"
    }
   ],
   "source": [
    "# Some statistics of y_predict & residuals on training set\n",
    "y_predict = lm_sci.predict(X)\n",
    "lm_sci_resid = y - y_predict \n",
    "pd.DataFrame(y_predict).describe()"
   ]
  },
  {
   "cell_type": "code",
   "execution_count": 14,
   "metadata": {
    "collapsed": false
   },
   "outputs": [
    {
     "data": {
      "text/html": [
       "<div>\n",
       "<table border=\"1\" class=\"dataframe\">\n",
       "  <thead>\n",
       "    <tr style=\"text-align: right;\">\n",
       "      <th></th>\n",
       "      <th>Residues</th>\n",
       "    </tr>\n",
       "  </thead>\n",
       "  <tbody>\n",
       "    <tr>\n",
       "      <th>count</th>\n",
       "      <td>4.000000e+02</td>\n",
       "    </tr>\n",
       "    <tr>\n",
       "      <th>mean</th>\n",
       "      <td>1.110223e-16</td>\n",
       "    </tr>\n",
       "    <tr>\n",
       "      <th>std</th>\n",
       "      <td>2.072360e+00</td>\n",
       "    </tr>\n",
       "    <tr>\n",
       "      <th>min</th>\n",
       "      <td>-6.307441e+00</td>\n",
       "    </tr>\n",
       "    <tr>\n",
       "      <th>25%</th>\n",
       "      <td>-1.480765e+00</td>\n",
       "    </tr>\n",
       "    <tr>\n",
       "      <th>50%</th>\n",
       "      <td>-7.805546e-02</td>\n",
       "    </tr>\n",
       "    <tr>\n",
       "      <th>75%</th>\n",
       "      <td>1.472994e+00</td>\n",
       "    </tr>\n",
       "    <tr>\n",
       "      <th>max</th>\n",
       "      <td>5.989242e+00</td>\n",
       "    </tr>\n",
       "  </tbody>\n",
       "</table>\n",
       "</div>"
      ],
      "text/plain": [
       "           Residues\n",
       "count  4.000000e+02\n",
       "mean   1.110223e-16\n",
       "std    2.072360e+00\n",
       "min   -6.307441e+00\n",
       "25%   -1.480765e+00\n",
       "50%   -7.805546e-02\n",
       "75%    1.472994e+00\n",
       "max    5.989242e+00"
      ]
     },
     "execution_count": 14,
     "metadata": {},
     "output_type": "execute_result"
    }
   ],
   "source": [
    "lm_sci_resid.name = 'Residues'\n",
    "pd.DataFrame(lm_sci_resid).describe()"
   ]
  },
  {
   "cell_type": "code",
   "execution_count": 15,
   "metadata": {
    "collapsed": false
   },
   "outputs": [
    {
     "data": {
      "text/plain": [
       "<matplotlib.text.Text at 0xa027eb0>"
      ]
     },
     "execution_count": 15,
     "metadata": {},
     "output_type": "execute_result"
    },
    {
     "data": {
      "image/png": "[encoded data removed]",
      "text/plain": [
       "<matplotlib.figure.Figure at 0x9ffabf0>"
      ]
     },
     "metadata": {},
     "output_type": "display_data"
    }
   ],
   "source": [
    "# Residual Plot on training set\n",
    "fig, ax1 = plt.subplots(nrows=1, ncols=1, figsize=(10, 8))\n",
    "# sns.set_context(font_scale=1.5)\n",
    "sns.set(style='whitegrid', font_scale=1.5)\n",
    "sns.residplot(x=y_predict, y=lm_sci_resid, lowess=True, line_kws={'color':'r', 'lw':1.5})\n",
    "ax1.set_title('Residual Plot w.r.t. Training Set', size = 20)\n",
    "ax1.set_xlabel('Fitted Values (Predicted Response)', size = 20)\n",
    "ax1.set_ylabel('Residuals', size = 20)"
   ]
  },
  {
   "cell_type": "markdown",
   "metadata": {},
   "source": [
    "- Residual 선이 수평선 0 에 줄곧 붙은 모양이고, scatterplot도 특별한 모양이 없으므로 Residual Plot으로 본 이 모델은 괜찮다."
   ]
  },
  {
   "cell_type": "code",
   "execution_count": 16,
   "metadata": {
    "collapsed": false
   },
   "outputs": [
    {
     "name": "stdout",
     "output_type": "stream",
     "text": [
      "exit 0\n"
     ]
    }
   ],
   "source": [
    "print('exit 0')"
   ]
  }
 ],
 "metadata": {
  "anaconda-cloud": {},
  "kernelspec": {
   "display_name": "Python [Root]",
   "language": "python",
   "name": "Python [Root]"
  },
  "language_info": {
   "codemirror_mode": {
    "name": "ipython",
    "version": 3
   },
   "file_extension": ".py",
   "mimetype": "text/x-python",
   "name": "python",
   "nbconvert_exporter": "python",
   "pygments_lexer": "ipython3",
   "version": "3.5.2"
  }
 },
 "nbformat": 4,
 "nbformat_minor": 0
}
