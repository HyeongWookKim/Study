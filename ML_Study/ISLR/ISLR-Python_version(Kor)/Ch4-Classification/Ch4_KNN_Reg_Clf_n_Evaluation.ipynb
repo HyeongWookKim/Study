{
 "cells": [
  {
   "cell_type": "markdown",
   "metadata": {},
   "source": [
    "# K-Nearest Neighbors Regression/Classification & Model Evaluations \n",
    "- Ch.3 의 KNN-Regression과\n",
    "- Ch.4 의 KNN-Classification을 scikit-learn 라이브러리를 이용해 실습\n",
    "- Regression 모델 평가에 **Mean Absolute Error**(MAE), **Mean Squared Error**(MSE), **RMSE** (Root MSE)들을 사용\n",
    "- Classification 모델 평가에 **Confusion Matrix**, **ROC 커브**, **AUC** 등"
   ]
  },
  {
   "cell_type": "code",
   "execution_count": 1,
   "metadata": {
    "collapsed": true
   },
   "outputs": [],
   "source": [
    "# 패키지 imports\n",
    "import pandas as pd\n",
    "import numpy as np\n",
    "import matplotlib.pyplot as plt\n",
    "import seaborn\n",
    "import statsmodels.formula.api as smf      \n",
    "\n",
    "# notebook에 직접 그래프를 plot  \n",
    "%matplotlib inline"
   ]
  },
  {
   "cell_type": "code",
   "execution_count": 2,
   "metadata": {
    "collapsed": false
   },
   "outputs": [
    {
     "name": "stdout",
     "output_type": "stream",
     "text": [
      "/home/lee/Programs/anaconda3/envs/tensorflow_1.4/bin/python\n",
      "3.6.1 |Anaconda 4.4.0 (64-bit)| (default, May 11 2017, 13:09:58) \n",
      "[GCC 4.4.7 20120313 (Red Hat 4.4.7-1)]\n",
      "sys.version_info(major=3, minor=6, micro=1, releaselevel='final', serial=0)\n"
     ]
    }
   ],
   "source": [
    "import sys\n",
    "print(sys.executable)\n",
    "print(sys.version)\n",
    "print(sys.version_info)"
   ]
  },
  {
   "cell_type": "markdown",
   "metadata": {},
   "source": [
    "## 3장의 advertising 데이터를 활용해 Regression 연습 및 성능/에러 평가\n",
    "### 목표 : 광고비를 통해 매출을 예측할 수 있는지?"
   ]
  },
  {
   "cell_type": "code",
   "execution_count": 3,
   "metadata": {
    "collapsed": false
   },
   "outputs": [
    {
     "data": {
      "text/html": [
       "<div>\n",
       "<style>\n",
       "    .dataframe thead tr:only-child th {\n",
       "        text-align: right;\n",
       "    }\n",
       "\n",
       "    .dataframe thead th {\n",
       "        text-align: left;\n",
       "    }\n",
       "\n",
       "    .dataframe tbody tr th {\n",
       "        vertical-align: top;\n",
       "    }\n",
       "</style>\n",
       "<table border=\"1\" class=\"dataframe\">\n",
       "  <thead>\n",
       "    <tr style=\"text-align: right;\">\n",
       "      <th></th>\n",
       "      <th>TV</th>\n",
       "      <th>Radio</th>\n",
       "      <th>Newspaper</th>\n",
       "      <th>Sales</th>\n",
       "    </tr>\n",
       "  </thead>\n",
       "  <tbody>\n",
       "    <tr>\n",
       "      <th>0</th>\n",
       "      <td>230.1</td>\n",
       "      <td>37.8</td>\n",
       "      <td>69.2</td>\n",
       "      <td>22.1</td>\n",
       "    </tr>\n",
       "    <tr>\n",
       "      <th>1</th>\n",
       "      <td>44.5</td>\n",
       "      <td>39.3</td>\n",
       "      <td>45.1</td>\n",
       "      <td>10.4</td>\n",
       "    </tr>\n",
       "    <tr>\n",
       "      <th>2</th>\n",
       "      <td>17.2</td>\n",
       "      <td>45.9</td>\n",
       "      <td>69.3</td>\n",
       "      <td>9.3</td>\n",
       "    </tr>\n",
       "    <tr>\n",
       "      <th>3</th>\n",
       "      <td>151.5</td>\n",
       "      <td>41.3</td>\n",
       "      <td>58.5</td>\n",
       "      <td>18.5</td>\n",
       "    </tr>\n",
       "    <tr>\n",
       "      <th>4</th>\n",
       "      <td>180.8</td>\n",
       "      <td>10.8</td>\n",
       "      <td>58.4</td>\n",
       "      <td>12.9</td>\n",
       "    </tr>\n",
       "  </tbody>\n",
       "</table>\n",
       "</div>"
      ],
      "text/plain": [
       "      TV  Radio  Newspaper  Sales\n",
       "0  230.1   37.8       69.2   22.1\n",
       "1   44.5   39.3       45.1   10.4\n",
       "2   17.2   45.9       69.3    9.3\n",
       "3  151.5   41.3       58.5   18.5\n",
       "4  180.8   10.8       58.4   12.9"
      ]
     },
     "execution_count": 3,
     "metadata": {},
     "output_type": "execute_result"
    }
   ],
   "source": [
    "advertising = pd.read_csv('../Data/Advertising.csv', usecols=[1,2,3,4])   \n",
    "advertising.head()    "
   ]
  },
  {
   "cell_type": "code",
   "execution_count": 4,
   "metadata": {
    "collapsed": false
   },
   "outputs": [
    {
     "name": "stdout",
     "output_type": "stream",
     "text": [
      "<class 'pandas.core.frame.DataFrame'>\n",
      "RangeIndex: 200 entries, 0 to 199\n",
      "Data columns (total 4 columns):\n",
      "TV           200 non-null float64\n",
      "Radio        200 non-null float64\n",
      "Newspaper    200 non-null float64\n",
      "Sales        200 non-null float64\n",
      "dtypes: float64(4)\n",
      "memory usage: 6.3 KB\n"
     ]
    }
   ],
   "source": [
    "advertising.info()        "
   ]
  },
  {
   "cell_type": "markdown",
   "metadata": {},
   "source": [
    "## Regression 모델 평가에 흔히 쓰이는 측정치 (metric): 에러를 측정하기에 작은 값이 좋음\n",
    "\n",
    "- **Mean Absolute Error** (MAE) 는 에러 절대값들의 평균 \n",
    "$$ \\frac 1n\\sum_{i=1}^n|y_i - \\hat{y}_i| $$\n",
    "\n",
    "\n",
    "- **Mean Squared Error** (MSE) 는 에러 제곱들의 평균\n",
    "$$ \\frac 1n\\sum_{i=1}^n(y_i - \\hat{y}_i)^2 $$\n",
    "\n",
    "\n",
    "- **Root Mean Squared Error** (RMSE) 는 MSE의 제곱근 (root-MSE)\n",
    "$$ \\sqrt{\\frac 1n\\sum_{i=1}^n(y_i - \\hat{y}_i)^2} $$\n"
   ]
  },
  {
   "cell_type": "markdown",
   "metadata": {},
   "source": [
    "## scikit-learn의 'LinearRegression' estimator를 적용하여 Sales 예측 : Training Performance"
   ]
  },
  {
   "cell_type": "code",
   "execution_count": 5,
   "metadata": {
    "collapsed": false
   },
   "outputs": [
    {
     "data": {
      "text/plain": [
       "LinearRegression(copy_X=True, fit_intercept=True, n_jobs=1, normalize=False)"
      ]
     },
     "execution_count": 5,
     "metadata": {},
     "output_type": "execute_result"
    }
   ],
   "source": [
    "from sklearn.linear_model import LinearRegression\n",
    "\n",
    "X = advertising.loc[:, :'Newspaper']\n",
    "y = advertising.Sales\n",
    "\n",
    "lr = LinearRegression()\n",
    "lr.fit(X, y)"
   ]
  },
  {
   "cell_type": "code",
   "execution_count": 6,
   "metadata": {
    "collapsed": false
   },
   "outputs": [
    {
     "data": {
      "text/html": [
       "<div>\n",
       "<style>\n",
       "    .dataframe thead tr:only-child th {\n",
       "        text-align: right;\n",
       "    }\n",
       "\n",
       "    .dataframe thead th {\n",
       "        text-align: left;\n",
       "    }\n",
       "\n",
       "    .dataframe tbody tr th {\n",
       "        vertical-align: top;\n",
       "    }\n",
       "</style>\n",
       "<table border=\"1\" class=\"dataframe\">\n",
       "  <thead>\n",
       "    <tr style=\"text-align: right;\">\n",
       "      <th></th>\n",
       "      <th>TV</th>\n",
       "      <th>Radio</th>\n",
       "      <th>Newspaper</th>\n",
       "    </tr>\n",
       "  </thead>\n",
       "  <tbody>\n",
       "    <tr>\n",
       "      <th>0</th>\n",
       "      <td>230.1</td>\n",
       "      <td>37.8</td>\n",
       "      <td>69.2</td>\n",
       "    </tr>\n",
       "    <tr>\n",
       "      <th>1</th>\n",
       "      <td>44.5</td>\n",
       "      <td>39.3</td>\n",
       "      <td>45.1</td>\n",
       "    </tr>\n",
       "    <tr>\n",
       "      <th>2</th>\n",
       "      <td>17.2</td>\n",
       "      <td>45.9</td>\n",
       "      <td>69.3</td>\n",
       "    </tr>\n",
       "    <tr>\n",
       "      <th>3</th>\n",
       "      <td>151.5</td>\n",
       "      <td>41.3</td>\n",
       "      <td>58.5</td>\n",
       "    </tr>\n",
       "  </tbody>\n",
       "</table>\n",
       "</div>"
      ],
      "text/plain": [
       "      TV  Radio  Newspaper\n",
       "0  230.1   37.8       69.2\n",
       "1   44.5   39.3       45.1\n",
       "2   17.2   45.9       69.3\n",
       "3  151.5   41.3       58.5"
      ]
     },
     "execution_count": 6,
     "metadata": {},
     "output_type": "execute_result"
    }
   ],
   "source": [
    "X.head(4)"
   ]
  },
  {
   "cell_type": "code",
   "execution_count": 7,
   "metadata": {
    "collapsed": false
   },
   "outputs": [
    {
     "name": "stdout",
     "output_type": "stream",
     "text": [
      "The MAE is: 1.25\n",
      "The MSE is: 2.78\n",
      "The RMSE is: 1.67\n"
     ]
    }
   ],
   "source": [
    "# MAE, MSE, RMSE 수작업 계산 \n",
    "y_hat = lr.predict(X)   # y_hat : estimated(predicted) y \n",
    "errors = y - y_hat\n",
    "MAE = np.absolute(errors).mean()\n",
    "MSE = np.square(errors).mean()\n",
    "RMSE = np.sqrt(MSE)\n",
    "\n",
    "print (\"The MAE is: {:.3}\".format(MAE) )  \n",
    "print (\"The MSE is: {:.3}\".format(MSE) )\n",
    "print (\"The RMSE is: {:.3}\".format(RMSE) )"
   ]
  },
  {
   "cell_type": "markdown",
   "metadata": {},
   "source": [
    "### scikit-learn의 metrics 모듈을 이용하여 MAE, MSE, RMSE 계산 : "
   ]
  },
  {
   "cell_type": "code",
   "execution_count": 8,
   "metadata": {
    "collapsed": false
   },
   "outputs": [
    {
     "name": "stdout",
     "output_type": "stream",
     "text": [
      "The MAE is: 1.25\n",
      "The MSE is: 2.78\n",
      "The RMSE is: 1.67\n"
     ]
    }
   ],
   "source": [
    "from sklearn import metrics\n",
    "print (\"The MAE is: %.2f\" % ( metrics.mean_absolute_error(y, y_hat) )  )  # (True, Predict) 순서  \n",
    "print (\"The MSE is: {:.3}\".format( metrics.mean_squared_error(y, y_hat) )  )\n",
    "print (\"The RMSE is: {:.3}\".format( np.sqrt( metrics.mean_squared_error(y, y_hat)))) # metrics 모듈이 RSME 직접 제공 안함 "
   ]
  },
  {
   "cell_type": "markdown",
   "metadata": {},
   "source": [
    "### statsmodels Linear Regression 복습 :"
   ]
  },
  {
   "cell_type": "code",
   "execution_count": 9,
   "metadata": {
    "collapsed": false
   },
   "outputs": [
    {
     "name": "stdout",
     "output_type": "stream",
     "text": [
      "The MAE is: 1.25\n",
      "The MSE is: 2.78\n",
      "The RMSE is: 1.67\n"
     ]
    }
   ],
   "source": [
    "lr_stats = smf.ols(formula='Sales ~ TV + Radio + Newspaper', data=advertising).fit()\n",
    "print (\"The MAE is: {:.3}\".format( metrics.mean_absolute_error(y, lr_stats.predict(X)) )  )  # (True, Predict) 순서  \n",
    "print (\"The MSE is: {:.3}\".format( metrics.mean_squared_error(y, lr_stats.predict(X)) )  )\n",
    "print (\"The RMSE is: {:.3}\".format( np.sqrt( metrics.mean_squared_error(y, lr_stats.predict(X)))))"
   ]
  },
  {
   "cell_type": "markdown",
   "metadata": {},
   "source": [
    "# [KNN regression](http://scikit-learn.org/stable/modules/generated/sklearn.neighbors.KNeighborsRegressor.html#sklearn.neighbors.KNeighborsRegressor)\n",
    "- ISLR. 3장 후반부 참고\n",
    "- KNN regression의 predicted response는 predict 하려는 샘플에서 가장 가까운 K 이웃 response 들의 평균 \n",
    "- Non-parametric 모델"
   ]
  },
  {
   "cell_type": "markdown",
   "metadata": {},
   "source": [
    "### Import, Instantiate, fit, predict\n",
    "- 데이터로 앞의 linear regression에서 쓴 'advertising' 을 사용 "
   ]
  },
  {
   "cell_type": "code",
   "execution_count": 10,
   "metadata": {
    "collapsed": false
   },
   "outputs": [
    {
     "data": {
      "text/plain": [
       "KNeighborsRegressor(algorithm='auto', leaf_size=30, metric='minkowski',\n",
       "          metric_params=None, n_jobs=-1, n_neighbors=5, p=2,\n",
       "          weights='uniform')"
      ]
     },
     "execution_count": 10,
     "metadata": {},
     "output_type": "execute_result"
    }
   ],
   "source": [
    "from sklearn.neighbors import KNeighborsRegressor\n",
    "knn_reg = KNeighborsRegressor(n_neighbors=5, n_jobs= -1)  # n_neighbors : K \n",
    "knn_reg.fit(X, y)"
   ]
  },
  {
   "cell_type": "markdown",
   "metadata": {},
   "source": [
    "### advertising 데이터에 대한 knn-regressor의 Training Performance : K=5"
   ]
  },
  {
   "cell_type": "code",
   "execution_count": 11,
   "metadata": {
    "collapsed": false
   },
   "outputs": [
    {
     "name": "stdout",
     "output_type": "stream",
     "text": [
      "The MAE (KNN, K=5) is: 0.803\n",
      "The MSE (KNN, K=5) is: 1.27\n",
      "The RMSE (KNN, K=5) is: 1.13\n"
     ]
    }
   ],
   "source": [
    "y_hat = knn_reg.predict(X)    # training performance\n",
    "print (\"The MAE (KNN, K=5) is: {:.3}\".format( metrics.mean_absolute_error(y, y_hat) )  )  # (True, Predict) 순서  \n",
    "print (\"The MSE (KNN, K=5) is: {:.3}\".format( metrics.mean_squared_error(y, y_hat) )  )\n",
    "print (\"The RMSE (KNN, K=5) is: {:.3}\".format( np.sqrt( metrics.mean_squared_error(y, y_hat)))) # metrics 모듈이 RSME 직접 제공 안함 "
   ]
  },
  {
   "cell_type": "markdown",
   "metadata": {},
   "source": [
    "### advertising 데이터에 대한 knn-regressor의 Training Performance : K=3"
   ]
  },
  {
   "cell_type": "code",
   "execution_count": 12,
   "metadata": {
    "collapsed": false
   },
   "outputs": [
    {
     "name": "stdout",
     "output_type": "stream",
     "text": [
      "The MAE (KNN, K=3) is: 0.671\n",
      "The MSE (KNN, K=3) is: 0.866\n",
      "The RMSE (KNN, K=3) is: 0.931\n"
     ]
    }
   ],
   "source": [
    "knn_reg = KNeighborsRegressor(n_neighbors=3, n_jobs= -1)  # n_neighbors : K = 3 \n",
    "knn_reg.fit(X, y)\n",
    "y_hat = knn_reg.predict(X)\n",
    "print (\"The MAE (KNN, K=3) is: {:.3}\".format( metrics.mean_absolute_error(y, y_hat) )  )  # (True, Predict) 순서  \n",
    "print (\"The MSE (KNN, K=3) is: {:.3}\".format( metrics.mean_squared_error(y, y_hat) )  )\n",
    "print (\"The RMSE (KNN, K=3) is: {:.3}\".format( np.sqrt( metrics.mean_squared_error(y, y_hat)))) # metrics 모듈이 RSME 직접 제공 안함 "
   ]
  },
  {
   "cell_type": "markdown",
   "metadata": {},
   "source": [
    "### advertising 데이터에 대한 knn-regressor의 Training Performance : K=11"
   ]
  },
  {
   "cell_type": "code",
   "execution_count": 13,
   "metadata": {
    "collapsed": false
   },
   "outputs": [
    {
     "name": "stdout",
     "output_type": "stream",
     "text": [
      "The MAE (KNN, K=11) is: 1.1\n",
      "The MSE (KNN, K=11) is: 2.25\n",
      "The RMSE (KNN, K=11) is: 1.5\n"
     ]
    }
   ],
   "source": [
    "knn_reg = KNeighborsRegressor(n_neighbors=11, n_jobs= -1)  \n",
    "knn_reg.fit(X, y)\n",
    "y_hat = knn_reg.predict(X)\n",
    "print (\"The MAE (KNN, K=11) is: {:.3}\".format( metrics.mean_absolute_error(y, y_hat) )  )  # (True, Predict) 순서  \n",
    "print (\"The MSE (KNN, K=11) is: {:.3}\".format( metrics.mean_squared_error(y, y_hat) )  )\n",
    "print (\"The RMSE (KNN, K=11) is: {:.3}\".format( np.sqrt( metrics.mean_squared_error(y, y_hat)))) # metrics 모듈이 RSME 직접 제공 안함 "
   ]
  },
  {
   "cell_type": "markdown",
   "metadata": {},
   "source": [
    "#### KNN Regressor의 Training Performance는 K가 작을수록 좋다 (MAE/RMSE 값이 작아진다) \n",
    "- 앞의 linear regression과 RMSE로 비교하면, KNN regressor가 K=3 일 경우에 0.931, Linear Regression은 1.67. \n",
    "- K=11이면 그리 high-variance가 아닐 것 같아 Test performance도 괜찮을 것 같아 보이기에 이 advertising 데이터에 대해선 KNN-regressor가 Linear Regressor 보다 나아 보이는 것 같은데...  정말 그럴까? "
   ]
  },
  {
   "cell_type": "markdown",
   "metadata": {
    "collapsed": true
   },
   "source": [
    "# [KNN-Classifier](http://scikit-learn.org/stable/modules/generated/sklearn.neighbors.KNeighborsClassifier.html#sklearn.neighbors.KNeighborsClassifier)\n",
    "- scikit-learn 라이브러리를 이용한 KNN Classification\n",
    "- ISLR 4.6.6 An Application to Caravan Insurance Data를 분석 대상으로 삼음\n",
    "- Confusion matrix, ROC, AUC 등 일반적인 Classification Performance metric들을 익힌다"
   ]
  },
  {
   "cell_type": "markdown",
   "metadata": {},
   "source": [
    "### 4.6.6 An Application to Caravan Insurance Data"
   ]
  },
  {
   "cell_type": "markdown",
   "metadata": {},
   "source": [
    "### [Caravan 데이터](http://liacs.leidenuniv.nl/~puttenpwhvander/library/cc2000/data.html) :\n",
    "The data contains 5822 real customer records. Each record consists of 86 variables, containing sociodemographic data (variables 1-43) and product ownership (variables 44-86). The sociodemographic data is derived from zip codes. All customers living in areas with the same zip code have the same sociodemographic attributes. The **response Variable 86 (Purchase)** indicates whether the customer purchased a caravan insurance policy. In this data set, only 6 % of people purchased caravan insurance. Further information on the individual variables can be obtained at http://www.liacs.nl/~putten/library/cc2000/data.html\n",
    "### 목표 : 고객들의 인구사회적 데이터를 분석해 보험에 가입할 지를 예측"
   ]
  },
  {
   "cell_type": "code",
   "execution_count": 14,
   "metadata": {
    "collapsed": true
   },
   "outputs": [],
   "source": [
    "Caravan = pd.read_csv('../Data/Caravan.csv', index_col=0)"
   ]
  },
  {
   "cell_type": "code",
   "execution_count": 15,
   "metadata": {
    "collapsed": false
   },
   "outputs": [
    {
     "data": {
      "text/plain": [
       "(5822, 86)"
      ]
     },
     "execution_count": 15,
     "metadata": {},
     "output_type": "execute_result"
    }
   ],
   "source": [
    "Caravan.shape"
   ]
  },
  {
   "cell_type": "code",
   "execution_count": 16,
   "metadata": {
    "collapsed": false
   },
   "outputs": [
    {
     "data": {
      "text/html": [
       "<div>\n",
       "<style>\n",
       "    .dataframe thead tr:only-child th {\n",
       "        text-align: right;\n",
       "    }\n",
       "\n",
       "    .dataframe thead th {\n",
       "        text-align: left;\n",
       "    }\n",
       "\n",
       "    .dataframe tbody tr th {\n",
       "        vertical-align: top;\n",
       "    }\n",
       "</style>\n",
       "<table border=\"1\" class=\"dataframe\">\n",
       "  <thead>\n",
       "    <tr style=\"text-align: right;\">\n",
       "      <th></th>\n",
       "      <th>MOSTYPE</th>\n",
       "      <th>MAANTHUI</th>\n",
       "      <th>MGEMOMV</th>\n",
       "      <th>MGEMLEEF</th>\n",
       "      <th>MOSHOOFD</th>\n",
       "      <th>MGODRK</th>\n",
       "      <th>MGODPR</th>\n",
       "      <th>MGODOV</th>\n",
       "      <th>MGODGE</th>\n",
       "      <th>MRELGE</th>\n",
       "      <th>...</th>\n",
       "      <th>APERSONG</th>\n",
       "      <th>AGEZONG</th>\n",
       "      <th>AWAOREG</th>\n",
       "      <th>ABRAND</th>\n",
       "      <th>AZEILPL</th>\n",
       "      <th>APLEZIER</th>\n",
       "      <th>AFIETS</th>\n",
       "      <th>AINBOED</th>\n",
       "      <th>ABYSTAND</th>\n",
       "      <th>Purchase</th>\n",
       "    </tr>\n",
       "  </thead>\n",
       "  <tbody>\n",
       "    <tr>\n",
       "      <th>5818</th>\n",
       "      <td>36</td>\n",
       "      <td>1</td>\n",
       "      <td>1</td>\n",
       "      <td>2</td>\n",
       "      <td>8</td>\n",
       "      <td>0</td>\n",
       "      <td>6</td>\n",
       "      <td>1</td>\n",
       "      <td>2</td>\n",
       "      <td>1</td>\n",
       "      <td>...</td>\n",
       "      <td>0</td>\n",
       "      <td>0</td>\n",
       "      <td>0</td>\n",
       "      <td>1</td>\n",
       "      <td>0</td>\n",
       "      <td>0</td>\n",
       "      <td>0</td>\n",
       "      <td>0</td>\n",
       "      <td>0</td>\n",
       "      <td>No</td>\n",
       "    </tr>\n",
       "    <tr>\n",
       "      <th>5819</th>\n",
       "      <td>35</td>\n",
       "      <td>1</td>\n",
       "      <td>4</td>\n",
       "      <td>4</td>\n",
       "      <td>8</td>\n",
       "      <td>1</td>\n",
       "      <td>4</td>\n",
       "      <td>1</td>\n",
       "      <td>4</td>\n",
       "      <td>6</td>\n",
       "      <td>...</td>\n",
       "      <td>0</td>\n",
       "      <td>0</td>\n",
       "      <td>0</td>\n",
       "      <td>1</td>\n",
       "      <td>0</td>\n",
       "      <td>0</td>\n",
       "      <td>0</td>\n",
       "      <td>0</td>\n",
       "      <td>0</td>\n",
       "      <td>No</td>\n",
       "    </tr>\n",
       "    <tr>\n",
       "      <th>5820</th>\n",
       "      <td>33</td>\n",
       "      <td>1</td>\n",
       "      <td>3</td>\n",
       "      <td>4</td>\n",
       "      <td>8</td>\n",
       "      <td>0</td>\n",
       "      <td>6</td>\n",
       "      <td>0</td>\n",
       "      <td>3</td>\n",
       "      <td>5</td>\n",
       "      <td>...</td>\n",
       "      <td>0</td>\n",
       "      <td>0</td>\n",
       "      <td>0</td>\n",
       "      <td>1</td>\n",
       "      <td>0</td>\n",
       "      <td>0</td>\n",
       "      <td>0</td>\n",
       "      <td>0</td>\n",
       "      <td>0</td>\n",
       "      <td>Yes</td>\n",
       "    </tr>\n",
       "    <tr>\n",
       "      <th>5821</th>\n",
       "      <td>34</td>\n",
       "      <td>1</td>\n",
       "      <td>3</td>\n",
       "      <td>2</td>\n",
       "      <td>8</td>\n",
       "      <td>0</td>\n",
       "      <td>7</td>\n",
       "      <td>0</td>\n",
       "      <td>2</td>\n",
       "      <td>7</td>\n",
       "      <td>...</td>\n",
       "      <td>0</td>\n",
       "      <td>0</td>\n",
       "      <td>0</td>\n",
       "      <td>0</td>\n",
       "      <td>0</td>\n",
       "      <td>0</td>\n",
       "      <td>0</td>\n",
       "      <td>0</td>\n",
       "      <td>0</td>\n",
       "      <td>No</td>\n",
       "    </tr>\n",
       "    <tr>\n",
       "      <th>5822</th>\n",
       "      <td>33</td>\n",
       "      <td>1</td>\n",
       "      <td>3</td>\n",
       "      <td>3</td>\n",
       "      <td>8</td>\n",
       "      <td>0</td>\n",
       "      <td>6</td>\n",
       "      <td>1</td>\n",
       "      <td>2</td>\n",
       "      <td>7</td>\n",
       "      <td>...</td>\n",
       "      <td>0</td>\n",
       "      <td>0</td>\n",
       "      <td>0</td>\n",
       "      <td>0</td>\n",
       "      <td>0</td>\n",
       "      <td>0</td>\n",
       "      <td>0</td>\n",
       "      <td>0</td>\n",
       "      <td>0</td>\n",
       "      <td>No</td>\n",
       "    </tr>\n",
       "  </tbody>\n",
       "</table>\n",
       "<p>5 rows × 86 columns</p>\n",
       "</div>"
      ],
      "text/plain": [
       "      MOSTYPE  MAANTHUI  MGEMOMV  MGEMLEEF  MOSHOOFD  MGODRK  MGODPR  MGODOV  \\\n",
       "5818       36         1        1         2         8       0       6       1   \n",
       "5819       35         1        4         4         8       1       4       1   \n",
       "5820       33         1        3         4         8       0       6       0   \n",
       "5821       34         1        3         2         8       0       7       0   \n",
       "5822       33         1        3         3         8       0       6       1   \n",
       "\n",
       "      MGODGE  MRELGE    ...     APERSONG  AGEZONG  AWAOREG  ABRAND  AZEILPL  \\\n",
       "5818       2       1    ...            0        0        0       1        0   \n",
       "5819       4       6    ...            0        0        0       1        0   \n",
       "5820       3       5    ...            0        0        0       1        0   \n",
       "5821       2       7    ...            0        0        0       0        0   \n",
       "5822       2       7    ...            0        0        0       0        0   \n",
       "\n",
       "      APLEZIER  AFIETS  AINBOED  ABYSTAND  Purchase  \n",
       "5818         0       0        0         0        No  \n",
       "5819         0       0        0         0        No  \n",
       "5820         0       0        0         0       Yes  \n",
       "5821         0       0        0         0        No  \n",
       "5822         0       0        0         0        No  \n",
       "\n",
       "[5 rows x 86 columns]"
      ]
     },
     "execution_count": 16,
     "metadata": {},
     "output_type": "execute_result"
    }
   ],
   "source": [
    "# Caravan.info()\n",
    "Caravan.tail()"
   ]
  },
  {
   "cell_type": "code",
   "execution_count": 17,
   "metadata": {
    "collapsed": false
   },
   "outputs": [
    {
     "data": {
      "text/plain": [
       "No     5474\n",
       "Yes     348\n",
       "Name: Purchase, dtype: int64"
      ]
     },
     "execution_count": 17,
     "metadata": {},
     "output_type": "execute_result"
    }
   ],
   "source": [
    "Caravan.Purchase.value_counts()"
   ]
  },
  {
   "cell_type": "markdown",
   "metadata": {},
   "source": [
    "### Import the KNN Classifier "
   ]
  },
  {
   "cell_type": "code",
   "execution_count": 18,
   "metadata": {
    "collapsed": true
   },
   "outputs": [],
   "source": [
    "from sklearn.neighbors import KNeighborsClassifier"
   ]
  },
  {
   "cell_type": "code",
   "execution_count": 19,
   "metadata": {
    "collapsed": true
   },
   "outputs": [],
   "source": [
    "X = Caravan.drop(['Purchase'], axis=1)\n",
    "y = Caravan.Purchase"
   ]
  },
  {
   "cell_type": "markdown",
   "metadata": {},
   "source": [
    "#### [Standardize the X](http://scikit-learn.org/stable/modules/preprocessing.html)"
   ]
  },
  {
   "cell_type": "code",
   "execution_count": 20,
   "metadata": {
    "collapsed": false,
    "scrolled": true
   },
   "outputs": [
    {
     "data": {
      "text/plain": [
       "array([ 1.,  1.,  1.,  1.,  1.,  1.,  1.,  1.,  1.,  1.,  1.,  1.,  1.,\n",
       "        1.,  1.,  1.,  1.,  1.,  1.,  1.,  1.,  1.,  1.,  1.,  1.,  1.,\n",
       "        1.,  1.,  1.,  1.,  1.,  1.,  1.,  1.,  1.,  1.,  1.,  1.,  1.,\n",
       "        1.,  1.,  1.,  1.,  1.,  1.,  1.,  1.,  1.,  1.,  1.,  1.,  1.,\n",
       "        1.,  1.,  1.,  1.,  1.,  1.,  1.,  1.,  1.,  1.,  1.,  1.,  1.,\n",
       "        1.,  1.,  1.,  1.,  1.,  1.,  1.,  1.,  1.,  1.,  1.,  1.,  1.,\n",
       "        1.,  1.,  1.,  1.,  1.,  1.,  1.])"
      ]
     },
     "execution_count": 20,
     "metadata": {},
     "output_type": "execute_result"
    }
   ],
   "source": [
    "from sklearn import preprocessing \n",
    "X_scaled = preprocessing.scale(X) \n",
    "X_scaled.std(axis=0)     # 확인 "
   ]
  },
  {
   "cell_type": "code",
   "execution_count": 21,
   "metadata": {
    "collapsed": false
   },
   "outputs": [
    {
     "data": {
      "text/html": [
       "<div>\n",
       "<style>\n",
       "    .dataframe thead tr:only-child th {\n",
       "        text-align: right;\n",
       "    }\n",
       "\n",
       "    .dataframe thead th {\n",
       "        text-align: left;\n",
       "    }\n",
       "\n",
       "    .dataframe tbody tr th {\n",
       "        vertical-align: top;\n",
       "    }\n",
       "</style>\n",
       "<table border=\"1\" class=\"dataframe\">\n",
       "  <thead>\n",
       "    <tr style=\"text-align: right;\">\n",
       "      <th></th>\n",
       "      <th>MOSTYPE</th>\n",
       "      <th>MAANTHUI</th>\n",
       "      <th>MGEMOMV</th>\n",
       "      <th>MGEMLEEF</th>\n",
       "      <th>MOSHOOFD</th>\n",
       "      <th>MGODRK</th>\n",
       "      <th>MGODPR</th>\n",
       "      <th>MGODOV</th>\n",
       "      <th>MGODGE</th>\n",
       "      <th>MRELGE</th>\n",
       "      <th>...</th>\n",
       "      <th>ALEVEN</th>\n",
       "      <th>APERSONG</th>\n",
       "      <th>AGEZONG</th>\n",
       "      <th>AWAOREG</th>\n",
       "      <th>ABRAND</th>\n",
       "      <th>AZEILPL</th>\n",
       "      <th>APLEZIER</th>\n",
       "      <th>AFIETS</th>\n",
       "      <th>AINBOED</th>\n",
       "      <th>ABYSTAND</th>\n",
       "    </tr>\n",
       "  </thead>\n",
       "  <tbody>\n",
       "    <tr>\n",
       "      <th>0</th>\n",
       "      <td>0.680906</td>\n",
       "      <td>-0.27258</td>\n",
       "      <td>0.406697</td>\n",
       "      <td>-1.216964</td>\n",
       "      <td>0.779405</td>\n",
       "      <td>-0.694311</td>\n",
       "      <td>0.217444</td>\n",
       "      <td>-0.068711</td>\n",
       "      <td>-0.161816</td>\n",
       "      <td>0.427670</td>\n",
       "      <td>...</td>\n",
       "      <td>-0.20291</td>\n",
       "      <td>-0.073165</td>\n",
       "      <td>-0.081055</td>\n",
       "      <td>-0.05992</td>\n",
       "      <td>0.764971</td>\n",
       "      <td>-0.022706</td>\n",
       "      <td>-0.07365</td>\n",
       "      <td>-0.15062</td>\n",
       "      <td>-0.087348</td>\n",
       "      <td>-0.118816</td>\n",
       "    </tr>\n",
       "    <tr>\n",
       "      <th>1</th>\n",
       "      <td>0.992297</td>\n",
       "      <td>-0.27258</td>\n",
       "      <td>-0.859500</td>\n",
       "      <td>-1.216964</td>\n",
       "      <td>0.779405</td>\n",
       "      <td>0.302552</td>\n",
       "      <td>-0.365410</td>\n",
       "      <td>-0.068711</td>\n",
       "      <td>0.464159</td>\n",
       "      <td>-0.096077</td>\n",
       "      <td>...</td>\n",
       "      <td>-0.20291</td>\n",
       "      <td>-0.073165</td>\n",
       "      <td>-0.081055</td>\n",
       "      <td>-0.05992</td>\n",
       "      <td>0.764971</td>\n",
       "      <td>-0.022706</td>\n",
       "      <td>-0.07365</td>\n",
       "      <td>-0.15062</td>\n",
       "      <td>-0.087348</td>\n",
       "      <td>-0.118816</td>\n",
       "    </tr>\n",
       "    <tr>\n",
       "      <th>2</th>\n",
       "      <td>0.992297</td>\n",
       "      <td>-0.27258</td>\n",
       "      <td>-0.859500</td>\n",
       "      <td>-1.216964</td>\n",
       "      <td>0.779405</td>\n",
       "      <td>-0.694311</td>\n",
       "      <td>-0.365410</td>\n",
       "      <td>0.914172</td>\n",
       "      <td>0.464159</td>\n",
       "      <td>-1.667319</td>\n",
       "      <td>...</td>\n",
       "      <td>-0.20291</td>\n",
       "      <td>-0.073165</td>\n",
       "      <td>-0.081055</td>\n",
       "      <td>-0.05992</td>\n",
       "      <td>0.764971</td>\n",
       "      <td>-0.022706</td>\n",
       "      <td>-0.07365</td>\n",
       "      <td>-0.15062</td>\n",
       "      <td>-0.087348</td>\n",
       "      <td>-0.118816</td>\n",
       "    </tr>\n",
       "    <tr>\n",
       "      <th>3</th>\n",
       "      <td>-1.187437</td>\n",
       "      <td>-0.27258</td>\n",
       "      <td>0.406697</td>\n",
       "      <td>0.010755</td>\n",
       "      <td>-0.970980</td>\n",
       "      <td>1.299414</td>\n",
       "      <td>-0.948264</td>\n",
       "      <td>0.914172</td>\n",
       "      <td>0.464159</td>\n",
       "      <td>-0.619824</td>\n",
       "      <td>...</td>\n",
       "      <td>-0.20291</td>\n",
       "      <td>-0.073165</td>\n",
       "      <td>-0.081055</td>\n",
       "      <td>-0.05992</td>\n",
       "      <td>0.764971</td>\n",
       "      <td>-0.022706</td>\n",
       "      <td>-0.07365</td>\n",
       "      <td>-0.15062</td>\n",
       "      <td>-0.087348</td>\n",
       "      <td>-0.118816</td>\n",
       "    </tr>\n",
       "    <tr>\n",
       "      <th>4</th>\n",
       "      <td>1.225840</td>\n",
       "      <td>-0.27258</td>\n",
       "      <td>1.672893</td>\n",
       "      <td>-1.216964</td>\n",
       "      <td>1.479559</td>\n",
       "      <td>0.302552</td>\n",
       "      <td>-0.365410</td>\n",
       "      <td>-0.068711</td>\n",
       "      <td>0.464159</td>\n",
       "      <td>0.427670</td>\n",
       "      <td>...</td>\n",
       "      <td>-0.20291</td>\n",
       "      <td>-0.073165</td>\n",
       "      <td>-0.081055</td>\n",
       "      <td>-0.05992</td>\n",
       "      <td>0.764971</td>\n",
       "      <td>-0.022706</td>\n",
       "      <td>-0.07365</td>\n",
       "      <td>-0.15062</td>\n",
       "      <td>-0.087348</td>\n",
       "      <td>-0.118816</td>\n",
       "    </tr>\n",
       "  </tbody>\n",
       "</table>\n",
       "<p>5 rows × 85 columns</p>\n",
       "</div>"
      ],
      "text/plain": [
       "    MOSTYPE  MAANTHUI   MGEMOMV  MGEMLEEF  MOSHOOFD    MGODRK    MGODPR  \\\n",
       "0  0.680906  -0.27258  0.406697 -1.216964  0.779405 -0.694311  0.217444   \n",
       "1  0.992297  -0.27258 -0.859500 -1.216964  0.779405  0.302552 -0.365410   \n",
       "2  0.992297  -0.27258 -0.859500 -1.216964  0.779405 -0.694311 -0.365410   \n",
       "3 -1.187437  -0.27258  0.406697  0.010755 -0.970980  1.299414 -0.948264   \n",
       "4  1.225840  -0.27258  1.672893 -1.216964  1.479559  0.302552 -0.365410   \n",
       "\n",
       "     MGODOV    MGODGE    MRELGE    ...      ALEVEN  APERSONG   AGEZONG  \\\n",
       "0 -0.068711 -0.161816  0.427670    ...    -0.20291 -0.073165 -0.081055   \n",
       "1 -0.068711  0.464159 -0.096077    ...    -0.20291 -0.073165 -0.081055   \n",
       "2  0.914172  0.464159 -1.667319    ...    -0.20291 -0.073165 -0.081055   \n",
       "3  0.914172  0.464159 -0.619824    ...    -0.20291 -0.073165 -0.081055   \n",
       "4 -0.068711  0.464159  0.427670    ...    -0.20291 -0.073165 -0.081055   \n",
       "\n",
       "   AWAOREG    ABRAND   AZEILPL  APLEZIER   AFIETS   AINBOED  ABYSTAND  \n",
       "0 -0.05992  0.764971 -0.022706  -0.07365 -0.15062 -0.087348 -0.118816  \n",
       "1 -0.05992  0.764971 -0.022706  -0.07365 -0.15062 -0.087348 -0.118816  \n",
       "2 -0.05992  0.764971 -0.022706  -0.07365 -0.15062 -0.087348 -0.118816  \n",
       "3 -0.05992  0.764971 -0.022706  -0.07365 -0.15062 -0.087348 -0.118816  \n",
       "4 -0.05992  0.764971 -0.022706  -0.07365 -0.15062 -0.087348 -0.118816  \n",
       "\n",
       "[5 rows x 85 columns]"
      ]
     },
     "execution_count": 21,
     "metadata": {},
     "output_type": "execute_result"
    }
   ],
   "source": [
    "pd.DataFrame(X_scaled, columns=X.columns).head()"
   ]
  },
  {
   "cell_type": "code",
   "execution_count": 22,
   "metadata": {
    "collapsed": false
   },
   "outputs": [],
   "source": [
    "# Train/Test Split 방법으로 성능 평가. Split 방법은 ISLR 내용대로 \n",
    "# from sklearn.cross_validation import train_test_split\n",
    "# Response인 y를 dummy encoding 하지 않았음.  \n",
    "X_train = X_scaled[1000:,:]\n",
    "y_train = y[1000:]\n",
    "\n",
    "X_test = X_scaled[:1000,:]\n",
    "y_test = y[:1000]"
   ]
  },
  {
   "cell_type": "code",
   "execution_count": 23,
   "metadata": {
    "collapsed": false
   },
   "outputs": [
    {
     "name": "stdout",
     "output_type": "stream",
     "text": [
      "Test set error rate:  0.118\n"
     ]
    }
   ],
   "source": [
    "knn = KNeighborsClassifier(n_neighbors=1)   # K=1\n",
    "knn.fit(X_train, y_train)\n",
    "\n",
    "y_pred = knn.predict(X_test)   # returns class label \n",
    "print(\"Test set error rate: \", (y_test != y_pred).mean() )    # manual calculatin"
   ]
  },
  {
   "cell_type": "markdown",
   "metadata": {},
   "source": [
    "***Baseline accuracy/error_rate 계산:*** sample들의 response label 중에서 최대 다수의 label을 택했을 때의 경우이니, training set response 중에 최대 다수의 label을 보고 그 것을 택할 경우에 test set 에 대해 얼마나 맞추었는 지 보면 됨"
   ]
  },
  {
   "cell_type": "code",
   "execution_count": 24,
   "metadata": {
    "collapsed": false
   },
   "outputs": [
    {
     "name": "stdout",
     "output_type": "stream",
     "text": [
      "Test set baseline error rate = 0.059,  with the label = 'No'\n"
     ]
    }
   ],
   "source": [
    "def get_baseline_accuray(y_train, y_test):   # returns (baseline accuracy, label) tuple  \n",
    "    majority_label = y_train.value_counts().idxmax()\n",
    "    baseline_acc = y_test.value_counts()[ majority_label ] / len(y_test)\n",
    "    return((baseline_acc, majority_label))\n",
    "\n",
    "print(\"Test set baseline error rate = %s,  with the label = \\'%s\\'\" % \n",
    "      (1 - get_baseline_accuray(y_train, y_test)[0], get_baseline_accuray(y_train, y_test)[1]))"
   ]
  },
  {
   "cell_type": "markdown",
   "metadata": {},
   "source": [
    "**Confusion Matrix와 [Classification Metrics](http://scikit-learn.org/stable/modules/model_evaluation.html#precision-recall-and-f-measures)** : KNN Classifier, K=1"
   ]
  },
  {
   "cell_type": "code",
   "execution_count": 25,
   "metadata": {
    "collapsed": false
   },
   "outputs": [
    {
     "name": "stdout",
     "output_type": "stream",
     "text": [
      "[[873  68]\n",
      " [ 50   9]]\n"
     ]
    }
   ],
   "source": [
    "conf_mat = metrics.confusion_matrix(y_test, y_pred)   # argument 순이 (True, Predicted)  \n",
    "print(conf_mat)"
   ]
  },
  {
   "cell_type": "code",
   "execution_count": 26,
   "metadata": {
    "collapsed": false
   },
   "outputs": [
    {
     "name": "stdout",
     "output_type": "stream",
     "text": [
      "Accuracy:  0.882\n",
      "Sensitivity:  0.152542372881\n",
      "Precision:  0.116883116883\n",
      "False Positive Rate:  0.0722635494155\n"
     ]
    }
   ],
   "source": [
    "TP = conf_mat[1,1]\n",
    "TN = conf_mat[0,0]\n",
    "FP = conf_mat[0,1]\n",
    "FN = conf_mat[1,0]\n",
    "\n",
    "print(\"Accuracy: \", (TP+TN) / (TP+TN+FP+FN) )\n",
    "print(\"Sensitivity: \",  TP / (FN + TP) )\n",
    "print(\"Precision: \",  TP / (FP + TP) )\n",
    "print(\"False Positive Rate: \",  FP / (FP + TN) )\n",
    "\n",
    "# metrics function 을 사용할 수도 있음\n",
    "# print(\"Accuracy: \", metrics.accuracy_score(y_test, y_pred))\n",
    "# print(\"Sensitivity: \", metrics.recall_score(y_test, y_pred) )\n",
    "# print(\"Precision: \", metrics.precision_score(y_test, y_pred) )"
   ]
  },
  {
   "cell_type": "markdown",
   "metadata": {},
   "source": [
    "**Confusion Matrix** : KNN, K=5"
   ]
  },
  {
   "cell_type": "code",
   "execution_count": 27,
   "metadata": {
    "collapsed": false
   },
   "outputs": [
    {
     "name": "stdout",
     "output_type": "stream",
     "text": [
      "[[930  11]\n",
      " [ 55   4]]\n",
      "Accuracy:  0.934\n",
      "Sensitivity:  0.0677966101695\n",
      "Precision:  0.266666666667\n",
      "False Positive Rate:  0.0116896918172\n"
     ]
    }
   ],
   "source": [
    "knn = KNeighborsClassifier(n_neighbors=5)   # K=5\n",
    "knn.fit(X_train, y_train)\n",
    "y_pred = knn.predict(X_test)\n",
    "conf_mat = metrics.confusion_matrix(y_test, y_pred)\n",
    "print(conf_mat)\n",
    "TP = conf_mat[1,1]\n",
    "TN = conf_mat[0,0]\n",
    "FP = conf_mat[0,1]\n",
    "FN = conf_mat[1,0]\n",
    "print(\"Accuracy: \", (TP+TN) / (TP+TN+FP+FN) )\n",
    "print(\"Sensitivity: \",  TP / (FN + TP) )\n",
    "print(\"Precision: \",  TP / (FP + TP) )\n",
    "print(\"False Positive Rate: \",  FP / (FP + TN) )"
   ]
  },
  {
   "cell_type": "markdown",
   "metadata": {},
   "source": [
    "### K를 변화시키면서 precision이 어떻게 변하는지 보자"
   ]
  },
  {
   "cell_type": "code",
   "execution_count": 28,
   "metadata": {
    "collapsed": false
   },
   "outputs": [
    {
     "name": "stderr",
     "output_type": "stream",
     "text": [
      "/home/lee/Programs/anaconda3/envs/tensorflow_1.4/lib/python3.6/site-packages/ipykernel_launcher.py:12: RuntimeWarning: invalid value encountered in long_scalars\n",
      "  if sys.path[0] == '':\n"
     ]
    },
    {
     "data": {
      "text/plain": [
       "[(1, 0.11688311688311688),\n",
       " (2, 0.0),\n",
       " (3, 0.20000000000000001),\n",
       " (4, 0.0),\n",
       " (5, 0.26666666666666666),\n",
       " (6, 0.33333333333333331),\n",
       " (7, 0.2857142857142857),\n",
       " (8, nan),\n",
       " (9, 1.0),\n",
       " (10, nan),\n",
       " (11, nan),\n",
       " (12, nan),\n",
       " (13, nan),\n",
       " (14, nan)]"
      ]
     },
     "execution_count": 28,
     "metadata": {},
     "output_type": "execute_result"
    }
   ],
   "source": [
    "k_range = range(1, 15)     # K=1, 2, .... , 14\n",
    "precision_scores = []\n",
    "for k in k_range:\n",
    "    knn = KNeighborsClassifier(n_neighbors=k)   \n",
    "    knn.fit(X_train, y_train)\n",
    "    y_pred = knn.predict(X_test)\n",
    "    conf_mat = metrics.confusion_matrix(y_test, y_pred)\n",
    "    TP = conf_mat[1,1]\n",
    "    TN = conf_mat[0,0]\n",
    "    FP = conf_mat[0,1]\n",
    "    FN = conf_mat[1,0]\n",
    "    precision_scores.append(TP/(FP + TP))\n",
    "\n",
    "list(zip(k_range, precision_scores))"
   ]
  },
  {
   "cell_type": "code",
   "execution_count": 29,
   "metadata": {
    "collapsed": false
   },
   "outputs": [
    {
     "data": {
      "text/plain": [
       "array([[939,   2],\n",
       "       [ 58,   1]])"
      ]
     },
     "execution_count": 29,
     "metadata": {},
     "output_type": "execute_result"
    }
   ],
   "source": [
    "knn = KNeighborsClassifier(n_neighbors=6)   \n",
    "knn.fit(X_train, y_train)\n",
    "y_pred = knn.predict(X_test)\n",
    "metrics.confusion_matrix(y_test, y_pred)"
   ]
  },
  {
   "cell_type": "markdown",
   "metadata": {},
   "source": [
    "### 분석:\n",
    "- K=6 일 때 precision이 최대로 커지는 것처럼 보인다. 그러면, K=6일 때의 confusion matrix를 보면, 모델이 단 3번 positive로 예측해서 그 중 1번 맞추었다. 실제로 purchase한 사람(positive)이 59명인데 그 중 1명만 식별한 것이다. Sensitivity가 1/59로 엉망이다. 이 경우 precision은 높아 졌지만 거의 의미가 없다고 할 수 있다.  "
   ]
  },
  {
   "cell_type": "markdown",
   "metadata": {},
   "source": [
    "- K가 10 이상 일 때 precision 이 'nan'이 된다. K=12 경우를 아래에서 보면 모델이 아예 positive라 예측한 것이 전혀 없다. 따라서 분모가 0 이니 nan이 된다. Training set에서도 positive가 약 6% 밖에 되지 않는다. 따라서 K가 커지면서 positive 보다 negative가 이웃으로 더 많이 있게 된다. 때문에 negative가 K가 커질 수록 다수가 될 가능성이 높아지고, KNN이 positive라 할 가능성이 적어진다. K=12 일 때 KNN은 항상 negative만 부르고, sensitivity는 0 이 되었다. 이 예에서 보듯이 KNN은 K가 어느 이상되면 baseline 모델처럼 동작하게 됨을 짐작할 수 있다.   "
   ]
  },
  {
   "cell_type": "code",
   "execution_count": 30,
   "metadata": {
    "collapsed": false
   },
   "outputs": [
    {
     "data": {
      "text/plain": [
       "array([[941,   0],\n",
       "       [ 59,   0]])"
      ]
     },
     "execution_count": 30,
     "metadata": {},
     "output_type": "execute_result"
    }
   ],
   "source": [
    "knn = KNeighborsClassifier(n_neighbors=12)   \n",
    "knn.fit(X_train, y_train)\n",
    "y_pred = knn.predict(X_test)\n",
    "metrics.confusion_matrix(y_test, y_pred)"
   ]
  },
  {
   "cell_type": "markdown",
   "metadata": {},
   "source": [
    "## Using Logistic Regression Classifier:\n",
    "### 1. Logistic Regression이나 KNN Classifier 같이 대다수의 Classifier는 Class 확률을 제공한다.  \n",
    "### 2. Classifier는 Class 확률에 기본적으로 threshold = 0.5 를 적용하여 Class label을 정한다.\n",
    "###  3. 아래 예와 같이 Logistic Regression의 threshold (probability cut-off) 를 변화시켜 class label 을 결정함에 변화를 줄 수 있다.\n",
    "*** Caravan 예측 분석에서의 활용 : Classifier의 target (여기서는 'Purchase') 예측에 대한 민감도(senstitivy, recall)를 높이기 위해 threshold를 낮춘다 ***"
   ]
  },
  {
   "cell_type": "code",
   "execution_count": 31,
   "metadata": {
    "collapsed": true
   },
   "outputs": [],
   "source": [
    "from sklearn.linear_model import LogisticRegression "
   ]
  },
  {
   "cell_type": "code",
   "execution_count": 32,
   "metadata": {
    "collapsed": false
   },
   "outputs": [
    {
     "data": {
      "text/plain": [
       "LogisticRegression(C=1.0, class_weight=None, dual=False, fit_intercept=True,\n",
       "          intercept_scaling=1, max_iter=100, multi_class='ovr', n_jobs=1,\n",
       "          penalty='l2', random_state=None, solver='newton-cg', tol=0.0001,\n",
       "          verbose=0, warm_start=False)"
      ]
     },
     "execution_count": 32,
     "metadata": {},
     "output_type": "execute_result"
    }
   ],
   "source": [
    "log_reg = LogisticRegression(solver='newton-cg')\n",
    "log_reg.fit(X_train, y_train)"
   ]
  },
  {
   "cell_type": "code",
   "execution_count": 33,
   "metadata": {
    "collapsed": false
   },
   "outputs": [
    {
     "data": {
      "text/plain": [
       "array([[934,   7],\n",
       "       [ 59,   0]])"
      ]
     },
     "execution_count": 33,
     "metadata": {},
     "output_type": "execute_result"
    }
   ],
   "source": [
    "# Threshold가 0.5 인 경우 \n",
    "y_pred = log_reg.predict(X_test)  # returns class labels based on threshold=0.5\n",
    "\n",
    "conf_mat = metrics.confusion_matrix(y_test, y_pred) ; conf_mat"
   ]
  },
  {
   "cell_type": "code",
   "execution_count": 34,
   "metadata": {
    "collapsed": false
   },
   "outputs": [
    {
     "name": "stdout",
     "output_type": "stream",
     "text": [
      "Accuracy:  0.934\n",
      "Sensitivity(Recall):  0.0\n",
      "Precision:  0.0\n",
      "False Positive Rate:  0.00743889479277\n"
     ]
    }
   ],
   "source": [
    "TP = conf_mat[1,1]\n",
    "TN = conf_mat[0,0]\n",
    "FP = conf_mat[0,1]\n",
    "FN = conf_mat[1,0]\n",
    "print(\"Accuracy: \", (TP+TN) / (TP+TN+FP+FN) )\n",
    "print(\"Sensitivity(Recall): \",  TP / (FN + TP) )\n",
    "print(\"Precision: \",  TP / (FP + TP) )\n",
    "print(\"False Positive Rate: \",  FP / (FP + TN) )\n",
    "# print(metrics.classification_report(y_test, y_pred))"
   ]
  },
  {
   "cell_type": "markdown",
   "metadata": {},
   "source": [
    "- Accuracy는 좋다고 나오지만 실은 baseline보다 나을 것이 없고, ***sensitivity와 precision은 최악***. Positive를 하나도 식별하지 못했고 (sensitivity==0), positive라고 예측한 것이 7번 인데 그나마 그 중 맞춘 것은 하나도 없다 (precision==0).   \n",
    "- Caravan 데이터에서 baseline precision 이나 random guessing precision이 6% 정도 "
   ]
  },
  {
   "cell_type": "code",
   "execution_count": 35,
   "metadata": {
    "collapsed": false
   },
   "outputs": [
    {
     "name": "stdout",
     "output_type": "stream",
     "text": [
      "[[ 0.90335716  0.09664284]\n",
      " [ 0.9887958   0.0112042 ]\n",
      " [ 0.94459523  0.05540477]\n",
      " [ 0.90114375  0.09885625]\n",
      " [ 0.9694977   0.0305023 ]\n",
      " [ 0.98236629  0.01763371]\n",
      " [ 0.96122422  0.03877578]\n",
      " [ 0.99183887  0.00816113]\n",
      " [ 0.96506227  0.03493773]\n",
      " [ 0.97840008  0.02159992]]\n",
      "['No' 'No' 'No' 'No' 'No' 'No' 'No' 'No' 'No' 'No']\n"
     ]
    }
   ],
   "source": [
    "y_pred_prob = log_reg.predict_proba(X_test)   # returns prob of class labels\n",
    "print(y_pred_prob[:10])\n",
    "print(y_pred[:10])"
   ]
  },
  {
   "cell_type": "markdown",
   "metadata": {},
   "source": [
    "- 첫째 Column의 값이 0.5 이상이면 'No' (둘째 Column의 값이 0.5 이상이면 'Yes')\n",
    "- 'No'가 0 으로, 'Yes'가 1 로 encoding 됭\n",
    "\n",
    "### 둘째 column의 값이 0.25 이상이면 'Yes'를 하도록 하여 'Yes'에 좀 더 민감하도록 하면,"
   ]
  },
  {
   "cell_type": "code",
   "execution_count": 36,
   "metadata": {
    "collapsed": false
   },
   "outputs": [],
   "source": [
    "y_pred_sensitized = ['Yes' if prob>0.25 else 'No' for prob in y_pred_prob[:,1]]"
   ]
  },
  {
   "cell_type": "code",
   "execution_count": 37,
   "metadata": {
    "collapsed": false
   },
   "outputs": [
    {
     "data": {
      "text/plain": [
       "array([[917,  24],\n",
       "       [ 48,  11]])"
      ]
     },
     "execution_count": 37,
     "metadata": {},
     "output_type": "execute_result"
    }
   ],
   "source": [
    "conf_mat = metrics.confusion_matrix(y_test, y_pred_sensitized) ; conf_mat\n"
   ]
  },
  {
   "cell_type": "code",
   "execution_count": 38,
   "metadata": {
    "collapsed": false
   },
   "outputs": [
    {
     "name": "stdout",
     "output_type": "stream",
     "text": [
      "Accuracy:  0.928\n",
      "Sensitivity(Recall):  0.186440677966\n",
      "Precision:  0.314285714286\n",
      "False Positive Rate:  0.0255047821467\n"
     ]
    }
   ],
   "source": [
    "TP = conf_mat[1,1]\n",
    "TN = conf_mat[0,0]\n",
    "FP = conf_mat[0,1]\n",
    "FN = conf_mat[1,0]\n",
    "print(\"Accuracy: \", (TP+TN) / (TP+TN+FP+FN) )\n",
    "print(\"Sensitivity(Recall): \",  TP / (FN + TP) )\n",
    "print(\"Precision: \",  TP / (FP + TP) )\n",
    "print(\"False Positive Rate: \",  FP / (FP + TN) )"
   ]
  },
  {
   "cell_type": "markdown",
   "metadata": {
    "collapsed": true
   },
   "source": [
    "** 분석 : Classification Test Performance based on Train/Test Procedure **\n",
    "\n",
    "\n",
    "|             | threshold=0.5 | threshold=0.25 |\n",
    "|-------------|---------------|----------------|\n",
    "| Accuracy    | 0.934         | 0.928          |\n",
    "| Sensitivity | 0             | 0.186          |\n",
    "| Precision   | 0             | 0.314          |\n",
    "| FPR         | 0.0074        | 0.025          |\n",
    "\n",
    "1. logistic regression으로 학습시키고 threshold=0.5 하면: Accuracy는 0.934로 baseline null classifier와 비슷하고 반면에 sensitivity와 precision은 아예 0이 되어 baseline보다도 더 나쁜 결과\n",
    "2.  logistic regression으로 학습시키고 threshold=0.25 하면: Accuracy는 0.928로 baseline보다 별 차이가 없고, 반면에 sensitivity와 precision이 매우 좋아짐. 모델이 59개의 positive (Purchase) 중 11개를 식별했고, 35번 Purchase를 예측했는데 그 중 11개를 맞추었음 (Precision == 0.314).    "
   ]
  },
  {
   "cell_type": "markdown",
   "metadata": {},
   "source": [
    "# [ROC](https://en.wikipedia.org/wiki/Receiver_operating_characteristic) (Receiver Operating Characteristic) 커브 & AUC(Area Under an ROC Curve) \n",
    "- 2차 세계대전 중 레이더 엔지니어들의 고민 중 하나가 레이더 수신기(Radar Receiver)로 들어온 신호가 구름을, 새를, 적기를, 아군기를, UFO를 잡은 것인지 아니면 그냥 잡음인지 판단하는 것 \n",
    "- 즉, 신호처리/분석을 스마트하게 해서 target 탐지(detection: 여러 물체가 있는데 그 중에 target이 있는지)을 잘 하는 문제. 이 문제를 Classification 으로 생각하는 법을 \"detection as a classification problem\" 이라고.\n",
    "- 이 사람들은 그 당시까지의 estimation/detection theory, measurement 에 대한 이론/실무적용에 대한 전문가들\n",
    "- Confusion matrix 같은 개념은 선사시대 동굴에 살던 우리 선조들도 잘 알고 있었고 실생활에 적용했음. 실은 ***개구리***도 선수 : 위협인 새를 놓치지 않고 잘 탐지해야 잡혀 먹히지 않고, 한편 너무 예민해 나비도 새로 잘 못 판단하면 굶어 죽음 \n",
    "- Target의 식별/탐지가 매우 중요한데, 가령 타깃이 우리 몸의 암, 우리 머리에 폭탄 떨어뜨리려는 적 비행기일 때 이 를 놓치면 우리 건강과 복지에 매우 안 좋기에 가능한 놓치면 안됨.  \n",
    "- 기본적으로, 목표물(Target, Positive Response) 탐지에 대한 예민함을 높이려고 (즉, 타깃을 놓치지 않으려고) 시스템이 Positive라 판단하는 기준을 낮추면 (즉, Positive에 대한 threshold를 낮추면), 대부분의 경우 False Positive Rate (타깃이 실제론 아닌데 타깃이라고 잘 못 예측/판단)도 같이 증가.  \n",
    "- FPR이 높으면 그 시스템에 대한 신뢰 저하.  가령, 암진단 기계가 실제로 암이 아닌데 암이라고 자주 진단하면 그 장치 잘 안 믿을 것임. 이 문제는 공중에 있는 물체 중 적기인 비율, X선 사진 중 암이 있는 사진일 비율과 같이 실제 타깃 비율이 매우 작을 때 (즉, negative 비율이 매우 높을 때) 두드러짐.  \n",
    "- 레이다 엔지니어의 고민은 최대한 타깃은 놓치지 않으면서 (Sensitivity가 높음), FPR이 낮은 시스템을 개발하던가, 또는 어떤 시스템에서 Sensitivity와 FPR 간에 적절한 포인트를 찾는 것\n",
    "- ROC 커브는 어떤 튜닝 패러미터 (여기서는 threshold)를 변화하면서, 그 때 마다 sensitivity와 FPR을 그래프상에 표시한 것으로, 레이더 기술자들이 알고싶은 시스템 성능을 한 눈에 보기 쉽게 표시한 것\n",
    "- Threshold가 작아지면서 TPR(sensitivity)과 FPR은 monotonically 증가함 \n",
    "- ROC 커브가 원점에서 시작해 빨리 좌상단에 접근함은, threshold를 조금만 낮추어도 sensitivity가 급격히 높아지고 (좋아지고), FPR은 아직 그리 높아지지 않는 그런 threshold 포인트들이 있다는 것. 이 얘기는 해당 시스템이 좋다는 말\n",
    "- AUC는 ROC 커브 모양을 하나의 숫자로 표현한 것으로, ROC 모양이 좋으면 (좌상단에 붙으면) 커브 아래의 면적이 1에 가까와지므로, 곧 AUC가 1에 근접할 수록 시스템의 성능이 좋다는 말. Binary Classifier의 성능을 간단히 나타낼 때 흔히 사용"
   ]
  },
  {
   "cell_type": "markdown",
   "metadata": {},
   "source": [
    "## [ROC 커브](http://scikit-learn.org/stable/modules/model_evaluation.html#receiver-operating-characteristic-roc)를 그려보자\n",
    "- 앞에서 threshold값을 바꾸어가면서 보던 sensitivity와 FPR의 관계를 ROC로 보자"
   ]
  },
  {
   "cell_type": "code",
   "execution_count": 39,
   "metadata": {
    "collapsed": false
   },
   "outputs": [
    {
     "data": {
      "image/png": "[encoded data removed]",
      "text/plain": [
       "<matplotlib.figure.Figure at 0x7fe8e2dac780>"
      ]
     },
     "metadata": {},
     "output_type": "display_data"
    }
   ],
   "source": [
    "y_test_enc = y_test.map({'No':0, 'Yes':1})    # 필요 \n",
    "fpr, tpr, thresholds = metrics.roc_curve(y_test_enc, y_pred_prob[:,1])\n",
    "plt.plot(fpr, tpr)\n",
    "plt.title('ROC Curve')\n",
    "plt.xlabel('False Positive Rate (1 - Specificity)')\n",
    "plt.ylabel('True Positive Rate (Sensitivity)')\n",
    "plt.xlim([0, 1])\n",
    "plt.ylim([0, 1])\n",
    "plt.grid(True)\n"
   ]
  },
  {
   "cell_type": "code",
   "execution_count": 40,
   "metadata": {
    "collapsed": false
   },
   "outputs": [
    {
     "name": "stdout",
     "output_type": "stream",
     "text": [
      "Threshold=0.05 일 때, sensitivity = 0.746, FPR = 0.362\n",
      "TPR=0.746 일 때, threshold = 0.050\n"
     ]
    }
   ],
   "source": [
    "# 간단한 함수 \n",
    "def get_TPR_FPR_given_Thd(threshold):   # return (sensitivity, FPR) tuple\n",
    "    sensitivity_th = tpr[thresholds > threshold][-1]  \n",
    "    fpr_th = fpr[thresholds > threshold][-1]\n",
    "#    print(sensitivity_th, fpr_th)\n",
    "    return (sensitivity_th, fpr_th)\n",
    "\n",
    "def get_Threshold_given_TPR(sensitivity):\n",
    "#    print(thresholds[tpr<sensitivity][-1])\n",
    "    return (thresholds[tpr<sensitivity][-1] )\n",
    "\n",
    "print(\"Threshold=0.05 일 때, sensitivity = %.3f, FPR = %.3f\" % \n",
    "      (get_TPR_FPR_given_Thd(0.05)[0], get_TPR_FPR_given_Thd(0.05)[1]))\n",
    "print(\"TPR=0.746 일 때, threshold = %.3f\" % get_Threshold_given_TPR(0.746) )"
   ]
  },
  {
   "cell_type": "markdown",
   "metadata": {},
   "source": [
    "## [AUC 계산](http://scikit-learn.org/stable/modules/generated/sklearn.metrics.roc_auc_score.html#sklearn.metrics.roc_auc_score)"
   ]
  },
  {
   "cell_type": "code",
   "execution_count": 41,
   "metadata": {
    "collapsed": false
   },
   "outputs": [
    {
     "name": "stdout",
     "output_type": "stream",
     "text": [
      "0.743430177057\n"
     ]
    }
   ],
   "source": [
    "print(metrics.roc_auc_score(y_test_enc, y_pred_prob[:,1])) "
   ]
  },
  {
   "cell_type": "code",
   "execution_count": 42,
   "metadata": {
    "collapsed": false
   },
   "outputs": [
    {
     "data": {
      "text/plain": [
       "0.74084663679136253"
      ]
     },
     "execution_count": 42,
     "metadata": {},
     "output_type": "execute_result"
    }
   ],
   "source": [
    "# AUC 스코어를 Cross-Validation으로 구함.  시간 걸림 \n",
    "# from sklearn.cross_validation import cross_val_score  # for scikit-learn < 0.18\n",
    "from sklearn.model_selection import cross_val_score\n",
    "\n",
    "y_enc = y.map({'No':0, 'Yes':1})   # needs it \n",
    "cross_val_score(log_reg, X, y_enc, cv=7, scoring='roc_auc').mean()"
   ]
  },
  {
   "cell_type": "code",
   "execution_count": 43,
   "metadata": {
    "collapsed": false
   },
   "outputs": [
    {
     "name": "stdout",
     "output_type": "stream",
     "text": [
      "exit 0\n"
     ]
    }
   ],
   "source": [
    "print('exit 0')"
   ]
  }
 ],
 "metadata": {
  "anaconda-cloud": {},
  "kernelspec": {
   "display_name": "tensorflow 1.4",
   "language": "python",
   "name": "tensorflow_1.4"
  },
  "language_info": {
   "codemirror_mode": {
    "name": "ipython",
    "version": 3
   },
   "file_extension": ".py",
   "mimetype": "text/x-python",
   "name": "python",
   "nbconvert_exporter": "python",
   "pygments_lexer": "ipython3",
   "version": "3.6.1"
  }
 },
 "nbformat": 4,
 "nbformat_minor": 0
}
