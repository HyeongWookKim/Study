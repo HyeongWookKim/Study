{
 "cells": [
  {
   "cell_type": "markdown",
   "metadata": {},
   "source": [
    "# 4장. 셀프 주유소는 정말 저렴할까\n",
    "<분석 목적>\n",
    "- 말 그대로 \"셀프 주유소가 정말 저렴할까?\"라는 의문에 대한 팩트를 체크해보려 한다\n",
    "- 앞 장에서는 ```BeautifulSoup``` 을 사용하여 크롤링을 통해 데이터 분석을 수행하였다\n",
    "    - 그러나 접근 주소가 없어서 ```BeautifulSoup``` 을 사용하여 크롤링을 할 수 없는 사이트들이 존재한다\n",
    "    - 이럴 때 사용하는 것이 바로 ```Selenium``` 이다!!\n",
    "    \n",
    "<데이터를 받아올 사이트 설명>\n",
    "- 주유소의 가격을 비교하는 정부 사이트인 Opinet에 접속해서 정보를 모을 것이다"
   ]
  },
  {
   "cell_type": "markdown",
   "metadata": {},
   "source": [
    "## [참고] Selenium 기초\n",
    "- cmd 창에서 ```pip install selenium``` 명령을 입력하면 쉽게 설치할 수 있다\n",
    "- 그러나 ```selenium``` 은 모듈 설치만으로는 동작하지 않는다\n",
    "    - 사용하는 브라우저에 맞춰 웹 드라이버를 다운받아야 한다!\n",
    "    - 나는 구글 크롬(Chrome)을 사용하므로, '크롬 웹 드라이버'를 다운 받겠다\n",
    "        - 구글에서 Chrome Driver 라고 검색하면 된다\n",
    "        - 내 노트북의 운영체제에 맞는 파일을 다운받으면 된다\n",
    "        - <참고> 교재에서 사용한 Chrome Driver의 버전은 2.33이지만, 내 노트북의 Chrome 버전은 83이므로 그에 맞는 파일을 다시 다운 받았다"
   ]
  },
  {
   "cell_type": "code",
   "execution_count": 1,
   "metadata": {
    "ExecuteTime": {
     "end_time": "2020-06-01T03:39:44.270910Z",
     "start_time": "2020-06-01T03:39:44.145649Z"
    }
   },
   "outputs": [],
   "source": [
    "from selenium import webdriver"
   ]
  },
  {
   "cell_type": "markdown",
   "metadata": {},
   "source": [
    "**네이버(http://naver.com)에 접속해보기**"
   ]
  },
  {
   "cell_type": "code",
   "execution_count": 2,
   "metadata": {
    "ExecuteTime": {
     "end_time": "2020-06-01T03:39:50.610267Z",
     "start_time": "2020-06-01T03:39:46.299026Z"
    }
   },
   "outputs": [],
   "source": [
    "driver = webdriver.Chrome('../driver/chromedriver.exe')\n",
    "driver.get(\"http://naver.com\")"
   ]
  },
  {
   "cell_type": "markdown",
   "metadata": {},
   "source": [
    "**```Selenium```은 ```save_screenshot()``` 명령으로 화면을 캡쳐할 수 있다**"
   ]
  },
  {
   "cell_type": "code",
   "execution_count": 3,
   "metadata": {
    "ExecuteTime": {
     "end_time": "2020-06-01T03:39:53.255275Z",
     "start_time": "2020-06-01T03:39:52.619769Z"
    },
    "scrolled": true
   },
   "outputs": [
    {
     "name": "stderr",
     "output_type": "stream",
     "text": [
      "C:\\Users\\Playdata\\anaconda3\\lib\\site-packages\\selenium\\webdriver\\remote\\webdriver.py:1031: UserWarning: name used for saved screenshot does not match file type. It should end with a `.png` extension\n",
      "  \"type. It should end with a `.png` extension\", UserWarning)\n"
     ]
    },
    {
     "data": {
      "text/plain": [
       "True"
      ]
     },
     "execution_count": 3,
     "metadata": {},
     "output_type": "execute_result"
    }
   ],
   "source": [
    "driver.save_screenshot('../images/001.jpg')"
   ]
  },
  {
   "cell_type": "markdown",
   "metadata": {},
   "source": [
    "**네이버 로그인 정보 화면의 HTML 소스 코드 확인**\n",
    "- ```find_element_by_id()```를 이용해서 id와 pw를 찾으면 된다\n",
    "- 혹시 그 전에 어떤 글자가 입력되어 있을 수도 있기 때문에, ```clear()``` 명령으로 해당 id가 위치한 입력창의 내용을 지워준다\n",
    "- 그리고 ```send_keys()``` 명령으로 자신의 ID와 비밀번호를 입력하면 된다\n",
    "\n",
    "**이 과정부터는 NAVER의 로그인 창 부분이 변경되어서 그런지, 코드를 입력해도 잘 실행되지 않는다**\n",
    "- 때문에 일단 네이버 홈페이지에 로그인해서 ```BeautifulSoup```으로 정보를 가져오는 부분은 skip 하고, 바로 본 chapter의 내용으로 들어가겠다\n",
    "- 그러기 위해, 우선 Selenium 실습 연습을 위해 켜져있는 네이버 홈페이지를 ```close()``` 명령으로 종료해주었다"
   ]
  },
  {
   "cell_type": "code",
   "execution_count": 4,
   "metadata": {
    "ExecuteTime": {
     "end_time": "2020-06-01T03:40:02.458065Z",
     "start_time": "2020-06-01T03:39:58.123503Z"
    }
   },
   "outputs": [],
   "source": [
    "driver.close()"
   ]
  },
  {
   "cell_type": "markdown",
   "metadata": {},
   "source": [
    "## 서울시 구별 주유소 가격 정보 얻기\n",
    "- ```Selenium```을 사용하여 https://goo.gl/VH1A5t 에 접속해서 서울시 구별 주유소 정보를 받아왔다\n",
    "- Opinet은 사용자가 접속한 지역에 따라 지역을 잡아주는 기능이 있다\n",
    "\n",
    "**<주의>**\n",
    "- 아래의 코드를 입력해서 크롬 창을 열면, 교재에서 보여주는 화면이 아닌 메인 화면이 나온다\n",
    "- 따라서 열린 크롬 창에서 \"지역별 주유소/충전소 찾기\"를 클릭한 후, 지역을 \"서울\"로 설정해주어야 한다!!"
   ]
  },
  {
   "cell_type": "code",
   "execution_count": 5,
   "metadata": {
    "ExecuteTime": {
     "end_time": "2020-06-01T03:40:06.744062Z",
     "start_time": "2020-06-01T03:40:02.468038Z"
    }
   },
   "outputs": [],
   "source": [
    "driver = webdriver.Chrome(\"../driver/chromedriver.exe\")\n",
    "driver.get(\"http://www.opinet.co.kr/searRgSelect.do\")"
   ]
  },
  {
   "cell_type": "markdown",
   "metadata": {},
   "source": [
    "- XPath를 이용해서 element를 찾아준다\n",
    "    - 크롬 개발자 도구를 확인해보면, select 밑에 ```option``` 이라는 태그에 \"구 이름\"이 저장되어 있다는 것을 알 수 있다\n",
    "    - 그 구 리스트는 ```find_elements_by_tag_name()```으로 ```option```이라는 태그를 찾으면 된다\n",
    "    \n",
    "**<주의>**\n",
    "- 열린 크롬 창에서 \"지역별 주유소/충전소 찾기\"를 클릭한 후, 지역을 \"서울\"로 설정해주지 않으면 아래의 코드는 에러가 발생한다"
   ]
  },
  {
   "cell_type": "code",
   "execution_count": 6,
   "metadata": {
    "ExecuteTime": {
     "end_time": "2020-06-01T03:40:15.571577Z",
     "start_time": "2020-06-01T03:40:15.534676Z"
    }
   },
   "outputs": [],
   "source": [
    "gu_list_raw = driver.find_element_by_xpath(\"\"\"//*[@id=\"SIGUNGU_NM0\"]\"\"\")\n",
    "gu_list = gu_list_raw.find_elements_by_tag_name(\"option\")"
   ]
  },
  {
   "cell_type": "code",
   "execution_count": 7,
   "metadata": {
    "ExecuteTime": {
     "end_time": "2020-06-01T03:40:16.494110Z",
     "start_time": "2020-06-01T03:40:16.345508Z"
    }
   },
   "outputs": [
    {
     "data": {
      "text/plain": [
       "['강남구',\n",
       " '강동구',\n",
       " '강북구',\n",
       " '강서구',\n",
       " '관악구',\n",
       " '광진구',\n",
       " '구로구',\n",
       " '금천구',\n",
       " '노원구',\n",
       " '도봉구',\n",
       " '동대문구',\n",
       " '동작구',\n",
       " '마포구',\n",
       " '서대문구',\n",
       " '서초구',\n",
       " '성동구',\n",
       " '성북구',\n",
       " '송파구',\n",
       " '양천구',\n",
       " '영등포구',\n",
       " '용산구',\n",
       " '은평구',\n",
       " '종로구',\n",
       " '중구',\n",
       " '중랑구']"
      ]
     },
     "execution_count": 7,
     "metadata": {},
     "output_type": "execute_result"
    }
   ],
   "source": [
    "gu_names = [option.get_attribute(\"value\") for option in gu_list]\n",
    "gu_names.remove('')\n",
    "gu_names"
   ]
  },
  {
   "cell_type": "markdown",
   "metadata": {},
   "source": [
    "**구 이름이 있는 태그에 위 코드에서 저장한 gu_names에서 첫 번째 것을 시험 삼아 입력해보겠다**"
   ]
  },
  {
   "cell_type": "code",
   "execution_count": 8,
   "metadata": {
    "ExecuteTime": {
     "end_time": "2020-06-01T03:40:22.017096Z",
     "start_time": "2020-06-01T03:40:20.558160Z"
    }
   },
   "outputs": [],
   "source": [
    "element = driver.find_element_by_id(\"SIGUNGU_NM0\")\n",
    "element.send_keys(gu_names[0]) # '시/군/구'를 '강남구'로 설정"
   ]
  },
  {
   "cell_type": "markdown",
   "metadata": {},
   "source": [
    "- \"조회\" 버튼의 XPath를 찾아서 ```click()``` 명령으로 클릭해주는 작업을 수행"
   ]
  },
  {
   "cell_type": "code",
   "execution_count": 9,
   "metadata": {
    "ExecuteTime": {
     "end_time": "2020-06-01T03:40:27.136495Z",
     "start_time": "2020-06-01T03:40:22.019841Z"
    }
   },
   "outputs": [],
   "source": [
    "xpath = \"\"\"//*[@id=\"searRgSelect\"]\"\"\"\n",
    "element_sel_gu = driver.find_element_by_xpath(xpath).click()"
   ]
  },
  {
   "cell_type": "markdown",
   "metadata": {},
   "source": [
    "- \"엑셀 저장\" 버튼의 XPath를 찾아서 ```click()``` 명령으로 클릭해주는 작업을 수행\n",
    "    - \"엑셀 저장\" 버튼을 눌러주는 코드는 따로 실행하지는 않겠다"
   ]
  },
  {
   "cell_type": "code",
   "execution_count": 10,
   "metadata": {
    "ExecuteTime": {
     "end_time": "2020-06-01T03:40:28.893928Z",
     "start_time": "2020-06-01T03:40:28.889971Z"
    }
   },
   "outputs": [],
   "source": [
    "# xpath = \"\"\"//*[@id=\"glopopd_excel\"]\"\"\"\n",
    "# element_get_excel = driver.find_element_by_xpath(xpath).click()"
   ]
  },
  {
   "cell_type": "markdown",
   "metadata": {},
   "source": [
    "**이제까지 해 준 작업들을 \"구 이름\"별로 실행해서 저장해주겠다**\n",
    "- 서울시 25개 구에 대해 반복문을 수행해주면 된다\n",
    "- 적절히 중간중간에 기다리라는 ```time.sleep()``` 명령을 사용했다\n",
    "- 이미 서울시 25개 구에 대한 데이터가 있기 때문에, 아래의 코드를 직접 수행하지는 않겠다"
   ]
  },
  {
   "cell_type": "code",
   "execution_count": 11,
   "metadata": {
    "ExecuteTime": {
     "end_time": "2020-06-01T03:40:29.820040Z",
     "start_time": "2020-06-01T03:40:29.815054Z"
    }
   },
   "outputs": [],
   "source": [
    "# import time\n",
    "# from tqdm import tqdm_notebook\n",
    "\n",
    "# for gu in tqdm_notebook(gu_names):\n",
    "#     element = driver.find_element_by_id(\"SIGUNGU_NM0\")\n",
    "#     element.send_keys(gu)\n",
    "    \n",
    "#     time.sleep(2)\n",
    "    \n",
    "#     # \"조회\" 버튼을 클릭하게 해주는 작업\n",
    "#     xpath = \"\"\"//*[@id=\"searRgSelect\"]\"\"\"\n",
    "#     element_sel_gu = driver.find_element_by_xpath(xpath).click()\n",
    "    \n",
    "#     time.sleep(1)\n",
    "    \n",
    "#     # \"엑셀 저장\" 버튼을 클릭하게 해주는 작업\n",
    "#     xpath = \"\"\"//*[@id=\"glopopd_excel\"]\"\"\"\n",
    "#     element_get_excel = driver.find_element_by_xpath(xpath).click()\n",
    "    \n",
    "#     time.sleep(1)"
   ]
  },
  {
   "cell_type": "code",
   "execution_count": 12,
   "metadata": {
    "ExecuteTime": {
     "end_time": "2020-06-01T03:40:30.444764Z",
     "start_time": "2020-06-01T03:40:30.367971Z"
    }
   },
   "outputs": [],
   "source": [
    "driver.close()"
   ]
  },
  {
   "cell_type": "markdown",
   "metadata": {},
   "source": [
    "## 구별 주유 가격에 대한 데이터의 정리"
   ]
  },
  {
   "cell_type": "markdown",
   "metadata": {},
   "source": [
    "**위에서 저장한 25개의 엑셀 파일들을 한 번에 읽어와주는 모듈 사용**\n",
    "- ```glob``` 모듈을 사용하자!!"
   ]
  },
  {
   "cell_type": "code",
   "execution_count": 13,
   "metadata": {
    "ExecuteTime": {
     "end_time": "2020-06-01T03:40:35.132297Z",
     "start_time": "2020-06-01T03:40:32.618753Z"
    }
   },
   "outputs": [],
   "source": [
    "import pandas as pd\n",
    "from glob import glob"
   ]
  },
  {
   "cell_type": "code",
   "execution_count": 14,
   "metadata": {
    "ExecuteTime": {
     "end_time": "2020-06-01T03:40:35.760275Z",
     "start_time": "2020-06-01T03:40:35.751267Z"
    }
   },
   "outputs": [
    {
     "data": {
      "text/plain": [
       "['../data\\\\지역_위치별(주유소) (1).xls',\n",
       " '../data\\\\지역_위치별(주유소) (10).xls',\n",
       " '../data\\\\지역_위치별(주유소) (11).xls',\n",
       " '../data\\\\지역_위치별(주유소) (12).xls',\n",
       " '../data\\\\지역_위치별(주유소) (13).xls',\n",
       " '../data\\\\지역_위치별(주유소) (14).xls',\n",
       " '../data\\\\지역_위치별(주유소) (15).xls',\n",
       " '../data\\\\지역_위치별(주유소) (16).xls',\n",
       " '../data\\\\지역_위치별(주유소) (17).xls',\n",
       " '../data\\\\지역_위치별(주유소) (18).xls',\n",
       " '../data\\\\지역_위치별(주유소) (19).xls',\n",
       " '../data\\\\지역_위치별(주유소) (2).xls',\n",
       " '../data\\\\지역_위치별(주유소) (20).xls',\n",
       " '../data\\\\지역_위치별(주유소) (21).xls',\n",
       " '../data\\\\지역_위치별(주유소) (22).xls',\n",
       " '../data\\\\지역_위치별(주유소) (23).xls',\n",
       " '../data\\\\지역_위치별(주유소) (24).xls',\n",
       " '../data\\\\지역_위치별(주유소) (3).xls',\n",
       " '../data\\\\지역_위치별(주유소) (4).xls',\n",
       " '../data\\\\지역_위치별(주유소) (5).xls',\n",
       " '../data\\\\지역_위치별(주유소) (6).xls',\n",
       " '../data\\\\지역_위치별(주유소) (7).xls',\n",
       " '../data\\\\지역_위치별(주유소) (8).xls',\n",
       " '../data\\\\지역_위치별(주유소) (9).xls',\n",
       " '../data\\\\지역_위치별(주유소).xls']"
      ]
     },
     "execution_count": 14,
     "metadata": {},
     "output_type": "execute_result"
    }
   ],
   "source": [
    "# /data 폴더 안에 \"지역_위치별\"로 시작하는 xls 파일 전체를 가져와준다\n",
    "stations_files = glob(\"../data/지역_위치별*xls\")\n",
    "stations_files"
   ]
  },
  {
   "cell_type": "markdown",
   "metadata": {},
   "source": [
    "**반복문을 사용해서 각 엑셀 파일을 읽은 후, ```concat``` 명령으로 하나로(axis = 0; 위 + 아래로) 합쳐준다**"
   ]
  },
  {
   "cell_type": "code",
   "execution_count": 15,
   "metadata": {
    "ExecuteTime": {
     "end_time": "2020-06-01T03:40:37.475615Z",
     "start_time": "2020-06-01T03:40:37.189097Z"
    }
   },
   "outputs": [],
   "source": [
    "tmp_raw = []\n",
    "\n",
    "for file_name in stations_files:\n",
    "    tmp = pd.read_excel(file_name, header = 2)\n",
    "    tmp_raw.append(tmp)\n",
    "    \n",
    "station_raw = pd.concat(tmp_raw)"
   ]
  },
  {
   "cell_type": "markdown",
   "metadata": {},
   "source": [
    "**고급 휘발유, 휘발유, 경유, 실내 등유의 가격 정보가 int, float형이 아닌 object형이다**\n",
    "- 나중에 이 부분을 처리해주어야 할 것 같다!"
   ]
  },
  {
   "cell_type": "code",
   "execution_count": 16,
   "metadata": {
    "ExecuteTime": {
     "end_time": "2020-06-01T03:40:38.417853Z",
     "start_time": "2020-06-01T03:40:38.403891Z"
    },
    "scrolled": true
   },
   "outputs": [
    {
     "name": "stdout",
     "output_type": "stream",
     "text": [
      "<class 'pandas.core.frame.DataFrame'>\n",
      "Int64Index: 537 entries, 0 to 45\n",
      "Data columns (total 10 columns):\n",
      " #   Column  Non-Null Count  Dtype \n",
      "---  ------  --------------  ----- \n",
      " 0   지역      537 non-null    object\n",
      " 1   상호      537 non-null    object\n",
      " 2   주소      537 non-null    object\n",
      " 3   상표      537 non-null    object\n",
      " 4   전화번호    537 non-null    object\n",
      " 5   셀프여부    537 non-null    object\n",
      " 6   고급휘발유   537 non-null    object\n",
      " 7   휘발유     537 non-null    object\n",
      " 8   경유      537 non-null    object\n",
      " 9   실내등유    537 non-null    object\n",
      "dtypes: object(10)\n",
      "memory usage: 46.1+ KB\n"
     ]
    }
   ],
   "source": [
    "station_raw.info()"
   ]
  },
  {
   "cell_type": "code",
   "execution_count": 17,
   "metadata": {
    "ExecuteTime": {
     "end_time": "2020-06-01T03:40:38.979404Z",
     "start_time": "2020-06-01T03:40:38.957462Z"
    }
   },
   "outputs": [
    {
     "data": {
      "text/html": [
       "<div>\n",
       "<style scoped>\n",
       "    .dataframe tbody tr th:only-of-type {\n",
       "        vertical-align: middle;\n",
       "    }\n",
       "\n",
       "    .dataframe tbody tr th {\n",
       "        vertical-align: top;\n",
       "    }\n",
       "\n",
       "    .dataframe thead th {\n",
       "        text-align: right;\n",
       "    }\n",
       "</style>\n",
       "<table border=\"1\" class=\"dataframe\">\n",
       "  <thead>\n",
       "    <tr style=\"text-align: right;\">\n",
       "      <th></th>\n",
       "      <th>지역</th>\n",
       "      <th>상호</th>\n",
       "      <th>주소</th>\n",
       "      <th>상표</th>\n",
       "      <th>전화번호</th>\n",
       "      <th>셀프여부</th>\n",
       "      <th>고급휘발유</th>\n",
       "      <th>휘발유</th>\n",
       "      <th>경유</th>\n",
       "      <th>실내등유</th>\n",
       "    </tr>\n",
       "  </thead>\n",
       "  <tbody>\n",
       "    <tr>\n",
       "      <th>0</th>\n",
       "      <td>서울특별시</td>\n",
       "      <td>오렌지주유소</td>\n",
       "      <td>서울 강동구 성안로 102 (성내동)</td>\n",
       "      <td>SK에너지</td>\n",
       "      <td>02-484-6165</td>\n",
       "      <td>N</td>\n",
       "      <td>-</td>\n",
       "      <td>1554</td>\n",
       "      <td>1354</td>\n",
       "      <td>997</td>\n",
       "    </tr>\n",
       "    <tr>\n",
       "      <th>1</th>\n",
       "      <td>서울특별시</td>\n",
       "      <td>구천면주유소</td>\n",
       "      <td>서울 강동구 구천면로 357 (암사동)</td>\n",
       "      <td>현대오일뱅크</td>\n",
       "      <td>02-441-0536</td>\n",
       "      <td>N</td>\n",
       "      <td>-</td>\n",
       "      <td>1556</td>\n",
       "      <td>1355</td>\n",
       "      <td>-</td>\n",
       "    </tr>\n",
       "    <tr>\n",
       "      <th>2</th>\n",
       "      <td>서울특별시</td>\n",
       "      <td>GS칼텍스㈜직영 신월주유소</td>\n",
       "      <td>서울 강동구 양재대로 1323 (성내동)</td>\n",
       "      <td>GS칼텍스</td>\n",
       "      <td>02-475-2600</td>\n",
       "      <td>N</td>\n",
       "      <td>1855</td>\n",
       "      <td>1559</td>\n",
       "      <td>1349</td>\n",
       "      <td>1000</td>\n",
       "    </tr>\n",
       "    <tr>\n",
       "      <th>3</th>\n",
       "      <td>서울특별시</td>\n",
       "      <td>광성주유소</td>\n",
       "      <td>서울 강동구 올림픽로 673 (천호동)</td>\n",
       "      <td>S-OIL</td>\n",
       "      <td>02-470-5133</td>\n",
       "      <td>N</td>\n",
       "      <td>-</td>\n",
       "      <td>1578</td>\n",
       "      <td>1388</td>\n",
       "      <td>1100</td>\n",
       "    </tr>\n",
       "    <tr>\n",
       "      <th>4</th>\n",
       "      <td>서울특별시</td>\n",
       "      <td>(주)소모에너지엔테크놀러지성내주유소</td>\n",
       "      <td>서울 강동구 올림픽로 578 (성내동)</td>\n",
       "      <td>GS칼텍스</td>\n",
       "      <td>02-479-3838</td>\n",
       "      <td>Y</td>\n",
       "      <td>-</td>\n",
       "      <td>1588</td>\n",
       "      <td>1388</td>\n",
       "      <td>-</td>\n",
       "    </tr>\n",
       "  </tbody>\n",
       "</table>\n",
       "</div>"
      ],
      "text/plain": [
       "      지역                   상호                      주소      상표         전화번호  \\\n",
       "0  서울특별시               오렌지주유소    서울 강동구 성안로 102 (성내동)   SK에너지  02-484-6165   \n",
       "1  서울특별시               구천면주유소   서울 강동구 구천면로 357 (암사동)  현대오일뱅크  02-441-0536   \n",
       "2  서울특별시       GS칼텍스㈜직영 신월주유소  서울 강동구 양재대로 1323 (성내동)   GS칼텍스  02-475-2600   \n",
       "3  서울특별시                광성주유소   서울 강동구 올림픽로 673 (천호동)   S-OIL  02-470-5133   \n",
       "4  서울특별시  (주)소모에너지엔테크놀러지성내주유소   서울 강동구 올림픽로 578 (성내동)   GS칼텍스  02-479-3838   \n",
       "\n",
       "  셀프여부 고급휘발유   휘발유    경유  실내등유  \n",
       "0    N     -  1554  1354   997  \n",
       "1    N     -  1556  1355     -  \n",
       "2    N  1855  1559  1349  1000  \n",
       "3    N     -  1578  1388  1100  \n",
       "4    Y     -  1588  1388     -  "
      ]
     },
     "execution_count": 17,
     "metadata": {},
     "output_type": "execute_result"
    }
   ],
   "source": [
    "station_raw.head()"
   ]
  },
  {
   "cell_type": "markdown",
   "metadata": {},
   "source": [
    "**원하는 컬럼만 가져오기(컬럼명도 다시 정의)**\n",
    "- '경유', '고급 휘발유', '실내 등유'는 제외하고 '휘발유' 가격만을 대상으로 하겠다"
   ]
  },
  {
   "cell_type": "code",
   "execution_count": 18,
   "metadata": {
    "ExecuteTime": {
     "end_time": "2020-06-01T03:40:40.009490Z",
     "start_time": "2020-06-01T03:40:39.994542Z"
    }
   },
   "outputs": [
    {
     "data": {
      "text/html": [
       "<div>\n",
       "<style scoped>\n",
       "    .dataframe tbody tr th:only-of-type {\n",
       "        vertical-align: middle;\n",
       "    }\n",
       "\n",
       "    .dataframe tbody tr th {\n",
       "        vertical-align: top;\n",
       "    }\n",
       "\n",
       "    .dataframe thead th {\n",
       "        text-align: right;\n",
       "    }\n",
       "</style>\n",
       "<table border=\"1\" class=\"dataframe\">\n",
       "  <thead>\n",
       "    <tr style=\"text-align: right;\">\n",
       "      <th></th>\n",
       "      <th>Oil_store</th>\n",
       "      <th>주소</th>\n",
       "      <th>가격</th>\n",
       "      <th>셀프</th>\n",
       "      <th>상표</th>\n",
       "    </tr>\n",
       "  </thead>\n",
       "  <tbody>\n",
       "    <tr>\n",
       "      <th>0</th>\n",
       "      <td>오렌지주유소</td>\n",
       "      <td>서울 강동구 성안로 102 (성내동)</td>\n",
       "      <td>1554</td>\n",
       "      <td>N</td>\n",
       "      <td>SK에너지</td>\n",
       "    </tr>\n",
       "    <tr>\n",
       "      <th>1</th>\n",
       "      <td>구천면주유소</td>\n",
       "      <td>서울 강동구 구천면로 357 (암사동)</td>\n",
       "      <td>1556</td>\n",
       "      <td>N</td>\n",
       "      <td>현대오일뱅크</td>\n",
       "    </tr>\n",
       "    <tr>\n",
       "      <th>2</th>\n",
       "      <td>GS칼텍스㈜직영 신월주유소</td>\n",
       "      <td>서울 강동구 양재대로 1323 (성내동)</td>\n",
       "      <td>1559</td>\n",
       "      <td>N</td>\n",
       "      <td>GS칼텍스</td>\n",
       "    </tr>\n",
       "    <tr>\n",
       "      <th>3</th>\n",
       "      <td>광성주유소</td>\n",
       "      <td>서울 강동구 올림픽로 673 (천호동)</td>\n",
       "      <td>1578</td>\n",
       "      <td>N</td>\n",
       "      <td>S-OIL</td>\n",
       "    </tr>\n",
       "    <tr>\n",
       "      <th>4</th>\n",
       "      <td>(주)소모에너지엔테크놀러지성내주유소</td>\n",
       "      <td>서울 강동구 올림픽로 578 (성내동)</td>\n",
       "      <td>1588</td>\n",
       "      <td>Y</td>\n",
       "      <td>GS칼텍스</td>\n",
       "    </tr>\n",
       "  </tbody>\n",
       "</table>\n",
       "</div>"
      ],
      "text/plain": [
       "             Oil_store                      주소    가격 셀프      상표\n",
       "0               오렌지주유소    서울 강동구 성안로 102 (성내동)  1554  N   SK에너지\n",
       "1               구천면주유소   서울 강동구 구천면로 357 (암사동)  1556  N  현대오일뱅크\n",
       "2       GS칼텍스㈜직영 신월주유소  서울 강동구 양재대로 1323 (성내동)  1559  N   GS칼텍스\n",
       "3                광성주유소   서울 강동구 올림픽로 673 (천호동)  1578  N   S-OIL\n",
       "4  (주)소모에너지엔테크놀러지성내주유소   서울 강동구 올림픽로 578 (성내동)  1588  Y   GS칼텍스"
      ]
     },
     "execution_count": 18,
     "metadata": {},
     "output_type": "execute_result"
    }
   ],
   "source": [
    "stations = pd.DataFrame({'Oil_store':station_raw['상호'],\n",
    "                         '주소':station_raw['주소'],\n",
    "                         '가격':station_raw['휘발유'],\n",
    "                         '셀프':station_raw['셀프여부'],\n",
    "                         '상표':station_raw['상표']})\n",
    "stations.head()"
   ]
  },
  {
   "cell_type": "markdown",
   "metadata": {},
   "source": [
    "**'주소'에서 구 이름을 추출해서 '구'라는 새로운 변수 생성하기**"
   ]
  },
  {
   "cell_type": "code",
   "execution_count": 19,
   "metadata": {
    "ExecuteTime": {
     "end_time": "2020-06-01T03:40:40.894076Z",
     "start_time": "2020-06-01T03:40:40.878119Z"
    }
   },
   "outputs": [
    {
     "data": {
      "text/html": [
       "<div>\n",
       "<style scoped>\n",
       "    .dataframe tbody tr th:only-of-type {\n",
       "        vertical-align: middle;\n",
       "    }\n",
       "\n",
       "    .dataframe tbody tr th {\n",
       "        vertical-align: top;\n",
       "    }\n",
       "\n",
       "    .dataframe thead th {\n",
       "        text-align: right;\n",
       "    }\n",
       "</style>\n",
       "<table border=\"1\" class=\"dataframe\">\n",
       "  <thead>\n",
       "    <tr style=\"text-align: right;\">\n",
       "      <th></th>\n",
       "      <th>Oil_store</th>\n",
       "      <th>주소</th>\n",
       "      <th>가격</th>\n",
       "      <th>셀프</th>\n",
       "      <th>상표</th>\n",
       "      <th>구</th>\n",
       "    </tr>\n",
       "  </thead>\n",
       "  <tbody>\n",
       "    <tr>\n",
       "      <th>0</th>\n",
       "      <td>오렌지주유소</td>\n",
       "      <td>서울 강동구 성안로 102 (성내동)</td>\n",
       "      <td>1554</td>\n",
       "      <td>N</td>\n",
       "      <td>SK에너지</td>\n",
       "      <td>강동구</td>\n",
       "    </tr>\n",
       "    <tr>\n",
       "      <th>1</th>\n",
       "      <td>구천면주유소</td>\n",
       "      <td>서울 강동구 구천면로 357 (암사동)</td>\n",
       "      <td>1556</td>\n",
       "      <td>N</td>\n",
       "      <td>현대오일뱅크</td>\n",
       "      <td>강동구</td>\n",
       "    </tr>\n",
       "    <tr>\n",
       "      <th>2</th>\n",
       "      <td>GS칼텍스㈜직영 신월주유소</td>\n",
       "      <td>서울 강동구 양재대로 1323 (성내동)</td>\n",
       "      <td>1559</td>\n",
       "      <td>N</td>\n",
       "      <td>GS칼텍스</td>\n",
       "      <td>강동구</td>\n",
       "    </tr>\n",
       "    <tr>\n",
       "      <th>3</th>\n",
       "      <td>광성주유소</td>\n",
       "      <td>서울 강동구 올림픽로 673 (천호동)</td>\n",
       "      <td>1578</td>\n",
       "      <td>N</td>\n",
       "      <td>S-OIL</td>\n",
       "      <td>강동구</td>\n",
       "    </tr>\n",
       "    <tr>\n",
       "      <th>4</th>\n",
       "      <td>(주)소모에너지엔테크놀러지성내주유소</td>\n",
       "      <td>서울 강동구 올림픽로 578 (성내동)</td>\n",
       "      <td>1588</td>\n",
       "      <td>Y</td>\n",
       "      <td>GS칼텍스</td>\n",
       "      <td>강동구</td>\n",
       "    </tr>\n",
       "  </tbody>\n",
       "</table>\n",
       "</div>"
      ],
      "text/plain": [
       "             Oil_store                      주소    가격 셀프      상표    구\n",
       "0               오렌지주유소    서울 강동구 성안로 102 (성내동)  1554  N   SK에너지  강동구\n",
       "1               구천면주유소   서울 강동구 구천면로 357 (암사동)  1556  N  현대오일뱅크  강동구\n",
       "2       GS칼텍스㈜직영 신월주유소  서울 강동구 양재대로 1323 (성내동)  1559  N   GS칼텍스  강동구\n",
       "3                광성주유소   서울 강동구 올림픽로 673 (천호동)  1578  N   S-OIL  강동구\n",
       "4  (주)소모에너지엔테크놀러지성내주유소   서울 강동구 올림픽로 578 (성내동)  1588  Y   GS칼텍스  강동구"
      ]
     },
     "execution_count": 19,
     "metadata": {},
     "output_type": "execute_result"
    }
   ],
   "source": [
    "stations['구'] = [eachAddress.split()[1] for eachAddress in stations['주소']]\n",
    "stations.head()"
   ]
  },
  {
   "cell_type": "markdown",
   "metadata": {},
   "source": [
    "- 구 이름들만 잘 불러와졌는지 확인해보자!\n",
    "    - '서울특별시'와 '특별시'는 구 이름이 아닌데도 포함되어 있으므로, 수정 작업이 필요하다!!"
   ]
  },
  {
   "cell_type": "code",
   "execution_count": 20,
   "metadata": {
    "ExecuteTime": {
     "end_time": "2020-06-01T03:40:41.694526Z",
     "start_time": "2020-06-01T03:40:41.687547Z"
    }
   },
   "outputs": [
    {
     "data": {
      "text/plain": [
       "array(['강동구', '동대문구', '동작구', '마포구', '서대문구', '서초구', '성동구', '서울특별시', '성북구',\n",
       "       '송파구', '양천구', '영등포구', '강북구', '용산구', '은평구', '종로구', '중구', '중랑구',\n",
       "       '강서구', '관악구', '광진구', '구로구', '금천구', '노원구', '도봉구', '특별시', '강남구'],\n",
       "      dtype=object)"
      ]
     },
     "execution_count": 20,
     "metadata": {},
     "output_type": "execute_result"
    }
   ],
   "source": [
    "stations['구'].unique()"
   ]
  },
  {
   "cell_type": "code",
   "execution_count": 21,
   "metadata": {
    "ExecuteTime": {
     "end_time": "2020-06-01T03:40:42.037398Z",
     "start_time": "2020-06-01T03:40:42.020443Z"
    }
   },
   "outputs": [
    {
     "data": {
      "text/html": [
       "<div>\n",
       "<style scoped>\n",
       "    .dataframe tbody tr th:only-of-type {\n",
       "        vertical-align: middle;\n",
       "    }\n",
       "\n",
       "    .dataframe tbody tr th {\n",
       "        vertical-align: top;\n",
       "    }\n",
       "\n",
       "    .dataframe thead th {\n",
       "        text-align: right;\n",
       "    }\n",
       "</style>\n",
       "<table border=\"1\" class=\"dataframe\">\n",
       "  <thead>\n",
       "    <tr style=\"text-align: right;\">\n",
       "      <th></th>\n",
       "      <th>Oil_store</th>\n",
       "      <th>주소</th>\n",
       "      <th>가격</th>\n",
       "      <th>셀프</th>\n",
       "      <th>상표</th>\n",
       "      <th>구</th>\n",
       "    </tr>\n",
       "  </thead>\n",
       "  <tbody>\n",
       "    <tr>\n",
       "      <th>12</th>\n",
       "      <td>SK네트웍스(주)효진주유소</td>\n",
       "      <td>1 서울특별시 성동구 동일로 129 (성수동2가)</td>\n",
       "      <td>1654</td>\n",
       "      <td>N</td>\n",
       "      <td>SK에너지</td>\n",
       "      <td>서울특별시</td>\n",
       "    </tr>\n",
       "  </tbody>\n",
       "</table>\n",
       "</div>"
      ],
      "text/plain": [
       "         Oil_store                           주소    가격 셀프     상표      구\n",
       "12  SK네트웍스(주)효진주유소  1 서울특별시 성동구 동일로 129 (성수동2가)  1654  N  SK에너지  서울특별시"
      ]
     },
     "execution_count": 21,
     "metadata": {},
     "output_type": "execute_result"
    }
   ],
   "source": [
    "stations[stations['구'] == '서울특별시']"
   ]
  },
  {
   "cell_type": "code",
   "execution_count": 22,
   "metadata": {
    "ExecuteTime": {
     "end_time": "2020-06-01T03:40:42.548696Z",
     "start_time": "2020-06-01T03:40:42.538724Z"
    }
   },
   "outputs": [
    {
     "data": {
      "text/plain": [
       "array(['강동구', '동대문구', '동작구', '마포구', '서대문구', '서초구', '성동구', '성북구', '송파구',\n",
       "       '양천구', '영등포구', '강북구', '용산구', '은평구', '종로구', '중구', '중랑구', '강서구',\n",
       "       '관악구', '광진구', '구로구', '금천구', '노원구', '도봉구', '특별시', '강남구'],\n",
       "      dtype=object)"
      ]
     },
     "execution_count": 22,
     "metadata": {},
     "output_type": "execute_result"
    }
   ],
   "source": [
    "stations.loc[stations['구'] == '서울특별시', '구'] = '성동구'\n",
    "stations['구'].unique()"
   ]
  },
  {
   "cell_type": "code",
   "execution_count": 23,
   "metadata": {
    "ExecuteTime": {
     "end_time": "2020-06-01T03:40:42.955883Z",
     "start_time": "2020-06-01T03:40:42.940920Z"
    }
   },
   "outputs": [
    {
     "data": {
      "text/html": [
       "<div>\n",
       "<style scoped>\n",
       "    .dataframe tbody tr th:only-of-type {\n",
       "        vertical-align: middle;\n",
       "    }\n",
       "\n",
       "    .dataframe tbody tr th {\n",
       "        vertical-align: top;\n",
       "    }\n",
       "\n",
       "    .dataframe thead th {\n",
       "        text-align: right;\n",
       "    }\n",
       "</style>\n",
       "<table border=\"1\" class=\"dataframe\">\n",
       "  <thead>\n",
       "    <tr style=\"text-align: right;\">\n",
       "      <th></th>\n",
       "      <th>Oil_store</th>\n",
       "      <th>주소</th>\n",
       "      <th>가격</th>\n",
       "      <th>셀프</th>\n",
       "      <th>상표</th>\n",
       "      <th>구</th>\n",
       "    </tr>\n",
       "  </thead>\n",
       "  <tbody>\n",
       "    <tr>\n",
       "      <th>10</th>\n",
       "      <td>서현주유소</td>\n",
       "      <td>서울 특별시 도봉구 방학로 142 (방학동)</td>\n",
       "      <td>1524</td>\n",
       "      <td>Y</td>\n",
       "      <td>S-OIL</td>\n",
       "      <td>특별시</td>\n",
       "    </tr>\n",
       "  </tbody>\n",
       "</table>\n",
       "</div>"
      ],
      "text/plain": [
       "   Oil_store                        주소    가격 셀프     상표    구\n",
       "10     서현주유소  서울 특별시 도봉구 방학로 142 (방학동)  1524  Y  S-OIL  특별시"
      ]
     },
     "execution_count": 23,
     "metadata": {},
     "output_type": "execute_result"
    }
   ],
   "source": [
    "stations[stations['구'] == '특별시']"
   ]
  },
  {
   "cell_type": "code",
   "execution_count": 24,
   "metadata": {
    "ExecuteTime": {
     "end_time": "2020-06-01T03:40:43.319940Z",
     "start_time": "2020-06-01T03:40:43.309967Z"
    }
   },
   "outputs": [
    {
     "data": {
      "text/plain": [
       "array(['강동구', '동대문구', '동작구', '마포구', '서대문구', '서초구', '성동구', '성북구', '송파구',\n",
       "       '양천구', '영등포구', '강북구', '용산구', '은평구', '종로구', '중구', '중랑구', '강서구',\n",
       "       '관악구', '광진구', '구로구', '금천구', '노원구', '도봉구', '강남구'], dtype=object)"
      ]
     },
     "execution_count": 24,
     "metadata": {},
     "output_type": "execute_result"
    }
   ],
   "source": [
    "stations.loc[stations['구'] == '특별시', '구'] = '도봉구'\n",
    "stations['구'].unique()"
   ]
  },
  {
   "cell_type": "markdown",
   "metadata": {},
   "source": [
    "**앞서 언급했던, '가격' 컬럼이 숫자형이 아니었던 문제를 해결해주자!**\n",
    "- '가격' 컬럼의 자료형을 변경해주기 전에, 가격이 기록되지 않은 경우 '-' 문자를 기입해주었는데 이 부분을 해결해주겠다\n",
    "- 가격이 기록되지 않은 주유소들에 대해 가격 정보를 하나하나 확인해 볼 수는 없으므로, 해당 주유소들은 분석 대상에서 제외시키겠다"
   ]
  },
  {
   "cell_type": "code",
   "execution_count": 25,
   "metadata": {
    "ExecuteTime": {
     "end_time": "2020-06-01T03:40:44.140803Z",
     "start_time": "2020-06-01T03:40:44.120859Z"
    },
    "scrolled": true
   },
   "outputs": [
    {
     "data": {
      "text/html": [
       "<div>\n",
       "<style scoped>\n",
       "    .dataframe tbody tr th:only-of-type {\n",
       "        vertical-align: middle;\n",
       "    }\n",
       "\n",
       "    .dataframe tbody tr th {\n",
       "        vertical-align: top;\n",
       "    }\n",
       "\n",
       "    .dataframe thead th {\n",
       "        text-align: right;\n",
       "    }\n",
       "</style>\n",
       "<table border=\"1\" class=\"dataframe\">\n",
       "  <thead>\n",
       "    <tr style=\"text-align: right;\">\n",
       "      <th></th>\n",
       "      <th>Oil_store</th>\n",
       "      <th>주소</th>\n",
       "      <th>가격</th>\n",
       "      <th>셀프</th>\n",
       "      <th>상표</th>\n",
       "      <th>구</th>\n",
       "    </tr>\n",
       "  </thead>\n",
       "  <tbody>\n",
       "    <tr>\n",
       "      <th>18</th>\n",
       "      <td>명진석유(주)동서울주유소</td>\n",
       "      <td>서울특별시 강동구  천호대로 1456 (상일동)</td>\n",
       "      <td>-</td>\n",
       "      <td>Y</td>\n",
       "      <td>GS칼텍스</td>\n",
       "      <td>강동구</td>\n",
       "    </tr>\n",
       "    <tr>\n",
       "      <th>33</th>\n",
       "      <td>하나주유소</td>\n",
       "      <td>서울특별시 영등포구  도림로 236 (신길동)</td>\n",
       "      <td>-</td>\n",
       "      <td>N</td>\n",
       "      <td>S-OIL</td>\n",
       "      <td>영등포구</td>\n",
       "    </tr>\n",
       "    <tr>\n",
       "      <th>12</th>\n",
       "      <td>(주)에이앤이청담주유소</td>\n",
       "      <td>서울특별시 강북구 도봉로 155  (미아동)</td>\n",
       "      <td>-</td>\n",
       "      <td>Y</td>\n",
       "      <td>SK에너지</td>\n",
       "      <td>강북구</td>\n",
       "    </tr>\n",
       "    <tr>\n",
       "      <th>13</th>\n",
       "      <td>송정주유소</td>\n",
       "      <td>서울특별시 강북구 인수봉로 185 (수유동)</td>\n",
       "      <td>-</td>\n",
       "      <td>N</td>\n",
       "      <td>자가상표</td>\n",
       "      <td>강북구</td>\n",
       "    </tr>\n",
       "  </tbody>\n",
       "</table>\n",
       "</div>"
      ],
      "text/plain": [
       "        Oil_store                          주소 가격 셀프     상표     구\n",
       "18  명진석유(주)동서울주유소  서울특별시 강동구  천호대로 1456 (상일동)  -  Y  GS칼텍스   강동구\n",
       "33          하나주유소   서울특별시 영등포구  도림로 236 (신길동)  -  N  S-OIL  영등포구\n",
       "12   (주)에이앤이청담주유소    서울특별시 강북구 도봉로 155  (미아동)  -  Y  SK에너지   강북구\n",
       "13          송정주유소    서울특별시 강북구 인수봉로 185 (수유동)  -  N   자가상표   강북구"
      ]
     },
     "execution_count": 25,
     "metadata": {},
     "output_type": "execute_result"
    }
   ],
   "source": [
    "stations[stations['가격'] == '-']"
   ]
  },
  {
   "cell_type": "code",
   "execution_count": 26,
   "metadata": {
    "ExecuteTime": {
     "end_time": "2020-06-01T03:40:44.504882Z",
     "start_time": "2020-06-01T03:40:44.487929Z"
    }
   },
   "outputs": [
    {
     "data": {
      "text/html": [
       "<div>\n",
       "<style scoped>\n",
       "    .dataframe tbody tr th:only-of-type {\n",
       "        vertical-align: middle;\n",
       "    }\n",
       "\n",
       "    .dataframe tbody tr th {\n",
       "        vertical-align: top;\n",
       "    }\n",
       "\n",
       "    .dataframe thead th {\n",
       "        text-align: right;\n",
       "    }\n",
       "</style>\n",
       "<table border=\"1\" class=\"dataframe\">\n",
       "  <thead>\n",
       "    <tr style=\"text-align: right;\">\n",
       "      <th></th>\n",
       "      <th>Oil_store</th>\n",
       "      <th>주소</th>\n",
       "      <th>가격</th>\n",
       "      <th>셀프</th>\n",
       "      <th>상표</th>\n",
       "      <th>구</th>\n",
       "    </tr>\n",
       "  </thead>\n",
       "  <tbody>\n",
       "    <tr>\n",
       "      <th>0</th>\n",
       "      <td>오렌지주유소</td>\n",
       "      <td>서울 강동구 성안로 102 (성내동)</td>\n",
       "      <td>1554</td>\n",
       "      <td>N</td>\n",
       "      <td>SK에너지</td>\n",
       "      <td>강동구</td>\n",
       "    </tr>\n",
       "    <tr>\n",
       "      <th>1</th>\n",
       "      <td>구천면주유소</td>\n",
       "      <td>서울 강동구 구천면로 357 (암사동)</td>\n",
       "      <td>1556</td>\n",
       "      <td>N</td>\n",
       "      <td>현대오일뱅크</td>\n",
       "      <td>강동구</td>\n",
       "    </tr>\n",
       "    <tr>\n",
       "      <th>2</th>\n",
       "      <td>GS칼텍스㈜직영 신월주유소</td>\n",
       "      <td>서울 강동구 양재대로 1323 (성내동)</td>\n",
       "      <td>1559</td>\n",
       "      <td>N</td>\n",
       "      <td>GS칼텍스</td>\n",
       "      <td>강동구</td>\n",
       "    </tr>\n",
       "    <tr>\n",
       "      <th>3</th>\n",
       "      <td>광성주유소</td>\n",
       "      <td>서울 강동구 올림픽로 673 (천호동)</td>\n",
       "      <td>1578</td>\n",
       "      <td>N</td>\n",
       "      <td>S-OIL</td>\n",
       "      <td>강동구</td>\n",
       "    </tr>\n",
       "    <tr>\n",
       "      <th>4</th>\n",
       "      <td>(주)소모에너지엔테크놀러지성내주유소</td>\n",
       "      <td>서울 강동구 올림픽로 578 (성내동)</td>\n",
       "      <td>1588</td>\n",
       "      <td>Y</td>\n",
       "      <td>GS칼텍스</td>\n",
       "      <td>강동구</td>\n",
       "    </tr>\n",
       "  </tbody>\n",
       "</table>\n",
       "</div>"
      ],
      "text/plain": [
       "             Oil_store                      주소    가격 셀프      상표    구\n",
       "0               오렌지주유소    서울 강동구 성안로 102 (성내동)  1554  N   SK에너지  강동구\n",
       "1               구천면주유소   서울 강동구 구천면로 357 (암사동)  1556  N  현대오일뱅크  강동구\n",
       "2       GS칼텍스㈜직영 신월주유소  서울 강동구 양재대로 1323 (성내동)  1559  N   GS칼텍스  강동구\n",
       "3                광성주유소   서울 강동구 올림픽로 673 (천호동)  1578  N   S-OIL  강동구\n",
       "4  (주)소모에너지엔테크놀러지성내주유소   서울 강동구 올림픽로 578 (성내동)  1588  Y   GS칼텍스  강동구"
      ]
     },
     "execution_count": 26,
     "metadata": {},
     "output_type": "execute_result"
    }
   ],
   "source": [
    "stations = stations[stations['가격'] != '-']\n",
    "stations.head()"
   ]
  },
  {
   "cell_type": "markdown",
   "metadata": {},
   "source": [
    "- 이제 '가격' 컬럼의 자료형을 'float형'으로 변경해주겠다"
   ]
  },
  {
   "cell_type": "code",
   "execution_count": 27,
   "metadata": {
    "ExecuteTime": {
     "end_time": "2020-06-01T03:40:45.310993Z",
     "start_time": "2020-06-01T03:40:45.304009Z"
    }
   },
   "outputs": [],
   "source": [
    "stations['가격'] = [float(value) for value in stations['가격']]"
   ]
  },
  {
   "cell_type": "markdown",
   "metadata": {},
   "source": [
    "- 다음으로 25개의 엑셀 파일을 ```concat``` 명령으로 합쳤기 때문에, index가 중복될 수 있다\n",
    "    - 따라서 ```reset_index``` 명령으로 index를 처음부터 다시 기록해주겠다\n",
    "    - index를 처음부터 다시 기록해주면, 'index'라는 컬럼이 하나 더 생성되므로 제거해주겠다"
   ]
  },
  {
   "cell_type": "code",
   "execution_count": 28,
   "metadata": {
    "ExecuteTime": {
     "end_time": "2020-06-01T03:40:46.049668Z",
     "start_time": "2020-06-01T03:40:46.042727Z"
    }
   },
   "outputs": [],
   "source": [
    "stations.reset_index(inplace = True)\n",
    "del stations['index']"
   ]
  },
  {
   "cell_type": "code",
   "execution_count": 29,
   "metadata": {
    "ExecuteTime": {
     "end_time": "2020-06-01T03:40:46.422487Z",
     "start_time": "2020-06-01T03:40:46.409522Z"
    }
   },
   "outputs": [
    {
     "data": {
      "text/html": [
       "<div>\n",
       "<style scoped>\n",
       "    .dataframe tbody tr th:only-of-type {\n",
       "        vertical-align: middle;\n",
       "    }\n",
       "\n",
       "    .dataframe tbody tr th {\n",
       "        vertical-align: top;\n",
       "    }\n",
       "\n",
       "    .dataframe thead th {\n",
       "        text-align: right;\n",
       "    }\n",
       "</style>\n",
       "<table border=\"1\" class=\"dataframe\">\n",
       "  <thead>\n",
       "    <tr style=\"text-align: right;\">\n",
       "      <th></th>\n",
       "      <th>Oil_store</th>\n",
       "      <th>주소</th>\n",
       "      <th>가격</th>\n",
       "      <th>셀프</th>\n",
       "      <th>상표</th>\n",
       "      <th>구</th>\n",
       "    </tr>\n",
       "  </thead>\n",
       "  <tbody>\n",
       "    <tr>\n",
       "      <th>0</th>\n",
       "      <td>오렌지주유소</td>\n",
       "      <td>서울 강동구 성안로 102 (성내동)</td>\n",
       "      <td>1554.0</td>\n",
       "      <td>N</td>\n",
       "      <td>SK에너지</td>\n",
       "      <td>강동구</td>\n",
       "    </tr>\n",
       "    <tr>\n",
       "      <th>1</th>\n",
       "      <td>구천면주유소</td>\n",
       "      <td>서울 강동구 구천면로 357 (암사동)</td>\n",
       "      <td>1556.0</td>\n",
       "      <td>N</td>\n",
       "      <td>현대오일뱅크</td>\n",
       "      <td>강동구</td>\n",
       "    </tr>\n",
       "    <tr>\n",
       "      <th>2</th>\n",
       "      <td>GS칼텍스㈜직영 신월주유소</td>\n",
       "      <td>서울 강동구 양재대로 1323 (성내동)</td>\n",
       "      <td>1559.0</td>\n",
       "      <td>N</td>\n",
       "      <td>GS칼텍스</td>\n",
       "      <td>강동구</td>\n",
       "    </tr>\n",
       "    <tr>\n",
       "      <th>3</th>\n",
       "      <td>광성주유소</td>\n",
       "      <td>서울 강동구 올림픽로 673 (천호동)</td>\n",
       "      <td>1578.0</td>\n",
       "      <td>N</td>\n",
       "      <td>S-OIL</td>\n",
       "      <td>강동구</td>\n",
       "    </tr>\n",
       "    <tr>\n",
       "      <th>4</th>\n",
       "      <td>(주)소모에너지엔테크놀러지성내주유소</td>\n",
       "      <td>서울 강동구 올림픽로 578 (성내동)</td>\n",
       "      <td>1588.0</td>\n",
       "      <td>Y</td>\n",
       "      <td>GS칼텍스</td>\n",
       "      <td>강동구</td>\n",
       "    </tr>\n",
       "  </tbody>\n",
       "</table>\n",
       "</div>"
      ],
      "text/plain": [
       "             Oil_store                      주소      가격 셀프      상표    구\n",
       "0               오렌지주유소    서울 강동구 성안로 102 (성내동)  1554.0  N   SK에너지  강동구\n",
       "1               구천면주유소   서울 강동구 구천면로 357 (암사동)  1556.0  N  현대오일뱅크  강동구\n",
       "2       GS칼텍스㈜직영 신월주유소  서울 강동구 양재대로 1323 (성내동)  1559.0  N   GS칼텍스  강동구\n",
       "3                광성주유소   서울 강동구 올림픽로 673 (천호동)  1578.0  N   S-OIL  강동구\n",
       "4  (주)소모에너지엔테크놀러지성내주유소   서울 강동구 올림픽로 578 (성내동)  1588.0  Y   GS칼텍스  강동구"
      ]
     },
     "execution_count": 29,
     "metadata": {},
     "output_type": "execute_result"
    }
   ],
   "source": [
    "stations.head()"
   ]
  },
  {
   "cell_type": "code",
   "execution_count": 30,
   "metadata": {
    "ExecuteTime": {
     "end_time": "2020-06-01T03:40:46.861990Z",
     "start_time": "2020-06-01T03:40:46.853006Z"
    }
   },
   "outputs": [
    {
     "name": "stdout",
     "output_type": "stream",
     "text": [
      "<class 'pandas.core.frame.DataFrame'>\n",
      "RangeIndex: 533 entries, 0 to 532\n",
      "Data columns (total 6 columns):\n",
      " #   Column     Non-Null Count  Dtype  \n",
      "---  ------     --------------  -----  \n",
      " 0   Oil_store  533 non-null    object \n",
      " 1   주소         533 non-null    object \n",
      " 2   가격         533 non-null    float64\n",
      " 3   셀프         533 non-null    object \n",
      " 4   상표         533 non-null    object \n",
      " 5   구          533 non-null    object \n",
      "dtypes: float64(1), object(5)\n",
      "memory usage: 25.1+ KB\n"
     ]
    }
   ],
   "source": [
    "stations.info()"
   ]
  },
  {
   "cell_type": "markdown",
   "metadata": {},
   "source": [
    "## 셀프 주유소는 정말 저렴한지 boxplot으로 확인하기"
   ]
  },
  {
   "cell_type": "markdown",
   "metadata": {},
   "source": [
    "**아래의 코드는 시각화할 때, 한글 문제를 해결해주기 위한 코드이다**"
   ]
  },
  {
   "cell_type": "code",
   "execution_count": 31,
   "metadata": {
    "ExecuteTime": {
     "end_time": "2020-06-01T03:40:49.341315Z",
     "start_time": "2020-06-01T03:40:48.509293Z"
    }
   },
   "outputs": [],
   "source": [
    "import matplotlib.pyplot as plt\n",
    "import seaborn as sns\n",
    "%matplotlib inline\n",
    "\n",
    "import platform\n",
    "\n",
    "path = \"c:/Windows/Fonts/malgun.ttf\"\n",
    "from matplotlib import font_manager, rc\n",
    "if platform.system() == 'Darwin':\n",
    "    rc('font', family='AppleGothic')\n",
    "elif platform.system() == 'Windows':\n",
    "    font_name = font_manager.FontProperties(fname=path).get_name()\n",
    "    rc('font', family = font_name)\n",
    "else:\n",
    "    print('Unknown system... sorry~~~~') "
   ]
  },
  {
   "cell_type": "markdown",
   "metadata": {},
   "source": [
    "**'셀프 여부'에 따른 휘발유 '가격'을 boxplot으로 시각화**\n",
    "- 결과를 보면, 셀프 주유소의 휘발유 가격이 더 저렴한 것을 확인할 수 있다"
   ]
  },
  {
   "cell_type": "code",
   "execution_count": 32,
   "metadata": {
    "ExecuteTime": {
     "end_time": "2020-06-01T03:40:50.496494Z",
     "start_time": "2020-06-01T03:40:50.279074Z"
    }
   },
   "outputs": [
    {
     "data": {
      "text/plain": [
       "<matplotlib.axes._subplots.AxesSubplot at 0x196fd6ebe88>"
      ]
     },
     "execution_count": 32,
     "metadata": {},
     "output_type": "execute_result"
    },
    {
     "data": {
      "image/png": "[encoded data removed]",
      "text/plain": [
       "<Figure size 864x576 with 1 Axes>"
      ]
     },
     "metadata": {
      "needs_background": "light"
     },
     "output_type": "display_data"
    }
   ],
   "source": [
    "stations.boxplot(column = '가격', by = '셀프', figsize = (12, 8))"
   ]
  },
  {
   "cell_type": "markdown",
   "metadata": {},
   "source": [
    "**좀 더 구체적으로 확인해보기 위해, 주유소의 상표별로 셀프 주유소가 얼마나 저렴한지 확인**\n",
    "- SK에너지, 현대오일뱅크, GS칼텍스, S-Oil 모두 셀프 주유소가 더 저렴한 것을 확인할 수 있다\n",
    "- 또한 SK에너지의 휘발유 가격이 비교적 높은 편이며, 현대오일뱅크의 휘발유 가격이 비교적 저렴한 것도 알 수 있었다\n",
    "    - SK에너지의 휘발유 가격은 왜 더 비싸지..? (앞으로 주유소는 현대오일뱅크로 가야겠다 ㅎㅎㅎ)"
   ]
  },
  {
   "cell_type": "code",
   "execution_count": 33,
   "metadata": {
    "ExecuteTime": {
     "end_time": "2020-06-01T03:40:51.936039Z",
     "start_time": "2020-06-01T03:40:51.532332Z"
    }
   },
   "outputs": [
    {
     "data": {
      "image/png": "[encoded data removed]",
      "text/plain": [
       "<Figure size 864x576 with 1 Axes>"
      ]
     },
     "metadata": {
      "needs_background": "light"
     },
     "output_type": "display_data"
    }
   ],
   "source": [
    "plt.figure(figsize = (12, 8))\n",
    "sns.boxplot(x = '상표', y = '가격', hue = '셀프', data = stations, palette = 'Set3')\n",
    "plt.show()"
   ]
  },
  {
   "cell_type": "markdown",
   "metadata": {},
   "source": [
    "**```Swarmplot```으로 데이터의 분포를 좀 더 확실하게 확인해보기**\n",
    "- Swarmplot 은 category 값에 따른 각 분포의 실제 데이터나 전체 형상을 보여준다"
   ]
  },
  {
   "cell_type": "code",
   "execution_count": 34,
   "metadata": {
    "ExecuteTime": {
     "end_time": "2020-06-01T03:40:53.298616Z",
     "start_time": "2020-06-01T03:40:52.821260Z"
    }
   },
   "outputs": [
    {
     "data": {
      "image/png": "[encoded data removed]",
      "text/plain": [
       "<Figure size 864x576 with 1 Axes>"
      ]
     },
     "metadata": {
      "needs_background": "light"
     },
     "output_type": "display_data"
    }
   ],
   "source": [
    "plt.figure(figsize = (12, 8))\n",
    "sns.boxplot(x = '상표', y = '가격', data = stations, palette = 'Set3')\n",
    "sns.swarmplot(x = '상표', y = '가격', data = stations, color = '0.6')\n",
    "plt.show()"
   ]
  },
  {
   "cell_type": "markdown",
   "metadata": {},
   "source": [
    "## 서울시 구별 주유 가격 확인하기\n",
    "- 이제 지도 시각화를 통해, 서울시에서 주유 가격이 비싼 주유소들을 확인해보겠다"
   ]
  },
  {
   "cell_type": "code",
   "execution_count": 35,
   "metadata": {
    "ExecuteTime": {
     "end_time": "2020-06-01T03:40:54.624619Z",
     "start_time": "2020-06-01T03:40:54.229948Z"
    }
   },
   "outputs": [],
   "source": [
    "import json\n",
    "import folium\n",
    "import googlemaps\n",
    "import warnings\n",
    "warnings.simplefilter(action = 'ignore', category = FutureWarning)"
   ]
  },
  {
   "cell_type": "markdown",
   "metadata": {},
   "source": [
    "**서울시에서 주유 가격이 비싼 상위 10개의 주유소를 확인해보자!**\n",
    "- 역시나 SK에너지...가 상위 10개를 모두 차지했다"
   ]
  },
  {
   "cell_type": "code",
   "execution_count": 36,
   "metadata": {
    "ExecuteTime": {
     "end_time": "2020-06-01T03:40:55.686418Z",
     "start_time": "2020-06-01T03:40:55.666507Z"
    }
   },
   "outputs": [
    {
     "data": {
      "text/html": [
       "<div>\n",
       "<style scoped>\n",
       "    .dataframe tbody tr th:only-of-type {\n",
       "        vertical-align: middle;\n",
       "    }\n",
       "\n",
       "    .dataframe tbody tr th {\n",
       "        vertical-align: top;\n",
       "    }\n",
       "\n",
       "    .dataframe thead th {\n",
       "        text-align: right;\n",
       "    }\n",
       "</style>\n",
       "<table border=\"1\" class=\"dataframe\">\n",
       "  <thead>\n",
       "    <tr style=\"text-align: right;\">\n",
       "      <th></th>\n",
       "      <th>Oil_store</th>\n",
       "      <th>주소</th>\n",
       "      <th>가격</th>\n",
       "      <th>셀프</th>\n",
       "      <th>상표</th>\n",
       "      <th>구</th>\n",
       "    </tr>\n",
       "  </thead>\n",
       "  <tbody>\n",
       "    <tr>\n",
       "      <th>325</th>\n",
       "      <td>서남주유소</td>\n",
       "      <td>서울 중구 통일로 30 (봉래동1가)</td>\n",
       "      <td>2132.0</td>\n",
       "      <td>N</td>\n",
       "      <td>SK에너지</td>\n",
       "      <td>중구</td>\n",
       "    </tr>\n",
       "    <tr>\n",
       "      <th>324</th>\n",
       "      <td>장충주유소</td>\n",
       "      <td>서울 중구 장충단로 202 (장충동1가)</td>\n",
       "      <td>2130.0</td>\n",
       "      <td>N</td>\n",
       "      <td>SK에너지</td>\n",
       "      <td>중구</td>\n",
       "    </tr>\n",
       "    <tr>\n",
       "      <th>124</th>\n",
       "      <td>양재주유소</td>\n",
       "      <td>서울 서초구 바우뫼로 178 (양재동)</td>\n",
       "      <td>2128.0</td>\n",
       "      <td>N</td>\n",
       "      <td>SK에너지</td>\n",
       "      <td>서초구</td>\n",
       "    </tr>\n",
       "    <tr>\n",
       "      <th>532</th>\n",
       "      <td>뉴서울(강남)</td>\n",
       "      <td>서울 강남구 언주로 716 (논현동)</td>\n",
       "      <td>2120.0</td>\n",
       "      <td>N</td>\n",
       "      <td>SK에너지</td>\n",
       "      <td>강남구</td>\n",
       "    </tr>\n",
       "    <tr>\n",
       "      <th>531</th>\n",
       "      <td>오천주유소</td>\n",
       "      <td>서울 강남구 봉은사로 503 (삼성동)</td>\n",
       "      <td>2107.0</td>\n",
       "      <td>N</td>\n",
       "      <td>SK에너지</td>\n",
       "      <td>강남구</td>\n",
       "    </tr>\n",
       "    <tr>\n",
       "      <th>313</th>\n",
       "      <td>재동주유소</td>\n",
       "      <td>서울특별시 종로구  율곡로 58 (경운동)</td>\n",
       "      <td>2106.0</td>\n",
       "      <td>N</td>\n",
       "      <td>SK에너지</td>\n",
       "      <td>종로구</td>\n",
       "    </tr>\n",
       "    <tr>\n",
       "      <th>285</th>\n",
       "      <td>청파주유소</td>\n",
       "      <td>서울특별시 용산구  청파로 311 (청파동1가)</td>\n",
       "      <td>2106.0</td>\n",
       "      <td>N</td>\n",
       "      <td>SK에너지</td>\n",
       "      <td>용산구</td>\n",
       "    </tr>\n",
       "    <tr>\n",
       "      <th>284</th>\n",
       "      <td>갈월동주유소</td>\n",
       "      <td>서울특별시 용산구  한강대로 322 (갈월동)</td>\n",
       "      <td>2106.0</td>\n",
       "      <td>N</td>\n",
       "      <td>SK에너지</td>\n",
       "      <td>용산구</td>\n",
       "    </tr>\n",
       "    <tr>\n",
       "      <th>283</th>\n",
       "      <td>강변주유소</td>\n",
       "      <td>서울특별시 용산구  원효로 9 (청암동)</td>\n",
       "      <td>2106.0</td>\n",
       "      <td>N</td>\n",
       "      <td>SK에너지</td>\n",
       "      <td>용산구</td>\n",
       "    </tr>\n",
       "    <tr>\n",
       "      <th>323</th>\n",
       "      <td>통일주유소</td>\n",
       "      <td>서울 중구 동호로 296 (장충동2가)</td>\n",
       "      <td>2106.0</td>\n",
       "      <td>N</td>\n",
       "      <td>SK에너지</td>\n",
       "      <td>중구</td>\n",
       "    </tr>\n",
       "  </tbody>\n",
       "</table>\n",
       "</div>"
      ],
      "text/plain": [
       "    Oil_store                          주소      가격 셀프     상표    구\n",
       "325     서남주유소        서울 중구 통일로 30 (봉래동1가)  2132.0  N  SK에너지   중구\n",
       "324     장충주유소      서울 중구 장충단로 202 (장충동1가)  2130.0  N  SK에너지   중구\n",
       "124     양재주유소       서울 서초구 바우뫼로 178 (양재동)  2128.0  N  SK에너지  서초구\n",
       "532   뉴서울(강남)        서울 강남구 언주로 716 (논현동)  2120.0  N  SK에너지  강남구\n",
       "531     오천주유소       서울 강남구 봉은사로 503 (삼성동)  2107.0  N  SK에너지  강남구\n",
       "313     재동주유소     서울특별시 종로구  율곡로 58 (경운동)  2106.0  N  SK에너지  종로구\n",
       "285     청파주유소  서울특별시 용산구  청파로 311 (청파동1가)  2106.0  N  SK에너지  용산구\n",
       "284    갈월동주유소   서울특별시 용산구  한강대로 322 (갈월동)  2106.0  N  SK에너지  용산구\n",
       "283     강변주유소      서울특별시 용산구  원효로 9 (청암동)  2106.0  N  SK에너지  용산구\n",
       "323     통일주유소       서울 중구 동호로 296 (장충동2가)  2106.0  N  SK에너지   중구"
      ]
     },
     "execution_count": 36,
     "metadata": {},
     "output_type": "execute_result"
    }
   ],
   "source": [
    "stations.sort_values(by = '가격', ascending = False).head(10)"
   ]
  },
  {
   "cell_type": "markdown",
   "metadata": {},
   "source": [
    "**이번에는 서울시에서 주유 가격이 저렴한 하위 10개의 주유소들을 확인해보자!**"
   ]
  },
  {
   "cell_type": "code",
   "execution_count": 37,
   "metadata": {
    "ExecuteTime": {
     "end_time": "2020-06-01T03:40:56.498381Z",
     "start_time": "2020-06-01T03:40:56.477473Z"
    }
   },
   "outputs": [
    {
     "data": {
      "text/html": [
       "<div>\n",
       "<style scoped>\n",
       "    .dataframe tbody tr th:only-of-type {\n",
       "        vertical-align: middle;\n",
       "    }\n",
       "\n",
       "    .dataframe tbody tr th {\n",
       "        vertical-align: top;\n",
       "    }\n",
       "\n",
       "    .dataframe thead th {\n",
       "        text-align: right;\n",
       "    }\n",
       "</style>\n",
       "<table border=\"1\" class=\"dataframe\">\n",
       "  <thead>\n",
       "    <tr style=\"text-align: right;\">\n",
       "      <th></th>\n",
       "      <th>Oil_store</th>\n",
       "      <th>주소</th>\n",
       "      <th>가격</th>\n",
       "      <th>셀프</th>\n",
       "      <th>상표</th>\n",
       "      <th>구</th>\n",
       "    </tr>\n",
       "  </thead>\n",
       "  <tbody>\n",
       "    <tr>\n",
       "      <th>83</th>\n",
       "      <td>만남의광장주유소</td>\n",
       "      <td>서울 서초구 양재대로12길 73-71 (원지동)</td>\n",
       "      <td>1490.0</td>\n",
       "      <td>N</td>\n",
       "      <td>알뜰(ex)</td>\n",
       "      <td>서초구</td>\n",
       "    </tr>\n",
       "    <tr>\n",
       "      <th>344</th>\n",
       "      <td>강서오곡셀프주유소</td>\n",
       "      <td>서울특별시 강서구 벌말로 254 (오곡동)</td>\n",
       "      <td>1497.0</td>\n",
       "      <td>Y</td>\n",
       "      <td>SK에너지</td>\n",
       "      <td>강서구</td>\n",
       "    </tr>\n",
       "    <tr>\n",
       "      <th>451</th>\n",
       "      <td>태릉솔밭주유소</td>\n",
       "      <td>서울특별시 노원구 노원로 49 (공릉동)</td>\n",
       "      <td>1497.0</td>\n",
       "      <td>Y</td>\n",
       "      <td>S-OIL</td>\n",
       "      <td>노원구</td>\n",
       "    </tr>\n",
       "    <tr>\n",
       "      <th>258</th>\n",
       "      <td>수유동주유소</td>\n",
       "      <td>서울특별시 강북구  도봉로 395 (수유동)</td>\n",
       "      <td>1498.0</td>\n",
       "      <td>Y</td>\n",
       "      <td>GS칼텍스</td>\n",
       "      <td>강북구</td>\n",
       "    </tr>\n",
       "    <tr>\n",
       "      <th>227</th>\n",
       "      <td>(주)강서오일</td>\n",
       "      <td>서울 영등포구 도신로 151 (도림동)</td>\n",
       "      <td>1499.0</td>\n",
       "      <td>N</td>\n",
       "      <td>현대오일뱅크</td>\n",
       "      <td>영등포구</td>\n",
       "    </tr>\n",
       "    <tr>\n",
       "      <th>225</th>\n",
       "      <td>도림주유소</td>\n",
       "      <td>서울 영등포구 도림로 343 (도림동)</td>\n",
       "      <td>1499.0</td>\n",
       "      <td>Y</td>\n",
       "      <td>알뜰주유소</td>\n",
       "      <td>영등포구</td>\n",
       "    </tr>\n",
       "    <tr>\n",
       "      <th>226</th>\n",
       "      <td>(주)대청에너지 대청주유소</td>\n",
       "      <td>서울 영등포구 가마산로 328 (대림동)</td>\n",
       "      <td>1499.0</td>\n",
       "      <td>N</td>\n",
       "      <td>GS칼텍스</td>\n",
       "      <td>영등포구</td>\n",
       "    </tr>\n",
       "    <tr>\n",
       "      <th>415</th>\n",
       "      <td>풀페이주유소</td>\n",
       "      <td>서울특별시 구로구 경인로 41 (온수동)</td>\n",
       "      <td>1499.0</td>\n",
       "      <td>N</td>\n",
       "      <td>SK에너지</td>\n",
       "      <td>구로구</td>\n",
       "    </tr>\n",
       "    <tr>\n",
       "      <th>326</th>\n",
       "      <td>신일셀프주유소</td>\n",
       "      <td>서울 중랑구 상봉로 58 (망우동)</td>\n",
       "      <td>1499.0</td>\n",
       "      <td>Y</td>\n",
       "      <td>SK에너지</td>\n",
       "      <td>중랑구</td>\n",
       "    </tr>\n",
       "    <tr>\n",
       "      <th>40</th>\n",
       "      <td>서경주유소</td>\n",
       "      <td>서울 동작구 대림로 46 (신대방동)</td>\n",
       "      <td>1499.0</td>\n",
       "      <td>N</td>\n",
       "      <td>현대오일뱅크</td>\n",
       "      <td>동작구</td>\n",
       "    </tr>\n",
       "  </tbody>\n",
       "</table>\n",
       "</div>"
      ],
      "text/plain": [
       "          Oil_store                          주소      가격 셀프      상표     구\n",
       "83         만남의광장주유소  서울 서초구 양재대로12길 73-71 (원지동)  1490.0  N  알뜰(ex)   서초구\n",
       "344       강서오곡셀프주유소     서울특별시 강서구 벌말로 254 (오곡동)  1497.0  Y   SK에너지   강서구\n",
       "451         태릉솔밭주유소      서울특별시 노원구 노원로 49 (공릉동)  1497.0  Y   S-OIL   노원구\n",
       "258          수유동주유소    서울특별시 강북구  도봉로 395 (수유동)  1498.0  Y   GS칼텍스   강북구\n",
       "227         (주)강서오일       서울 영등포구 도신로 151 (도림동)  1499.0  N  현대오일뱅크  영등포구\n",
       "225           도림주유소       서울 영등포구 도림로 343 (도림동)  1499.0  Y   알뜰주유소  영등포구\n",
       "226  (주)대청에너지 대청주유소      서울 영등포구 가마산로 328 (대림동)  1499.0  N   GS칼텍스  영등포구\n",
       "415          풀페이주유소      서울특별시 구로구 경인로 41 (온수동)  1499.0  N   SK에너지   구로구\n",
       "326         신일셀프주유소         서울 중랑구 상봉로 58 (망우동)  1499.0  Y   SK에너지   중랑구\n",
       "40            서경주유소        서울 동작구 대림로 46 (신대방동)  1499.0  N  현대오일뱅크   동작구"
      ]
     },
     "execution_count": 37,
     "metadata": {},
     "output_type": "execute_result"
    }
   ],
   "source": [
    "stations.sort_values(by = '가격', ascending = True).head(10)"
   ]
  },
  {
   "cell_type": "markdown",
   "metadata": {},
   "source": [
    "**```pivot_table```을 이용해서 구별 가격 정보를 확인**\n",
    "- 가격은 '평균값'으로 정리하겠다\n",
    "    - 역시 강남구의 평균 주유 가격이 제일 비싸다!\n",
    "    - 근데 강동구는 왜 2위지?? (한 때 살았던 동네가 이렇게 주유 가격이 비싼 동네였다니...)"
   ]
  },
  {
   "cell_type": "code",
   "execution_count": 38,
   "metadata": {
    "ExecuteTime": {
     "end_time": "2020-06-01T03:40:57.491087Z",
     "start_time": "2020-06-01T03:40:57.471142Z"
    }
   },
   "outputs": [
    {
     "data": {
      "text/html": [
       "<div>\n",
       "<style scoped>\n",
       "    .dataframe tbody tr th:only-of-type {\n",
       "        vertical-align: middle;\n",
       "    }\n",
       "\n",
       "    .dataframe tbody tr th {\n",
       "        vertical-align: top;\n",
       "    }\n",
       "\n",
       "    .dataframe thead th {\n",
       "        text-align: right;\n",
       "    }\n",
       "</style>\n",
       "<table border=\"1\" class=\"dataframe\">\n",
       "  <thead>\n",
       "    <tr style=\"text-align: right;\">\n",
       "      <th></th>\n",
       "      <th>가격</th>\n",
       "    </tr>\n",
       "    <tr>\n",
       "      <th>구</th>\n",
       "      <th></th>\n",
       "    </tr>\n",
       "  </thead>\n",
       "  <tbody>\n",
       "    <tr>\n",
       "      <th>강남구</th>\n",
       "      <td>1791.000000</td>\n",
       "    </tr>\n",
       "    <tr>\n",
       "      <th>강동구</th>\n",
       "      <td>1656.722222</td>\n",
       "    </tr>\n",
       "    <tr>\n",
       "      <th>강북구</th>\n",
       "      <td>1534.333333</td>\n",
       "    </tr>\n",
       "    <tr>\n",
       "      <th>강서구</th>\n",
       "      <td>1576.428571</td>\n",
       "    </tr>\n",
       "    <tr>\n",
       "      <th>관악구</th>\n",
       "      <td>1603.055556</td>\n",
       "    </tr>\n",
       "    <tr>\n",
       "      <th>광진구</th>\n",
       "      <td>1569.333333</td>\n",
       "    </tr>\n",
       "    <tr>\n",
       "      <th>구로구</th>\n",
       "      <td>1597.227273</td>\n",
       "    </tr>\n",
       "    <tr>\n",
       "      <th>금천구</th>\n",
       "      <td>1616.642857</td>\n",
       "    </tr>\n",
       "    <tr>\n",
       "      <th>노원구</th>\n",
       "      <td>1606.000000</td>\n",
       "    </tr>\n",
       "    <tr>\n",
       "      <th>도봉구</th>\n",
       "      <td>1553.800000</td>\n",
       "    </tr>\n",
       "  </tbody>\n",
       "</table>\n",
       "</div>"
      ],
      "text/plain": [
       "              가격\n",
       "구               \n",
       "강남구  1791.000000\n",
       "강동구  1656.722222\n",
       "강북구  1534.333333\n",
       "강서구  1576.428571\n",
       "관악구  1603.055556\n",
       "광진구  1569.333333\n",
       "구로구  1597.227273\n",
       "금천구  1616.642857\n",
       "노원구  1606.000000\n",
       "도봉구  1553.800000"
      ]
     },
     "execution_count": 38,
     "metadata": {},
     "output_type": "execute_result"
    }
   ],
   "source": [
    "import numpy as np\n",
    "\n",
    "gu_data = pd.pivot_table(stations, index = ['구'], values = ['가격'],\n",
    "                         aggfunc = np.mean)\n",
    "gu_data.head(10)"
   ]
  },
  {
   "cell_type": "markdown",
   "metadata": {},
   "source": [
    "**이제 위의 결과를 지도에 시각화해서 나타내보겠다!!**\n",
    "- 시각화 결과를 보면, 평균적으로 '강남구', '서초구', '중구', '종로구'의 주유 가격이 높은 것을 알 수 있다"
   ]
  },
  {
   "cell_type": "code",
   "execution_count": 39,
   "metadata": {
    "ExecuteTime": {
     "end_time": "2020-06-01T03:40:58.330378Z",
     "start_time": "2020-06-01T03:40:58.281509Z"
    }
   },
   "outputs": [
    {
     "data": {
      "text/html": [
       "<div style=\"width:100%;\"><div style=\"position:relative;width:100%;height:0;padding-bottom:60%;\"><span style=\"color:#565656\">Make this Notebook Trusted to load map: File -> Trust Notebook</span><iframe src=\"about:blank\" style=\"position:absolute;width:100%;height:100%;left:0;top:0;border:none !important;\" data-html=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 onload=\"this.contentDocument.open();this.contentDocument.write(atob(this.getAttribute('data-html')));this.contentDocument.close();\" allowfullscreen webkitallowfullscreen mozallowfullscreen></iframe></div></div>"
      ],
      "text/plain": [
       "<folium.folium.Map at 0x196fe97b0c8>"
      ]
     },
     "execution_count": 39,
     "metadata": {},
     "output_type": "execute_result"
    }
   ],
   "source": [
    "geo_path = \"../data/02. skorea_municipalities_geo_simple.json\"\n",
    "geo_str = json.load(open(geo_path, encoding = 'utf-8'))\n",
    "\n",
    "map = folium.Map(location = [37.5502, 126.982], zoom_start = 10.5,\n",
    "                 tiles = 'Stamen Toner')\n",
    "\n",
    "map.choropleth(geo_data = geo_str,\n",
    "               data = gu_data,\n",
    "               columns = [gu_data.index, '가격'],\n",
    "               fill_color = 'PuRd', # 'PuRd', 'YlGnBu'\n",
    "               key_on = 'feature.id')\n",
    "map"
   ]
  },
  {
   "cell_type": "markdown",
   "metadata": {},
   "source": [
    "## 서울시 주유 가격 상/하위 10개 주유소 지도에 표기하기"
   ]
  },
  {
   "cell_type": "markdown",
   "metadata": {},
   "source": [
    "- 서울시 주유 가격 상위 10개 주유소"
   ]
  },
  {
   "cell_type": "code",
   "execution_count": 40,
   "metadata": {
    "ExecuteTime": {
     "end_time": "2020-06-01T03:41:01.291259Z",
     "start_time": "2020-06-01T03:41:01.267325Z"
    }
   },
   "outputs": [
    {
     "data": {
      "text/html": [
       "<div>\n",
       "<style scoped>\n",
       "    .dataframe tbody tr th:only-of-type {\n",
       "        vertical-align: middle;\n",
       "    }\n",
       "\n",
       "    .dataframe tbody tr th {\n",
       "        vertical-align: top;\n",
       "    }\n",
       "\n",
       "    .dataframe thead th {\n",
       "        text-align: right;\n",
       "    }\n",
       "</style>\n",
       "<table border=\"1\" class=\"dataframe\">\n",
       "  <thead>\n",
       "    <tr style=\"text-align: right;\">\n",
       "      <th></th>\n",
       "      <th>Oil_store</th>\n",
       "      <th>주소</th>\n",
       "      <th>가격</th>\n",
       "      <th>셀프</th>\n",
       "      <th>상표</th>\n",
       "      <th>구</th>\n",
       "    </tr>\n",
       "  </thead>\n",
       "  <tbody>\n",
       "    <tr>\n",
       "      <th>325</th>\n",
       "      <td>서남주유소</td>\n",
       "      <td>서울 중구 통일로 30 (봉래동1가)</td>\n",
       "      <td>2132.0</td>\n",
       "      <td>N</td>\n",
       "      <td>SK에너지</td>\n",
       "      <td>중구</td>\n",
       "    </tr>\n",
       "    <tr>\n",
       "      <th>324</th>\n",
       "      <td>장충주유소</td>\n",
       "      <td>서울 중구 장충단로 202 (장충동1가)</td>\n",
       "      <td>2130.0</td>\n",
       "      <td>N</td>\n",
       "      <td>SK에너지</td>\n",
       "      <td>중구</td>\n",
       "    </tr>\n",
       "    <tr>\n",
       "      <th>124</th>\n",
       "      <td>양재주유소</td>\n",
       "      <td>서울 서초구 바우뫼로 178 (양재동)</td>\n",
       "      <td>2128.0</td>\n",
       "      <td>N</td>\n",
       "      <td>SK에너지</td>\n",
       "      <td>서초구</td>\n",
       "    </tr>\n",
       "    <tr>\n",
       "      <th>532</th>\n",
       "      <td>뉴서울(강남)</td>\n",
       "      <td>서울 강남구 언주로 716 (논현동)</td>\n",
       "      <td>2120.0</td>\n",
       "      <td>N</td>\n",
       "      <td>SK에너지</td>\n",
       "      <td>강남구</td>\n",
       "    </tr>\n",
       "    <tr>\n",
       "      <th>531</th>\n",
       "      <td>오천주유소</td>\n",
       "      <td>서울 강남구 봉은사로 503 (삼성동)</td>\n",
       "      <td>2107.0</td>\n",
       "      <td>N</td>\n",
       "      <td>SK에너지</td>\n",
       "      <td>강남구</td>\n",
       "    </tr>\n",
       "    <tr>\n",
       "      <th>313</th>\n",
       "      <td>재동주유소</td>\n",
       "      <td>서울특별시 종로구  율곡로 58 (경운동)</td>\n",
       "      <td>2106.0</td>\n",
       "      <td>N</td>\n",
       "      <td>SK에너지</td>\n",
       "      <td>종로구</td>\n",
       "    </tr>\n",
       "    <tr>\n",
       "      <th>285</th>\n",
       "      <td>청파주유소</td>\n",
       "      <td>서울특별시 용산구  청파로 311 (청파동1가)</td>\n",
       "      <td>2106.0</td>\n",
       "      <td>N</td>\n",
       "      <td>SK에너지</td>\n",
       "      <td>용산구</td>\n",
       "    </tr>\n",
       "    <tr>\n",
       "      <th>284</th>\n",
       "      <td>갈월동주유소</td>\n",
       "      <td>서울특별시 용산구  한강대로 322 (갈월동)</td>\n",
       "      <td>2106.0</td>\n",
       "      <td>N</td>\n",
       "      <td>SK에너지</td>\n",
       "      <td>용산구</td>\n",
       "    </tr>\n",
       "    <tr>\n",
       "      <th>283</th>\n",
       "      <td>강변주유소</td>\n",
       "      <td>서울특별시 용산구  원효로 9 (청암동)</td>\n",
       "      <td>2106.0</td>\n",
       "      <td>N</td>\n",
       "      <td>SK에너지</td>\n",
       "      <td>용산구</td>\n",
       "    </tr>\n",
       "    <tr>\n",
       "      <th>323</th>\n",
       "      <td>통일주유소</td>\n",
       "      <td>서울 중구 동호로 296 (장충동2가)</td>\n",
       "      <td>2106.0</td>\n",
       "      <td>N</td>\n",
       "      <td>SK에너지</td>\n",
       "      <td>중구</td>\n",
       "    </tr>\n",
       "  </tbody>\n",
       "</table>\n",
       "</div>"
      ],
      "text/plain": [
       "    Oil_store                          주소      가격 셀프     상표    구\n",
       "325     서남주유소        서울 중구 통일로 30 (봉래동1가)  2132.0  N  SK에너지   중구\n",
       "324     장충주유소      서울 중구 장충단로 202 (장충동1가)  2130.0  N  SK에너지   중구\n",
       "124     양재주유소       서울 서초구 바우뫼로 178 (양재동)  2128.0  N  SK에너지  서초구\n",
       "532   뉴서울(강남)        서울 강남구 언주로 716 (논현동)  2120.0  N  SK에너지  강남구\n",
       "531     오천주유소       서울 강남구 봉은사로 503 (삼성동)  2107.0  N  SK에너지  강남구\n",
       "313     재동주유소     서울특별시 종로구  율곡로 58 (경운동)  2106.0  N  SK에너지  종로구\n",
       "285     청파주유소  서울특별시 용산구  청파로 311 (청파동1가)  2106.0  N  SK에너지  용산구\n",
       "284    갈월동주유소   서울특별시 용산구  한강대로 322 (갈월동)  2106.0  N  SK에너지  용산구\n",
       "283     강변주유소      서울특별시 용산구  원효로 9 (청암동)  2106.0  N  SK에너지  용산구\n",
       "323     통일주유소       서울 중구 동호로 296 (장충동2가)  2106.0  N  SK에너지   중구"
      ]
     },
     "execution_count": 40,
     "metadata": {},
     "output_type": "execute_result"
    }
   ],
   "source": [
    "oil_price_top10 = stations.sort_values(by = '가격', ascending = False).head(10)\n",
    "oil_price_top10"
   ]
  },
  {
   "cell_type": "markdown",
   "metadata": {},
   "source": [
    "- 서울시 주유 가격 하위 10개 주유소"
   ]
  },
  {
   "cell_type": "code",
   "execution_count": 41,
   "metadata": {
    "ExecuteTime": {
     "end_time": "2020-06-01T03:41:02.321135Z",
     "start_time": "2020-06-01T03:41:02.298195Z"
    }
   },
   "outputs": [
    {
     "data": {
      "text/html": [
       "<div>\n",
       "<style scoped>\n",
       "    .dataframe tbody tr th:only-of-type {\n",
       "        vertical-align: middle;\n",
       "    }\n",
       "\n",
       "    .dataframe tbody tr th {\n",
       "        vertical-align: top;\n",
       "    }\n",
       "\n",
       "    .dataframe thead th {\n",
       "        text-align: right;\n",
       "    }\n",
       "</style>\n",
       "<table border=\"1\" class=\"dataframe\">\n",
       "  <thead>\n",
       "    <tr style=\"text-align: right;\">\n",
       "      <th></th>\n",
       "      <th>Oil_store</th>\n",
       "      <th>주소</th>\n",
       "      <th>가격</th>\n",
       "      <th>셀프</th>\n",
       "      <th>상표</th>\n",
       "      <th>구</th>\n",
       "    </tr>\n",
       "  </thead>\n",
       "  <tbody>\n",
       "    <tr>\n",
       "      <th>83</th>\n",
       "      <td>만남의광장주유소</td>\n",
       "      <td>서울 서초구 양재대로12길 73-71 (원지동)</td>\n",
       "      <td>1490.0</td>\n",
       "      <td>N</td>\n",
       "      <td>알뜰(ex)</td>\n",
       "      <td>서초구</td>\n",
       "    </tr>\n",
       "    <tr>\n",
       "      <th>344</th>\n",
       "      <td>강서오곡셀프주유소</td>\n",
       "      <td>서울특별시 강서구 벌말로 254 (오곡동)</td>\n",
       "      <td>1497.0</td>\n",
       "      <td>Y</td>\n",
       "      <td>SK에너지</td>\n",
       "      <td>강서구</td>\n",
       "    </tr>\n",
       "    <tr>\n",
       "      <th>451</th>\n",
       "      <td>태릉솔밭주유소</td>\n",
       "      <td>서울특별시 노원구 노원로 49 (공릉동)</td>\n",
       "      <td>1497.0</td>\n",
       "      <td>Y</td>\n",
       "      <td>S-OIL</td>\n",
       "      <td>노원구</td>\n",
       "    </tr>\n",
       "    <tr>\n",
       "      <th>258</th>\n",
       "      <td>수유동주유소</td>\n",
       "      <td>서울특별시 강북구  도봉로 395 (수유동)</td>\n",
       "      <td>1498.0</td>\n",
       "      <td>Y</td>\n",
       "      <td>GS칼텍스</td>\n",
       "      <td>강북구</td>\n",
       "    </tr>\n",
       "    <tr>\n",
       "      <th>227</th>\n",
       "      <td>(주)강서오일</td>\n",
       "      <td>서울 영등포구 도신로 151 (도림동)</td>\n",
       "      <td>1499.0</td>\n",
       "      <td>N</td>\n",
       "      <td>현대오일뱅크</td>\n",
       "      <td>영등포구</td>\n",
       "    </tr>\n",
       "    <tr>\n",
       "      <th>225</th>\n",
       "      <td>도림주유소</td>\n",
       "      <td>서울 영등포구 도림로 343 (도림동)</td>\n",
       "      <td>1499.0</td>\n",
       "      <td>Y</td>\n",
       "      <td>알뜰주유소</td>\n",
       "      <td>영등포구</td>\n",
       "    </tr>\n",
       "    <tr>\n",
       "      <th>226</th>\n",
       "      <td>(주)대청에너지 대청주유소</td>\n",
       "      <td>서울 영등포구 가마산로 328 (대림동)</td>\n",
       "      <td>1499.0</td>\n",
       "      <td>N</td>\n",
       "      <td>GS칼텍스</td>\n",
       "      <td>영등포구</td>\n",
       "    </tr>\n",
       "    <tr>\n",
       "      <th>415</th>\n",
       "      <td>풀페이주유소</td>\n",
       "      <td>서울특별시 구로구 경인로 41 (온수동)</td>\n",
       "      <td>1499.0</td>\n",
       "      <td>N</td>\n",
       "      <td>SK에너지</td>\n",
       "      <td>구로구</td>\n",
       "    </tr>\n",
       "    <tr>\n",
       "      <th>326</th>\n",
       "      <td>신일셀프주유소</td>\n",
       "      <td>서울 중랑구 상봉로 58 (망우동)</td>\n",
       "      <td>1499.0</td>\n",
       "      <td>Y</td>\n",
       "      <td>SK에너지</td>\n",
       "      <td>중랑구</td>\n",
       "    </tr>\n",
       "    <tr>\n",
       "      <th>40</th>\n",
       "      <td>서경주유소</td>\n",
       "      <td>서울 동작구 대림로 46 (신대방동)</td>\n",
       "      <td>1499.0</td>\n",
       "      <td>N</td>\n",
       "      <td>현대오일뱅크</td>\n",
       "      <td>동작구</td>\n",
       "    </tr>\n",
       "  </tbody>\n",
       "</table>\n",
       "</div>"
      ],
      "text/plain": [
       "          Oil_store                          주소      가격 셀프      상표     구\n",
       "83         만남의광장주유소  서울 서초구 양재대로12길 73-71 (원지동)  1490.0  N  알뜰(ex)   서초구\n",
       "344       강서오곡셀프주유소     서울특별시 강서구 벌말로 254 (오곡동)  1497.0  Y   SK에너지   강서구\n",
       "451         태릉솔밭주유소      서울특별시 노원구 노원로 49 (공릉동)  1497.0  Y   S-OIL   노원구\n",
       "258          수유동주유소    서울특별시 강북구  도봉로 395 (수유동)  1498.0  Y   GS칼텍스   강북구\n",
       "227         (주)강서오일       서울 영등포구 도신로 151 (도림동)  1499.0  N  현대오일뱅크  영등포구\n",
       "225           도림주유소       서울 영등포구 도림로 343 (도림동)  1499.0  Y   알뜰주유소  영등포구\n",
       "226  (주)대청에너지 대청주유소      서울 영등포구 가마산로 328 (대림동)  1499.0  N   GS칼텍스  영등포구\n",
       "415          풀페이주유소      서울특별시 구로구 경인로 41 (온수동)  1499.0  N   SK에너지   구로구\n",
       "326         신일셀프주유소         서울 중랑구 상봉로 58 (망우동)  1499.0  Y   SK에너지   중랑구\n",
       "40            서경주유소        서울 동작구 대림로 46 (신대방동)  1499.0  N  현대오일뱅크   동작구"
      ]
     },
     "execution_count": 41,
     "metadata": {},
     "output_type": "execute_result"
    }
   ],
   "source": [
    "oil_price_bottom10 = stations.sort_values(by = '가격').head(10)\n",
    "oil_price_bottom10"
   ]
  },
  {
   "cell_type": "code",
   "execution_count": 43,
   "metadata": {
    "ExecuteTime": {
     "end_time": "2020-06-01T03:41:15.183776Z",
     "start_time": "2020-06-01T03:41:15.177790Z"
    }
   },
   "outputs": [],
   "source": [
    "gmap_key = \"*********************************\" # 2장에서 사용한 구글 맵 API 키 값을 입력\n",
    "gmaps = googlemaps.Client(key = gmap_key)"
   ]
  },
  {
   "cell_type": "markdown",
   "metadata": {},
   "source": [
    "**서울시 주유 가격 상위 10개 주유소에 대한 위도 및 경도 정보 읽어오기**\n",
    "- 알 수 없는 문제로 에러가 발생하는 것에 대비하여, try-except 구문을 사용했다\n",
    "    - ex) 구글 맵에서 주소를 검색할 수 없다든지 하는 문제로 에러가 나는 것을 방지"
   ]
  },
  {
   "cell_type": "code",
   "execution_count": 44,
   "metadata": {
    "ExecuteTime": {
     "end_time": "2020-06-01T03:41:27.833180Z",
     "start_time": "2020-06-01T03:41:24.696246Z"
    }
   },
   "outputs": [
    {
     "name": "stderr",
     "output_type": "stream",
     "text": [
      "C:\\Users\\Playdata\\anaconda3\\lib\\site-packages\\ipykernel_launcher.py:6: TqdmDeprecationWarning: This function will be removed in tqdm==5.0.0\n",
      "Please use `tqdm.notebook.tqdm` instead of `tqdm.tqdm_notebook`\n",
      "  \n"
     ]
    },
    {
     "data": {
      "application/vnd.jupyter.widget-view+json": {
       "model_id": "be9cc88f292748bf964e3bec10d72830",
       "version_major": 2,
       "version_minor": 0
      },
      "text/plain": [
       "HBox(children=(FloatProgress(value=0.0, max=10.0), HTML(value='')))"
      ]
     },
     "metadata": {},
     "output_type": "display_data"
    },
    {
     "name": "stdout",
     "output_type": "stream",
     "text": [
      "\n"
     ]
    },
    {
     "data": {
      "text/html": [
       "<div>\n",
       "<style scoped>\n",
       "    .dataframe tbody tr th:only-of-type {\n",
       "        vertical-align: middle;\n",
       "    }\n",
       "\n",
       "    .dataframe tbody tr th {\n",
       "        vertical-align: top;\n",
       "    }\n",
       "\n",
       "    .dataframe thead th {\n",
       "        text-align: right;\n",
       "    }\n",
       "</style>\n",
       "<table border=\"1\" class=\"dataframe\">\n",
       "  <thead>\n",
       "    <tr style=\"text-align: right;\">\n",
       "      <th></th>\n",
       "      <th>Oil_store</th>\n",
       "      <th>주소</th>\n",
       "      <th>가격</th>\n",
       "      <th>셀프</th>\n",
       "      <th>상표</th>\n",
       "      <th>구</th>\n",
       "      <th>lat</th>\n",
       "      <th>lng</th>\n",
       "    </tr>\n",
       "  </thead>\n",
       "  <tbody>\n",
       "    <tr>\n",
       "      <th>325</th>\n",
       "      <td>서남주유소</td>\n",
       "      <td>서울 중구 통일로 30 (봉래동1가)</td>\n",
       "      <td>2132.0</td>\n",
       "      <td>N</td>\n",
       "      <td>SK에너지</td>\n",
       "      <td>중구</td>\n",
       "      <td>37.558348</td>\n",
       "      <td>126.972090</td>\n",
       "    </tr>\n",
       "    <tr>\n",
       "      <th>324</th>\n",
       "      <td>장충주유소</td>\n",
       "      <td>서울 중구 장충단로 202 (장충동1가)</td>\n",
       "      <td>2130.0</td>\n",
       "      <td>N</td>\n",
       "      <td>SK에너지</td>\n",
       "      <td>중구</td>\n",
       "      <td>37.562719</td>\n",
       "      <td>127.007010</td>\n",
       "    </tr>\n",
       "    <tr>\n",
       "      <th>124</th>\n",
       "      <td>양재주유소</td>\n",
       "      <td>서울 서초구 바우뫼로 178 (양재동)</td>\n",
       "      <td>2128.0</td>\n",
       "      <td>N</td>\n",
       "      <td>SK에너지</td>\n",
       "      <td>서초구</td>\n",
       "      <td>37.478071</td>\n",
       "      <td>127.039610</td>\n",
       "    </tr>\n",
       "    <tr>\n",
       "      <th>532</th>\n",
       "      <td>뉴서울(강남)</td>\n",
       "      <td>서울 강남구 언주로 716 (논현동)</td>\n",
       "      <td>2120.0</td>\n",
       "      <td>N</td>\n",
       "      <td>SK에너지</td>\n",
       "      <td>강남구</td>\n",
       "      <td>37.517636</td>\n",
       "      <td>127.035756</td>\n",
       "    </tr>\n",
       "    <tr>\n",
       "      <th>531</th>\n",
       "      <td>오천주유소</td>\n",
       "      <td>서울 강남구 봉은사로 503 (삼성동)</td>\n",
       "      <td>2107.0</td>\n",
       "      <td>N</td>\n",
       "      <td>SK에너지</td>\n",
       "      <td>강남구</td>\n",
       "      <td>37.513458</td>\n",
       "      <td>127.053786</td>\n",
       "    </tr>\n",
       "    <tr>\n",
       "      <th>313</th>\n",
       "      <td>재동주유소</td>\n",
       "      <td>서울특별시 종로구  율곡로 58 (경운동)</td>\n",
       "      <td>2106.0</td>\n",
       "      <td>N</td>\n",
       "      <td>SK에너지</td>\n",
       "      <td>종로구</td>\n",
       "      <td>37.576388</td>\n",
       "      <td>126.985851</td>\n",
       "    </tr>\n",
       "    <tr>\n",
       "      <th>285</th>\n",
       "      <td>청파주유소</td>\n",
       "      <td>서울특별시 용산구  청파로 311 (청파동1가)</td>\n",
       "      <td>2106.0</td>\n",
       "      <td>N</td>\n",
       "      <td>SK에너지</td>\n",
       "      <td>용산구</td>\n",
       "      <td>37.547451</td>\n",
       "      <td>126.969904</td>\n",
       "    </tr>\n",
       "    <tr>\n",
       "      <th>284</th>\n",
       "      <td>갈월동주유소</td>\n",
       "      <td>서울특별시 용산구  한강대로 322 (갈월동)</td>\n",
       "      <td>2106.0</td>\n",
       "      <td>N</td>\n",
       "      <td>SK에너지</td>\n",
       "      <td>용산구</td>\n",
       "      <td>37.546955</td>\n",
       "      <td>126.972218</td>\n",
       "    </tr>\n",
       "    <tr>\n",
       "      <th>283</th>\n",
       "      <td>강변주유소</td>\n",
       "      <td>서울특별시 용산구  원효로 9 (청암동)</td>\n",
       "      <td>2106.0</td>\n",
       "      <td>N</td>\n",
       "      <td>SK에너지</td>\n",
       "      <td>용산구</td>\n",
       "      <td>37.534910</td>\n",
       "      <td>126.945869</td>\n",
       "    </tr>\n",
       "    <tr>\n",
       "      <th>323</th>\n",
       "      <td>통일주유소</td>\n",
       "      <td>서울 중구 동호로 296 (장충동2가)</td>\n",
       "      <td>2106.0</td>\n",
       "      <td>N</td>\n",
       "      <td>SK에너지</td>\n",
       "      <td>중구</td>\n",
       "      <td>37.560714</td>\n",
       "      <td>127.003177</td>\n",
       "    </tr>\n",
       "  </tbody>\n",
       "</table>\n",
       "</div>"
      ],
      "text/plain": [
       "    Oil_store                          주소      가격 셀프     상표    구        lat  \\\n",
       "325     서남주유소        서울 중구 통일로 30 (봉래동1가)  2132.0  N  SK에너지   중구  37.558348   \n",
       "324     장충주유소      서울 중구 장충단로 202 (장충동1가)  2130.0  N  SK에너지   중구  37.562719   \n",
       "124     양재주유소       서울 서초구 바우뫼로 178 (양재동)  2128.0  N  SK에너지  서초구  37.478071   \n",
       "532   뉴서울(강남)        서울 강남구 언주로 716 (논현동)  2120.0  N  SK에너지  강남구  37.517636   \n",
       "531     오천주유소       서울 강남구 봉은사로 503 (삼성동)  2107.0  N  SK에너지  강남구  37.513458   \n",
       "313     재동주유소     서울특별시 종로구  율곡로 58 (경운동)  2106.0  N  SK에너지  종로구  37.576388   \n",
       "285     청파주유소  서울특별시 용산구  청파로 311 (청파동1가)  2106.0  N  SK에너지  용산구  37.547451   \n",
       "284    갈월동주유소   서울특별시 용산구  한강대로 322 (갈월동)  2106.0  N  SK에너지  용산구  37.546955   \n",
       "283     강변주유소      서울특별시 용산구  원효로 9 (청암동)  2106.0  N  SK에너지  용산구  37.534910   \n",
       "323     통일주유소       서울 중구 동호로 296 (장충동2가)  2106.0  N  SK에너지   중구  37.560714   \n",
       "\n",
       "            lng  \n",
       "325  126.972090  \n",
       "324  127.007010  \n",
       "124  127.039610  \n",
       "532  127.035756  \n",
       "531  127.053786  \n",
       "313  126.985851  \n",
       "285  126.969904  \n",
       "284  126.972218  \n",
       "283  126.945869  \n",
       "323  127.003177  "
      ]
     },
     "execution_count": 44,
     "metadata": {},
     "output_type": "execute_result"
    }
   ],
   "source": [
    "from tqdm import tqdm_notebook\n",
    "\n",
    "lat = []\n",
    "lng = []\n",
    "\n",
    "for n in tqdm_notebook(oil_price_top10.index):\n",
    "    # 구글 맵에서 주소를 검색할 수 없다든지 하는 문제로 에러가 나는 것을 방지하기 위한 코드\n",
    "    try:\n",
    "        # '주소' 컬럼의 '(' 앞 부분까지를 tmp_add 변수에 저장\n",
    "        tmp_add = str(oil_price_top10['주소'][n]).split('(')[0]\n",
    "        # geocode는 '주소'를 '좌표'로 바꾸거나, '좌표'를 '주소'로 바꾸는 기능을 수행\n",
    "        tmp_map = gmaps.geocode(tmp_add) # 여기서는 '주소'를 '좌표'로 변경해주었다\n",
    "        \n",
    "        tmp_loc = tmp_map[0].get('geometry')\n",
    "        lat.append(tmp_loc['location']['lat'])\n",
    "        lng.append(tmp_loc['location']['lng'])\n",
    "        \n",
    "    except:\n",
    "        # 혹시나 에러가 발생하면 NaN으로 처리\n",
    "        lat.append(np.nan)\n",
    "        lng.append(np.nan)\n",
    "        print(\"Here is nan !\")\n",
    "        \n",
    "oil_price_top10['lat'] = lat\n",
    "oil_price_top10['lng'] = lng\n",
    "oil_price_top10"
   ]
  },
  {
   "cell_type": "markdown",
   "metadata": {},
   "source": [
    "**서울시 주유 가격 하위 10개 주유소에 대한 위도 및 경도 정보 읽어오기**\n",
    "- 알 수 없는 문제로 에러가 발생하는 것에 대비하여, try-except 구문을 사용했다\n",
    "    - ex) 구글 맵에서 주소를 검색할 수 없다든지 하는 문제로 에러가 나는 것을 방지"
   ]
  },
  {
   "cell_type": "code",
   "execution_count": 45,
   "metadata": {
    "ExecuteTime": {
     "end_time": "2020-06-01T03:41:32.471390Z",
     "start_time": "2020-06-01T03:41:29.608287Z"
    }
   },
   "outputs": [
    {
     "name": "stderr",
     "output_type": "stream",
     "text": [
      "C:\\Users\\Playdata\\anaconda3\\lib\\site-packages\\ipykernel_launcher.py:6: TqdmDeprecationWarning: This function will be removed in tqdm==5.0.0\n",
      "Please use `tqdm.notebook.tqdm` instead of `tqdm.tqdm_notebook`\n",
      "  \n"
     ]
    },
    {
     "data": {
      "application/vnd.jupyter.widget-view+json": {
       "model_id": "53ac3686ef604e97ab9f33d523a01e5b",
       "version_major": 2,
       "version_minor": 0
      },
      "text/plain": [
       "HBox(children=(FloatProgress(value=0.0, max=10.0), HTML(value='')))"
      ]
     },
     "metadata": {},
     "output_type": "display_data"
    },
    {
     "name": "stdout",
     "output_type": "stream",
     "text": [
      "\n"
     ]
    },
    {
     "data": {
      "text/html": [
       "<div>\n",
       "<style scoped>\n",
       "    .dataframe tbody tr th:only-of-type {\n",
       "        vertical-align: middle;\n",
       "    }\n",
       "\n",
       "    .dataframe tbody tr th {\n",
       "        vertical-align: top;\n",
       "    }\n",
       "\n",
       "    .dataframe thead th {\n",
       "        text-align: right;\n",
       "    }\n",
       "</style>\n",
       "<table border=\"1\" class=\"dataframe\">\n",
       "  <thead>\n",
       "    <tr style=\"text-align: right;\">\n",
       "      <th></th>\n",
       "      <th>Oil_store</th>\n",
       "      <th>주소</th>\n",
       "      <th>가격</th>\n",
       "      <th>셀프</th>\n",
       "      <th>상표</th>\n",
       "      <th>구</th>\n",
       "      <th>lat</th>\n",
       "      <th>lng</th>\n",
       "    </tr>\n",
       "  </thead>\n",
       "  <tbody>\n",
       "    <tr>\n",
       "      <th>83</th>\n",
       "      <td>만남의광장주유소</td>\n",
       "      <td>서울 서초구 양재대로12길 73-71 (원지동)</td>\n",
       "      <td>1490.0</td>\n",
       "      <td>N</td>\n",
       "      <td>알뜰(ex)</td>\n",
       "      <td>서초구</td>\n",
       "      <td>37.459906</td>\n",
       "      <td>127.042060</td>\n",
       "    </tr>\n",
       "    <tr>\n",
       "      <th>344</th>\n",
       "      <td>강서오곡셀프주유소</td>\n",
       "      <td>서울특별시 강서구 벌말로 254 (오곡동)</td>\n",
       "      <td>1497.0</td>\n",
       "      <td>Y</td>\n",
       "      <td>SK에너지</td>\n",
       "      <td>강서구</td>\n",
       "      <td>37.555284</td>\n",
       "      <td>126.768567</td>\n",
       "    </tr>\n",
       "    <tr>\n",
       "      <th>451</th>\n",
       "      <td>태릉솔밭주유소</td>\n",
       "      <td>서울특별시 노원구 노원로 49 (공릉동)</td>\n",
       "      <td>1497.0</td>\n",
       "      <td>Y</td>\n",
       "      <td>S-OIL</td>\n",
       "      <td>노원구</td>\n",
       "      <td>37.625918</td>\n",
       "      <td>127.085533</td>\n",
       "    </tr>\n",
       "    <tr>\n",
       "      <th>258</th>\n",
       "      <td>수유동주유소</td>\n",
       "      <td>서울특별시 강북구  도봉로 395 (수유동)</td>\n",
       "      <td>1498.0</td>\n",
       "      <td>Y</td>\n",
       "      <td>GS칼텍스</td>\n",
       "      <td>강북구</td>\n",
       "      <td>37.642140</td>\n",
       "      <td>127.029568</td>\n",
       "    </tr>\n",
       "    <tr>\n",
       "      <th>227</th>\n",
       "      <td>(주)강서오일</td>\n",
       "      <td>서울 영등포구 도신로 151 (도림동)</td>\n",
       "      <td>1499.0</td>\n",
       "      <td>N</td>\n",
       "      <td>현대오일뱅크</td>\n",
       "      <td>영등포구</td>\n",
       "      <td>37.509969</td>\n",
       "      <td>126.908231</td>\n",
       "    </tr>\n",
       "    <tr>\n",
       "      <th>225</th>\n",
       "      <td>도림주유소</td>\n",
       "      <td>서울 영등포구 도림로 343 (도림동)</td>\n",
       "      <td>1499.0</td>\n",
       "      <td>Y</td>\n",
       "      <td>알뜰주유소</td>\n",
       "      <td>영등포구</td>\n",
       "      <td>37.507656</td>\n",
       "      <td>126.900191</td>\n",
       "    </tr>\n",
       "    <tr>\n",
       "      <th>226</th>\n",
       "      <td>(주)대청에너지 대청주유소</td>\n",
       "      <td>서울 영등포구 가마산로 328 (대림동)</td>\n",
       "      <td>1499.0</td>\n",
       "      <td>N</td>\n",
       "      <td>GS칼텍스</td>\n",
       "      <td>영등포구</td>\n",
       "      <td>37.498556</td>\n",
       "      <td>126.895791</td>\n",
       "    </tr>\n",
       "    <tr>\n",
       "      <th>415</th>\n",
       "      <td>풀페이주유소</td>\n",
       "      <td>서울특별시 구로구 경인로 41 (온수동)</td>\n",
       "      <td>1499.0</td>\n",
       "      <td>N</td>\n",
       "      <td>SK에너지</td>\n",
       "      <td>구로구</td>\n",
       "      <td>37.491009</td>\n",
       "      <td>126.826675</td>\n",
       "    </tr>\n",
       "    <tr>\n",
       "      <th>326</th>\n",
       "      <td>신일셀프주유소</td>\n",
       "      <td>서울 중랑구 상봉로 58 (망우동)</td>\n",
       "      <td>1499.0</td>\n",
       "      <td>Y</td>\n",
       "      <td>SK에너지</td>\n",
       "      <td>중랑구</td>\n",
       "      <td>37.590907</td>\n",
       "      <td>127.093834</td>\n",
       "    </tr>\n",
       "    <tr>\n",
       "      <th>40</th>\n",
       "      <td>서경주유소</td>\n",
       "      <td>서울 동작구 대림로 46 (신대방동)</td>\n",
       "      <td>1499.0</td>\n",
       "      <td>N</td>\n",
       "      <td>현대오일뱅크</td>\n",
       "      <td>동작구</td>\n",
       "      <td>37.487947</td>\n",
       "      <td>126.908240</td>\n",
       "    </tr>\n",
       "  </tbody>\n",
       "</table>\n",
       "</div>"
      ],
      "text/plain": [
       "          Oil_store                          주소      가격 셀프      상표     구  \\\n",
       "83         만남의광장주유소  서울 서초구 양재대로12길 73-71 (원지동)  1490.0  N  알뜰(ex)   서초구   \n",
       "344       강서오곡셀프주유소     서울특별시 강서구 벌말로 254 (오곡동)  1497.0  Y   SK에너지   강서구   \n",
       "451         태릉솔밭주유소      서울특별시 노원구 노원로 49 (공릉동)  1497.0  Y   S-OIL   노원구   \n",
       "258          수유동주유소    서울특별시 강북구  도봉로 395 (수유동)  1498.0  Y   GS칼텍스   강북구   \n",
       "227         (주)강서오일       서울 영등포구 도신로 151 (도림동)  1499.0  N  현대오일뱅크  영등포구   \n",
       "225           도림주유소       서울 영등포구 도림로 343 (도림동)  1499.0  Y   알뜰주유소  영등포구   \n",
       "226  (주)대청에너지 대청주유소      서울 영등포구 가마산로 328 (대림동)  1499.0  N   GS칼텍스  영등포구   \n",
       "415          풀페이주유소      서울특별시 구로구 경인로 41 (온수동)  1499.0  N   SK에너지   구로구   \n",
       "326         신일셀프주유소         서울 중랑구 상봉로 58 (망우동)  1499.0  Y   SK에너지   중랑구   \n",
       "40            서경주유소        서울 동작구 대림로 46 (신대방동)  1499.0  N  현대오일뱅크   동작구   \n",
       "\n",
       "           lat         lng  \n",
       "83   37.459906  127.042060  \n",
       "344  37.555284  126.768567  \n",
       "451  37.625918  127.085533  \n",
       "258  37.642140  127.029568  \n",
       "227  37.509969  126.908231  \n",
       "225  37.507656  126.900191  \n",
       "226  37.498556  126.895791  \n",
       "415  37.491009  126.826675  \n",
       "326  37.590907  127.093834  \n",
       "40   37.487947  126.908240  "
      ]
     },
     "execution_count": 45,
     "metadata": {},
     "output_type": "execute_result"
    }
   ],
   "source": [
    "from tqdm import tqdm_notebook\n",
    "\n",
    "lat = []\n",
    "lng = []\n",
    "\n",
    "for n in tqdm_notebook(oil_price_bottom10.index):\n",
    "    # 구글 맵에서 주소를 검색할 수 없다든지 하는 문제로 에러가 나는 것을 방지하기 위한 코드\n",
    "    try:\n",
    "        # '주소' 컬럼의 '(' 앞 부분까지를 tmp_add 변수에 저장\n",
    "        tmp_add = str(oil_price_bottom10['주소'][n]).split('(')[0]\n",
    "        # geocode는 '주소'를 '좌표'로 바꾸거나, '좌표'를 '주소'로 바꾸는 기능을 수행\n",
    "        tmp_map = gmaps.geocode(tmp_add) # 여기서는 '주소'를 '좌표'로 변경해주었다\n",
    "        \n",
    "        tmp_loc = tmp_map[0].get('geometry')\n",
    "        lat.append(tmp_loc['location']['lat'])\n",
    "        lng.append(tmp_loc['location']['lng'])\n",
    "        \n",
    "    except:\n",
    "        # 혹시나 에러가 발생하면 NaN으로 처리\n",
    "        lat.append(np.nan)\n",
    "        lng.append(np.nan)\n",
    "        print(\"Here is nan !\")\n",
    "        \n",
    "oil_price_bottom10['lat'] = lat\n",
    "oil_price_bottom10['lng'] = lng\n",
    "oil_price_bottom10"
   ]
  },
  {
   "cell_type": "markdown",
   "metadata": {},
   "source": [
    "**이제 서울시 주유 가격 상/하위 10개 주유소에 대한 위도 및 경보 정보를 얻었으니, 지도에 시각화를 해보겠다**\n",
    "- 위에서 혹시라도 에러가 발생하면 NaN으로 처리해주게끔 해주었는데, ```notnull``` 명령을 사용해서 NaN이 아닐 때만 지도에 표기하도록 하겠다"
   ]
  },
  {
   "cell_type": "code",
   "execution_count": 46,
   "metadata": {
    "ExecuteTime": {
     "end_time": "2020-06-01T03:41:33.709801Z",
     "start_time": "2020-06-01T03:41:33.668910Z"
    }
   },
   "outputs": [
    {
     "data": {
      "text/html": [
       "<div style=\"width:100%;\"><div style=\"position:relative;width:100%;height:0;padding-bottom:60%;\"><span style=\"color:#565656\">Make this Notebook Trusted to load map: File -> Trust Notebook</span><iframe src=\"about:blank\" style=\"position:absolute;width:100%;height:100%;left:0;top:0;border:none !important;\" data-html=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 onload=\"this.contentDocument.open();this.contentDocument.write(atob(this.getAttribute('data-html')));this.contentDocument.close();\" allowfullscreen webkitallowfullscreen mozallowfullscreen></iframe></div></div>"
      ],
      "text/plain": [
       "<folium.folium.Map at 0x196feb0d908>"
      ]
     },
     "execution_count": 46,
     "metadata": {},
     "output_type": "execute_result"
    }
   ],
   "source": [
    "map = folium.Map(location = [37.5202, 126.975], zoom_start = 10.5)\n",
    "\n",
    "for n in oil_price_top10.index:\n",
    "    # NaN이 아닐 때만 지도에 표기\n",
    "    if pd.notnull(oil_price_top10['lat'][n]):\n",
    "        folium.CircleMarker([oil_price_top10['lat'][n], oil_price_top10['lng'][n]],\n",
    "                            radius = 15, color = '#CD3181',\n",
    "                            fill_color = '#CD3181',\n",
    "                            fill = True).add_to(map) # fill = True 옵션 반드시 사용!\n",
    "        \n",
    "for n in oil_price_bottom10.index:\n",
    "    # NaN이 아닐 때만 지도에 표기\n",
    "    if pd.notnull(oil_price_bottom10['lat'][n]):\n",
    "        folium.CircleMarker([oil_price_bottom10['lat'][n], oil_price_bottom10['lng'][n]],\n",
    "                             radius = 15, color = '#3186cc', \n",
    "                             fill_color = '#3186cc',\n",
    "                             fill = True).add_to(map) # fill = True 옵션 반드시 사용!\n",
    "        \n",
    "map"
   ]
  },
  {
   "cell_type": "markdown",
   "metadata": {},
   "source": [
    "**<최종 시각화 결과 해석>**\n",
    "- 대체적으로 '중구', '종로구'에 주유 가격이 비싼 주유소들이 밀집되어 있고, '구로구'에 주유 가격이 저렴한 주유소들이 밀집되어 있다\n",
    "- 위 지도 시각화 결과를 참고하면 기름 값을 아낄 수 있지 않을까? ㅎㅎ\n",
    "- 기회가 된다면, 내가 살고 있는 경기도 주유 가격에 대한 시각화 분석도 한 번 해보고 싶다! ^^"
   ]
  }
 ],
 "metadata": {
  "kernelspec": {
   "display_name": "Python 3",
   "language": "python",
   "name": "python3"
  },
  "language_info": {
   "codemirror_mode": {
    "name": "ipython",
    "version": 3
   },
   "file_extension": ".py",
   "mimetype": "text/x-python",
   "name": "python",
   "nbconvert_exporter": "python",
   "pygments_lexer": "ipython3",
   "version": "3.7.6"
  },
  "toc": {
   "base_numbering": 1,
   "nav_menu": {},
   "number_sections": true,
   "sideBar": true,
   "skip_h1_title": false,
   "title_cell": "Table of Contents",
   "title_sidebar": "Contents",
   "toc_cell": false,
   "toc_position": {},
   "toc_section_display": true,
   "toc_window_display": false
  }
 },
 "nbformat": 4,
 "nbformat_minor": 4
}
