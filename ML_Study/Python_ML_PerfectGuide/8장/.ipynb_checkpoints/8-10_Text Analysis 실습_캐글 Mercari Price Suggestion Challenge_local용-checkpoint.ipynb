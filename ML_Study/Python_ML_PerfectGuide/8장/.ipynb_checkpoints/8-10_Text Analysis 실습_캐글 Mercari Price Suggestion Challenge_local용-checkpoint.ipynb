{
 "cells": [
  {
   "cell_type": "markdown",
   "metadata": {},
   "source": [
    "### 데이터 전처리"
   ]
  },
  {
   "cell_type": "code",
   "execution_count": 1,
   "metadata": {
    "ExecuteTime": {
     "end_time": "2020-11-13T06:18:34.408813Z",
     "start_time": "2020-11-13T06:18:28.987562Z"
    }
   },
   "outputs": [
    {
     "name": "stdout",
     "output_type": "stream",
     "text": [
      "(1482535, 8)\n"
     ]
    },
    {
     "data": {
      "text/html": [
       "<div>\n",
       "<style scoped>\n",
       "    .dataframe tbody tr th:only-of-type {\n",
       "        vertical-align: middle;\n",
       "    }\n",
       "\n",
       "    .dataframe tbody tr th {\n",
       "        vertical-align: top;\n",
       "    }\n",
       "\n",
       "    .dataframe thead th {\n",
       "        text-align: right;\n",
       "    }\n",
       "</style>\n",
       "<table border=\"1\" class=\"dataframe\">\n",
       "  <thead>\n",
       "    <tr style=\"text-align: right;\">\n",
       "      <th></th>\n",
       "      <th>train_id</th>\n",
       "      <th>name</th>\n",
       "      <th>item_condition_id</th>\n",
       "      <th>category_name</th>\n",
       "      <th>brand_name</th>\n",
       "      <th>price</th>\n",
       "      <th>shipping</th>\n",
       "      <th>item_description</th>\n",
       "    </tr>\n",
       "  </thead>\n",
       "  <tbody>\n",
       "    <tr>\n",
       "      <th>0</th>\n",
       "      <td>0</td>\n",
       "      <td>MLB Cincinnati Reds T Shirt Size XL</td>\n",
       "      <td>3</td>\n",
       "      <td>Men/Tops/T-shirts</td>\n",
       "      <td>NaN</td>\n",
       "      <td>10.0</td>\n",
       "      <td>1</td>\n",
       "      <td>No description yet</td>\n",
       "    </tr>\n",
       "    <tr>\n",
       "      <th>1</th>\n",
       "      <td>1</td>\n",
       "      <td>Razer BlackWidow Chroma Keyboard</td>\n",
       "      <td>3</td>\n",
       "      <td>Electronics/Computers &amp; Tablets/Components &amp; P...</td>\n",
       "      <td>Razer</td>\n",
       "      <td>52.0</td>\n",
       "      <td>0</td>\n",
       "      <td>This keyboard is in great condition and works ...</td>\n",
       "    </tr>\n",
       "    <tr>\n",
       "      <th>2</th>\n",
       "      <td>2</td>\n",
       "      <td>AVA-VIV Blouse</td>\n",
       "      <td>1</td>\n",
       "      <td>Women/Tops &amp; Blouses/Blouse</td>\n",
       "      <td>Target</td>\n",
       "      <td>10.0</td>\n",
       "      <td>1</td>\n",
       "      <td>Adorable top with a hint of lace and a key hol...</td>\n",
       "    </tr>\n",
       "  </tbody>\n",
       "</table>\n",
       "</div>"
      ],
      "text/plain": [
       "   train_id                                 name  item_condition_id  \\\n",
       "0         0  MLB Cincinnati Reds T Shirt Size XL                  3   \n",
       "1         1     Razer BlackWidow Chroma Keyboard                  3   \n",
       "2         2                       AVA-VIV Blouse                  1   \n",
       "\n",
       "                                       category_name brand_name  price  \\\n",
       "0                                  Men/Tops/T-shirts        NaN   10.0   \n",
       "1  Electronics/Computers & Tablets/Components & P...      Razer   52.0   \n",
       "2                        Women/Tops & Blouses/Blouse     Target   10.0   \n",
       "\n",
       "   shipping                                   item_description  \n",
       "0         1                                 No description yet  \n",
       "1         0  This keyboard is in great condition and works ...  \n",
       "2         1  Adorable top with a hint of lace and a key hol...  "
      ]
     },
     "execution_count": 1,
     "metadata": {},
     "output_type": "execute_result"
    }
   ],
   "source": [
    "from sklearn.linear_model import Ridge, LogisticRegression\n",
    "from sklearn.model_selection import train_test_split, cross_val_score\n",
    "from sklearn.feature_extraction.text import CountVectorizer, TfidfVectorizer\n",
    "import pandas as pd\n",
    "\n",
    "mercari_df = pd.read_csv('mercari_train.tsv', sep = '\\t')\n",
    "print(mercari_df.shape)\n",
    "mercari_df.head(3)"
   ]
  },
  {
   "cell_type": "markdown",
   "metadata": {},
   "source": [
    "* train_id: 데이터 id\n",
    "* name: 제품명\n",
    "* item_condition_id: 판매자가 제공하는 제품 상태\n",
    "* category_name: 카테고리 명\n",
    "* brand_name: 브랜드 이름\n",
    "* price: 제품 가격\n",
    "    - 예측을 위한 타깃 속성\n",
    "* shipping: 배송비 무료 여부\n",
    "    - 1이면 무료(판매자가 지불), 0이면 유료(구매자 지불)\n",
    "* item_description: 제품에 대한 설명"
   ]
  },
  {
   "cell_type": "code",
   "execution_count": 2,
   "metadata": {
    "ExecuteTime": {
     "end_time": "2020-11-13T06:18:34.708229Z",
     "start_time": "2020-11-13T06:18:34.410812Z"
    }
   },
   "outputs": [
    {
     "name": "stdout",
     "output_type": "stream",
     "text": [
      "<class 'pandas.core.frame.DataFrame'>\n",
      "RangeIndex: 1482535 entries, 0 to 1482534\n",
      "Data columns (total 8 columns):\n",
      " #   Column             Non-Null Count    Dtype  \n",
      "---  ------             --------------    -----  \n",
      " 0   train_id           1482535 non-null  int64  \n",
      " 1   name               1482535 non-null  object \n",
      " 2   item_condition_id  1482535 non-null  int64  \n",
      " 3   category_name      1476208 non-null  object \n",
      " 4   brand_name         849853 non-null   object \n",
      " 5   price              1482535 non-null  float64\n",
      " 6   shipping           1482535 non-null  int64  \n",
      " 7   item_description   1482531 non-null  object \n",
      "dtypes: float64(1), int64(3), object(4)\n",
      "memory usage: 90.5+ MB\n",
      "None\n"
     ]
    }
   ],
   "source": [
    "print(mercari_df.info())"
   ]
  },
  {
   "cell_type": "markdown",
   "metadata": {},
   "source": [
    "**타겟 값의 분포도 확인**"
   ]
  },
  {
   "cell_type": "code",
   "execution_count": 3,
   "metadata": {
    "ExecuteTime": {
     "end_time": "2020-11-13T06:18:35.504670Z",
     "start_time": "2020-11-13T06:18:34.710228Z"
    }
   },
   "outputs": [
    {
     "data": {
      "text/plain": [
       "<matplotlib.axes._subplots.AxesSubplot at 0x26490bc8220>"
      ]
     },
     "execution_count": 3,
     "metadata": {},
     "output_type": "execute_result"
    },
    {
     "data": {
      "image/png": "[encoded data removed]",
      "text/plain": [
       "<Figure size 864x360 with 1 Axes>"
      ]
     },
     "metadata": {
      "needs_background": "light"
     },
     "output_type": "display_data"
    }
   ],
   "source": [
    "import matplotlib.pyplot as plt\n",
    "import seaborn as sns\n",
    "%matplotlib inline\n",
    "\n",
    "y_train_df = mercari_df['price']\n",
    "plt.figure(figsize = (12, 5))\n",
    "sns.distplot(y_train_df, kde = False)"
   ]
  },
  {
   "cell_type": "markdown",
   "metadata": {},
   "source": [
    "**타겟 값 로그 변환 후, 분포도 확인**"
   ]
  },
  {
   "cell_type": "code",
   "execution_count": 4,
   "metadata": {
    "ExecuteTime": {
     "end_time": "2020-11-13T06:18:35.942447Z",
     "start_time": "2020-11-13T06:18:35.506671Z"
    }
   },
   "outputs": [
    {
     "data": {
      "text/plain": [
       "<matplotlib.axes._subplots.AxesSubplot at 0x2649129df70>"
      ]
     },
     "execution_count": 4,
     "metadata": {},
     "output_type": "execute_result"
    },
    {
     "data": {
      "image/png": "[encoded data removed]",
      "text/plain": [
       "<Figure size 864x360 with 1 Axes>"
      ]
     },
     "metadata": {
      "needs_background": "light"
     },
     "output_type": "display_data"
    }
   ],
   "source": [
    "import numpy as np\n",
    "\n",
    "y_train_df = np.log1p(y_train_df)\n",
    "plt.figure(figsize = (12, 5))\n",
    "sns.distplot(y_train_df, kde = False)"
   ]
  },
  {
   "cell_type": "code",
   "execution_count": 5,
   "metadata": {
    "ExecuteTime": {
     "end_time": "2020-11-13T06:18:35.982458Z",
     "start_time": "2020-11-13T06:18:35.944439Z"
    }
   },
   "outputs": [
    {
     "data": {
      "text/plain": [
       "0    2.397895\n",
       "1    3.970292\n",
       "2    2.397895\n",
       "Name: price, dtype: float64"
      ]
     },
     "execution_count": 5,
     "metadata": {},
     "output_type": "execute_result"
    }
   ],
   "source": [
    "mercari_df['price'] = np.log1p(mercari_df['price'])\n",
    "mercari_df['price'].head(3)"
   ]
  },
  {
   "cell_type": "markdown",
   "metadata": {},
   "source": [
    "**각 피처들의 유형 살펴보기**"
   ]
  },
  {
   "cell_type": "code",
   "execution_count": 6,
   "metadata": {
    "ExecuteTime": {
     "end_time": "2020-11-13T06:18:36.032864Z",
     "start_time": "2020-11-13T06:18:35.983606Z"
    }
   },
   "outputs": [
    {
     "name": "stdout",
     "output_type": "stream",
     "text": [
      "Shipping 값 유형:\n",
      " 0    819435\n",
      "1    663100\n",
      "Name: shipping, dtype: int64\n",
      "--------------------------------------------------\n",
      "item_condition_id 값 유형:\n",
      " 1    640549\n",
      "3    432161\n",
      "2    375479\n",
      "4     31962\n",
      "5      2384\n",
      "Name: item_condition_id, dtype: int64\n"
     ]
    }
   ],
   "source": [
    "print('Shipping 값 유형:\\n', mercari_df['shipping'].value_counts())\n",
    "print('-' * 50)\n",
    "print('item_condition_id 값 유형:\\n', mercari_df['item_condition_id'].value_counts())"
   ]
  },
  {
   "cell_type": "code",
   "execution_count": 7,
   "metadata": {
    "ExecuteTime": {
     "end_time": "2020-11-13T06:18:36.158687Z",
     "start_time": "2020-11-13T06:18:36.033828Z"
    }
   },
   "outputs": [
    {
     "data": {
      "text/plain": [
       "82489"
      ]
     },
     "execution_count": 7,
     "metadata": {},
     "output_type": "execute_result"
    }
   ],
   "source": [
    "boolean_cond = mercari_df['item_description'] == 'No description yet'\n",
    "mercari_df[boolean_cond]['item_description'].count()"
   ]
  },
  {
   "cell_type": "markdown",
   "metadata": {},
   "source": [
    "**category name이 대/중/소 와 같이 '/' 문자열 기반으로 되어 있는데, 이를 개별 컬럼들로 재생성**"
   ]
  },
  {
   "cell_type": "code",
   "execution_count": 8,
   "metadata": {
    "ExecuteTime": {
     "end_time": "2020-11-13T06:18:41.231186Z",
     "start_time": "2020-11-13T06:18:36.160686Z"
    }
   },
   "outputs": [
    {
     "name": "stdout",
     "output_type": "stream",
     "text": [
      "대분류 유형:\n",
      " Women                     664385\n",
      "Beauty                    207828\n",
      "Kids                      171689\n",
      "Electronics               122690\n",
      "Men                        93680\n",
      "Home                       67871\n",
      "Vintage & Collectibles     46530\n",
      "Other                      45351\n",
      "Handmade                   30842\n",
      "Sports & Outdoors          25342\n",
      "Other_Null                  6327\n",
      "Name: cat_dae, dtype: int64\n",
      "중분류 갯수: 114\n",
      "소분류 갯수: 871\n"
     ]
    }
   ],
   "source": [
    "# apply lambda에서 호출되는 대,중,소 분할 함수 생성\n",
    "# 대, 중, 소 값을 리스트 반환\n",
    "def split_cat(category_name):\n",
    "    try:\n",
    "        return category_name.split('/')\n",
    "    except: # '/' 문자열이 존재하지 않는 경우에 대한 처리\n",
    "        return ['Other_Null', 'Other_Null', 'Other_Null']\n",
    "\n",
    "# 위의 split_cat()을 apply lambda에서 호출하여 대, 중, 소 컬럼을 mercari_df에 생성\n",
    "mercari_df['cat_dae'], mercari_df['cat_jung'], mercari_df['cat_so'] = \\\n",
    "                        zip(*mercari_df['category_name'].apply(lambda x: split_cat(x)))\n",
    "\n",
    "# 대분류만 값의 유형과 건수를 살펴보고, 중분류, 소분류는 값의 유형이 많으므로 분류 갯수만 추출\n",
    "print('대분류 유형:\\n', mercari_df['cat_dae'].value_counts())\n",
    "print('중분류 갯수:', mercari_df['cat_jung'].nunique())\n",
    "print('소분류 갯수:', mercari_df['cat_so'].nunique())"
   ]
  },
  {
   "cell_type": "markdown",
   "metadata": {},
   "source": [
    "- 아래와 같이 zip() 함수를 안 쓰고 처리해주는 방법도 있음\n",
    "- 그러나 앞서 했듯이 zip() 함수를 사용하는 것이 훨씬 코드가 간결함"
   ]
  },
  {
   "cell_type": "code",
   "execution_count": 9,
   "metadata": {
    "ExecuteTime": {
     "end_time": "2020-11-13T06:18:43.226187Z",
     "start_time": "2020-11-13T06:18:41.233184Z"
    }
   },
   "outputs": [
    {
     "data": {
      "text/plain": [
       "0                                [Men, Tops, T-shirts]\n",
       "1    [Electronics, Computers & Tablets, Components ...\n",
       "2                      [Women, Tops & Blouses, Blouse]\n",
       "3               [Home, Home Décor, Home Décor Accents]\n",
       "4                          [Women, Jewelry, Necklaces]\n",
       "Name: category_list, dtype: object"
      ]
     },
     "execution_count": 9,
     "metadata": {},
     "output_type": "execute_result"
    }
   ],
   "source": [
    "# apply lambda에서 호출되는 대,중,소 분할 함수 생성\n",
    "# 대, 중, 소 값을 리스트 반환\n",
    "def split_cat(category_name):\n",
    "    try:\n",
    "        return category_name.split('/')\n",
    "    except:\n",
    "        return ['Other_Null', 'Other_Null', 'Other_Null']\n",
    "\n",
    "# 위의 split_cat( )을 apply lambda에서 호출하여 대, 중, 소 컬럼을 mercari_df에 생성\n",
    "mercari_df['category_list'] = mercari_df['category_name'].apply(lambda x : split_cat(x))\n",
    "mercari_df['category_list'].head()"
   ]
  },
  {
   "cell_type": "code",
   "execution_count": 10,
   "metadata": {
    "ExecuteTime": {
     "end_time": "2020-11-13T06:18:45.064225Z",
     "start_time": "2020-11-13T06:18:43.227188Z"
    }
   },
   "outputs": [],
   "source": [
    "mercari_df['cat_dae'] = mercari_df['category_list'].apply(lambda x: x[0])\n",
    "mercari_df['cat_jung'] = mercari_df['category_list'].apply(lambda x: x[1])\n",
    "mercari_df['cat_so'] = mercari_df['category_list'].apply(lambda x: x[2])\n",
    "\n",
    "mercari_df.drop('category_list', axis = 1, inplace = True)"
   ]
  },
  {
   "cell_type": "code",
   "execution_count": 11,
   "metadata": {
    "ExecuteTime": {
     "end_time": "2020-11-13T06:18:45.171229Z",
     "start_time": "2020-11-13T06:18:45.065188Z"
    }
   },
   "outputs": [
    {
     "data": {
      "text/html": [
       "<div>\n",
       "<style scoped>\n",
       "    .dataframe tbody tr th:only-of-type {\n",
       "        vertical-align: middle;\n",
       "    }\n",
       "\n",
       "    .dataframe tbody tr th {\n",
       "        vertical-align: top;\n",
       "    }\n",
       "\n",
       "    .dataframe thead th {\n",
       "        text-align: right;\n",
       "    }\n",
       "</style>\n",
       "<table border=\"1\" class=\"dataframe\">\n",
       "  <thead>\n",
       "    <tr style=\"text-align: right;\">\n",
       "      <th></th>\n",
       "      <th>cat_dae</th>\n",
       "      <th>cat_jung</th>\n",
       "      <th>cat_so</th>\n",
       "    </tr>\n",
       "  </thead>\n",
       "  <tbody>\n",
       "    <tr>\n",
       "      <th>0</th>\n",
       "      <td>Men</td>\n",
       "      <td>Tops</td>\n",
       "      <td>T-shirts</td>\n",
       "    </tr>\n",
       "    <tr>\n",
       "      <th>1</th>\n",
       "      <td>Electronics</td>\n",
       "      <td>Computers &amp; Tablets</td>\n",
       "      <td>Components &amp; Parts</td>\n",
       "    </tr>\n",
       "    <tr>\n",
       "      <th>2</th>\n",
       "      <td>Women</td>\n",
       "      <td>Tops &amp; Blouses</td>\n",
       "      <td>Blouse</td>\n",
       "    </tr>\n",
       "    <tr>\n",
       "      <th>3</th>\n",
       "      <td>Home</td>\n",
       "      <td>Home Décor</td>\n",
       "      <td>Home Décor Accents</td>\n",
       "    </tr>\n",
       "    <tr>\n",
       "      <th>4</th>\n",
       "      <td>Women</td>\n",
       "      <td>Jewelry</td>\n",
       "      <td>Necklaces</td>\n",
       "    </tr>\n",
       "  </tbody>\n",
       "</table>\n",
       "</div>"
      ],
      "text/plain": [
       "       cat_dae             cat_jung              cat_so\n",
       "0          Men                 Tops            T-shirts\n",
       "1  Electronics  Computers & Tablets  Components & Parts\n",
       "2        Women       Tops & Blouses              Blouse\n",
       "3         Home           Home Décor  Home Décor Accents\n",
       "4        Women              Jewelry           Necklaces"
      ]
     },
     "execution_count": 11,
     "metadata": {},
     "output_type": "execute_result"
    }
   ],
   "source": [
    "mercari_df[['cat_dae', 'cat_jung', 'cat_so']].head()"
   ]
  },
  {
   "cell_type": "markdown",
   "metadata": {},
   "source": [
    "**Null 값 일괄 처리**"
   ]
  },
  {
   "cell_type": "code",
   "execution_count": 12,
   "metadata": {
    "ExecuteTime": {
     "end_time": "2020-11-13T06:18:45.973189Z",
     "start_time": "2020-11-13T06:18:45.173188Z"
    }
   },
   "outputs": [
    {
     "data": {
      "text/plain": [
       "train_id             0\n",
       "name                 0\n",
       "item_condition_id    0\n",
       "category_name        0\n",
       "brand_name           0\n",
       "price                0\n",
       "shipping             0\n",
       "item_description     0\n",
       "cat_dae              0\n",
       "cat_jung             0\n",
       "cat_so               0\n",
       "dtype: int64"
      ]
     },
     "execution_count": 12,
     "metadata": {},
     "output_type": "execute_result"
    }
   ],
   "source": [
    "mercari_df['brand_name'] = mercari_df['brand_name'].fillna(value = 'Other_Null')\n",
    "mercari_df['category_name'] = mercari_df['category_name'].fillna(value = 'Other_Null')\n",
    "mercari_df['item_description'] = mercari_df['item_description'].fillna(value = 'Other_Null')\n",
    "\n",
    "# 각 컬럼별로 Null값 건수 확인\n",
    "mercari_df.isnull().sum() # 모두 '0'이 나와야 함"
   ]
  },
  {
   "cell_type": "code",
   "execution_count": 13,
   "metadata": {
    "ExecuteTime": {
     "end_time": "2020-11-13T06:18:46.459215Z",
     "start_time": "2020-11-13T06:18:45.974190Z"
    }
   },
   "outputs": [
    {
     "name": "stdout",
     "output_type": "stream",
     "text": [
      "<class 'pandas.core.frame.DataFrame'>\n",
      "RangeIndex: 1482535 entries, 0 to 1482534\n",
      "Data columns (total 11 columns):\n",
      " #   Column             Non-Null Count    Dtype  \n",
      "---  ------             --------------    -----  \n",
      " 0   train_id           1482535 non-null  int64  \n",
      " 1   name               1482535 non-null  object \n",
      " 2   item_condition_id  1482535 non-null  int64  \n",
      " 3   category_name      1482535 non-null  object \n",
      " 4   brand_name         1482535 non-null  object \n",
      " 5   price              1482535 non-null  float64\n",
      " 6   shipping           1482535 non-null  int64  \n",
      " 7   item_description   1482535 non-null  object \n",
      " 8   cat_dae            1482535 non-null  object \n",
      " 9   cat_jung           1482535 non-null  object \n",
      " 10  cat_so             1482535 non-null  object \n",
      "dtypes: float64(1), int64(3), object(7)\n",
      "memory usage: 124.4+ MB\n"
     ]
    }
   ],
   "source": [
    "mercari_df.info()"
   ]
  },
  {
   "cell_type": "markdown",
   "metadata": {},
   "source": [
    "### 피처 인코딩과 피처 벡터화"
   ]
  },
  {
   "cell_type": "markdown",
   "metadata": {},
   "source": [
    "**brand name과 name의 종류 확인**"
   ]
  },
  {
   "cell_type": "code",
   "execution_count": 14,
   "metadata": {
    "ExecuteTime": {
     "end_time": "2020-11-13T06:18:46.708190Z",
     "start_time": "2020-11-13T06:18:46.461234Z"
    }
   },
   "outputs": [
    {
     "name": "stdout",
     "output_type": "stream",
     "text": [
      "brand name의 유형 건수: 4810\n",
      "--------------------------------------------------\n",
      "brand name sample 5건: \n",
      " Other_Null           632682\n",
      "PINK                  54088\n",
      "Nike                  54043\n",
      "Victoria's Secret     48036\n",
      "LuLaRoe               31024\n",
      "Name: brand_name, dtype: int64\n"
     ]
    }
   ],
   "source": [
    "print('brand name의 유형 건수:', mercari_df['brand_name'].nunique())\n",
    "print('-' * 50)\n",
    "print('brand name sample 5건: \\n', mercari_df['brand_name'].value_counts()[:5])"
   ]
  },
  {
   "cell_type": "code",
   "execution_count": 15,
   "metadata": {
    "ExecuteTime": {
     "end_time": "2020-11-13T06:18:47.118229Z",
     "start_time": "2020-11-13T06:18:46.710193Z"
    }
   },
   "outputs": [
    {
     "name": "stdout",
     "output_type": "stream",
     "text": [
      "name의 종류 갯수: 1225273\n",
      "--------------------------------------------------\n",
      "name sample 7건: \n",
      " 0    MLB Cincinnati Reds T Shirt Size XL\n",
      "1       Razer BlackWidow Chroma Keyboard\n",
      "2                         AVA-VIV Blouse\n",
      "3                  Leather Horse Statues\n",
      "4                   24K GOLD plated rose\n",
      "5       Bundled items requested for Ruie\n",
      "6     Acacia pacific tides santorini top\n",
      "Name: name, dtype: object\n"
     ]
    }
   ],
   "source": [
    "print('name의 종류 갯수:', mercari_df['name'].nunique())\n",
    "print('-' * 50)\n",
    "print('name sample 7건: \\n', mercari_df['name'][:7])"
   ]
  },
  {
   "cell_type": "markdown",
   "metadata": {},
   "source": [
    "**item_description의 문자열 개수 확인**"
   ]
  },
  {
   "cell_type": "code",
   "execution_count": 16,
   "metadata": {
    "ExecuteTime": {
     "end_time": "2020-11-13T06:18:47.726193Z",
     "start_time": "2020-11-13T06:18:47.119232Z"
    }
   },
   "outputs": [
    {
     "name": "stdout",
     "output_type": "stream",
     "text": [
      "item_description 평균 문자열 개수: 145.7113889385411\n"
     ]
    },
    {
     "data": {
      "text/plain": [
       "0                                                                                                                                                                              No description yet\n",
       "1    This keyboard is in great condition and works like it came out of the box. All of the ports are tested and work perfectly. The lights are customizable via the Razer Synapse app on your PC.\n",
       "Name: item_description, dtype: object"
      ]
     },
     "execution_count": 16,
     "metadata": {},
     "output_type": "execute_result"
    }
   ],
   "source": [
    "pd.set_option('max_colwidth', 200)\n",
    "\n",
    "# item_description의 평균 문자열 개수\n",
    "print('item_description 평균 문자열 개수:', mercari_df['item_description'].str.len().mean())\n",
    "mercari_df['item_description'][:2]"
   ]
  },
  {
   "cell_type": "code",
   "execution_count": 17,
   "metadata": {
    "ExecuteTime": {
     "end_time": "2020-11-13T06:34:05.790243Z",
     "start_time": "2020-11-13T06:34:05.396235Z"
    }
   },
   "outputs": [
    {
     "data": {
      "text/plain": [
       "100"
      ]
     },
     "execution_count": 17,
     "metadata": {},
     "output_type": "execute_result"
    }
   ],
   "source": [
    "# Garbage Collector\n",
    "import gc\n",
    "gc.collect()"
   ]
  },
  {
   "cell_type": "markdown",
   "metadata": {},
   "source": [
    "**name은 Count로, item_description은 TF-IDF로 피처 벡터화**"
   ]
  },
  {
   "cell_type": "code",
   "execution_count": 18,
   "metadata": {
    "ExecuteTime": {
     "end_time": "2020-11-13T06:37:30.372775Z",
     "start_time": "2020-11-13T06:35:15.452160Z"
    }
   },
   "outputs": [
    {
     "name": "stdout",
     "output_type": "stream",
     "text": [
      "name vectorization shape: (1482535, 30000)\n",
      "item_description vectorization shape: (1482535, 50000)\n"
     ]
    }
   ],
   "source": [
    "# name 속성에 대한 feature vectorization 변환\n",
    "cnt_vec = CountVectorizer(max_features = 30000)\n",
    "X_name = cnt_vec.fit_transform(mercari_df.name)\n",
    "\n",
    "# item_description에 대한 feature vectorization 변환\n",
    "tfidf_descp = TfidfVectorizer(max_features = 50000, ngram_range = (1, 3), stop_words = 'english')\n",
    "X_descp = tfidf_descp.fit_transform(mercari_df['item_description'])\n",
    "\n",
    "print('name vectorization shape:', X_name.shape)\n",
    "print('item_description vectorization shape:', X_descp.shape)"
   ]
  },
  {
   "cell_type": "markdown",
   "metadata": {},
   "source": [
    "**사이킷런의 LabelBinarizer를 이용하여 원-핫 인코딩 변환 후 희소행렬 최적화 형태로 저장**"
   ]
  },
  {
   "cell_type": "code",
   "execution_count": 19,
   "metadata": {
    "ExecuteTime": {
     "end_time": "2020-11-13T06:41:14.585279Z",
     "start_time": "2020-11-13T06:37:32.850864Z"
    }
   },
   "outputs": [],
   "source": [
    "from sklearn.preprocessing import LabelBinarizer\n",
    "\n",
    "# brand_name, item_condition_id, shipping 각 피처들을 희소 행렬 원-핫 인코딩 변환\n",
    "lb_brand_name= LabelBinarizer(sparse_output = True) # sparse_output = True로 설정하면, 희소행렬 형태로 반환\n",
    "X_brand = lb_brand_name.fit_transform(mercari_df['brand_name'])\n",
    "\n",
    "lb_item_cond_id = LabelBinarizer(sparse_output = True)\n",
    "X_item_cond_id = lb_item_cond_id.fit_transform(mercari_df['item_condition_id'])\n",
    "\n",
    "lb_shipping= LabelBinarizer(sparse_output = True)\n",
    "X_shipping = lb_shipping.fit_transform(mercari_df['shipping'])\n",
    "\n",
    "# cat_dae, cat_jung, cat_so 각 피처들을 희소 행렬 원-핫 인코딩 변환\n",
    "lb_cat_dae = LabelBinarizer(sparse_output = True)\n",
    "X_cat_dae= lb_cat_dae.fit_transform(mercari_df['cat_dae'])\n",
    "\n",
    "lb_cat_jung = LabelBinarizer(sparse_output = True)\n",
    "X_cat_jung = lb_cat_jung.fit_transform(mercari_df['cat_jung'])\n",
    "\n",
    "lb_cat_so = LabelBinarizer(sparse_output = True)\n",
    "X_cat_so = lb_cat_so.fit_transform(mercari_df['cat_so'])"
   ]
  },
  {
   "cell_type": "code",
   "execution_count": 20,
   "metadata": {
    "ExecuteTime": {
     "end_time": "2020-11-13T06:41:16.955279Z",
     "start_time": "2020-11-13T06:41:16.940282Z"
    }
   },
   "outputs": [
    {
     "name": "stdout",
     "output_type": "stream",
     "text": [
      "<class 'scipy.sparse.csr.csr_matrix'> <class 'scipy.sparse.csr.csr_matrix'> <class 'scipy.sparse.csr.csr_matrix'>\n",
      "X_brand_shape:(1482535, 4810), X_item_cond_id shape:(1482535, 5)\n",
      "X_shipping shape:(1482535, 1), X_cat_dae shape:(1482535, 11)\n",
      "X_cat_jung shape:(1482535, 114), X_cat_so shape:(1482535, 871)\n"
     ]
    }
   ],
   "source": [
    "print(type(X_brand), type(X_item_cond_id), type(X_shipping))\n",
    "print('X_brand_shape:{0}, X_item_cond_id shape:{1}'.format(X_brand.shape, X_item_cond_id.shape))\n",
    "print('X_shipping shape:{0}, X_cat_dae shape:{1}'.format(X_shipping.shape, X_cat_dae.shape))\n",
    "print('X_cat_jung shape:{0}, X_cat_so shape:{1}'.format(X_cat_jung.shape, X_cat_so.shape))"
   ]
  },
  {
   "cell_type": "code",
   "execution_count": 21,
   "metadata": {
    "ExecuteTime": {
     "end_time": "2020-11-13T06:41:20.635816Z",
     "start_time": "2020-11-13T06:41:19.309284Z"
    }
   },
   "outputs": [
    {
     "data": {
      "text/plain": [
       "120"
      ]
     },
     "execution_count": 21,
     "metadata": {},
     "output_type": "execute_result"
    }
   ],
   "source": [
    "# Garbage Collector\n",
    "import gc\n",
    "gc.collect()"
   ]
  },
  {
   "cell_type": "markdown",
   "metadata": {},
   "source": [
    "**피처 벡터화된 희소 행렬과 원-핫 인코딩된 희소 행렬을 모두 scipy 패키지의 hstack( ) 함수를 이용하여 결합**"
   ]
  },
  {
   "cell_type": "code",
   "execution_count": 22,
   "metadata": {
    "ExecuteTime": {
     "end_time": "2020-11-13T06:41:28.617824Z",
     "start_time": "2020-11-13T06:41:23.133817Z"
    }
   },
   "outputs": [
    {
     "name": "stdout",
     "output_type": "stream",
     "text": [
      "<class 'scipy.sparse.csr.csr_matrix'> (1482535, 85812)\n"
     ]
    },
    {
     "data": {
      "text/plain": [
       "80"
      ]
     },
     "execution_count": 22,
     "metadata": {},
     "output_type": "execute_result"
    }
   ],
   "source": [
    "from  scipy.sparse import hstack\n",
    "import gc\n",
    "\n",
    "sparse_matrix_list = (X_name, X_descp, X_brand, X_item_cond_id, \n",
    "                      X_shipping, X_cat_dae, X_cat_jung, X_cat_so)\n",
    "\n",
    "# 사이파이 sparse 모듈의 hstack 함수를 이용하여, 앞에서 인코딩과 Vectorization을 수행한 데이터 셋을 모두 결합\n",
    "X_features_sparse = hstack(sparse_matrix_list).tocsr()\n",
    "print(type(X_features_sparse), X_features_sparse.shape)\n",
    "\n",
    "# 데이터 셋이 메모리를 많이 차지하므로, 사용 용도가 끝났으면 바로 메모리에서 삭제\n",
    "del X_features_sparse\n",
    "gc.collect()"
   ]
  },
  {
   "cell_type": "markdown",
   "metadata": {},
   "source": [
    "### 릿지 회귀 모델 구축 및 평가"
   ]
  },
  {
   "cell_type": "markdown",
   "metadata": {},
   "source": [
    "**RMSLE 정의**"
   ]
  },
  {
   "cell_type": "code",
   "execution_count": 23,
   "metadata": {
    "ExecuteTime": {
     "end_time": "2020-11-13T06:42:26.340177Z",
     "start_time": "2020-11-13T06:42:26.336175Z"
    }
   },
   "outputs": [],
   "source": [
    "def rmsle(y, y_pred):\n",
    "    # underflow, overflow를 막기 위해 log가 아닌 log1p로 rmsle 계산 \n",
    "    return np.sqrt(np.mean(np.power(np.log1p(y) - np.log1p(y_pred), 2)))\n",
    "\n",
    "def evaluate_org_price(y_test, preds):\n",
    "    # 원본 데이터는 log1p로 변환되었으므로 exmpm1으로 원복 필요\n",
    "    preds_exmpm = np.expm1(preds)\n",
    "    y_test_exmpm = np.expm1(y_test)\n",
    "    \n",
    "    # rmsle() 함수로 RMSLE 값 추출\n",
    "    rmsle_result = rmsle(y_test_exmpm, preds_exmpm)\n",
    "    return rmsle_result"
   ]
  },
  {
   "cell_type": "markdown",
   "metadata": {},
   "source": [
    "**여러 모델에 대한 학습/예측을 수행하기 위해 별도의 함수인 model_train_predict( ) 생성** \n",
    "- 해당 함수는 여러 희소 행렬을 hstack( )으로 결합한 뒤, 학습과 테스트 데이터 세트로 분할 후 모델 학습 및 예측을 수행 "
   ]
  },
  {
   "cell_type": "code",
   "execution_count": 24,
   "metadata": {
    "ExecuteTime": {
     "end_time": "2020-11-13T06:42:28.424207Z",
     "start_time": "2020-11-13T06:42:28.418206Z"
    }
   },
   "outputs": [],
   "source": [
    "import gc \n",
    "from  scipy.sparse import hstack\n",
    "\n",
    "def model_train_predict(model, matrix_list):\n",
    "    # scipy.sparse 모듈의 hstack 을 이용하여 sparse matrix 결합\n",
    "    X = hstack(matrix_list).tocsr()\n",
    "    \n",
    "    X_train, X_test, y_train, y_test = train_test_split(X, mercari_df['price'], \n",
    "                                                        test_size = 0.2, random_state = 156)\n",
    "    # 모델 학습 및 예측\n",
    "    model.fit(X_train , y_train)\n",
    "    preds = model.predict(X_test)\n",
    "    \n",
    "    del X, X_train, X_test, y_train \n",
    "    gc.collect()\n",
    "    \n",
    "    return preds, y_test"
   ]
  },
  {
   "cell_type": "markdown",
   "metadata": {},
   "source": [
    "**릿지 선형 회귀로 학습/예측/평가. Item Description 피처의 영향도를 알아보기 위한 테스트 함께 수행**"
   ]
  },
  {
   "cell_type": "code",
   "execution_count": 25,
   "metadata": {
    "ExecuteTime": {
     "end_time": "2020-11-13T06:45:00.482036Z",
     "start_time": "2020-11-13T06:44:25.885561Z"
    }
   },
   "outputs": [
    {
     "name": "stdout",
     "output_type": "stream",
     "text": [
      "Item Description을 제외했을 때 RMSLE 값: 0.5027967400848062\n",
      "Item Description을 포함한 RMSLE 값: 0.4711394414768637\n"
     ]
    }
   ],
   "source": [
    "linear_model = Ridge(solver = \"lsqr\", fit_intercept = False)\n",
    "\n",
    "# X_descp를 제외하고 모델을 돌린 후의 RMSLE\n",
    "sparse_matrix_list = (X_name, X_brand, X_item_cond_id,\n",
    "                      X_shipping, X_cat_dae, X_cat_jung, X_cat_so)\n",
    "linear_preds, y_test = model_train_predict(model = linear_model, matrix_list = sparse_matrix_list)\n",
    "print('Item Description을 제외했을 때 RMSLE 값:', evaluate_org_price(y_test, linear_preds))\n",
    "\n",
    "# X_descp를 포함하고 모델을 돌린 후의 RMSLE\n",
    "sparse_matrix_list = (X_descp, X_name, X_brand, X_item_cond_id,\n",
    "                      X_shipping, X_cat_dae, X_cat_jung, X_cat_so)\n",
    "linear_preds, y_test = model_train_predict(model = linear_model, matrix_list = sparse_matrix_list)\n",
    "print('Item Description을 포함한 RMSLE 값:', evaluate_org_price(y_test, linear_preds))"
   ]
  },
  {
   "cell_type": "code",
   "execution_count": 26,
   "metadata": {
    "ExecuteTime": {
     "end_time": "2020-11-13T06:45:04.182769Z",
     "start_time": "2020-11-13T06:45:02.836953Z"
    }
   },
   "outputs": [
    {
     "data": {
      "text/plain": [
       "80"
      ]
     },
     "execution_count": 26,
     "metadata": {},
     "output_type": "execute_result"
    }
   ],
   "source": [
    "import gc\n",
    "gc.collect()"
   ]
  },
  {
   "cell_type": "markdown",
   "metadata": {},
   "source": [
    "### LightGBM 회귀 모델 구축과 앙상블을 이용한 최종 예측 평가"
   ]
  },
  {
   "cell_type": "code",
   "execution_count": 27,
   "metadata": {
    "ExecuteTime": {
     "end_time": "2020-11-13T07:03:10.626536Z",
     "start_time": "2020-11-13T06:45:37.501398Z"
    }
   },
   "outputs": [
    {
     "name": "stdout",
     "output_type": "stream",
     "text": [
      "LightGBM RMSLE 값: 0.4571160040604098\n"
     ]
    }
   ],
   "source": [
    "from lightgbm import LGBMRegressor\n",
    "\n",
    "sparse_matrix_list = (X_descp, X_name, X_brand, X_item_cond_id,\n",
    "                      X_shipping, X_cat_dae, X_cat_jung, X_cat_so)\n",
    "\n",
    "lgbm_model = LGBMRegressor(n_estimators = 200, learning_rate = 0.5, \n",
    "                           num_leaves = 125, random_state = 156)\n",
    "lgbm_preds, y_test = model_train_predict(model = lgbm_model, matrix_list = sparse_matrix_list)\n",
    "print('LightGBM RMSLE 값:', evaluate_org_price(y_test, lgbm_preds))"
   ]
  },
  {
   "cell_type": "code",
   "execution_count": 28,
   "metadata": {
    "ExecuteTime": {
     "end_time": "2020-11-13T07:03:12.846538Z",
     "start_time": "2020-11-13T07:03:12.817503Z"
    }
   },
   "outputs": [
    {
     "name": "stdout",
     "output_type": "stream",
     "text": [
      "LightGBM과 Ridge를 ensemble한 최종 RMSLE 값: 0.4508213945079379\n"
     ]
    }
   ],
   "source": [
    "# 회귀 모델의 경우, 아래와 같이 앙상블이 가능함\n",
    "preds = lgbm_preds * 0.45 + linear_preds * 0.55\n",
    "print('LightGBM과 Ridge를 ensemble한 최종 RMSLE 값:', evaluate_org_price(y_test, preds))"
   ]
  }
 ],
 "metadata": {
  "hide_input": false,
  "kernelspec": {
   "display_name": "Python 3",
   "language": "python",
   "name": "python3"
  },
  "language_info": {
   "codemirror_mode": {
    "name": "ipython",
    "version": 3
   },
   "file_extension": ".py",
   "mimetype": "text/x-python",
   "name": "python",
   "nbconvert_exporter": "python",
   "pygments_lexer": "ipython3",
   "version": "3.8.3"
  },
  "toc": {
   "base_numbering": 1,
   "nav_menu": {},
   "number_sections": true,
   "sideBar": true,
   "skip_h1_title": false,
   "title_cell": "Table of Contents",
   "title_sidebar": "Contents",
   "toc_cell": false,
   "toc_position": {},
   "toc_section_display": true,
   "toc_window_display": false
  },
  "varInspector": {
   "cols": {
    "lenName": 16,
    "lenType": 16,
    "lenVar": 40
   },
   "kernels_config": {
    "python": {
     "delete_cmd_postfix": "",
     "delete_cmd_prefix": "del ",
     "library": "var_list.py",
     "varRefreshCmd": "print(var_dic_list())"
    },
    "r": {
     "delete_cmd_postfix": ") ",
     "delete_cmd_prefix": "rm(",
     "library": "var_list.r",
     "varRefreshCmd": "cat(var_dic_list()) "
    }
   },
   "types_to_exclude": [
    "module",
    "function",
    "builtin_function_or_method",
    "instance",
    "_Feature"
   ],
   "window_display": false
  }
 },
 "nbformat": 4,
 "nbformat_minor": 2
}
