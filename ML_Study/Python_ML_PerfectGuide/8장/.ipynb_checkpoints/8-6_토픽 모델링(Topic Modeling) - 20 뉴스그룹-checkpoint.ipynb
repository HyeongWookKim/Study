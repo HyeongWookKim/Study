{
 "cells": [
  {
   "cell_type": "markdown",
   "metadata": {},
   "source": [
    "# 20 Newsgroup 토픽 모델링\n",
    "- 20개 중 8개의 주제 데이터 로드 및 Count기반 피처 벡터화\n",
    "- LDA는 Count기반 Vectorizer만 적용"
   ]
  },
  {
   "cell_type": "code",
   "execution_count": 1,
   "metadata": {
    "ExecuteTime": {
     "end_time": "2020-11-12T06:22:25.906629Z",
     "start_time": "2020-11-12T06:22:15.053040Z"
    }
   },
   "outputs": [
    {
     "name": "stdout",
     "output_type": "stream",
     "text": [
      "CountVectorizer Shape: (7862, 1000)\n"
     ]
    }
   ],
   "source": [
    "from sklearn.datasets import fetch_20newsgroups\n",
    "from sklearn.feature_extraction.text import CountVectorizer\n",
    "from sklearn.decomposition import LatentDirichletAllocation\n",
    "\n",
    "# 모토사이클, 야구, 그래픽스, 윈도우즈, 중동, 기독교, 전자공학, 의학 등 8개 주제를 추출 (원래는 총 20개의 주제가 존재함)\n",
    "cats = ['rec.motorcycles', 'rec.sport.baseball', 'comp.graphics', 'comp.windows.x',\n",
    "        'talk.politics.mideast', 'soc.religion.christian', 'sci.electronics', 'sci.med']\n",
    "\n",
    "# 위에서 cats 변수로 기재된 category만 추출\n",
    "# featch_20newsgroups()의 categories에 cats 입력\n",
    "news_df= fetch_20newsgroups(subset = 'all', remove = ('headers', 'footers', 'quotes'), \n",
    "                            categories = cats, random_state = 0)\n",
    "\n",
    "# LDA는 Count기반의 Vectorizer만 적용\n",
    "count_vect = CountVectorizer(max_df = 0.95, max_features = 1000, min_df = 2, stop_words = 'english', ngram_range = (1, 2))\n",
    "feat_vect = count_vect.fit_transform(news_df.data)\n",
    "print('CountVectorizer Shape:', feat_vect.shape)"
   ]
  },
  {
   "cell_type": "markdown",
   "metadata": {},
   "source": [
    "**LDA 객체 생성 후 Count 피처 벡터화 객체로 LDA수행**"
   ]
  },
  {
   "cell_type": "code",
   "execution_count": 2,
   "metadata": {
    "ExecuteTime": {
     "end_time": "2020-11-12T06:24:02.184436Z",
     "start_time": "2020-11-12T06:22:49.395414Z"
    }
   },
   "outputs": [
    {
     "data": {
      "text/plain": [
       "LatentDirichletAllocation(n_components=8, random_state=0)"
      ]
     },
     "execution_count": 2,
     "metadata": {},
     "output_type": "execute_result"
    }
   ],
   "source": [
    "lda = LatentDirichletAllocation(n_components = 8, random_state = 0) # 토픽 개수를 8개로 지정\n",
    "lda.fit(feat_vect)"
   ]
  },
  {
   "cell_type": "markdown",
   "metadata": {},
   "source": [
    "**각 토픽 모델링 주제별 단어들의 연관도 확인**  \n",
    "- lda객체의 components_ 속성은 주제별로 개별 단어들의 연관도 정규화 숫자가 들어있음\n",
    "- shape는 주제 개수 X 피처 단어 개수\n",
    "    - 여기에서는 총 8개의 토픽이 존재하고, 각 토픽별로 1000개의 단어들이 존재함\n",
    "- components_ 에 들어 있는 숫자값은 각 주제별로 단어가 나타난 횟수를 정규화 하여 나타냄\n",
    "- 숫자가 클 수록 토픽에서 단어가 차지하는 비중이 높음"
   ]
  },
  {
   "cell_type": "code",
   "execution_count": 3,
   "metadata": {
    "ExecuteTime": {
     "end_time": "2020-11-12T06:24:23.397710Z",
     "start_time": "2020-11-12T06:24:23.377712Z"
    }
   },
   "outputs": [
    {
     "name": "stdout",
     "output_type": "stream",
     "text": [
      "(8, 1000)\n"
     ]
    },
    {
     "data": {
      "text/plain": [
       "array([[2.46251560e+02, 1.18842248e+02, 1.51715288e+02, ...,\n",
       "        1.00147234e+02, 7.63673375e+01, 1.17028758e+02],\n",
       "       [1.25033020e-01, 1.25052288e-01, 1.25003012e-01, ...,\n",
       "        1.10644583e+02, 1.51405141e-01, 5.09788954e+01],\n",
       "       [1.25103419e-01, 1.25075224e-01, 1.25082214e-01, ...,\n",
       "        6.72008817e+01, 1.25138615e-01, 2.48516614e+00],\n",
       "       ...,\n",
       "       [1.05055615e+02, 4.94858011e-01, 2.52075927e+01, ...,\n",
       "        1.80695744e+01, 1.25115936e-01, 8.33321314e+00],\n",
       "       [1.25147502e-01, 2.27058083e+02, 5.45176328e+00, ...,\n",
       "        1.41751120e+00, 7.67217701e+01, 4.49861794e+01],\n",
       "       [1.25096012e-01, 4.05666840e+00, 1.25049904e-01, ...,\n",
       "        1.63821915e+02, 1.25049991e-01, 1.49550227e-01]])"
      ]
     },
     "execution_count": 3,
     "metadata": {},
     "output_type": "execute_result"
    }
   ],
   "source": [
    "print(lda.components_.shape)\n",
    "lda.components_"
   ]
  },
  {
   "cell_type": "markdown",
   "metadata": {},
   "source": [
    "**각 토픽별 중심 단어 확인**"
   ]
  },
  {
   "cell_type": "code",
   "execution_count": 4,
   "metadata": {
    "ExecuteTime": {
     "end_time": "2020-11-12T06:30:11.187390Z",
     "start_time": "2020-11-12T06:30:11.151409Z"
    }
   },
   "outputs": [
    {
     "name": "stdout",
     "output_type": "stream",
     "text": [
      "\n",
      "Topic # 0\n",
      "year*729.8 + said*697.2 + don*585.9 + didn*519.9 + know*480.2 + game*478.7 + just*470.3 + time*467.4 + went*430.7 + people*423.2 + think*408.4 + did*388.2 + like*385.6 + say*381.8 + home*374.4\n",
      "\n",
      "Topic # 1\n",
      "god*2036.0 + people*949.8 + jesus*687.8 + church*659.0 + think*633.1 + believe*625.1 + christ*549.7 + say*539.7 + does*521.7 + don*480.7 + christian*473.4 + know*450.2 + christians*434.9 + bible*426.1 + faith*415.3\n",
      "\n",
      "Topic # 2\n",
      "know*892.5 + does*680.0 + thanks*656.4 + like*429.4 + question*342.2 + information*341.0 + help*317.9 + time*288.5 + post*284.4 + advance*274.9 + book*274.2 + just*263.6 + looking*256.2 + group*253.2 + read*249.4\n",
      "\n",
      "Topic # 3\n",
      "edu*1681.5 + com*805.4 + graphics*779.5 + mail*521.5 + ftp*480.6 + information*446.1 + available*445.8 + data*445.3 + pub*442.9 + list*411.8 + computer*384.1 + send*339.5 + software*339.3 + ca*294.2 + 3d*290.1\n",
      "\n",
      "Topic # 4\n",
      "israel*837.6 + jews*722.7 + jewish*518.2 + israeli*476.1 + dos dos*401.1 + arab*386.1 + turkish*382.1 + people*364.9 + war*340.7 + turkey*327.0 + dos*324.8 + state*307.6 + government*307.3 + greek*302.6 + history*286.0\n",
      "\n",
      "Topic # 5\n",
      "file*1402.8 + image*1165.6 + use*1010.8 + program*1010.4 + window*867.3 + jpeg*799.1 + windows*730.6 + display*716.4 + version*694.1 + color*676.0 + server*647.4 + files*620.2 + using*580.0 + available*534.9 + motif*524.3\n",
      "\n",
      "Topic # 6\n",
      "armenian*993.6 + armenians*742.4 + people*501.0 + health*367.0 + medical*364.6 + armenia*355.9 + disease*332.9 + turkish*304.2 + patients*303.1 + cancer*302.8 + russian*301.7 + 10*300.3 + azerbaijan*290.5 + children*285.6 + 92*260.8\n",
      "\n",
      "Topic # 7\n",
      "like*1235.3 + just*1215.9 + don*1206.9 + ve*878.4 + use*837.8 + good*770.3 + think*662.6 + time*626.0 + know*619.1 + way*575.3 + make*574.0 + used*561.3 + bike*540.1 + want*536.5 + need*503.7\n"
     ]
    }
   ],
   "source": [
    "def display_topic_words(model, feature_names, no_top_words):\n",
    "    for topic_index, topic in enumerate(model.components_):\n",
    "        print('\\nTopic #', topic_index)\n",
    "\n",
    "        # components_ array에서 가장 값이 큰 순으로 정렬했을 때, 그 값의 array index를 반환\n",
    "        topic_word_indexes = topic.argsort()[::-1] # 내림차순 정렬\n",
    "        top_indexes = topic_word_indexes[:no_top_words]\n",
    "        \n",
    "        # top_indexes 대상인 index별로 feature_names에 해당하는 word feature 추출 후 join()으로 concat\n",
    "        feature_concat = ' + '.join([str(feature_names[i]) + '*' + str(round(topic[i], 1)) for i in top_indexes])                \n",
    "        print(feature_concat)\n",
    "\n",
    "# CountVectorizer 객체 내의 전체 word들의 명칭을 get_features_names()를 통해 추출\n",
    "feature_names = count_vect.get_feature_names()\n",
    "\n",
    "# Topic별 가장 연관도가 높은 word를 15개만 추출\n",
    "display_topic_words(lda, feature_names, 15)"
   ]
  },
  {
   "cell_type": "markdown",
   "metadata": {},
   "source": [
    "**개별 문서별 토픽 분포 확인**\n",
    "- lda객체의 transform( )을 수행하면 개별 문서별 토픽 분포를 반환함"
   ]
  },
  {
   "cell_type": "code",
   "execution_count": 5,
   "metadata": {
    "ExecuteTime": {
     "end_time": "2020-11-12T06:32:35.039560Z",
     "start_time": "2020-11-12T06:32:29.396976Z"
    }
   },
   "outputs": [
    {
     "name": "stdout",
     "output_type": "stream",
     "text": [
      "(7862, 8)\n",
      "[[0.01392621 0.01392753 0.90257079 0.01389129 0.01389917 0.01389072\n",
      "  0.01398844 0.01390584]\n",
      " [0.16469595 0.00212157 0.53426711 0.00212271 0.00212121 0.00212044\n",
      "  0.17359772 0.11895329]\n",
      " [0.00544169 0.00544092 0.00545121 0.00543707 0.0054391  0.23298243\n",
      "  0.00543968 0.7343679 ]]\n"
     ]
    }
   ],
   "source": [
    "doc_topics = lda.transform(feat_vect)\n",
    "print(doc_topics.shape)\n",
    "print(doc_topics[:3])"
   ]
  },
  {
   "cell_type": "markdown",
   "metadata": {},
   "source": [
    "**개별 문서별 토픽 분포도를 출력**\n",
    "- 20newsgroup으로 만들어진 문서명을 출력\n",
    "- fetch_20newsgroups( )으로 만들어진 데이터의 filename 속성은 모든 문서의 문서명을 가지고 있음\n",
    "- filename 속성은 절대 디렉토리를 가지는 문서명을 가지고 있으므로, '\\\\'로 분할하여 맨 마지막 두 번째부터 파일명으로 가져옴"
   ]
  },
  {
   "cell_type": "code",
   "execution_count": 6,
   "metadata": {
    "ExecuteTime": {
     "end_time": "2020-11-12T06:36:40.427243Z",
     "start_time": "2020-11-12T06:36:40.380244Z"
    }
   },
   "outputs": [
    {
     "name": "stdout",
     "output_type": "stream",
     "text": [
      "filename 개수: 7862 filename list 10개만: ['soc.religion.christian.20630', 'sci.med.59422', 'comp.graphics.38765', 'comp.graphics.38810', 'sci.med.59449', 'comp.graphics.38461', 'comp.windows.x.66959', 'rec.motorcycles.104487', 'sci.electronics.53875', 'sci.electronics.53617']\n"
     ]
    }
   ],
   "source": [
    "def get_filename_list(newsdata):\n",
    "    filename_list = []\n",
    "\n",
    "    for file in newsdata.filenames:\n",
    "            # print(file)\n",
    "            filename_temp = file.split('\\\\')[-2:]\n",
    "            filename = '.'.join(filename_temp)\n",
    "            filename_list.append(filename)\n",
    "    \n",
    "    return filename_list\n",
    "\n",
    "filename_list = get_filename_list(news_df)\n",
    "print(\"filename 개수:\", len(filename_list), \"filename list 10개만:\", filename_list[:10])"
   ]
  },
  {
   "cell_type": "markdown",
   "metadata": {},
   "source": [
    "**DataFrame으로 생성하여 문서별 토픽 분포도 확인**"
   ]
  },
  {
   "cell_type": "code",
   "execution_count": 7,
   "metadata": {
    "ExecuteTime": {
     "end_time": "2020-11-12T06:38:04.709929Z",
     "start_time": "2020-11-12T06:38:03.882855Z"
    }
   },
   "outputs": [
    {
     "data": {
      "text/html": [
       "<div>\n",
       "<style scoped>\n",
       "    .dataframe tbody tr th:only-of-type {\n",
       "        vertical-align: middle;\n",
       "    }\n",
       "\n",
       "    .dataframe tbody tr th {\n",
       "        vertical-align: top;\n",
       "    }\n",
       "\n",
       "    .dataframe thead th {\n",
       "        text-align: right;\n",
       "    }\n",
       "</style>\n",
       "<table border=\"1\" class=\"dataframe\">\n",
       "  <thead>\n",
       "    <tr style=\"text-align: right;\">\n",
       "      <th></th>\n",
       "      <th>Topic #0</th>\n",
       "      <th>Topic #1</th>\n",
       "      <th>Topic #2</th>\n",
       "      <th>Topic #3</th>\n",
       "      <th>Topic #4</th>\n",
       "      <th>Topic #5</th>\n",
       "      <th>Topic #6</th>\n",
       "      <th>Topic #7</th>\n",
       "    </tr>\n",
       "  </thead>\n",
       "  <tbody>\n",
       "    <tr>\n",
       "      <th>soc.religion.christian.20630</th>\n",
       "      <td>0.013926</td>\n",
       "      <td>0.013928</td>\n",
       "      <td>0.902571</td>\n",
       "      <td>0.013891</td>\n",
       "      <td>0.013899</td>\n",
       "      <td>0.013891</td>\n",
       "      <td>0.013988</td>\n",
       "      <td>0.013906</td>\n",
       "    </tr>\n",
       "    <tr>\n",
       "      <th>sci.med.59422</th>\n",
       "      <td>0.164696</td>\n",
       "      <td>0.002122</td>\n",
       "      <td>0.534267</td>\n",
       "      <td>0.002123</td>\n",
       "      <td>0.002121</td>\n",
       "      <td>0.002120</td>\n",
       "      <td>0.173598</td>\n",
       "      <td>0.118953</td>\n",
       "    </tr>\n",
       "    <tr>\n",
       "      <th>comp.graphics.38765</th>\n",
       "      <td>0.005442</td>\n",
       "      <td>0.005441</td>\n",
       "      <td>0.005451</td>\n",
       "      <td>0.005437</td>\n",
       "      <td>0.005439</td>\n",
       "      <td>0.232982</td>\n",
       "      <td>0.005440</td>\n",
       "      <td>0.734368</td>\n",
       "    </tr>\n",
       "    <tr>\n",
       "      <th>comp.graphics.38810</th>\n",
       "      <td>0.005438</td>\n",
       "      <td>0.005445</td>\n",
       "      <td>0.094980</td>\n",
       "      <td>0.336259</td>\n",
       "      <td>0.005441</td>\n",
       "      <td>0.157695</td>\n",
       "      <td>0.005440</td>\n",
       "      <td>0.389300</td>\n",
       "    </tr>\n",
       "    <tr>\n",
       "      <th>sci.med.59449</th>\n",
       "      <td>0.085576</td>\n",
       "      <td>0.006593</td>\n",
       "      <td>0.289101</td>\n",
       "      <td>0.006589</td>\n",
       "      <td>0.006591</td>\n",
       "      <td>0.006587</td>\n",
       "      <td>0.006591</td>\n",
       "      <td>0.592371</td>\n",
       "    </tr>\n",
       "    <tr>\n",
       "      <th>comp.graphics.38461</th>\n",
       "      <td>0.008342</td>\n",
       "      <td>0.008349</td>\n",
       "      <td>0.008349</td>\n",
       "      <td>0.008344</td>\n",
       "      <td>0.008338</td>\n",
       "      <td>0.210398</td>\n",
       "      <td>0.008337</td>\n",
       "      <td>0.739542</td>\n",
       "    </tr>\n",
       "    <tr>\n",
       "      <th>comp.windows.x.66959</th>\n",
       "      <td>0.041676</td>\n",
       "      <td>0.041667</td>\n",
       "      <td>0.041679</td>\n",
       "      <td>0.041685</td>\n",
       "      <td>0.041672</td>\n",
       "      <td>0.334088</td>\n",
       "      <td>0.415862</td>\n",
       "      <td>0.041671</td>\n",
       "    </tr>\n",
       "    <tr>\n",
       "      <th>rec.motorcycles.104487</th>\n",
       "      <td>0.211533</td>\n",
       "      <td>0.004813</td>\n",
       "      <td>0.004817</td>\n",
       "      <td>0.004815</td>\n",
       "      <td>0.004822</td>\n",
       "      <td>0.004810</td>\n",
       "      <td>0.004827</td>\n",
       "      <td>0.759563</td>\n",
       "    </tr>\n",
       "    <tr>\n",
       "      <th>sci.electronics.53875</th>\n",
       "      <td>0.245428</td>\n",
       "      <td>0.008932</td>\n",
       "      <td>0.008933</td>\n",
       "      <td>0.008955</td>\n",
       "      <td>0.008937</td>\n",
       "      <td>0.008936</td>\n",
       "      <td>0.008940</td>\n",
       "      <td>0.700939</td>\n",
       "    </tr>\n",
       "    <tr>\n",
       "      <th>sci.electronics.53617</th>\n",
       "      <td>0.041695</td>\n",
       "      <td>0.041714</td>\n",
       "      <td>0.041742</td>\n",
       "      <td>0.041667</td>\n",
       "      <td>0.041688</td>\n",
       "      <td>0.041785</td>\n",
       "      <td>0.041703</td>\n",
       "      <td>0.708007</td>\n",
       "    </tr>\n",
       "    <tr>\n",
       "      <th>sci.electronics.54089</th>\n",
       "      <td>0.001649</td>\n",
       "      <td>0.001647</td>\n",
       "      <td>0.001648</td>\n",
       "      <td>0.004102</td>\n",
       "      <td>0.001646</td>\n",
       "      <td>0.141272</td>\n",
       "      <td>0.001645</td>\n",
       "      <td>0.846390</td>\n",
       "    </tr>\n",
       "    <tr>\n",
       "      <th>rec.sport.baseball.102713</th>\n",
       "      <td>0.859519</td>\n",
       "      <td>0.000649</td>\n",
       "      <td>0.000649</td>\n",
       "      <td>0.000649</td>\n",
       "      <td>0.000648</td>\n",
       "      <td>0.000649</td>\n",
       "      <td>0.136588</td>\n",
       "      <td>0.000649</td>\n",
       "    </tr>\n",
       "    <tr>\n",
       "      <th>rec.sport.baseball.104711</th>\n",
       "      <td>0.231574</td>\n",
       "      <td>0.007360</td>\n",
       "      <td>0.662266</td>\n",
       "      <td>0.007359</td>\n",
       "      <td>0.069363</td>\n",
       "      <td>0.007357</td>\n",
       "      <td>0.007364</td>\n",
       "      <td>0.007357</td>\n",
       "    </tr>\n",
       "    <tr>\n",
       "      <th>comp.graphics.38232</th>\n",
       "      <td>0.003912</td>\n",
       "      <td>0.003912</td>\n",
       "      <td>0.003913</td>\n",
       "      <td>0.003909</td>\n",
       "      <td>0.003909</td>\n",
       "      <td>0.576432</td>\n",
       "      <td>0.003912</td>\n",
       "      <td>0.400100</td>\n",
       "    </tr>\n",
       "    <tr>\n",
       "      <th>sci.electronics.52732</th>\n",
       "      <td>0.017881</td>\n",
       "      <td>0.017878</td>\n",
       "      <td>0.017865</td>\n",
       "      <td>0.017858</td>\n",
       "      <td>0.017868</td>\n",
       "      <td>0.017864</td>\n",
       "      <td>0.017860</td>\n",
       "      <td>0.874926</td>\n",
       "    </tr>\n",
       "    <tr>\n",
       "      <th>talk.politics.mideast.76440</th>\n",
       "      <td>0.003382</td>\n",
       "      <td>0.003384</td>\n",
       "      <td>0.582775</td>\n",
       "      <td>0.003380</td>\n",
       "      <td>0.185632</td>\n",
       "      <td>0.003381</td>\n",
       "      <td>0.003380</td>\n",
       "      <td>0.214685</td>\n",
       "    </tr>\n",
       "    <tr>\n",
       "      <th>sci.med.59243</th>\n",
       "      <td>0.583743</td>\n",
       "      <td>0.003476</td>\n",
       "      <td>0.003480</td>\n",
       "      <td>0.003475</td>\n",
       "      <td>0.003477</td>\n",
       "      <td>0.003474</td>\n",
       "      <td>0.395395</td>\n",
       "      <td>0.003479</td>\n",
       "    </tr>\n",
       "    <tr>\n",
       "      <th>talk.politics.mideast.75888</th>\n",
       "      <td>0.015651</td>\n",
       "      <td>0.015643</td>\n",
       "      <td>0.015662</td>\n",
       "      <td>0.377368</td>\n",
       "      <td>0.015634</td>\n",
       "      <td>0.015632</td>\n",
       "      <td>0.015632</td>\n",
       "      <td>0.528779</td>\n",
       "    </tr>\n",
       "    <tr>\n",
       "      <th>soc.religion.christian.21526</th>\n",
       "      <td>0.002455</td>\n",
       "      <td>0.645285</td>\n",
       "      <td>0.002454</td>\n",
       "      <td>0.002453</td>\n",
       "      <td>0.147063</td>\n",
       "      <td>0.002454</td>\n",
       "      <td>0.002455</td>\n",
       "      <td>0.195381</td>\n",
       "    </tr>\n",
       "    <tr>\n",
       "      <th>comp.windows.x.66408</th>\n",
       "      <td>0.000080</td>\n",
       "      <td>0.000080</td>\n",
       "      <td>0.149473</td>\n",
       "      <td>0.000080</td>\n",
       "      <td>0.000080</td>\n",
       "      <td>0.850046</td>\n",
       "      <td>0.000080</td>\n",
       "      <td>0.000080</td>\n",
       "    </tr>\n",
       "  </tbody>\n",
       "</table>\n",
       "</div>"
      ],
      "text/plain": [
       "                              Topic #0  Topic #1  Topic #2  Topic #3  \\\n",
       "soc.religion.christian.20630  0.013926  0.013928  0.902571  0.013891   \n",
       "sci.med.59422                 0.164696  0.002122  0.534267  0.002123   \n",
       "comp.graphics.38765           0.005442  0.005441  0.005451  0.005437   \n",
       "comp.graphics.38810           0.005438  0.005445  0.094980  0.336259   \n",
       "sci.med.59449                 0.085576  0.006593  0.289101  0.006589   \n",
       "comp.graphics.38461           0.008342  0.008349  0.008349  0.008344   \n",
       "comp.windows.x.66959          0.041676  0.041667  0.041679  0.041685   \n",
       "rec.motorcycles.104487        0.211533  0.004813  0.004817  0.004815   \n",
       "sci.electronics.53875         0.245428  0.008932  0.008933  0.008955   \n",
       "sci.electronics.53617         0.041695  0.041714  0.041742  0.041667   \n",
       "sci.electronics.54089         0.001649  0.001647  0.001648  0.004102   \n",
       "rec.sport.baseball.102713     0.859519  0.000649  0.000649  0.000649   \n",
       "rec.sport.baseball.104711     0.231574  0.007360  0.662266  0.007359   \n",
       "comp.graphics.38232           0.003912  0.003912  0.003913  0.003909   \n",
       "sci.electronics.52732         0.017881  0.017878  0.017865  0.017858   \n",
       "talk.politics.mideast.76440   0.003382  0.003384  0.582775  0.003380   \n",
       "sci.med.59243                 0.583743  0.003476  0.003480  0.003475   \n",
       "talk.politics.mideast.75888   0.015651  0.015643  0.015662  0.377368   \n",
       "soc.religion.christian.21526  0.002455  0.645285  0.002454  0.002453   \n",
       "comp.windows.x.66408          0.000080  0.000080  0.149473  0.000080   \n",
       "\n",
       "                              Topic #4  Topic #5  Topic #6  Topic #7  \n",
       "soc.religion.christian.20630  0.013899  0.013891  0.013988  0.013906  \n",
       "sci.med.59422                 0.002121  0.002120  0.173598  0.118953  \n",
       "comp.graphics.38765           0.005439  0.232982  0.005440  0.734368  \n",
       "comp.graphics.38810           0.005441  0.157695  0.005440  0.389300  \n",
       "sci.med.59449                 0.006591  0.006587  0.006591  0.592371  \n",
       "comp.graphics.38461           0.008338  0.210398  0.008337  0.739542  \n",
       "comp.windows.x.66959          0.041672  0.334088  0.415862  0.041671  \n",
       "rec.motorcycles.104487        0.004822  0.004810  0.004827  0.759563  \n",
       "sci.electronics.53875         0.008937  0.008936  0.008940  0.700939  \n",
       "sci.electronics.53617         0.041688  0.041785  0.041703  0.708007  \n",
       "sci.electronics.54089         0.001646  0.141272  0.001645  0.846390  \n",
       "rec.sport.baseball.102713     0.000648  0.000649  0.136588  0.000649  \n",
       "rec.sport.baseball.104711     0.069363  0.007357  0.007364  0.007357  \n",
       "comp.graphics.38232           0.003909  0.576432  0.003912  0.400100  \n",
       "sci.electronics.52732         0.017868  0.017864  0.017860  0.874926  \n",
       "talk.politics.mideast.76440   0.185632  0.003381  0.003380  0.214685  \n",
       "sci.med.59243                 0.003477  0.003474  0.395395  0.003479  \n",
       "talk.politics.mideast.75888   0.015634  0.015632  0.015632  0.528779  \n",
       "soc.religion.christian.21526  0.147063  0.002454  0.002455  0.195381  \n",
       "comp.windows.x.66408          0.000080  0.850046  0.000080  0.000080  "
      ]
     },
     "execution_count": 7,
     "metadata": {},
     "output_type": "execute_result"
    }
   ],
   "source": [
    "import pandas as pd \n",
    "\n",
    "topic_names = ['Topic #' + str(i) for i in range(0, 8)]\n",
    "doc_topic_df = pd.DataFrame(data = doc_topics, columns = topic_names, index = filename_list)\n",
    "doc_topic_df.head(20)"
   ]
  }
 ],
 "metadata": {
  "hide_input": false,
  "kernelspec": {
   "display_name": "Python 3",
   "language": "python",
   "name": "python3"
  },
  "language_info": {
   "codemirror_mode": {
    "name": "ipython",
    "version": 3
   },
   "file_extension": ".py",
   "mimetype": "text/x-python",
   "name": "python",
   "nbconvert_exporter": "python",
   "pygments_lexer": "ipython3",
   "version": "3.8.3"
  },
  "toc": {
   "base_numbering": 1,
   "nav_menu": {},
   "number_sections": true,
   "sideBar": true,
   "skip_h1_title": false,
   "title_cell": "Table of Contents",
   "title_sidebar": "Contents",
   "toc_cell": false,
   "toc_position": {},
   "toc_section_display": true,
   "toc_window_display": false
  },
  "varInspector": {
   "cols": {
    "lenName": 16,
    "lenType": 16,
    "lenVar": 40
   },
   "kernels_config": {
    "python": {
     "delete_cmd_postfix": "",
     "delete_cmd_prefix": "del ",
     "library": "var_list.py",
     "varRefreshCmd": "print(var_dic_list())"
    },
    "r": {
     "delete_cmd_postfix": ") ",
     "delete_cmd_prefix": "rm(",
     "library": "var_list.r",
     "varRefreshCmd": "cat(var_dic_list()) "
    }
   },
   "types_to_exclude": [
    "module",
    "function",
    "builtin_function_or_method",
    "instance",
    "_Feature"
   ],
   "window_display": false
  }
 },
 "nbformat": 4,
 "nbformat_minor": 2
}
